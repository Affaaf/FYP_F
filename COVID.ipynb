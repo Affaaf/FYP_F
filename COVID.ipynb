{
 "cells": [
  {
   "cell_type": "markdown",
   "id": "37f06267",
   "metadata": {},
   "source": [
    "# Step 1: Import Libraries"
   ]
  },
  {
   "cell_type": "code",
   "execution_count": 3,
   "id": "7f46499d",
   "metadata": {},
   "outputs": [],
   "source": [
    "import pickle\n",
    "import pandas as pd\n",
    "import numpy as np\n",
    "from sklearn.linear_model import LogisticRegression\n",
    "from sklearn.naive_bayes import BernoulliNB\n",
    "from sklearn.ensemble import RandomForestClassifier\n",
    "from sklearn.svm import LinearSVC\n",
    "from sklearn.metrics import accuracy_score\n",
    "from sklearn.model_selection import train_test_split\n",
    "import matplotlib.pyplot as plt\n",
    "%matplotlib inline\n",
    "import seaborn as sns"
   ]
  },
  {
   "cell_type": "markdown",
   "id": "c43621f8",
   "metadata": {},
   "source": [
    "# Step 2: Read, Understand and Pre-process Train/Test Data"
   ]
  },
  {
   "cell_type": "markdown",
   "id": "972bb71c",
   "metadata": {},
   "source": [
    "# Step 2.1: Read Data"
   ]
  },
  {
   "cell_type": "code",
   "execution_count": 4,
   "id": "9d11183e",
   "metadata": {},
   "outputs": [],
   "source": [
    "data = pd.read_csv('Covid.csv')"
   ]
  },
  {
   "cell_type": "code",
   "execution_count": 5,
   "id": "2d580685",
   "metadata": {},
   "outputs": [
    {
     "data": {
      "text/html": [
       "<div>\n",
       "<style scoped>\n",
       "    .dataframe tbody tr th:only-of-type {\n",
       "        vertical-align: middle;\n",
       "    }\n",
       "\n",
       "    .dataframe tbody tr th {\n",
       "        vertical-align: top;\n",
       "    }\n",
       "\n",
       "    .dataframe thead th {\n",
       "        text-align: right;\n",
       "    }\n",
       "</style>\n",
       "<table border=\"1\" class=\"dataframe\">\n",
       "  <thead>\n",
       "    <tr style=\"text-align: right;\">\n",
       "      <th></th>\n",
       "      <th>COUGH</th>\n",
       "      <th>MUSCLE_ACHES</th>\n",
       "      <th>TIREDNESS</th>\n",
       "      <th>SORE_THROAT</th>\n",
       "      <th>RUNNY_NOSE</th>\n",
       "      <th>STUFFY_NOSE</th>\n",
       "      <th>FEVER</th>\n",
       "      <th>NAUSEA</th>\n",
       "      <th>VOMITING</th>\n",
       "      <th>DIARRHEA</th>\n",
       "      <th>SHORTNESS_OF_BREATH</th>\n",
       "      <th>DIFFICULTY_BREATHING</th>\n",
       "      <th>LOSS_OF_TASTE</th>\n",
       "      <th>LOSS_OF_SMELL</th>\n",
       "      <th>ITCHY_NOSE</th>\n",
       "      <th>ITCHY_EYES</th>\n",
       "      <th>ITCHY_MOUTH</th>\n",
       "      <th>ITCHY_INNER_EAR</th>\n",
       "      <th>SNEEZING</th>\n",
       "      <th>TYPE</th>\n",
       "    </tr>\n",
       "  </thead>\n",
       "  <tbody>\n",
       "    <tr>\n",
       "      <th>0</th>\n",
       "      <td>0</td>\n",
       "      <td>0</td>\n",
       "      <td>0</td>\n",
       "      <td>1</td>\n",
       "      <td>0</td>\n",
       "      <td>1</td>\n",
       "      <td>0</td>\n",
       "      <td>0</td>\n",
       "      <td>0</td>\n",
       "      <td>0</td>\n",
       "      <td>0</td>\n",
       "      <td>0</td>\n",
       "      <td>0</td>\n",
       "      <td>1</td>\n",
       "      <td>1</td>\n",
       "      <td>0</td>\n",
       "      <td>0</td>\n",
       "      <td>0</td>\n",
       "      <td>1</td>\n",
       "      <td>ALLERGY</td>\n",
       "    </tr>\n",
       "    <tr>\n",
       "      <th>1</th>\n",
       "      <td>0</td>\n",
       "      <td>0</td>\n",
       "      <td>1</td>\n",
       "      <td>1</td>\n",
       "      <td>1</td>\n",
       "      <td>1</td>\n",
       "      <td>0</td>\n",
       "      <td>0</td>\n",
       "      <td>0</td>\n",
       "      <td>0</td>\n",
       "      <td>0</td>\n",
       "      <td>0</td>\n",
       "      <td>1</td>\n",
       "      <td>0</td>\n",
       "      <td>0</td>\n",
       "      <td>0</td>\n",
       "      <td>0</td>\n",
       "      <td>0</td>\n",
       "      <td>0</td>\n",
       "      <td>ALLERGY</td>\n",
       "    </tr>\n",
       "    <tr>\n",
       "      <th>2</th>\n",
       "      <td>0</td>\n",
       "      <td>0</td>\n",
       "      <td>1</td>\n",
       "      <td>1</td>\n",
       "      <td>1</td>\n",
       "      <td>0</td>\n",
       "      <td>0</td>\n",
       "      <td>0</td>\n",
       "      <td>0</td>\n",
       "      <td>0</td>\n",
       "      <td>0</td>\n",
       "      <td>0</td>\n",
       "      <td>1</td>\n",
       "      <td>1</td>\n",
       "      <td>0</td>\n",
       "      <td>1</td>\n",
       "      <td>1</td>\n",
       "      <td>1</td>\n",
       "      <td>0</td>\n",
       "      <td>ALLERGY</td>\n",
       "    </tr>\n",
       "    <tr>\n",
       "      <th>3</th>\n",
       "      <td>1</td>\n",
       "      <td>1</td>\n",
       "      <td>1</td>\n",
       "      <td>0</td>\n",
       "      <td>0</td>\n",
       "      <td>1</td>\n",
       "      <td>0</td>\n",
       "      <td>0</td>\n",
       "      <td>0</td>\n",
       "      <td>0</td>\n",
       "      <td>0</td>\n",
       "      <td>0</td>\n",
       "      <td>1</td>\n",
       "      <td>0</td>\n",
       "      <td>0</td>\n",
       "      <td>0</td>\n",
       "      <td>0</td>\n",
       "      <td>0</td>\n",
       "      <td>0</td>\n",
       "      <td>ALLERGY</td>\n",
       "    </tr>\n",
       "    <tr>\n",
       "      <th>4</th>\n",
       "      <td>1</td>\n",
       "      <td>1</td>\n",
       "      <td>0</td>\n",
       "      <td>1</td>\n",
       "      <td>0</td>\n",
       "      <td>1</td>\n",
       "      <td>0</td>\n",
       "      <td>0</td>\n",
       "      <td>0</td>\n",
       "      <td>0</td>\n",
       "      <td>0</td>\n",
       "      <td>0</td>\n",
       "      <td>0</td>\n",
       "      <td>0</td>\n",
       "      <td>0</td>\n",
       "      <td>0</td>\n",
       "      <td>1</td>\n",
       "      <td>1</td>\n",
       "      <td>1</td>\n",
       "      <td>ALLERGY</td>\n",
       "    </tr>\n",
       "    <tr>\n",
       "      <th>5</th>\n",
       "      <td>1</td>\n",
       "      <td>1</td>\n",
       "      <td>1</td>\n",
       "      <td>0</td>\n",
       "      <td>0</td>\n",
       "      <td>1</td>\n",
       "      <td>0</td>\n",
       "      <td>0</td>\n",
       "      <td>0</td>\n",
       "      <td>0</td>\n",
       "      <td>0</td>\n",
       "      <td>0</td>\n",
       "      <td>0</td>\n",
       "      <td>0</td>\n",
       "      <td>0</td>\n",
       "      <td>0</td>\n",
       "      <td>0</td>\n",
       "      <td>0</td>\n",
       "      <td>1</td>\n",
       "      <td>ALLERGY</td>\n",
       "    </tr>\n",
       "    <tr>\n",
       "      <th>6</th>\n",
       "      <td>0</td>\n",
       "      <td>0</td>\n",
       "      <td>0</td>\n",
       "      <td>1</td>\n",
       "      <td>0</td>\n",
       "      <td>0</td>\n",
       "      <td>0</td>\n",
       "      <td>0</td>\n",
       "      <td>0</td>\n",
       "      <td>0</td>\n",
       "      <td>0</td>\n",
       "      <td>0</td>\n",
       "      <td>0</td>\n",
       "      <td>0</td>\n",
       "      <td>0</td>\n",
       "      <td>0</td>\n",
       "      <td>1</td>\n",
       "      <td>1</td>\n",
       "      <td>1</td>\n",
       "      <td>ALLERGY</td>\n",
       "    </tr>\n",
       "    <tr>\n",
       "      <th>7</th>\n",
       "      <td>1</td>\n",
       "      <td>0</td>\n",
       "      <td>0</td>\n",
       "      <td>0</td>\n",
       "      <td>1</td>\n",
       "      <td>0</td>\n",
       "      <td>0</td>\n",
       "      <td>0</td>\n",
       "      <td>0</td>\n",
       "      <td>0</td>\n",
       "      <td>0</td>\n",
       "      <td>0</td>\n",
       "      <td>1</td>\n",
       "      <td>1</td>\n",
       "      <td>0</td>\n",
       "      <td>0</td>\n",
       "      <td>1</td>\n",
       "      <td>1</td>\n",
       "      <td>0</td>\n",
       "      <td>ALLERGY</td>\n",
       "    </tr>\n",
       "    <tr>\n",
       "      <th>8</th>\n",
       "      <td>0</td>\n",
       "      <td>0</td>\n",
       "      <td>1</td>\n",
       "      <td>1</td>\n",
       "      <td>0</td>\n",
       "      <td>1</td>\n",
       "      <td>0</td>\n",
       "      <td>0</td>\n",
       "      <td>0</td>\n",
       "      <td>0</td>\n",
       "      <td>0</td>\n",
       "      <td>0</td>\n",
       "      <td>1</td>\n",
       "      <td>0</td>\n",
       "      <td>1</td>\n",
       "      <td>1</td>\n",
       "      <td>1</td>\n",
       "      <td>0</td>\n",
       "      <td>0</td>\n",
       "      <td>ALLERGY</td>\n",
       "    </tr>\n",
       "    <tr>\n",
       "      <th>9</th>\n",
       "      <td>1</td>\n",
       "      <td>0</td>\n",
       "      <td>1</td>\n",
       "      <td>1</td>\n",
       "      <td>0</td>\n",
       "      <td>1</td>\n",
       "      <td>0</td>\n",
       "      <td>0</td>\n",
       "      <td>0</td>\n",
       "      <td>0</td>\n",
       "      <td>0</td>\n",
       "      <td>0</td>\n",
       "      <td>0</td>\n",
       "      <td>1</td>\n",
       "      <td>1</td>\n",
       "      <td>0</td>\n",
       "      <td>0</td>\n",
       "      <td>1</td>\n",
       "      <td>1</td>\n",
       "      <td>ALLERGY</td>\n",
       "    </tr>\n",
       "  </tbody>\n",
       "</table>\n",
       "</div>"
      ],
      "text/plain": [
       "   COUGH  MUSCLE_ACHES  TIREDNESS  SORE_THROAT  RUNNY_NOSE  STUFFY_NOSE  \\\n",
       "0      0             0          0            1           0            1   \n",
       "1      0             0          1            1           1            1   \n",
       "2      0             0          1            1           1            0   \n",
       "3      1             1          1            0           0            1   \n",
       "4      1             1          0            1           0            1   \n",
       "5      1             1          1            0           0            1   \n",
       "6      0             0          0            1           0            0   \n",
       "7      1             0          0            0           1            0   \n",
       "8      0             0          1            1           0            1   \n",
       "9      1             0          1            1           0            1   \n",
       "\n",
       "   FEVER  NAUSEA  VOMITING  DIARRHEA  SHORTNESS_OF_BREATH  \\\n",
       "0      0       0         0         0                    0   \n",
       "1      0       0         0         0                    0   \n",
       "2      0       0         0         0                    0   \n",
       "3      0       0         0         0                    0   \n",
       "4      0       0         0         0                    0   \n",
       "5      0       0         0         0                    0   \n",
       "6      0       0         0         0                    0   \n",
       "7      0       0         0         0                    0   \n",
       "8      0       0         0         0                    0   \n",
       "9      0       0         0         0                    0   \n",
       "\n",
       "   DIFFICULTY_BREATHING  LOSS_OF_TASTE  LOSS_OF_SMELL  ITCHY_NOSE  ITCHY_EYES  \\\n",
       "0                     0              0              1           1           0   \n",
       "1                     0              1              0           0           0   \n",
       "2                     0              1              1           0           1   \n",
       "3                     0              1              0           0           0   \n",
       "4                     0              0              0           0           0   \n",
       "5                     0              0              0           0           0   \n",
       "6                     0              0              0           0           0   \n",
       "7                     0              1              1           0           0   \n",
       "8                     0              1              0           1           1   \n",
       "9                     0              0              1           1           0   \n",
       "\n",
       "   ITCHY_MOUTH  ITCHY_INNER_EAR  SNEEZING     TYPE  \n",
       "0            0                0         1  ALLERGY  \n",
       "1            0                0         0  ALLERGY  \n",
       "2            1                1         0  ALLERGY  \n",
       "3            0                0         0  ALLERGY  \n",
       "4            1                1         1  ALLERGY  \n",
       "5            0                0         1  ALLERGY  \n",
       "6            1                1         1  ALLERGY  \n",
       "7            1                1         0  ALLERGY  \n",
       "8            1                0         0  ALLERGY  \n",
       "9            0                1         1  ALLERGY  "
      ]
     },
     "execution_count": 5,
     "metadata": {},
     "output_type": "execute_result"
    }
   ],
   "source": [
    "data.head(10)"
   ]
  },
  {
   "cell_type": "markdown",
   "id": "2fc517ca",
   "metadata": {},
   "source": [
    "# Step 2.2: Understand Data"
   ]
  },
  {
   "cell_type": "code",
   "execution_count": 6,
   "id": "4ca05037",
   "metadata": {},
   "outputs": [
    {
     "data": {
      "text/plain": [
       "COUGH                    int64\n",
       "MUSCLE_ACHES             int64\n",
       "TIREDNESS                int64\n",
       "SORE_THROAT              int64\n",
       "RUNNY_NOSE               int64\n",
       "STUFFY_NOSE              int64\n",
       "FEVER                    int64\n",
       "NAUSEA                   int64\n",
       "VOMITING                 int64\n",
       "DIARRHEA                 int64\n",
       "SHORTNESS_OF_BREATH      int64\n",
       "DIFFICULTY_BREATHING     int64\n",
       "LOSS_OF_TASTE            int64\n",
       "LOSS_OF_SMELL            int64\n",
       "ITCHY_NOSE               int64\n",
       "ITCHY_EYES               int64\n",
       "ITCHY_MOUTH              int64\n",
       "ITCHY_INNER_EAR          int64\n",
       "SNEEZING                 int64\n",
       "TYPE                    object\n",
       "dtype: object"
      ]
     },
     "execution_count": 6,
     "metadata": {},
     "output_type": "execute_result"
    }
   ],
   "source": [
    "data.dtypes"
   ]
  },
  {
   "cell_type": "code",
   "execution_count": 7,
   "id": "c47a908f",
   "metadata": {},
   "outputs": [
    {
     "data": {
      "text/plain": [
       "0        False\n",
       "1        False\n",
       "2        False\n",
       "3        False\n",
       "4        False\n",
       "         ...  \n",
       "12662    False\n",
       "12663    False\n",
       "12664    False\n",
       "12665    False\n",
       "12666    False\n",
       "Length: 12667, dtype: bool"
      ]
     },
     "execution_count": 7,
     "metadata": {},
     "output_type": "execute_result"
    }
   ],
   "source": [
    "data.duplicated()"
   ]
  },
  {
   "cell_type": "code",
   "execution_count": 8,
   "id": "79a4a1e5",
   "metadata": {},
   "outputs": [
    {
     "name": "stdout",
     "output_type": "stream",
     "text": [
      "<class 'pandas.core.frame.DataFrame'>\n",
      "RangeIndex: 12667 entries, 0 to 12666\n",
      "Data columns (total 20 columns):\n",
      " #   Column                Non-Null Count  Dtype \n",
      "---  ------                --------------  ----- \n",
      " 0   COUGH                 12667 non-null  int64 \n",
      " 1   MUSCLE_ACHES          12667 non-null  int64 \n",
      " 2   TIREDNESS             12667 non-null  int64 \n",
      " 3   SORE_THROAT           12667 non-null  int64 \n",
      " 4   RUNNY_NOSE            12667 non-null  int64 \n",
      " 5   STUFFY_NOSE           12667 non-null  int64 \n",
      " 6   FEVER                 12667 non-null  int64 \n",
      " 7   NAUSEA                12667 non-null  int64 \n",
      " 8   VOMITING              12667 non-null  int64 \n",
      " 9   DIARRHEA              12667 non-null  int64 \n",
      " 10  SHORTNESS_OF_BREATH   12667 non-null  int64 \n",
      " 11  DIFFICULTY_BREATHING  12667 non-null  int64 \n",
      " 12  LOSS_OF_TASTE         12667 non-null  int64 \n",
      " 13  LOSS_OF_SMELL         12667 non-null  int64 \n",
      " 14  ITCHY_NOSE            12667 non-null  int64 \n",
      " 15  ITCHY_EYES            12667 non-null  int64 \n",
      " 16  ITCHY_MOUTH           12667 non-null  int64 \n",
      " 17  ITCHY_INNER_EAR       12667 non-null  int64 \n",
      " 18  SNEEZING              12667 non-null  int64 \n",
      " 19  TYPE                  12667 non-null  object\n",
      "dtypes: int64(19), object(1)\n",
      "memory usage: 1.9+ MB\n"
     ]
    }
   ],
   "source": [
    "data.info()"
   ]
  },
  {
   "cell_type": "code",
   "execution_count": 9,
   "id": "39201616",
   "metadata": {},
   "outputs": [
    {
     "name": "stdout",
     "output_type": "stream",
     "text": [
      "Train Dataset:\n",
      "index  COUGH  MUSCLE_ACHES  TIREDNESS  SORE_THROAT  RUNNY_NOSE  STUFFY_NOSE  \\\n",
      "0          0             0          0            1           0            1   \n",
      "1          0             0          1            1           1            1   \n",
      "2          0             0          1            1           1            0   \n",
      "3          1             1          1            0           0            1   \n",
      "4          1             1          0            1           0            1   \n",
      "...      ...           ...        ...          ...         ...          ...   \n",
      "12662      1             0          0            1           0            0   \n",
      "12663      1             1          0            1           1            0   \n",
      "12664      0             0          1            0           1            0   \n",
      "12665      0             0          0            1           1            1   \n",
      "12666      1             1          0            0           0            1   \n",
      "\n",
      "index  FEVER  NAUSEA  VOMITING  DIARRHEA  SHORTNESS_OF_BREATH  \\\n",
      "0          0       0         0         0                    0   \n",
      "1          0       0         0         0                    0   \n",
      "2          0       0         0         0                    0   \n",
      "3          0       0         0         0                    0   \n",
      "4          0       0         0         0                    0   \n",
      "...      ...     ...       ...       ...                  ...   \n",
      "12662      1       0         1         1                    0   \n",
      "12663      1       1         0         1                    0   \n",
      "12664      0       0         1         1                    0   \n",
      "12665      0       0         1         0                    1   \n",
      "12666      0       0         1         0                    1   \n",
      "\n",
      "index  DIFFICULTY_BREATHING  LOSS_OF_TASTE  LOSS_OF_SMELL  ITCHY_NOSE  \\\n",
      "0                         0              0              1           1   \n",
      "1                         0              1              0           0   \n",
      "2                         0              1              1           0   \n",
      "3                         0              1              0           0   \n",
      "4                         0              0              0           0   \n",
      "...                     ...            ...            ...         ...   \n",
      "12662                     0              0              0           0   \n",
      "12663                     0              1              1           0   \n",
      "12664                     1              1              0           0   \n",
      "12665                     0              0              1           0   \n",
      "12666                     1              0              1           0   \n",
      "\n",
      "index  ITCHY_EYES  ITCHY_MOUTH  ITCHY_INNER_EAR  SNEEZING     TYPE  \n",
      "0               0            0                0         1  ALLERGY  \n",
      "1               0            0                0         0  ALLERGY  \n",
      "2               1            1                1         0  ALLERGY  \n",
      "3               0            0                0         0  ALLERGY  \n",
      "4               0            1                1         1  ALLERGY  \n",
      "...           ...          ...              ...       ...      ...  \n",
      "12662           0            0                0         1      FLU  \n",
      "12663           0            0                0         1      FLU  \n",
      "12664           0            0                0         1      FLU  \n",
      "12665           0            0                0         0      FLU  \n",
      "12666           0            0                0         0      FLU  \n",
      "\n",
      "[12667 rows x 20 columns]\n"
     ]
    }
   ],
   "source": [
    "data.columns.name=\"index\"\n",
    "print(\"Train Dataset:\")\n",
    "print(data)"
   ]
  },
  {
   "cell_type": "code",
   "execution_count": 10,
   "id": "8d46bd00",
   "metadata": {},
   "outputs": [
    {
     "data": {
      "text/html": [
       "<div>\n",
       "<style scoped>\n",
       "    .dataframe tbody tr th:only-of-type {\n",
       "        vertical-align: middle;\n",
       "    }\n",
       "\n",
       "    .dataframe tbody tr th {\n",
       "        vertical-align: top;\n",
       "    }\n",
       "\n",
       "    .dataframe thead th {\n",
       "        text-align: right;\n",
       "    }\n",
       "</style>\n",
       "<table border=\"1\" class=\"dataframe\">\n",
       "  <thead>\n",
       "    <tr style=\"text-align: right;\">\n",
       "      <th>index</th>\n",
       "      <th>COUGH</th>\n",
       "      <th>MUSCLE_ACHES</th>\n",
       "      <th>TIREDNESS</th>\n",
       "      <th>SORE_THROAT</th>\n",
       "      <th>RUNNY_NOSE</th>\n",
       "      <th>STUFFY_NOSE</th>\n",
       "      <th>FEVER</th>\n",
       "      <th>NAUSEA</th>\n",
       "      <th>VOMITING</th>\n",
       "      <th>DIARRHEA</th>\n",
       "      <th>SHORTNESS_OF_BREATH</th>\n",
       "      <th>DIFFICULTY_BREATHING</th>\n",
       "      <th>LOSS_OF_TASTE</th>\n",
       "      <th>LOSS_OF_SMELL</th>\n",
       "      <th>ITCHY_NOSE</th>\n",
       "      <th>ITCHY_EYES</th>\n",
       "      <th>ITCHY_MOUTH</th>\n",
       "      <th>ITCHY_INNER_EAR</th>\n",
       "      <th>SNEEZING</th>\n",
       "    </tr>\n",
       "  </thead>\n",
       "  <tbody>\n",
       "    <tr>\n",
       "      <th>count</th>\n",
       "      <td>12667.000000</td>\n",
       "      <td>12667.000000</td>\n",
       "      <td>12667.000000</td>\n",
       "      <td>12667.000000</td>\n",
       "      <td>12667.000000</td>\n",
       "      <td>12667.000000</td>\n",
       "      <td>12667.000000</td>\n",
       "      <td>12667.000000</td>\n",
       "      <td>12667.000000</td>\n",
       "      <td>12667.000000</td>\n",
       "      <td>12667.000000</td>\n",
       "      <td>12667.000000</td>\n",
       "      <td>12667.000000</td>\n",
       "      <td>12667.000000</td>\n",
       "      <td>12667.000000</td>\n",
       "      <td>12667.000000</td>\n",
       "      <td>12667.000000</td>\n",
       "      <td>12667.000000</td>\n",
       "      <td>12667.000000</td>\n",
       "    </tr>\n",
       "    <tr>\n",
       "      <th>mean</th>\n",
       "      <td>0.512829</td>\n",
       "      <td>0.507066</td>\n",
       "      <td>0.507934</td>\n",
       "      <td>0.508408</td>\n",
       "      <td>0.427962</td>\n",
       "      <td>0.431199</td>\n",
       "      <td>0.252388</td>\n",
       "      <td>0.216863</td>\n",
       "      <td>0.220968</td>\n",
       "      <td>0.215284</td>\n",
       "      <td>0.213705</td>\n",
       "      <td>0.214968</td>\n",
       "      <td>0.395595</td>\n",
       "      <td>0.397411</td>\n",
       "      <td>0.254993</td>\n",
       "      <td>0.252309</td>\n",
       "      <td>0.253493</td>\n",
       "      <td>0.252309</td>\n",
       "      <td>0.517328</td>\n",
       "    </tr>\n",
       "    <tr>\n",
       "      <th>std</th>\n",
       "      <td>0.499855</td>\n",
       "      <td>0.499970</td>\n",
       "      <td>0.499957</td>\n",
       "      <td>0.499949</td>\n",
       "      <td>0.494803</td>\n",
       "      <td>0.495263</td>\n",
       "      <td>0.434400</td>\n",
       "      <td>0.412125</td>\n",
       "      <td>0.414915</td>\n",
       "      <td>0.411035</td>\n",
       "      <td>0.409937</td>\n",
       "      <td>0.410816</td>\n",
       "      <td>0.488997</td>\n",
       "      <td>0.489382</td>\n",
       "      <td>0.435875</td>\n",
       "      <td>0.434355</td>\n",
       "      <td>0.435028</td>\n",
       "      <td>0.434355</td>\n",
       "      <td>0.499719</td>\n",
       "    </tr>\n",
       "    <tr>\n",
       "      <th>min</th>\n",
       "      <td>0.000000</td>\n",
       "      <td>0.000000</td>\n",
       "      <td>0.000000</td>\n",
       "      <td>0.000000</td>\n",
       "      <td>0.000000</td>\n",
       "      <td>0.000000</td>\n",
       "      <td>0.000000</td>\n",
       "      <td>0.000000</td>\n",
       "      <td>0.000000</td>\n",
       "      <td>0.000000</td>\n",
       "      <td>0.000000</td>\n",
       "      <td>0.000000</td>\n",
       "      <td>0.000000</td>\n",
       "      <td>0.000000</td>\n",
       "      <td>0.000000</td>\n",
       "      <td>0.000000</td>\n",
       "      <td>0.000000</td>\n",
       "      <td>0.000000</td>\n",
       "      <td>0.000000</td>\n",
       "    </tr>\n",
       "    <tr>\n",
       "      <th>25%</th>\n",
       "      <td>0.000000</td>\n",
       "      <td>0.000000</td>\n",
       "      <td>0.000000</td>\n",
       "      <td>0.000000</td>\n",
       "      <td>0.000000</td>\n",
       "      <td>0.000000</td>\n",
       "      <td>0.000000</td>\n",
       "      <td>0.000000</td>\n",
       "      <td>0.000000</td>\n",
       "      <td>0.000000</td>\n",
       "      <td>0.000000</td>\n",
       "      <td>0.000000</td>\n",
       "      <td>0.000000</td>\n",
       "      <td>0.000000</td>\n",
       "      <td>0.000000</td>\n",
       "      <td>0.000000</td>\n",
       "      <td>0.000000</td>\n",
       "      <td>0.000000</td>\n",
       "      <td>0.000000</td>\n",
       "    </tr>\n",
       "    <tr>\n",
       "      <th>50%</th>\n",
       "      <td>1.000000</td>\n",
       "      <td>1.000000</td>\n",
       "      <td>1.000000</td>\n",
       "      <td>1.000000</td>\n",
       "      <td>0.000000</td>\n",
       "      <td>0.000000</td>\n",
       "      <td>0.000000</td>\n",
       "      <td>0.000000</td>\n",
       "      <td>0.000000</td>\n",
       "      <td>0.000000</td>\n",
       "      <td>0.000000</td>\n",
       "      <td>0.000000</td>\n",
       "      <td>0.000000</td>\n",
       "      <td>0.000000</td>\n",
       "      <td>0.000000</td>\n",
       "      <td>0.000000</td>\n",
       "      <td>0.000000</td>\n",
       "      <td>0.000000</td>\n",
       "      <td>1.000000</td>\n",
       "    </tr>\n",
       "    <tr>\n",
       "      <th>75%</th>\n",
       "      <td>1.000000</td>\n",
       "      <td>1.000000</td>\n",
       "      <td>1.000000</td>\n",
       "      <td>1.000000</td>\n",
       "      <td>1.000000</td>\n",
       "      <td>1.000000</td>\n",
       "      <td>1.000000</td>\n",
       "      <td>0.000000</td>\n",
       "      <td>0.000000</td>\n",
       "      <td>0.000000</td>\n",
       "      <td>0.000000</td>\n",
       "      <td>0.000000</td>\n",
       "      <td>1.000000</td>\n",
       "      <td>1.000000</td>\n",
       "      <td>1.000000</td>\n",
       "      <td>1.000000</td>\n",
       "      <td>1.000000</td>\n",
       "      <td>1.000000</td>\n",
       "      <td>1.000000</td>\n",
       "    </tr>\n",
       "    <tr>\n",
       "      <th>max</th>\n",
       "      <td>1.000000</td>\n",
       "      <td>1.000000</td>\n",
       "      <td>1.000000</td>\n",
       "      <td>1.000000</td>\n",
       "      <td>1.000000</td>\n",
       "      <td>1.000000</td>\n",
       "      <td>1.000000</td>\n",
       "      <td>1.000000</td>\n",
       "      <td>1.000000</td>\n",
       "      <td>1.000000</td>\n",
       "      <td>1.000000</td>\n",
       "      <td>1.000000</td>\n",
       "      <td>1.000000</td>\n",
       "      <td>1.000000</td>\n",
       "      <td>1.000000</td>\n",
       "      <td>1.000000</td>\n",
       "      <td>1.000000</td>\n",
       "      <td>1.000000</td>\n",
       "      <td>1.000000</td>\n",
       "    </tr>\n",
       "  </tbody>\n",
       "</table>\n",
       "</div>"
      ],
      "text/plain": [
       "index         COUGH  MUSCLE_ACHES     TIREDNESS   SORE_THROAT    RUNNY_NOSE  \\\n",
       "count  12667.000000  12667.000000  12667.000000  12667.000000  12667.000000   \n",
       "mean       0.512829      0.507066      0.507934      0.508408      0.427962   \n",
       "std        0.499855      0.499970      0.499957      0.499949      0.494803   \n",
       "min        0.000000      0.000000      0.000000      0.000000      0.000000   \n",
       "25%        0.000000      0.000000      0.000000      0.000000      0.000000   \n",
       "50%        1.000000      1.000000      1.000000      1.000000      0.000000   \n",
       "75%        1.000000      1.000000      1.000000      1.000000      1.000000   \n",
       "max        1.000000      1.000000      1.000000      1.000000      1.000000   \n",
       "\n",
       "index   STUFFY_NOSE         FEVER        NAUSEA      VOMITING      DIARRHEA  \\\n",
       "count  12667.000000  12667.000000  12667.000000  12667.000000  12667.000000   \n",
       "mean       0.431199      0.252388      0.216863      0.220968      0.215284   \n",
       "std        0.495263      0.434400      0.412125      0.414915      0.411035   \n",
       "min        0.000000      0.000000      0.000000      0.000000      0.000000   \n",
       "25%        0.000000      0.000000      0.000000      0.000000      0.000000   \n",
       "50%        0.000000      0.000000      0.000000      0.000000      0.000000   \n",
       "75%        1.000000      1.000000      0.000000      0.000000      0.000000   \n",
       "max        1.000000      1.000000      1.000000      1.000000      1.000000   \n",
       "\n",
       "index  SHORTNESS_OF_BREATH  DIFFICULTY_BREATHING  LOSS_OF_TASTE  \\\n",
       "count         12667.000000          12667.000000   12667.000000   \n",
       "mean              0.213705              0.214968       0.395595   \n",
       "std               0.409937              0.410816       0.488997   \n",
       "min               0.000000              0.000000       0.000000   \n",
       "25%               0.000000              0.000000       0.000000   \n",
       "50%               0.000000              0.000000       0.000000   \n",
       "75%               0.000000              0.000000       1.000000   \n",
       "max               1.000000              1.000000       1.000000   \n",
       "\n",
       "index  LOSS_OF_SMELL    ITCHY_NOSE    ITCHY_EYES   ITCHY_MOUTH  \\\n",
       "count   12667.000000  12667.000000  12667.000000  12667.000000   \n",
       "mean        0.397411      0.254993      0.252309      0.253493   \n",
       "std         0.489382      0.435875      0.434355      0.435028   \n",
       "min         0.000000      0.000000      0.000000      0.000000   \n",
       "25%         0.000000      0.000000      0.000000      0.000000   \n",
       "50%         0.000000      0.000000      0.000000      0.000000   \n",
       "75%         1.000000      1.000000      1.000000      1.000000   \n",
       "max         1.000000      1.000000      1.000000      1.000000   \n",
       "\n",
       "index  ITCHY_INNER_EAR      SNEEZING  \n",
       "count     12667.000000  12667.000000  \n",
       "mean          0.252309      0.517328  \n",
       "std           0.434355      0.499719  \n",
       "min           0.000000      0.000000  \n",
       "25%           0.000000      0.000000  \n",
       "50%           0.000000      1.000000  \n",
       "75%           1.000000      1.000000  \n",
       "max           1.000000      1.000000  "
      ]
     },
     "execution_count": 10,
     "metadata": {},
     "output_type": "execute_result"
    }
   ],
   "source": [
    "data.describe()"
   ]
  },
  {
   "cell_type": "code",
   "execution_count": 11,
   "id": "5e415783",
   "metadata": {},
   "outputs": [
    {
     "name": "stdout",
     "output_type": "stream",
     "text": [
      "Train Data Set Columns:\n",
      "Index(['COUGH', 'MUSCLE_ACHES', 'TIREDNESS', 'SORE_THROAT', 'RUNNY_NOSE',\n",
      "       'STUFFY_NOSE', 'FEVER', 'NAUSEA', 'VOMITING', 'DIARRHEA',\n",
      "       'SHORTNESS_OF_BREATH', 'DIFFICULTY_BREATHING', 'LOSS_OF_TASTE',\n",
      "       'LOSS_OF_SMELL', 'ITCHY_NOSE', 'ITCHY_EYES', 'ITCHY_MOUTH',\n",
      "       'ITCHY_INNER_EAR', 'SNEEZING', 'TYPE'],\n",
      "      dtype='object', name='index')\n",
      "\n",
      "\n",
      "Number of instances in Train Dataset\n",
      "Train Instances: 12667\n"
     ]
    }
   ],
   "source": [
    "print(\"Train Data Set Columns:\")\n",
    "trainDatadf=pd.DataFrame(data)\n",
    "trainDataIndex=trainDatadf.columns\n",
    "print(trainDataIndex)\n",
    "\n",
    "print(\"\\n\")\n",
    "print(\"Number of instances in Train Dataset\")\n",
    "print(\"Train Instances: %s\"% (len(trainDatadf.index)))"
   ]
  },
  {
   "cell_type": "code",
   "execution_count": 12,
   "id": "1a525963",
   "metadata": {},
   "outputs": [
    {
     "data": {
      "text/html": [
       "<div>\n",
       "<style scoped>\n",
       "    .dataframe tbody tr th:only-of-type {\n",
       "        vertical-align: middle;\n",
       "    }\n",
       "\n",
       "    .dataframe tbody tr th {\n",
       "        vertical-align: top;\n",
       "    }\n",
       "\n",
       "    .dataframe thead th {\n",
       "        text-align: right;\n",
       "    }\n",
       "</style>\n",
       "<table border=\"1\" class=\"dataframe\">\n",
       "  <thead>\n",
       "    <tr style=\"text-align: right;\">\n",
       "      <th>index</th>\n",
       "      <th>COUGH</th>\n",
       "      <th>MUSCLE_ACHES</th>\n",
       "      <th>TIREDNESS</th>\n",
       "      <th>SORE_THROAT</th>\n",
       "      <th>RUNNY_NOSE</th>\n",
       "      <th>STUFFY_NOSE</th>\n",
       "      <th>FEVER</th>\n",
       "      <th>NAUSEA</th>\n",
       "      <th>VOMITING</th>\n",
       "      <th>DIARRHEA</th>\n",
       "      <th>SHORTNESS_OF_BREATH</th>\n",
       "      <th>DIFFICULTY_BREATHING</th>\n",
       "      <th>LOSS_OF_TASTE</th>\n",
       "      <th>LOSS_OF_SMELL</th>\n",
       "      <th>ITCHY_NOSE</th>\n",
       "      <th>ITCHY_EYES</th>\n",
       "      <th>ITCHY_MOUTH</th>\n",
       "      <th>ITCHY_INNER_EAR</th>\n",
       "      <th>SNEEZING</th>\n",
       "      <th>TYPE</th>\n",
       "    </tr>\n",
       "  </thead>\n",
       "  <tbody>\n",
       "    <tr>\n",
       "      <th>0</th>\n",
       "      <td>0</td>\n",
       "      <td>0</td>\n",
       "      <td>0</td>\n",
       "      <td>1</td>\n",
       "      <td>0</td>\n",
       "      <td>1</td>\n",
       "      <td>0</td>\n",
       "      <td>0</td>\n",
       "      <td>0</td>\n",
       "      <td>0</td>\n",
       "      <td>0</td>\n",
       "      <td>0</td>\n",
       "      <td>0</td>\n",
       "      <td>1</td>\n",
       "      <td>1</td>\n",
       "      <td>0</td>\n",
       "      <td>0</td>\n",
       "      <td>0</td>\n",
       "      <td>1</td>\n",
       "      <td>ALLERGY</td>\n",
       "    </tr>\n",
       "    <tr>\n",
       "      <th>1</th>\n",
       "      <td>0</td>\n",
       "      <td>0</td>\n",
       "      <td>1</td>\n",
       "      <td>1</td>\n",
       "      <td>1</td>\n",
       "      <td>1</td>\n",
       "      <td>0</td>\n",
       "      <td>0</td>\n",
       "      <td>0</td>\n",
       "      <td>0</td>\n",
       "      <td>0</td>\n",
       "      <td>0</td>\n",
       "      <td>1</td>\n",
       "      <td>0</td>\n",
       "      <td>0</td>\n",
       "      <td>0</td>\n",
       "      <td>0</td>\n",
       "      <td>0</td>\n",
       "      <td>0</td>\n",
       "      <td>ALLERGY</td>\n",
       "    </tr>\n",
       "    <tr>\n",
       "      <th>2</th>\n",
       "      <td>0</td>\n",
       "      <td>0</td>\n",
       "      <td>1</td>\n",
       "      <td>1</td>\n",
       "      <td>1</td>\n",
       "      <td>0</td>\n",
       "      <td>0</td>\n",
       "      <td>0</td>\n",
       "      <td>0</td>\n",
       "      <td>0</td>\n",
       "      <td>0</td>\n",
       "      <td>0</td>\n",
       "      <td>1</td>\n",
       "      <td>1</td>\n",
       "      <td>0</td>\n",
       "      <td>1</td>\n",
       "      <td>1</td>\n",
       "      <td>1</td>\n",
       "      <td>0</td>\n",
       "      <td>ALLERGY</td>\n",
       "    </tr>\n",
       "    <tr>\n",
       "      <th>3</th>\n",
       "      <td>1</td>\n",
       "      <td>1</td>\n",
       "      <td>1</td>\n",
       "      <td>0</td>\n",
       "      <td>0</td>\n",
       "      <td>1</td>\n",
       "      <td>0</td>\n",
       "      <td>0</td>\n",
       "      <td>0</td>\n",
       "      <td>0</td>\n",
       "      <td>0</td>\n",
       "      <td>0</td>\n",
       "      <td>1</td>\n",
       "      <td>0</td>\n",
       "      <td>0</td>\n",
       "      <td>0</td>\n",
       "      <td>0</td>\n",
       "      <td>0</td>\n",
       "      <td>0</td>\n",
       "      <td>ALLERGY</td>\n",
       "    </tr>\n",
       "    <tr>\n",
       "      <th>4</th>\n",
       "      <td>1</td>\n",
       "      <td>1</td>\n",
       "      <td>0</td>\n",
       "      <td>1</td>\n",
       "      <td>0</td>\n",
       "      <td>1</td>\n",
       "      <td>0</td>\n",
       "      <td>0</td>\n",
       "      <td>0</td>\n",
       "      <td>0</td>\n",
       "      <td>0</td>\n",
       "      <td>0</td>\n",
       "      <td>0</td>\n",
       "      <td>0</td>\n",
       "      <td>0</td>\n",
       "      <td>0</td>\n",
       "      <td>1</td>\n",
       "      <td>1</td>\n",
       "      <td>1</td>\n",
       "      <td>ALLERGY</td>\n",
       "    </tr>\n",
       "    <tr>\n",
       "      <th>...</th>\n",
       "      <td>...</td>\n",
       "      <td>...</td>\n",
       "      <td>...</td>\n",
       "      <td>...</td>\n",
       "      <td>...</td>\n",
       "      <td>...</td>\n",
       "      <td>...</td>\n",
       "      <td>...</td>\n",
       "      <td>...</td>\n",
       "      <td>...</td>\n",
       "      <td>...</td>\n",
       "      <td>...</td>\n",
       "      <td>...</td>\n",
       "      <td>...</td>\n",
       "      <td>...</td>\n",
       "      <td>...</td>\n",
       "      <td>...</td>\n",
       "      <td>...</td>\n",
       "      <td>...</td>\n",
       "      <td>...</td>\n",
       "    </tr>\n",
       "    <tr>\n",
       "      <th>12662</th>\n",
       "      <td>1</td>\n",
       "      <td>0</td>\n",
       "      <td>0</td>\n",
       "      <td>1</td>\n",
       "      <td>0</td>\n",
       "      <td>0</td>\n",
       "      <td>1</td>\n",
       "      <td>0</td>\n",
       "      <td>1</td>\n",
       "      <td>1</td>\n",
       "      <td>0</td>\n",
       "      <td>0</td>\n",
       "      <td>0</td>\n",
       "      <td>0</td>\n",
       "      <td>0</td>\n",
       "      <td>0</td>\n",
       "      <td>0</td>\n",
       "      <td>0</td>\n",
       "      <td>1</td>\n",
       "      <td>FLU</td>\n",
       "    </tr>\n",
       "    <tr>\n",
       "      <th>12663</th>\n",
       "      <td>1</td>\n",
       "      <td>1</td>\n",
       "      <td>0</td>\n",
       "      <td>1</td>\n",
       "      <td>1</td>\n",
       "      <td>0</td>\n",
       "      <td>1</td>\n",
       "      <td>1</td>\n",
       "      <td>0</td>\n",
       "      <td>1</td>\n",
       "      <td>0</td>\n",
       "      <td>0</td>\n",
       "      <td>1</td>\n",
       "      <td>1</td>\n",
       "      <td>0</td>\n",
       "      <td>0</td>\n",
       "      <td>0</td>\n",
       "      <td>0</td>\n",
       "      <td>1</td>\n",
       "      <td>FLU</td>\n",
       "    </tr>\n",
       "    <tr>\n",
       "      <th>12664</th>\n",
       "      <td>0</td>\n",
       "      <td>0</td>\n",
       "      <td>1</td>\n",
       "      <td>0</td>\n",
       "      <td>1</td>\n",
       "      <td>0</td>\n",
       "      <td>0</td>\n",
       "      <td>0</td>\n",
       "      <td>1</td>\n",
       "      <td>1</td>\n",
       "      <td>0</td>\n",
       "      <td>1</td>\n",
       "      <td>1</td>\n",
       "      <td>0</td>\n",
       "      <td>0</td>\n",
       "      <td>0</td>\n",
       "      <td>0</td>\n",
       "      <td>0</td>\n",
       "      <td>1</td>\n",
       "      <td>FLU</td>\n",
       "    </tr>\n",
       "    <tr>\n",
       "      <th>12665</th>\n",
       "      <td>0</td>\n",
       "      <td>0</td>\n",
       "      <td>0</td>\n",
       "      <td>1</td>\n",
       "      <td>1</td>\n",
       "      <td>1</td>\n",
       "      <td>0</td>\n",
       "      <td>0</td>\n",
       "      <td>1</td>\n",
       "      <td>0</td>\n",
       "      <td>1</td>\n",
       "      <td>0</td>\n",
       "      <td>0</td>\n",
       "      <td>1</td>\n",
       "      <td>0</td>\n",
       "      <td>0</td>\n",
       "      <td>0</td>\n",
       "      <td>0</td>\n",
       "      <td>0</td>\n",
       "      <td>FLU</td>\n",
       "    </tr>\n",
       "    <tr>\n",
       "      <th>12666</th>\n",
       "      <td>1</td>\n",
       "      <td>1</td>\n",
       "      <td>0</td>\n",
       "      <td>0</td>\n",
       "      <td>0</td>\n",
       "      <td>1</td>\n",
       "      <td>0</td>\n",
       "      <td>0</td>\n",
       "      <td>1</td>\n",
       "      <td>0</td>\n",
       "      <td>1</td>\n",
       "      <td>1</td>\n",
       "      <td>0</td>\n",
       "      <td>1</td>\n",
       "      <td>0</td>\n",
       "      <td>0</td>\n",
       "      <td>0</td>\n",
       "      <td>0</td>\n",
       "      <td>0</td>\n",
       "      <td>FLU</td>\n",
       "    </tr>\n",
       "  </tbody>\n",
       "</table>\n",
       "<p>12667 rows × 20 columns</p>\n",
       "</div>"
      ],
      "text/plain": [
       "index  COUGH  MUSCLE_ACHES  TIREDNESS  SORE_THROAT  RUNNY_NOSE  STUFFY_NOSE  \\\n",
       "0          0             0          0            1           0            1   \n",
       "1          0             0          1            1           1            1   \n",
       "2          0             0          1            1           1            0   \n",
       "3          1             1          1            0           0            1   \n",
       "4          1             1          0            1           0            1   \n",
       "...      ...           ...        ...          ...         ...          ...   \n",
       "12662      1             0          0            1           0            0   \n",
       "12663      1             1          0            1           1            0   \n",
       "12664      0             0          1            0           1            0   \n",
       "12665      0             0          0            1           1            1   \n",
       "12666      1             1          0            0           0            1   \n",
       "\n",
       "index  FEVER  NAUSEA  VOMITING  DIARRHEA  SHORTNESS_OF_BREATH  \\\n",
       "0          0       0         0         0                    0   \n",
       "1          0       0         0         0                    0   \n",
       "2          0       0         0         0                    0   \n",
       "3          0       0         0         0                    0   \n",
       "4          0       0         0         0                    0   \n",
       "...      ...     ...       ...       ...                  ...   \n",
       "12662      1       0         1         1                    0   \n",
       "12663      1       1         0         1                    0   \n",
       "12664      0       0         1         1                    0   \n",
       "12665      0       0         1         0                    1   \n",
       "12666      0       0         1         0                    1   \n",
       "\n",
       "index  DIFFICULTY_BREATHING  LOSS_OF_TASTE  LOSS_OF_SMELL  ITCHY_NOSE  \\\n",
       "0                         0              0              1           1   \n",
       "1                         0              1              0           0   \n",
       "2                         0              1              1           0   \n",
       "3                         0              1              0           0   \n",
       "4                         0              0              0           0   \n",
       "...                     ...            ...            ...         ...   \n",
       "12662                     0              0              0           0   \n",
       "12663                     0              1              1           0   \n",
       "12664                     1              1              0           0   \n",
       "12665                     0              0              1           0   \n",
       "12666                     1              0              1           0   \n",
       "\n",
       "index  ITCHY_EYES  ITCHY_MOUTH  ITCHY_INNER_EAR  SNEEZING     TYPE  \n",
       "0               0            0                0         1  ALLERGY  \n",
       "1               0            0                0         0  ALLERGY  \n",
       "2               1            1                1         0  ALLERGY  \n",
       "3               0            0                0         0  ALLERGY  \n",
       "4               0            1                1         1  ALLERGY  \n",
       "...           ...          ...              ...       ...      ...  \n",
       "12662           0            0                0         1      FLU  \n",
       "12663           0            0                0         1      FLU  \n",
       "12664           0            0                0         1      FLU  \n",
       "12665           0            0                0         0      FLU  \n",
       "12666           0            0                0         0      FLU  \n",
       "\n",
       "[12667 rows x 20 columns]"
      ]
     },
     "execution_count": 12,
     "metadata": {},
     "output_type": "execute_result"
    }
   ],
   "source": [
    "trainDatadf"
   ]
  },
  {
   "cell_type": "code",
   "execution_count": 13,
   "id": "6e03e94b",
   "metadata": {},
   "outputs": [
    {
     "data": {
      "text/plain": [
       "<AxesSubplot:ylabel='FEVER'>"
      ]
     },
     "execution_count": 13,
     "metadata": {},
     "output_type": "execute_result"
    },
    {
     "data": {
      "image/png": "[encoded data removed]",
      "text/plain": [
       "<Figure size 432x288 with 1 Axes>"
      ]
     },
     "metadata": {},
     "output_type": "display_data"
    }
   ],
   "source": [
    "data.groupby('TYPE').FEVER.count().plot(kind='pie')"
   ]
  },
  {
   "cell_type": "code",
   "execution_count": 14,
   "id": "fd2bf8a1",
   "metadata": {},
   "outputs": [
    {
     "data": {
      "text/plain": [
       "<AxesSubplot:ylabel='TYPE'>"
      ]
     },
     "execution_count": 14,
     "metadata": {},
     "output_type": "execute_result"
    },
    {
     "data": {
      "image/png": "[encoded data removed]",
      "text/plain": [
       "<Figure size 432x288 with 1 Axes>"
      ]
     },
     "metadata": {
      "needs_background": "light"
     },
     "output_type": "display_data"
    }
   ],
   "source": [
    "data.groupby('TYPE').FEVER.count().plot(kind='barh')"
   ]
  },
  {
   "cell_type": "code",
   "execution_count": 15,
   "id": "9174f18f",
   "metadata": {},
   "outputs": [
    {
     "data": {
      "text/plain": [
       "<AxesSubplot:xlabel='index', ylabel='index'>"
      ]
     },
     "execution_count": 15,
     "metadata": {},
     "output_type": "execute_result"
    },
    {
     "data": {
      "image/png": "[encoded data removed]",
      "text/plain": [
       "<Figure size 432x288 with 2 Axes>"
      ]
     },
     "metadata": {
      "needs_background": "light"
     },
     "output_type": "display_data"
    }
   ],
   "source": [
    "sns.heatmap(data.corr(),annot=False)"
   ]
  },
  {
   "cell_type": "code",
   "execution_count": 16,
   "id": "dffb05c3",
   "metadata": {},
   "outputs": [
    {
     "data": {
      "text/plain": [
       "<AxesSubplot:xlabel='TYPE'>"
      ]
     },
     "execution_count": 16,
     "metadata": {},
     "output_type": "execute_result"
    },
    {
     "data": {
      "image/png": "[encoded data removed]",
      "text/plain": [
       "<Figure size 432x288 with 1 Axes>"
      ]
     },
     "metadata": {
      "needs_background": "light"
     },
     "output_type": "display_data"
    }
   ],
   "source": [
    "data.groupby('TYPE').FEVER.sum().plot(kind='area')"
   ]
  },
  {
   "cell_type": "code",
   "execution_count": 17,
   "id": "b996fac5",
   "metadata": {},
   "outputs": [
    {
     "data": {
      "text/plain": [
       "<AxesSubplot:xlabel='FEVER', ylabel='TYPE'>"
      ]
     },
     "execution_count": 17,
     "metadata": {},
     "output_type": "execute_result"
    },
    {
     "data": {
      "image/png": "[encoded data removed]",
      "text/plain": [
       "<Figure size 432x288 with 1 Axes>"
      ]
     },
     "metadata": {
      "needs_background": "light"
     },
     "output_type": "display_data"
    }
   ],
   "source": [
    "sns.boxplot(x='FEVER',y='TYPE',data=data)"
   ]
  },
  {
   "cell_type": "code",
   "execution_count": 18,
   "id": "567e1477",
   "metadata": {},
   "outputs": [],
   "source": [
    "q=data.drop_duplicates()"
   ]
  },
  {
   "cell_type": "code",
   "execution_count": 19,
   "id": "b625add2",
   "metadata": {},
   "outputs": [
    {
     "name": "stderr",
     "output_type": "stream",
     "text": [
      "D:\\Anaconda\\lib\\site-packages\\seaborn\\_decorators.py:36: FutureWarning: Pass the following variable as a keyword arg: x. From version 0.12, the only valid positional argument will be `data`, and passing other arguments without an explicit keyword will result in an error or misinterpretation.\n",
      "  warnings.warn(\n"
     ]
    },
    {
     "data": {
      "image/png": "[encoded data removed]",
      "text/plain": [
       "<Figure size 432x288 with 1 Axes>"
      ]
     },
     "metadata": {
      "needs_background": "light"
     },
     "output_type": "display_data"
    }
   ],
   "source": [
    "sns.countplot(data.TYPE)\n",
    "plt.show()"
   ]
  },
  {
   "cell_type": "code",
   "execution_count": 20,
   "id": "40d2598f",
   "metadata": {},
   "outputs": [
    {
     "data": {
      "text/plain": [
       "<AxesSubplot:>"
      ]
     },
     "execution_count": 20,
     "metadata": {},
     "output_type": "execute_result"
    },
    {
     "data": {
      "image/png": "[encoded data removed]",
      "text/plain": [
       "<Figure size 432x288 with 1 Axes>"
      ]
     },
     "metadata": {
      "needs_background": "light"
     },
     "output_type": "display_data"
    }
   ],
   "source": [
    "data.TYPE.hist()"
   ]
  },
  {
   "cell_type": "code",
   "execution_count": 21,
   "id": "5ec07838",
   "metadata": {},
   "outputs": [
    {
     "data": {
      "text/plain": [
       "<AxesSubplot:>"
      ]
     },
     "execution_count": 21,
     "metadata": {},
     "output_type": "execute_result"
    },
    {
     "data": {
      "image/png": "[encoded data removed]",
      "text/plain": [
       "<Figure size 432x288 with 1 Axes>"
      ]
     },
     "metadata": {
      "needs_background": "light"
     },
     "output_type": "display_data"
    }
   ],
   "source": [
    "data.COUGH.hist()"
   ]
  },
  {
   "cell_type": "markdown",
   "id": "af4fb386",
   "metadata": {},
   "source": [
    "# Pre-processed data"
   ]
  },
  {
   "cell_type": "code",
   "execution_count": 22,
   "id": "d514fd09",
   "metadata": {
    "scrolled": false
   },
   "outputs": [
    {
     "name": "stdout",
     "output_type": "stream",
     "text": [
      "Train dataset before pre-processing:\n",
      "=========================================\n",
      "\n",
      "index  COUGH  MUSCLE_ACHES  TIREDNESS  SORE_THROAT  RUNNY_NOSE  STUFFY_NOSE  \\\n",
      "0          0             0          0            1           0            1   \n",
      "1          0             0          1            1           1            1   \n",
      "2          0             0          1            1           1            0   \n",
      "3          1             1          1            0           0            1   \n",
      "4          1             1          0            1           0            1   \n",
      "...      ...           ...        ...          ...         ...          ...   \n",
      "12662      1             0          0            1           0            0   \n",
      "12663      1             1          0            1           1            0   \n",
      "12664      0             0          1            0           1            0   \n",
      "12665      0             0          0            1           1            1   \n",
      "12666      1             1          0            0           0            1   \n",
      "\n",
      "index  FEVER  NAUSEA  VOMITING  DIARRHEA  SHORTNESS_OF_BREATH  \\\n",
      "0          0       0         0         0                    0   \n",
      "1          0       0         0         0                    0   \n",
      "2          0       0         0         0                    0   \n",
      "3          0       0         0         0                    0   \n",
      "4          0       0         0         0                    0   \n",
      "...      ...     ...       ...       ...                  ...   \n",
      "12662      1       0         1         1                    0   \n",
      "12663      1       1         0         1                    0   \n",
      "12664      0       0         1         1                    0   \n",
      "12665      0       0         1         0                    1   \n",
      "12666      0       0         1         0                    1   \n",
      "\n",
      "index  DIFFICULTY_BREATHING  LOSS_OF_TASTE  LOSS_OF_SMELL  ITCHY_NOSE  \\\n",
      "0                         0              0              1           1   \n",
      "1                         0              1              0           0   \n",
      "2                         0              1              1           0   \n",
      "3                         0              1              0           0   \n",
      "4                         0              0              0           0   \n",
      "...                     ...            ...            ...         ...   \n",
      "12662                     0              0              0           0   \n",
      "12663                     0              1              1           0   \n",
      "12664                     1              1              0           0   \n",
      "12665                     0              0              1           0   \n",
      "12666                     1              0              1           0   \n",
      "\n",
      "index  ITCHY_EYES  ITCHY_MOUTH  ITCHY_INNER_EAR  SNEEZING     TYPE  \n",
      "0               0            0                0         1  ALLERGY  \n",
      "1               0            0                0         0  ALLERGY  \n",
      "2               1            1                1         0  ALLERGY  \n",
      "3               0            0                0         0  ALLERGY  \n",
      "4               0            1                1         1  ALLERGY  \n",
      "...           ...          ...              ...       ...      ...  \n",
      "12662           0            0                0         1      FLU  \n",
      "12663           0            0                0         1      FLU  \n",
      "12664           0            0                0         1      FLU  \n",
      "12665           0            0                0         0      FLU  \n",
      "12666           0            0                0         0      FLU  \n",
      "\n",
      "[12667 rows x 20 columns]\n",
      "\n",
      "\n",
      "\n",
      "Train dataset after pre-processing:\n",
      "=========================================\n",
      "\n",
      "index  COUGH  MUSCLE_ACHES  TIREDNESS  SORE_THROAT  RUNNY_NOSE  STUFFY_NOSE  \\\n",
      "0          0             0          0            1           0            1   \n",
      "1          0             0          1            1           1            1   \n",
      "2          0             0          1            1           1            0   \n",
      "3          1             1          1            0           0            1   \n",
      "4          1             1          0            1           0            1   \n",
      "...      ...           ...        ...          ...         ...          ...   \n",
      "12662      1             0          0            1           0            0   \n",
      "12663      1             1          0            1           1            0   \n",
      "12664      0             0          1            0           1            0   \n",
      "12665      0             0          0            1           1            1   \n",
      "12666      1             1          0            0           0            1   \n",
      "\n",
      "index  FEVER  NAUSEA  VOMITING  DIARRHEA  SHORTNESS_OF_BREATH  \\\n",
      "0          0       0         0         0                    0   \n",
      "1          0       0         0         0                    0   \n",
      "2          0       0         0         0                    0   \n",
      "3          0       0         0         0                    0   \n",
      "4          0       0         0         0                    0   \n",
      "...      ...     ...       ...       ...                  ...   \n",
      "12662      1       0         1         1                    0   \n",
      "12663      1       1         0         1                    0   \n",
      "12664      0       0         1         1                    0   \n",
      "12665      0       0         1         0                    1   \n",
      "12666      0       0         1         0                    1   \n",
      "\n",
      "index  DIFFICULTY_BREATHING  LOSS_OF_TASTE  LOSS_OF_SMELL  ITCHY_NOSE  \\\n",
      "0                         0              0              1           1   \n",
      "1                         0              1              0           0   \n",
      "2                         0              1              1           0   \n",
      "3                         0              1              0           0   \n",
      "4                         0              0              0           0   \n",
      "...                     ...            ...            ...         ...   \n",
      "12662                     0              0              0           0   \n",
      "12663                     0              1              1           0   \n",
      "12664                     1              1              0           0   \n",
      "12665                     0              0              1           0   \n",
      "12666                     1              0              1           0   \n",
      "\n",
      "index  ITCHY_EYES  ITCHY_MOUTH  ITCHY_INNER_EAR  SNEEZING     TYPE  \n",
      "0               0            0                0         1  ALLERGY  \n",
      "1               0            0                0         0  ALLERGY  \n",
      "2               1            1                1         0  ALLERGY  \n",
      "3               0            0                0         0  ALLERGY  \n",
      "4               0            1                1         1  ALLERGY  \n",
      "...           ...          ...              ...       ...      ...  \n",
      "12662           0            0                0         1      FLU  \n",
      "12663           0            0                0         1      FLU  \n",
      "12664           0            0                0         1      FLU  \n",
      "12665           0            0                0         0      FLU  \n",
      "12666           0            0                0         0      FLU  \n",
      "\n",
      "[12667 rows x 20 columns]\n"
     ]
    },
    {
     "data": {
      "text/html": [
       "<div>\n",
       "<style scoped>\n",
       "    .dataframe tbody tr th:only-of-type {\n",
       "        vertical-align: middle;\n",
       "    }\n",
       "\n",
       "    .dataframe tbody tr th {\n",
       "        vertical-align: top;\n",
       "    }\n",
       "\n",
       "    .dataframe thead th {\n",
       "        text-align: right;\n",
       "    }\n",
       "</style>\n",
       "<table border=\"1\" class=\"dataframe\">\n",
       "  <thead>\n",
       "    <tr style=\"text-align: right;\">\n",
       "      <th>index</th>\n",
       "      <th>COUGH</th>\n",
       "      <th>MUSCLE_ACHES</th>\n",
       "      <th>TIREDNESS</th>\n",
       "      <th>SORE_THROAT</th>\n",
       "      <th>RUNNY_NOSE</th>\n",
       "      <th>STUFFY_NOSE</th>\n",
       "      <th>FEVER</th>\n",
       "      <th>NAUSEA</th>\n",
       "      <th>VOMITING</th>\n",
       "      <th>DIARRHEA</th>\n",
       "      <th>SHORTNESS_OF_BREATH</th>\n",
       "      <th>DIFFICULTY_BREATHING</th>\n",
       "      <th>LOSS_OF_TASTE</th>\n",
       "      <th>LOSS_OF_SMELL</th>\n",
       "      <th>ITCHY_NOSE</th>\n",
       "      <th>ITCHY_EYES</th>\n",
       "      <th>ITCHY_MOUTH</th>\n",
       "      <th>ITCHY_INNER_EAR</th>\n",
       "      <th>SNEEZING</th>\n",
       "      <th>TYPE</th>\n",
       "    </tr>\n",
       "  </thead>\n",
       "  <tbody>\n",
       "    <tr>\n",
       "      <th>0</th>\n",
       "      <td>0</td>\n",
       "      <td>0</td>\n",
       "      <td>0</td>\n",
       "      <td>1</td>\n",
       "      <td>0</td>\n",
       "      <td>1</td>\n",
       "      <td>0</td>\n",
       "      <td>0</td>\n",
       "      <td>0</td>\n",
       "      <td>0</td>\n",
       "      <td>0</td>\n",
       "      <td>0</td>\n",
       "      <td>0</td>\n",
       "      <td>1</td>\n",
       "      <td>1</td>\n",
       "      <td>0</td>\n",
       "      <td>0</td>\n",
       "      <td>0</td>\n",
       "      <td>1</td>\n",
       "      <td>ALLERGY</td>\n",
       "    </tr>\n",
       "    <tr>\n",
       "      <th>1</th>\n",
       "      <td>0</td>\n",
       "      <td>0</td>\n",
       "      <td>1</td>\n",
       "      <td>1</td>\n",
       "      <td>1</td>\n",
       "      <td>1</td>\n",
       "      <td>0</td>\n",
       "      <td>0</td>\n",
       "      <td>0</td>\n",
       "      <td>0</td>\n",
       "      <td>0</td>\n",
       "      <td>0</td>\n",
       "      <td>1</td>\n",
       "      <td>0</td>\n",
       "      <td>0</td>\n",
       "      <td>0</td>\n",
       "      <td>0</td>\n",
       "      <td>0</td>\n",
       "      <td>0</td>\n",
       "      <td>ALLERGY</td>\n",
       "    </tr>\n",
       "    <tr>\n",
       "      <th>2</th>\n",
       "      <td>0</td>\n",
       "      <td>0</td>\n",
       "      <td>1</td>\n",
       "      <td>1</td>\n",
       "      <td>1</td>\n",
       "      <td>0</td>\n",
       "      <td>0</td>\n",
       "      <td>0</td>\n",
       "      <td>0</td>\n",
       "      <td>0</td>\n",
       "      <td>0</td>\n",
       "      <td>0</td>\n",
       "      <td>1</td>\n",
       "      <td>1</td>\n",
       "      <td>0</td>\n",
       "      <td>1</td>\n",
       "      <td>1</td>\n",
       "      <td>1</td>\n",
       "      <td>0</td>\n",
       "      <td>ALLERGY</td>\n",
       "    </tr>\n",
       "    <tr>\n",
       "      <th>3</th>\n",
       "      <td>1</td>\n",
       "      <td>1</td>\n",
       "      <td>1</td>\n",
       "      <td>0</td>\n",
       "      <td>0</td>\n",
       "      <td>1</td>\n",
       "      <td>0</td>\n",
       "      <td>0</td>\n",
       "      <td>0</td>\n",
       "      <td>0</td>\n",
       "      <td>0</td>\n",
       "      <td>0</td>\n",
       "      <td>1</td>\n",
       "      <td>0</td>\n",
       "      <td>0</td>\n",
       "      <td>0</td>\n",
       "      <td>0</td>\n",
       "      <td>0</td>\n",
       "      <td>0</td>\n",
       "      <td>ALLERGY</td>\n",
       "    </tr>\n",
       "    <tr>\n",
       "      <th>4</th>\n",
       "      <td>1</td>\n",
       "      <td>1</td>\n",
       "      <td>0</td>\n",
       "      <td>1</td>\n",
       "      <td>0</td>\n",
       "      <td>1</td>\n",
       "      <td>0</td>\n",
       "      <td>0</td>\n",
       "      <td>0</td>\n",
       "      <td>0</td>\n",
       "      <td>0</td>\n",
       "      <td>0</td>\n",
       "      <td>0</td>\n",
       "      <td>0</td>\n",
       "      <td>0</td>\n",
       "      <td>0</td>\n",
       "      <td>1</td>\n",
       "      <td>1</td>\n",
       "      <td>1</td>\n",
       "      <td>ALLERGY</td>\n",
       "    </tr>\n",
       "  </tbody>\n",
       "</table>\n",
       "</div>"
      ],
      "text/plain": [
       "index  COUGH  MUSCLE_ACHES  TIREDNESS  SORE_THROAT  RUNNY_NOSE  STUFFY_NOSE  \\\n",
       "0          0             0          0            1           0            1   \n",
       "1          0             0          1            1           1            1   \n",
       "2          0             0          1            1           1            0   \n",
       "3          1             1          1            0           0            1   \n",
       "4          1             1          0            1           0            1   \n",
       "\n",
       "index  FEVER  NAUSEA  VOMITING  DIARRHEA  SHORTNESS_OF_BREATH  \\\n",
       "0          0       0         0         0                    0   \n",
       "1          0       0         0         0                    0   \n",
       "2          0       0         0         0                    0   \n",
       "3          0       0         0         0                    0   \n",
       "4          0       0         0         0                    0   \n",
       "\n",
       "index  DIFFICULTY_BREATHING  LOSS_OF_TASTE  LOSS_OF_SMELL  ITCHY_NOSE  \\\n",
       "0                         0              0              1           1   \n",
       "1                         0              1              0           0   \n",
       "2                         0              1              1           0   \n",
       "3                         0              1              0           0   \n",
       "4                         0              0              0           0   \n",
       "\n",
       "index  ITCHY_EYES  ITCHY_MOUTH  ITCHY_INNER_EAR  SNEEZING     TYPE  \n",
       "0               0            0                0         1  ALLERGY  \n",
       "1               0            0                0         0  ALLERGY  \n",
       "2               1            1                1         0  ALLERGY  \n",
       "3               0            0                0         0  ALLERGY  \n",
       "4               0            1                1         1  ALLERGY  "
      ]
     },
     "execution_count": 22,
     "metadata": {},
     "output_type": "execute_result"
    }
   ],
   "source": [
    "preprocessed_dataset = data.fillna('0')\n",
    "\n",
    "print(\"Train dataset before pre-processing:\")\n",
    "print(\"=========================================\\n\")\n",
    "print(data)\n",
    "\n",
    "print(\"\\n\\n\\nTrain dataset after pre-processing:\")\n",
    "print(\"=========================================\\n\")\n",
    "print(preprocessed_dataset)\n",
    "\n",
    "preprocessed_dataset.head()"
   ]
  },
  {
   "cell_type": "markdown",
   "id": "eb7139d0",
   "metadata": {},
   "source": [
    "# Train ML Algorithms using Data"
   ]
  },
  {
   "cell_type": "code",
   "execution_count": 23,
   "id": "62d1a55f",
   "metadata": {},
   "outputs": [],
   "source": [
    "x = preprocessed_dataset.iloc[:, :-1].values\n",
    "y = preprocessed_dataset.iloc[:, -1:].values"
   ]
  },
  {
   "cell_type": "code",
   "execution_count": 24,
   "id": "7182b71f",
   "metadata": {},
   "outputs": [],
   "source": [
    "x_train, x_test, y_train, y_test = train_test_split(x, y, test_size=0.2)"
   ]
  },
  {
   "cell_type": "markdown",
   "id": "0667a1ef",
   "metadata": {},
   "source": [
    "# Train ML Algorithms using Random Forest Classifier\n"
   ]
  },
  {
   "cell_type": "code",
   "execution_count": 25,
   "id": "361f3d58",
   "metadata": {},
   "outputs": [
    {
     "name": "stderr",
     "output_type": "stream",
     "text": [
      "C:\\Users\\DELL\\AppData\\Local\\Temp/ipykernel_11900/3108075893.py:2: DataConversionWarning: A column-vector y was passed when a 1d array was expected. Please change the shape of y to (n_samples,), for example using ravel().\n",
      "  randomForest.fit(x_train,y_train)\n"
     ]
    },
    {
     "data": {
      "text/plain": [
       "0.9033149171270718"
      ]
     },
     "execution_count": 25,
     "metadata": {},
     "output_type": "execute_result"
    }
   ],
   "source": [
    "randomForest=RandomForestClassifier()\n",
    "randomForest.fit(x_train,y_train)\n",
    "RF = randomForest.predict(x_test)\n",
    "accuracy_score(y_test, RF)"
   ]
  },
  {
   "cell_type": "markdown",
   "id": "10726eac",
   "metadata": {},
   "source": [
    "# Train ML Algorithms using Logistic Regression"
   ]
  },
  {
   "cell_type": "code",
   "execution_count": 26,
   "id": "511f6fee",
   "metadata": {},
   "outputs": [
    {
     "name": "stderr",
     "output_type": "stream",
     "text": [
      "D:\\Anaconda\\lib\\site-packages\\sklearn\\utils\\validation.py:63: DataConversionWarning: A column-vector y was passed when a 1d array was expected. Please change the shape of y to (n_samples, ), for example using ravel().\n",
      "  return f(*args, **kwargs)\n"
     ]
    },
    {
     "data": {
      "text/plain": [
       "0.9471191791633781"
      ]
     },
     "execution_count": 26,
     "metadata": {},
     "output_type": "execute_result"
    }
   ],
   "source": [
    "logisticRegression=LogisticRegression()\n",
    "logisticRegression.fit(x_train,y_train)\n",
    "LR = logisticRegression.predict(x_test)\n",
    "accuracy_score(y_test, LR)"
   ]
  },
  {
   "cell_type": "markdown",
   "id": "58197553",
   "metadata": {},
   "source": [
    "# Train ML Algorithms using linearSvc"
   ]
  },
  {
   "cell_type": "code",
   "execution_count": 27,
   "id": "bfcc3118",
   "metadata": {},
   "outputs": [
    {
     "name": "stderr",
     "output_type": "stream",
     "text": [
      "D:\\Anaconda\\lib\\site-packages\\sklearn\\utils\\validation.py:63: DataConversionWarning: A column-vector y was passed when a 1d array was expected. Please change the shape of y to (n_samples, ), for example using ravel().\n",
      "  return f(*args, **kwargs)\n"
     ]
    },
    {
     "data": {
      "text/plain": [
       "0.9419889502762431"
      ]
     },
     "execution_count": 27,
     "metadata": {},
     "output_type": "execute_result"
    }
   ],
   "source": [
    "linearSvc=LinearSVC()\n",
    "linearSvc.fit(x_train,y_train)\n",
    "LS = linearSvc.predict(x_test)\n",
    "accuracy_score(y_test, LS)"
   ]
  },
  {
   "cell_type": "markdown",
   "id": "8eade37b",
   "metadata": {},
   "source": [
    "# Train ML Algorithms using BernoulliNB\n"
   ]
  },
  {
   "cell_type": "code",
   "execution_count": 28,
   "id": "53b28cc2",
   "metadata": {},
   "outputs": [
    {
     "name": "stderr",
     "output_type": "stream",
     "text": [
      "D:\\Anaconda\\lib\\site-packages\\sklearn\\utils\\validation.py:63: DataConversionWarning: A column-vector y was passed when a 1d array was expected. Please change the shape of y to (n_samples, ), for example using ravel().\n",
      "  return f(*args, **kwargs)\n"
     ]
    },
    {
     "data": {
      "text/plain": [
       "0.9479084451460142"
      ]
     },
     "execution_count": 28,
     "metadata": {},
     "output_type": "execute_result"
    }
   ],
   "source": [
    "bernoulliNB=BernoulliNB()\n",
    "bernoulliNB.fit(x_train,y_train)\n",
    "NB = bernoulliNB.predict(x_test)\n",
    "accuracy_score(y_test, NB)"
   ]
  },
  {
   "cell_type": "markdown",
   "id": "2accae26",
   "metadata": {},
   "source": [
    "# Save the Trained Model as Pickle File"
   ]
  },
  {
   "cell_type": "code",
   "execution_count": 31,
   "id": "c6fbd79b",
   "metadata": {},
   "outputs": [],
   "source": [
    "filename = 'covidd-model.sav'\n",
    "pickle.dump(randomForest, open(filename, 'wb'))"
   ]
  },
  {
   "cell_type": "markdown",
   "id": "415b34aa",
   "metadata": {},
   "source": [
    "# Load the Trained Model"
   ]
  },
  {
   "cell_type": "code",
   "execution_count": 32,
   "id": "5fc96786",
   "metadata": {},
   "outputs": [],
   "source": [
    "loadBM = pickle.load(open('covidd-model.sav', 'rb'))"
   ]
  },
  {
   "cell_type": "markdown",
   "id": "d972eac5",
   "metadata": {},
   "source": [
    "# Take Input from User"
   ]
  },
  {
   "cell_type": "code",
   "execution_count": 37,
   "id": "e0e6b13a",
   "metadata": {},
   "outputs": [
    {
     "name": "stdout",
     "output_type": "stream",
     "text": [
      "0 = no high BP 1 = high BP0\n",
      "0 = no high cholesterol 1 = high cholesterol1\n",
      "0 = no cholesterol check in 5 years, 1 = yes cholesterol check in 5 years0\n",
      "Please enter your Body Mass Index(20-50):1\n",
      "Have you smoked at least 100 cigarettes in your entire life? [Note: 5 packs = 100 cigarettes] 0 = no 1 = yes:0\n",
      "(Ever told) you had a stroke. 0 = no 1 = yes1\n",
      "coronary heart disease (CHD) or myocardial infarction (MI) 0 = no 1 = yes:1\n",
      "physical activity in past 30 days - not including job 0 = no 1 = yes1\n",
      "Consume Fruit 1 or more times per day 0 = no 1 = yes1\n",
      "Consume Vegetables 1 or more times per day 0 = no 1 = yes:0\n",
      "Heavy drinkers (adult men having more than 14 drinks per week and adult women having more than 7 drinks per week) 0 = no 1 = yes0\n",
      "Have any kind of health care coverage, including health insurance, prepaid plans such as HMO, etc. 0 = no 1 = yes:0\n",
      "Was there a time in the past 12 months when you needed to see a doctor but could not because of cost? 0 = no 1 = yes:1\n",
      "Would you say that in general your health is: scale (1-5) 1 = excellent 2 = very good 3 = good 4 = fair 5 = poor:0\n",
      "Now thinking about your mental health, which includes stress,depression, and problems with emotions, for how many days during the past 30 days was your mental health not good? scale 1-30 days:0\n",
      "Now thinking about your physical health, which includes physical illness and injury, for how many days during the past 30 days was your physical health not good? scale 1-30 days:1\n",
      "Do you have serious difficulty walking or climbing stairs? 0 = no 1 = yes:1\n",
      "0 = female 1 = male:1\n",
      "0 = female 1 = male:0\n"
     ]
    }
   ],
   "source": [
    "COUGH=input(\"0 = no high BP 1 = high BP\")\n",
    "MUSCLE_ACHES=input(\"0 = no high cholesterol 1 = high cholesterol\")\n",
    "TIREDNESS=input(\"0 = no cholesterol check in 5 years, 1 = yes cholesterol check in 5 years\")\n",
    "SORE_THROAT=input(\"Please enter your Body Mass Index(20-50):\")\n",
    "RUNNY_NOSE=input(\"Have you smoked at least 100 cigarettes in your entire life? [Note: 5 packs = 100 cigarettes] 0 = no 1 = yes:\")\n",
    "STUFFY_NOSE=input(\"(Ever told) you had a stroke. 0 = no 1 = yes\")\n",
    "FEVER=input(\"coronary heart disease (CHD) or myocardial infarction (MI) 0 = no 1 = yes:\")\n",
    "NAUSEA=input(\"physical activity in past 30 days - not including job 0 = no 1 = yes\")\n",
    "VOMITING=input(\"Consume Fruit 1 or more times per day 0 = no 1 = yes\")\n",
    "DIARRHEA=input(\"Consume Vegetables 1 or more times per day 0 = no 1 = yes:\")\n",
    "SHORTNESS_OF_BREATH=input(\"Heavy drinkers (adult men having more than 14 drinks per week and adult women having more than 7 drinks per week) 0 = no 1 = yes\")\n",
    "DIFFICULTY_BREATHING=input(\"Have any kind of health care coverage, including health insurance, prepaid plans such as HMO, etc. 0 = no 1 = yes:\")\n",
    "LOSS_OF_TASTE=input(\"Was there a time in the past 12 months when you needed to see a doctor but could not because of cost? 0 = no 1 = yes:\")\n",
    "LOSS_OF_SMELL=input(\"Would you say that in general your health is: scale (1-5) 1 = excellent 2 = very good 3 = good 4 = fair 5 = poor:\")\n",
    "ITCHY_NOSE=input(\"Now thinking about your mental health, which includes stress,depression, and problems with emotions, for how many days during the past 30 days was your mental health not good? scale 1-30 days:\")\n",
    "ITCHY_EYES=input(\"Now thinking about your physical health, which includes physical illness and injury, for how many days during the past 30 days was your physical health not good? scale 1-30 days:\")\n",
    "ITCHY_MOUTH=input(\"Do you have serious difficulty walking or climbing stairs? 0 = no 1 = yes:\")\n",
    "ITCHY_INNER_EAR=input(\"0 = female 1 = male:\")\n",
    "SNEEZING=input(\"0 = female 1 = male:\")\n"
   ]
  },
  {
   "cell_type": "code",
   "execution_count": 38,
   "id": "432d962d",
   "metadata": {},
   "outputs": [
    {
     "name": "stdout",
     "output_type": "stream",
     "text": [
      "user input \n",
      "\n",
      "  HighBP HighChol CholCheck BMI Smoker Stroke HeartDiseaseorAttack  \\\n",
      "0      0        1         0   1      0      1                    1   \n",
      "\n",
      "  PhysActivity Fruits Veggies HvyAlcoholConsump AnyHealthcare NoDocbcCost  \\\n",
      "0            1      1       0                 0             0           1   \n",
      "\n",
      "  GenHlth MentHlth PhysHlth DiffWalk Sex Sexx  \n",
      "0       0        0        1        1   1    0  \n"
     ]
    }
   ],
   "source": [
    "print(\"user input \\n\")\n",
    "newdf=pd.DataFrame({\"HighBP\":COUGH,\"HighChol\":MUSCLE_ACHES,\"CholCheck\":TIREDNESS,\"BMI\":SORE_THROAT,\"Smoker\":RUNNY_NOSE,\n",
    "                    \"Stroke\":STUFFY_NOSE,\"HeartDiseaseorAttack\":FEVER,\"PhysActivity\":NAUSEA,\n",
    "                    \"Fruits\":VOMITING,\"Veggies\":DIARRHEA,\"HvyAlcoholConsump\":SHORTNESS_OF_BREATH,\"AnyHealthcare\":DIFFICULTY_BREATHING,\n",
    "                    \"NoDocbcCost\":LOSS_OF_TASTE,\"GenHlth\":LOSS_OF_SMELL,\"MentHlth\":ITCHY_NOSE,\"PhysHlth\":ITCHY_EYES,\n",
    "                    \"DiffWalk\":ITCHY_MOUTH,\"Sex\":ITCHY_INNER_EAR,\"Sexx\":SNEEZING},index=[0])\n",
    "print(newdf)"
   ]
  },
  {
   "cell_type": "code",
   "execution_count": 39,
   "id": "3bbbd909",
   "metadata": {},
   "outputs": [
    {
     "data": {
      "text/plain": [
       "array(['ALLERGY', 'ALLERGY', 'ALLERGY', ..., 'FLU', 'FLU', 'FLU'],\n",
       "      dtype=object)"
      ]
     },
     "execution_count": 39,
     "metadata": {},
     "output_type": "execute_result"
    }
   ],
   "source": [
    "data.TYPE.values"
   ]
  },
  {
   "cell_type": "code",
   "execution_count": 40,
   "id": "675225b7",
   "metadata": {},
   "outputs": [
    {
     "name": "stdout",
     "output_type": "stream",
     "text": [
      "\n",
      " Prediction: Patient has FLU\n"
     ]
    }
   ],
   "source": [
    "outputPredictionBM= loadBM.predict(newdf)\n",
    "\n",
    "if outputPredictionBM=='ALLERGY':\n",
    "    TYPE= \"Patient has allergy\"\n",
    "    \n",
    "elif outputPredictionBM=='COLD':\n",
    "    TYPE=\"Patient has covid\"\n",
    "\n",
    "elif outputPredictionBM=='COVID':\n",
    "    TYPE=\"Patient has covid\"\n",
    "    \n",
    "elif outputPredictionBM=='FLU':\n",
    "    TYPE=\"Patient has FLU\"\n",
    "\n",
    "print(\"\\n Prediction: %s\"%TYPE)"
   ]
  },
  {
   "cell_type": "code",
   "execution_count": null,
   "id": "75ee227c",
   "metadata": {},
   "outputs": [],
   "source": []
  }
 ],
 "metadata": {
  "kernelspec": {
   "display_name": "Python 3 (ipykernel)",
   "language": "python",
   "name": "python3"
  },
  "language_info": {
   "codemirror_mode": {
    "name": "ipython",
    "version": 3
   },
   "file_extension": ".py",
   "mimetype": "text/x-python",
   "name": "python",
   "nbconvert_exporter": "python",
   "pygments_lexer": "ipython3",
   "version": "3.9.7"
  }
 },
 "nbformat": 4,
 "nbformat_minor": 5
}
