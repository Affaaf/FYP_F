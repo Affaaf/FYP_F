{
 "cells": [
  {
   "cell_type": "markdown",
   "id": "e12772d1",
   "metadata": {},
   "source": [
    "# Step 1: Import Libraries"
   ]
  },
  {
   "cell_type": "code",
   "execution_count": 1,
   "id": "28946497",
   "metadata": {},
   "outputs": [],
   "source": [
    "import re\n",
    "import string\n",
    "import scipy\n",
    "import pickle\n",
    "import pandas as pd\n",
    "import numpy as np\n",
    "import os\n",
    "from sklearn.linear_model import LogisticRegression\n",
    "from sklearn.naive_bayes import BernoulliNB\n",
    "from sklearn.ensemble import RandomForestClassifier\n",
    "from sklearn.svm import LinearSVC\n",
    "from sklearn.metrics import accuracy_score, precision_score, recall_score, f1_score\n",
    "from astropy.table import Table , Column\n",
    "from sklearn.model_selection import train_test_split\n",
    "import matplotlib.pyplot as plt\n",
    "%matplotlib inline\n",
    "import seaborn as sns"
   ]
  },
  {
   "cell_type": "markdown",
   "id": "60c2777d",
   "metadata": {},
   "source": [
    "# Step 2: Read, Understand and Pre-process Train/Test Data"
   ]
  },
  {
   "cell_type": "markdown",
   "id": "10238759",
   "metadata": {},
   "source": [
    "# Step 2.1: Read Data"
   ]
  },
  {
   "cell_type": "code",
   "execution_count": 2,
   "id": "3990541c",
   "metadata": {},
   "outputs": [
    {
     "data": {
      "text/html": [
       "<div>\n",
       "<style scoped>\n",
       "    .dataframe tbody tr th:only-of-type {\n",
       "        vertical-align: middle;\n",
       "    }\n",
       "\n",
       "    .dataframe tbody tr th {\n",
       "        vertical-align: top;\n",
       "    }\n",
       "\n",
       "    .dataframe thead th {\n",
       "        text-align: right;\n",
       "    }\n",
       "</style>\n",
       "<table border=\"1\" class=\"dataframe\">\n",
       "  <thead>\n",
       "    <tr style=\"text-align: right;\">\n",
       "      <th></th>\n",
       "      <th>male</th>\n",
       "      <th>age</th>\n",
       "      <th>currentSmoker</th>\n",
       "      <th>cigsPerDay</th>\n",
       "      <th>BPMeds</th>\n",
       "      <th>prevalentStroke</th>\n",
       "      <th>prevalentHyp</th>\n",
       "      <th>diabetes</th>\n",
       "      <th>totChol</th>\n",
       "      <th>sysBP</th>\n",
       "      <th>diaBP</th>\n",
       "      <th>BMI</th>\n",
       "      <th>heartRate</th>\n",
       "      <th>glucose</th>\n",
       "      <th>TenYearCHD</th>\n",
       "    </tr>\n",
       "  </thead>\n",
       "  <tbody>\n",
       "    <tr>\n",
       "      <th>0</th>\n",
       "      <td>1</td>\n",
       "      <td>39</td>\n",
       "      <td>0</td>\n",
       "      <td>0.0</td>\n",
       "      <td>0.0</td>\n",
       "      <td>0</td>\n",
       "      <td>0</td>\n",
       "      <td>0</td>\n",
       "      <td>195.0</td>\n",
       "      <td>106.0</td>\n",
       "      <td>70.0</td>\n",
       "      <td>26.97</td>\n",
       "      <td>80.0</td>\n",
       "      <td>77.0</td>\n",
       "      <td>0</td>\n",
       "    </tr>\n",
       "    <tr>\n",
       "      <th>1</th>\n",
       "      <td>0</td>\n",
       "      <td>46</td>\n",
       "      <td>0</td>\n",
       "      <td>0.0</td>\n",
       "      <td>0.0</td>\n",
       "      <td>0</td>\n",
       "      <td>0</td>\n",
       "      <td>0</td>\n",
       "      <td>250.0</td>\n",
       "      <td>121.0</td>\n",
       "      <td>81.0</td>\n",
       "      <td>28.73</td>\n",
       "      <td>95.0</td>\n",
       "      <td>76.0</td>\n",
       "      <td>0</td>\n",
       "    </tr>\n",
       "    <tr>\n",
       "      <th>2</th>\n",
       "      <td>1</td>\n",
       "      <td>48</td>\n",
       "      <td>1</td>\n",
       "      <td>20.0</td>\n",
       "      <td>0.0</td>\n",
       "      <td>0</td>\n",
       "      <td>0</td>\n",
       "      <td>0</td>\n",
       "      <td>245.0</td>\n",
       "      <td>127.5</td>\n",
       "      <td>80.0</td>\n",
       "      <td>25.34</td>\n",
       "      <td>75.0</td>\n",
       "      <td>70.0</td>\n",
       "      <td>0</td>\n",
       "    </tr>\n",
       "    <tr>\n",
       "      <th>3</th>\n",
       "      <td>0</td>\n",
       "      <td>61</td>\n",
       "      <td>1</td>\n",
       "      <td>30.0</td>\n",
       "      <td>0.0</td>\n",
       "      <td>0</td>\n",
       "      <td>1</td>\n",
       "      <td>0</td>\n",
       "      <td>225.0</td>\n",
       "      <td>150.0</td>\n",
       "      <td>95.0</td>\n",
       "      <td>28.58</td>\n",
       "      <td>65.0</td>\n",
       "      <td>103.0</td>\n",
       "      <td>1</td>\n",
       "    </tr>\n",
       "    <tr>\n",
       "      <th>4</th>\n",
       "      <td>0</td>\n",
       "      <td>46</td>\n",
       "      <td>1</td>\n",
       "      <td>23.0</td>\n",
       "      <td>0.0</td>\n",
       "      <td>0</td>\n",
       "      <td>0</td>\n",
       "      <td>0</td>\n",
       "      <td>285.0</td>\n",
       "      <td>130.0</td>\n",
       "      <td>84.0</td>\n",
       "      <td>23.10</td>\n",
       "      <td>85.0</td>\n",
       "      <td>85.0</td>\n",
       "      <td>0</td>\n",
       "    </tr>\n",
       "  </tbody>\n",
       "</table>\n",
       "</div>"
      ],
      "text/plain": [
       "   male  age  currentSmoker  cigsPerDay  BPMeds  prevalentStroke  \\\n",
       "0     1   39              0         0.0     0.0                0   \n",
       "1     0   46              0         0.0     0.0                0   \n",
       "2     1   48              1        20.0     0.0                0   \n",
       "3     0   61              1        30.0     0.0                0   \n",
       "4     0   46              1        23.0     0.0                0   \n",
       "\n",
       "   prevalentHyp  diabetes  totChol  sysBP  diaBP    BMI  heartRate  glucose  \\\n",
       "0             0         0    195.0  106.0   70.0  26.97       80.0     77.0   \n",
       "1             0         0    250.0  121.0   81.0  28.73       95.0     76.0   \n",
       "2             0         0    245.0  127.5   80.0  25.34       75.0     70.0   \n",
       "3             1         0    225.0  150.0   95.0  28.58       65.0    103.0   \n",
       "4             0         0    285.0  130.0   84.0  23.10       85.0     85.0   \n",
       "\n",
       "   TenYearCHD  \n",
       "0           0  \n",
       "1           0  \n",
       "2           0  \n",
       "3           1  \n",
       "4           0  "
      ]
     },
     "execution_count": 2,
     "metadata": {},
     "output_type": "execute_result"
    }
   ],
   "source": [
    "data = pd.read_csv('heart.csv') \n",
    "data.head()"
   ]
  },
  {
   "cell_type": "code",
   "execution_count": 3,
   "id": "8d8ce9b0",
   "metadata": {},
   "outputs": [
    {
     "data": {
      "text/html": [
       "<div>\n",
       "<style scoped>\n",
       "    .dataframe tbody tr th:only-of-type {\n",
       "        vertical-align: middle;\n",
       "    }\n",
       "\n",
       "    .dataframe tbody tr th {\n",
       "        vertical-align: top;\n",
       "    }\n",
       "\n",
       "    .dataframe thead th {\n",
       "        text-align: right;\n",
       "    }\n",
       "</style>\n",
       "<table border=\"1\" class=\"dataframe\">\n",
       "  <thead>\n",
       "    <tr style=\"text-align: right;\">\n",
       "      <th></th>\n",
       "      <th>male</th>\n",
       "      <th>age</th>\n",
       "      <th>currentSmoker</th>\n",
       "      <th>cigsPerDay</th>\n",
       "      <th>BPMeds</th>\n",
       "      <th>prevalentStroke</th>\n",
       "      <th>prevalentHyp</th>\n",
       "      <th>diabetes</th>\n",
       "      <th>totChol</th>\n",
       "      <th>sysBP</th>\n",
       "      <th>diaBP</th>\n",
       "      <th>BMI</th>\n",
       "      <th>heartRate</th>\n",
       "      <th>glucose</th>\n",
       "      <th>TenYearCHD</th>\n",
       "    </tr>\n",
       "  </thead>\n",
       "  <tbody>\n",
       "    <tr>\n",
       "      <th>0</th>\n",
       "      <td>1</td>\n",
       "      <td>39</td>\n",
       "      <td>0</td>\n",
       "      <td>0.0</td>\n",
       "      <td>0.0</td>\n",
       "      <td>0</td>\n",
       "      <td>0</td>\n",
       "      <td>0</td>\n",
       "      <td>195.0</td>\n",
       "      <td>106.0</td>\n",
       "      <td>70.0</td>\n",
       "      <td>26.97</td>\n",
       "      <td>80.0</td>\n",
       "      <td>77.0</td>\n",
       "      <td>0</td>\n",
       "    </tr>\n",
       "    <tr>\n",
       "      <th>1</th>\n",
       "      <td>0</td>\n",
       "      <td>46</td>\n",
       "      <td>0</td>\n",
       "      <td>0.0</td>\n",
       "      <td>0.0</td>\n",
       "      <td>0</td>\n",
       "      <td>0</td>\n",
       "      <td>0</td>\n",
       "      <td>250.0</td>\n",
       "      <td>121.0</td>\n",
       "      <td>81.0</td>\n",
       "      <td>28.73</td>\n",
       "      <td>95.0</td>\n",
       "      <td>76.0</td>\n",
       "      <td>0</td>\n",
       "    </tr>\n",
       "    <tr>\n",
       "      <th>2</th>\n",
       "      <td>1</td>\n",
       "      <td>48</td>\n",
       "      <td>1</td>\n",
       "      <td>20.0</td>\n",
       "      <td>0.0</td>\n",
       "      <td>0</td>\n",
       "      <td>0</td>\n",
       "      <td>0</td>\n",
       "      <td>245.0</td>\n",
       "      <td>127.5</td>\n",
       "      <td>80.0</td>\n",
       "      <td>25.34</td>\n",
       "      <td>75.0</td>\n",
       "      <td>70.0</td>\n",
       "      <td>0</td>\n",
       "    </tr>\n",
       "    <tr>\n",
       "      <th>3</th>\n",
       "      <td>0</td>\n",
       "      <td>61</td>\n",
       "      <td>1</td>\n",
       "      <td>30.0</td>\n",
       "      <td>0.0</td>\n",
       "      <td>0</td>\n",
       "      <td>1</td>\n",
       "      <td>0</td>\n",
       "      <td>225.0</td>\n",
       "      <td>150.0</td>\n",
       "      <td>95.0</td>\n",
       "      <td>28.58</td>\n",
       "      <td>65.0</td>\n",
       "      <td>103.0</td>\n",
       "      <td>1</td>\n",
       "    </tr>\n",
       "    <tr>\n",
       "      <th>4</th>\n",
       "      <td>0</td>\n",
       "      <td>46</td>\n",
       "      <td>1</td>\n",
       "      <td>23.0</td>\n",
       "      <td>0.0</td>\n",
       "      <td>0</td>\n",
       "      <td>0</td>\n",
       "      <td>0</td>\n",
       "      <td>285.0</td>\n",
       "      <td>130.0</td>\n",
       "      <td>84.0</td>\n",
       "      <td>23.10</td>\n",
       "      <td>85.0</td>\n",
       "      <td>85.0</td>\n",
       "      <td>0</td>\n",
       "    </tr>\n",
       "    <tr>\n",
       "      <th>5</th>\n",
       "      <td>0</td>\n",
       "      <td>43</td>\n",
       "      <td>0</td>\n",
       "      <td>0.0</td>\n",
       "      <td>0.0</td>\n",
       "      <td>0</td>\n",
       "      <td>1</td>\n",
       "      <td>0</td>\n",
       "      <td>228.0</td>\n",
       "      <td>180.0</td>\n",
       "      <td>110.0</td>\n",
       "      <td>30.30</td>\n",
       "      <td>77.0</td>\n",
       "      <td>99.0</td>\n",
       "      <td>0</td>\n",
       "    </tr>\n",
       "    <tr>\n",
       "      <th>6</th>\n",
       "      <td>0</td>\n",
       "      <td>63</td>\n",
       "      <td>0</td>\n",
       "      <td>0.0</td>\n",
       "      <td>0.0</td>\n",
       "      <td>0</td>\n",
       "      <td>0</td>\n",
       "      <td>0</td>\n",
       "      <td>205.0</td>\n",
       "      <td>138.0</td>\n",
       "      <td>71.0</td>\n",
       "      <td>33.11</td>\n",
       "      <td>60.0</td>\n",
       "      <td>85.0</td>\n",
       "      <td>1</td>\n",
       "    </tr>\n",
       "    <tr>\n",
       "      <th>7</th>\n",
       "      <td>0</td>\n",
       "      <td>45</td>\n",
       "      <td>1</td>\n",
       "      <td>20.0</td>\n",
       "      <td>0.0</td>\n",
       "      <td>0</td>\n",
       "      <td>0</td>\n",
       "      <td>0</td>\n",
       "      <td>313.0</td>\n",
       "      <td>100.0</td>\n",
       "      <td>71.0</td>\n",
       "      <td>21.68</td>\n",
       "      <td>79.0</td>\n",
       "      <td>78.0</td>\n",
       "      <td>0</td>\n",
       "    </tr>\n",
       "    <tr>\n",
       "      <th>8</th>\n",
       "      <td>1</td>\n",
       "      <td>52</td>\n",
       "      <td>0</td>\n",
       "      <td>0.0</td>\n",
       "      <td>0.0</td>\n",
       "      <td>0</td>\n",
       "      <td>1</td>\n",
       "      <td>0</td>\n",
       "      <td>260.0</td>\n",
       "      <td>141.5</td>\n",
       "      <td>89.0</td>\n",
       "      <td>26.36</td>\n",
       "      <td>76.0</td>\n",
       "      <td>79.0</td>\n",
       "      <td>0</td>\n",
       "    </tr>\n",
       "    <tr>\n",
       "      <th>9</th>\n",
       "      <td>1</td>\n",
       "      <td>43</td>\n",
       "      <td>1</td>\n",
       "      <td>30.0</td>\n",
       "      <td>0.0</td>\n",
       "      <td>0</td>\n",
       "      <td>1</td>\n",
       "      <td>0</td>\n",
       "      <td>225.0</td>\n",
       "      <td>162.0</td>\n",
       "      <td>107.0</td>\n",
       "      <td>23.61</td>\n",
       "      <td>93.0</td>\n",
       "      <td>88.0</td>\n",
       "      <td>0</td>\n",
       "    </tr>\n",
       "  </tbody>\n",
       "</table>\n",
       "</div>"
      ],
      "text/plain": [
       "   male  age  currentSmoker  cigsPerDay  BPMeds  prevalentStroke  \\\n",
       "0     1   39              0         0.0     0.0                0   \n",
       "1     0   46              0         0.0     0.0                0   \n",
       "2     1   48              1        20.0     0.0                0   \n",
       "3     0   61              1        30.0     0.0                0   \n",
       "4     0   46              1        23.0     0.0                0   \n",
       "5     0   43              0         0.0     0.0                0   \n",
       "6     0   63              0         0.0     0.0                0   \n",
       "7     0   45              1        20.0     0.0                0   \n",
       "8     1   52              0         0.0     0.0                0   \n",
       "9     1   43              1        30.0     0.0                0   \n",
       "\n",
       "   prevalentHyp  diabetes  totChol  sysBP  diaBP    BMI  heartRate  glucose  \\\n",
       "0             0         0    195.0  106.0   70.0  26.97       80.0     77.0   \n",
       "1             0         0    250.0  121.0   81.0  28.73       95.0     76.0   \n",
       "2             0         0    245.0  127.5   80.0  25.34       75.0     70.0   \n",
       "3             1         0    225.0  150.0   95.0  28.58       65.0    103.0   \n",
       "4             0         0    285.0  130.0   84.0  23.10       85.0     85.0   \n",
       "5             1         0    228.0  180.0  110.0  30.30       77.0     99.0   \n",
       "6             0         0    205.0  138.0   71.0  33.11       60.0     85.0   \n",
       "7             0         0    313.0  100.0   71.0  21.68       79.0     78.0   \n",
       "8             1         0    260.0  141.5   89.0  26.36       76.0     79.0   \n",
       "9             1         0    225.0  162.0  107.0  23.61       93.0     88.0   \n",
       "\n",
       "   TenYearCHD  \n",
       "0           0  \n",
       "1           0  \n",
       "2           0  \n",
       "3           1  \n",
       "4           0  \n",
       "5           0  \n",
       "6           1  \n",
       "7           0  \n",
       "8           0  \n",
       "9           0  "
      ]
     },
     "execution_count": 3,
     "metadata": {},
     "output_type": "execute_result"
    }
   ],
   "source": [
    "data.head(10)"
   ]
  },
  {
   "cell_type": "code",
   "execution_count": 4,
   "id": "1a970e71",
   "metadata": {},
   "outputs": [
    {
     "data": {
      "text/plain": [
       "male                 int64\n",
       "age                  int64\n",
       "currentSmoker        int64\n",
       "cigsPerDay         float64\n",
       "BPMeds             float64\n",
       "prevalentStroke      int64\n",
       "prevalentHyp         int64\n",
       "diabetes             int64\n",
       "totChol            float64\n",
       "sysBP              float64\n",
       "diaBP              float64\n",
       "BMI                float64\n",
       "heartRate          float64\n",
       "glucose            float64\n",
       "TenYearCHD           int64\n",
       "dtype: object"
      ]
     },
     "execution_count": 4,
     "metadata": {},
     "output_type": "execute_result"
    }
   ],
   "source": [
    "data.dtypes"
   ]
  },
  {
   "cell_type": "code",
   "execution_count": 5,
   "id": "01330636",
   "metadata": {},
   "outputs": [
    {
     "data": {
      "text/plain": [
       "<AxesSubplot:ylabel='Frequency'>"
      ]
     },
     "execution_count": 5,
     "metadata": {},
     "output_type": "execute_result"
    },
    {
     "data": {
      "image/png": "[encoded data removed]",
      "text/plain": [
       "<Figure size 432x288 with 1 Axes>"
      ]
     },
     "metadata": {
      "needs_background": "light"
     },
     "output_type": "display_data"
    }
   ],
   "source": [
    "data.TenYearCHD.plot(kind='hist' , grid = False)"
   ]
  },
  {
   "cell_type": "code",
   "execution_count": 6,
   "id": "3175d609",
   "metadata": {},
   "outputs": [
    {
     "name": "stderr",
     "output_type": "stream",
     "text": [
      "D:\\Anaconda\\lib\\site-packages\\seaborn\\_decorators.py:36: FutureWarning: Pass the following variable as a keyword arg: x. From version 0.12, the only valid positional argument will be `data`, and passing other arguments without an explicit keyword will result in an error or misinterpretation.\n",
      "  warnings.warn(\n"
     ]
    },
    {
     "data": {
      "image/png": "[encoded data removed]",
      "text/plain": [
       "<Figure size 432x288 with 1 Axes>"
      ]
     },
     "metadata": {
      "needs_background": "light"
     },
     "output_type": "display_data"
    }
   ],
   "source": [
    "sns.countplot(data.age)\n",
    "plt.show()"
   ]
  },
  {
   "cell_type": "code",
   "execution_count": 7,
   "id": "448e671e",
   "metadata": {},
   "outputs": [
    {
     "data": {
      "text/plain": [
       "<AxesSubplot:ylabel='age'>"
      ]
     },
     "execution_count": 7,
     "metadata": {},
     "output_type": "execute_result"
    },
    {
     "data": {
      "image/png": "[encoded data removed]",
      "text/plain": [
       "<Figure size 432x288 with 1 Axes>"
      ]
     },
     "metadata": {},
     "output_type": "display_data"
    }
   ],
   "source": [
    "data.groupby('male').age.count().plot(kind='pie')"
   ]
  },
  {
   "cell_type": "code",
   "execution_count": 9,
   "id": "13eca8b1",
   "metadata": {},
   "outputs": [
    {
     "name": "stderr",
     "output_type": "stream",
     "text": [
      "D:\\Anaconda\\lib\\site-packages\\seaborn\\_decorators.py:36: FutureWarning: Pass the following variable as a keyword arg: x. From version 0.12, the only valid positional argument will be `data`, and passing other arguments without an explicit keyword will result in an error or misinterpretation.\n",
      "  warnings.warn(\n"
     ]
    },
    {
     "data": {
      "text/plain": [
       "<AxesSubplot:xlabel='TenYearCHD', ylabel='count'>"
      ]
     },
     "execution_count": 9,
     "metadata": {},
     "output_type": "execute_result"
    },
    {
     "data": {
      "image/png": "[encoded data removed]",
      "text/plain": [
       "<Figure size 432x288 with 1 Axes>"
      ]
     },
     "metadata": {
      "needs_background": "light"
     },
     "output_type": "display_data"
    }
   ],
   "source": [
    "sns.countplot(data.TenYearCHD)"
   ]
  },
  {
   "cell_type": "code",
   "execution_count": 10,
   "id": "13252951",
   "metadata": {},
   "outputs": [
    {
     "data": {
      "text/plain": [
       "<AxesSubplot:ylabel='male'>"
      ]
     },
     "execution_count": 10,
     "metadata": {},
     "output_type": "execute_result"
    },
    {
     "data": {
      "image/png": "[encoded data removed]",
      "text/plain": [
       "<Figure size 432x288 with 1 Axes>"
      ]
     },
     "metadata": {
      "needs_background": "light"
     },
     "output_type": "display_data"
    }
   ],
   "source": [
    "data.groupby('male').TenYearCHD.count().plot(kind='barh')"
   ]
  },
  {
   "cell_type": "code",
   "execution_count": 12,
   "id": "a28d43e3",
   "metadata": {},
   "outputs": [
    {
     "data": {
      "text/plain": [
       "<AxesSubplot:>"
      ]
     },
     "execution_count": 12,
     "metadata": {},
     "output_type": "execute_result"
    },
    {
     "data": {
      "image/png": "[encoded data removed]",
      "text/plain": [
       "<Figure size 432x288 with 2 Axes>"
      ]
     },
     "metadata": {
      "needs_background": "light"
     },
     "output_type": "display_data"
    }
   ],
   "source": [
    "sns.heatmap(data.corr(),annot=False)"
   ]
  },
  {
   "cell_type": "code",
   "execution_count": 13,
   "id": "d4b4f78c",
   "metadata": {},
   "outputs": [
    {
     "data": {
      "text/plain": [
       "<AxesSubplot:xlabel='age'>"
      ]
     },
     "execution_count": 13,
     "metadata": {},
     "output_type": "execute_result"
    },
    {
     "data": {
      "image/png": "[encoded data removed]",
      "text/plain": [
       "<Figure size 432x288 with 1 Axes>"
      ]
     },
     "metadata": {
      "needs_background": "light"
     },
     "output_type": "display_data"
    }
   ],
   "source": [
    "data.groupby('age').BMI.sum().plot(kind='line')"
   ]
  },
  {
   "cell_type": "code",
   "execution_count": 14,
   "id": "f3565592",
   "metadata": {},
   "outputs": [
    {
     "data": {
      "text/plain": [
       "<AxesSubplot:xlabel='age'>"
      ]
     },
     "execution_count": 14,
     "metadata": {},
     "output_type": "execute_result"
    },
    {
     "data": {
      "image/png": "[encoded data removed]",
      "text/plain": [
       "<Figure size 432x288 with 1 Axes>"
      ]
     },
     "metadata": {
      "needs_background": "light"
     },
     "output_type": "display_data"
    }
   ],
   "source": [
    "data.groupby('age').BMI.sum().plot(kind='area')"
   ]
  },
  {
   "cell_type": "markdown",
   "id": "966f528e",
   "metadata": {},
   "source": [
    "# Step 2.2: Understand Data"
   ]
  },
  {
   "cell_type": "code",
   "execution_count": 5,
   "id": "7a57a680",
   "metadata": {},
   "outputs": [
    {
     "name": "stdout",
     "output_type": "stream",
     "text": [
      "Train Dataset:\n",
      "index  male  age  currentSmoker  cigsPerDay  BPMeds  prevalentStroke  \\\n",
      "0         1   39              0         0.0     0.0                0   \n",
      "1         0   46              0         0.0     0.0                0   \n",
      "2         1   48              1        20.0     0.0                0   \n",
      "3         0   61              1        30.0     0.0                0   \n",
      "4         0   46              1        23.0     0.0                0   \n",
      "...     ...  ...            ...         ...     ...              ...   \n",
      "4147      1   50              1         1.0     0.0                0   \n",
      "4148      1   51              1        43.0     0.0                0   \n",
      "4149      0   48              1        20.0     NaN                0   \n",
      "4150      0   44              1        15.0     0.0                0   \n",
      "4151      0   52              0         0.0     0.0                0   \n",
      "\n",
      "index  prevalentHyp  diabetes  totChol  sysBP  diaBP    BMI  heartRate  \\\n",
      "0                 0         0    195.0  106.0   70.0  26.97       80.0   \n",
      "1                 0         0    250.0  121.0   81.0  28.73       95.0   \n",
      "2                 0         0    245.0  127.5   80.0  25.34       75.0   \n",
      "3                 1         0    225.0  150.0   95.0  28.58       65.0   \n",
      "4                 0         0    285.0  130.0   84.0  23.10       85.0   \n",
      "...             ...       ...      ...    ...    ...    ...        ...   \n",
      "4147              1         0    313.0  179.0   92.0  25.97       66.0   \n",
      "4148              0         0    207.0  126.5   80.0  19.71       65.0   \n",
      "4149              0         0    248.0  131.0   72.0  22.00       84.0   \n",
      "4150              0         0    210.0  126.5   87.0  19.16       86.0   \n",
      "4151              0         0    269.0  133.5   83.0  21.47       80.0   \n",
      "\n",
      "index  glucose  TenYearCHD  \n",
      "0         77.0           0  \n",
      "1         76.0           0  \n",
      "2         70.0           0  \n",
      "3        103.0           1  \n",
      "4         85.0           0  \n",
      "...        ...         ...  \n",
      "4147      86.0           1  \n",
      "4148      68.0           0  \n",
      "4149      86.0           0  \n",
      "4150       NaN           0  \n",
      "4151     107.0           0  \n",
      "\n",
      "[4152 rows x 15 columns]\n"
     ]
    }
   ],
   "source": [
    "data.columns.name=\"index\"\n",
    "print(\"Train Dataset:\")\n",
    "print(data)"
   ]
  },
  {
   "cell_type": "code",
   "execution_count": 6,
   "id": "4121a9ea",
   "metadata": {},
   "outputs": [
    {
     "name": "stdout",
     "output_type": "stream",
     "text": [
      "Train Data Set Columns:\n",
      "Index(['male', 'age', 'currentSmoker', 'cigsPerDay', 'BPMeds',\n",
      "       'prevalentStroke', 'prevalentHyp', 'diabetes', 'totChol', 'sysBP',\n",
      "       'diaBP', 'BMI', 'heartRate', 'glucose', 'TenYearCHD'],\n",
      "      dtype='object', name='index')\n",
      "\n",
      "\n",
      "Number of instances in Train Dataset\n",
      "Train Instances: 4152\n"
     ]
    }
   ],
   "source": [
    "print(\"Train Data Set Columns:\")\n",
    "trainDatadf=pd.DataFrame(data)\n",
    "trainDataIndex=trainDatadf.columns\n",
    "print(trainDataIndex)\n",
    "\n",
    "print(\"\\n\")\n",
    "print(\"Number of instances in Train Dataset\")\n",
    "print(\"Train Instances: %s\"% (len(trainDatadf.index)))"
   ]
  },
  {
   "cell_type": "code",
   "execution_count": 7,
   "id": "1ec3be6a",
   "metadata": {},
   "outputs": [
    {
     "data": {
      "text/plain": [
       "Index(['male', 'age', 'currentSmoker', 'cigsPerDay', 'BPMeds',\n",
       "       'prevalentStroke', 'prevalentHyp', 'diabetes', 'totChol', 'sysBP',\n",
       "       'diaBP', 'BMI', 'heartRate', 'glucose', 'TenYearCHD'],\n",
       "      dtype='object', name='index')"
      ]
     },
     "execution_count": 7,
     "metadata": {},
     "output_type": "execute_result"
    }
   ],
   "source": [
    "trainDataIndex"
   ]
  },
  {
   "cell_type": "code",
   "execution_count": 8,
   "id": "a962f40e",
   "metadata": {},
   "outputs": [
    {
     "data": {
      "text/html": [
       "<div>\n",
       "<style scoped>\n",
       "    .dataframe tbody tr th:only-of-type {\n",
       "        vertical-align: middle;\n",
       "    }\n",
       "\n",
       "    .dataframe tbody tr th {\n",
       "        vertical-align: top;\n",
       "    }\n",
       "\n",
       "    .dataframe thead th {\n",
       "        text-align: right;\n",
       "    }\n",
       "</style>\n",
       "<table border=\"1\" class=\"dataframe\">\n",
       "  <thead>\n",
       "    <tr style=\"text-align: right;\">\n",
       "      <th>index</th>\n",
       "      <th>male</th>\n",
       "      <th>age</th>\n",
       "      <th>currentSmoker</th>\n",
       "      <th>cigsPerDay</th>\n",
       "      <th>BPMeds</th>\n",
       "      <th>prevalentStroke</th>\n",
       "      <th>prevalentHyp</th>\n",
       "      <th>diabetes</th>\n",
       "      <th>totChol</th>\n",
       "      <th>sysBP</th>\n",
       "      <th>diaBP</th>\n",
       "      <th>BMI</th>\n",
       "      <th>heartRate</th>\n",
       "      <th>glucose</th>\n",
       "      <th>TenYearCHD</th>\n",
       "    </tr>\n",
       "  </thead>\n",
       "  <tbody>\n",
       "    <tr>\n",
       "      <th>0</th>\n",
       "      <td>1</td>\n",
       "      <td>39</td>\n",
       "      <td>0</td>\n",
       "      <td>0.0</td>\n",
       "      <td>0.0</td>\n",
       "      <td>0</td>\n",
       "      <td>0</td>\n",
       "      <td>0</td>\n",
       "      <td>195.0</td>\n",
       "      <td>106.0</td>\n",
       "      <td>70.0</td>\n",
       "      <td>26.97</td>\n",
       "      <td>80.0</td>\n",
       "      <td>77.0</td>\n",
       "      <td>0</td>\n",
       "    </tr>\n",
       "    <tr>\n",
       "      <th>1</th>\n",
       "      <td>0</td>\n",
       "      <td>46</td>\n",
       "      <td>0</td>\n",
       "      <td>0.0</td>\n",
       "      <td>0.0</td>\n",
       "      <td>0</td>\n",
       "      <td>0</td>\n",
       "      <td>0</td>\n",
       "      <td>250.0</td>\n",
       "      <td>121.0</td>\n",
       "      <td>81.0</td>\n",
       "      <td>28.73</td>\n",
       "      <td>95.0</td>\n",
       "      <td>76.0</td>\n",
       "      <td>0</td>\n",
       "    </tr>\n",
       "    <tr>\n",
       "      <th>2</th>\n",
       "      <td>1</td>\n",
       "      <td>48</td>\n",
       "      <td>1</td>\n",
       "      <td>20.0</td>\n",
       "      <td>0.0</td>\n",
       "      <td>0</td>\n",
       "      <td>0</td>\n",
       "      <td>0</td>\n",
       "      <td>245.0</td>\n",
       "      <td>127.5</td>\n",
       "      <td>80.0</td>\n",
       "      <td>25.34</td>\n",
       "      <td>75.0</td>\n",
       "      <td>70.0</td>\n",
       "      <td>0</td>\n",
       "    </tr>\n",
       "    <tr>\n",
       "      <th>3</th>\n",
       "      <td>0</td>\n",
       "      <td>61</td>\n",
       "      <td>1</td>\n",
       "      <td>30.0</td>\n",
       "      <td>0.0</td>\n",
       "      <td>0</td>\n",
       "      <td>1</td>\n",
       "      <td>0</td>\n",
       "      <td>225.0</td>\n",
       "      <td>150.0</td>\n",
       "      <td>95.0</td>\n",
       "      <td>28.58</td>\n",
       "      <td>65.0</td>\n",
       "      <td>103.0</td>\n",
       "      <td>1</td>\n",
       "    </tr>\n",
       "    <tr>\n",
       "      <th>4</th>\n",
       "      <td>0</td>\n",
       "      <td>46</td>\n",
       "      <td>1</td>\n",
       "      <td>23.0</td>\n",
       "      <td>0.0</td>\n",
       "      <td>0</td>\n",
       "      <td>0</td>\n",
       "      <td>0</td>\n",
       "      <td>285.0</td>\n",
       "      <td>130.0</td>\n",
       "      <td>84.0</td>\n",
       "      <td>23.10</td>\n",
       "      <td>85.0</td>\n",
       "      <td>85.0</td>\n",
       "      <td>0</td>\n",
       "    </tr>\n",
       "    <tr>\n",
       "      <th>...</th>\n",
       "      <td>...</td>\n",
       "      <td>...</td>\n",
       "      <td>...</td>\n",
       "      <td>...</td>\n",
       "      <td>...</td>\n",
       "      <td>...</td>\n",
       "      <td>...</td>\n",
       "      <td>...</td>\n",
       "      <td>...</td>\n",
       "      <td>...</td>\n",
       "      <td>...</td>\n",
       "      <td>...</td>\n",
       "      <td>...</td>\n",
       "      <td>...</td>\n",
       "      <td>...</td>\n",
       "    </tr>\n",
       "    <tr>\n",
       "      <th>4147</th>\n",
       "      <td>1</td>\n",
       "      <td>50</td>\n",
       "      <td>1</td>\n",
       "      <td>1.0</td>\n",
       "      <td>0.0</td>\n",
       "      <td>0</td>\n",
       "      <td>1</td>\n",
       "      <td>0</td>\n",
       "      <td>313.0</td>\n",
       "      <td>179.0</td>\n",
       "      <td>92.0</td>\n",
       "      <td>25.97</td>\n",
       "      <td>66.0</td>\n",
       "      <td>86.0</td>\n",
       "      <td>1</td>\n",
       "    </tr>\n",
       "    <tr>\n",
       "      <th>4148</th>\n",
       "      <td>1</td>\n",
       "      <td>51</td>\n",
       "      <td>1</td>\n",
       "      <td>43.0</td>\n",
       "      <td>0.0</td>\n",
       "      <td>0</td>\n",
       "      <td>0</td>\n",
       "      <td>0</td>\n",
       "      <td>207.0</td>\n",
       "      <td>126.5</td>\n",
       "      <td>80.0</td>\n",
       "      <td>19.71</td>\n",
       "      <td>65.0</td>\n",
       "      <td>68.0</td>\n",
       "      <td>0</td>\n",
       "    </tr>\n",
       "    <tr>\n",
       "      <th>4149</th>\n",
       "      <td>0</td>\n",
       "      <td>48</td>\n",
       "      <td>1</td>\n",
       "      <td>20.0</td>\n",
       "      <td>NaN</td>\n",
       "      <td>0</td>\n",
       "      <td>0</td>\n",
       "      <td>0</td>\n",
       "      <td>248.0</td>\n",
       "      <td>131.0</td>\n",
       "      <td>72.0</td>\n",
       "      <td>22.00</td>\n",
       "      <td>84.0</td>\n",
       "      <td>86.0</td>\n",
       "      <td>0</td>\n",
       "    </tr>\n",
       "    <tr>\n",
       "      <th>4150</th>\n",
       "      <td>0</td>\n",
       "      <td>44</td>\n",
       "      <td>1</td>\n",
       "      <td>15.0</td>\n",
       "      <td>0.0</td>\n",
       "      <td>0</td>\n",
       "      <td>0</td>\n",
       "      <td>0</td>\n",
       "      <td>210.0</td>\n",
       "      <td>126.5</td>\n",
       "      <td>87.0</td>\n",
       "      <td>19.16</td>\n",
       "      <td>86.0</td>\n",
       "      <td>NaN</td>\n",
       "      <td>0</td>\n",
       "    </tr>\n",
       "    <tr>\n",
       "      <th>4151</th>\n",
       "      <td>0</td>\n",
       "      <td>52</td>\n",
       "      <td>0</td>\n",
       "      <td>0.0</td>\n",
       "      <td>0.0</td>\n",
       "      <td>0</td>\n",
       "      <td>0</td>\n",
       "      <td>0</td>\n",
       "      <td>269.0</td>\n",
       "      <td>133.5</td>\n",
       "      <td>83.0</td>\n",
       "      <td>21.47</td>\n",
       "      <td>80.0</td>\n",
       "      <td>107.0</td>\n",
       "      <td>0</td>\n",
       "    </tr>\n",
       "  </tbody>\n",
       "</table>\n",
       "<p>4152 rows × 15 columns</p>\n",
       "</div>"
      ],
      "text/plain": [
       "index  male  age  currentSmoker  cigsPerDay  BPMeds  prevalentStroke  \\\n",
       "0         1   39              0         0.0     0.0                0   \n",
       "1         0   46              0         0.0     0.0                0   \n",
       "2         1   48              1        20.0     0.0                0   \n",
       "3         0   61              1        30.0     0.0                0   \n",
       "4         0   46              1        23.0     0.0                0   \n",
       "...     ...  ...            ...         ...     ...              ...   \n",
       "4147      1   50              1         1.0     0.0                0   \n",
       "4148      1   51              1        43.0     0.0                0   \n",
       "4149      0   48              1        20.0     NaN                0   \n",
       "4150      0   44              1        15.0     0.0                0   \n",
       "4151      0   52              0         0.0     0.0                0   \n",
       "\n",
       "index  prevalentHyp  diabetes  totChol  sysBP  diaBP    BMI  heartRate  \\\n",
       "0                 0         0    195.0  106.0   70.0  26.97       80.0   \n",
       "1                 0         0    250.0  121.0   81.0  28.73       95.0   \n",
       "2                 0         0    245.0  127.5   80.0  25.34       75.0   \n",
       "3                 1         0    225.0  150.0   95.0  28.58       65.0   \n",
       "4                 0         0    285.0  130.0   84.0  23.10       85.0   \n",
       "...             ...       ...      ...    ...    ...    ...        ...   \n",
       "4147              1         0    313.0  179.0   92.0  25.97       66.0   \n",
       "4148              0         0    207.0  126.5   80.0  19.71       65.0   \n",
       "4149              0         0    248.0  131.0   72.0  22.00       84.0   \n",
       "4150              0         0    210.0  126.5   87.0  19.16       86.0   \n",
       "4151              0         0    269.0  133.5   83.0  21.47       80.0   \n",
       "\n",
       "index  glucose  TenYearCHD  \n",
       "0         77.0           0  \n",
       "1         76.0           0  \n",
       "2         70.0           0  \n",
       "3        103.0           1  \n",
       "4         85.0           0  \n",
       "...        ...         ...  \n",
       "4147      86.0           1  \n",
       "4148      68.0           0  \n",
       "4149      86.0           0  \n",
       "4150       NaN           0  \n",
       "4151     107.0           0  \n",
       "\n",
       "[4152 rows x 15 columns]"
      ]
     },
     "execution_count": 8,
     "metadata": {},
     "output_type": "execute_result"
    }
   ],
   "source": [
    "trainDatadf"
   ]
  },
  {
   "cell_type": "code",
   "execution_count": 9,
   "id": "f1a9011a",
   "metadata": {},
   "outputs": [
    {
     "data": {
      "text/html": [
       "<div>\n",
       "<style scoped>\n",
       "    .dataframe tbody tr th:only-of-type {\n",
       "        vertical-align: middle;\n",
       "    }\n",
       "\n",
       "    .dataframe tbody tr th {\n",
       "        vertical-align: top;\n",
       "    }\n",
       "\n",
       "    .dataframe thead th {\n",
       "        text-align: right;\n",
       "    }\n",
       "</style>\n",
       "<table border=\"1\" class=\"dataframe\">\n",
       "  <thead>\n",
       "    <tr style=\"text-align: right;\">\n",
       "      <th>index</th>\n",
       "      <th>male</th>\n",
       "      <th>age</th>\n",
       "      <th>currentSmoker</th>\n",
       "      <th>cigsPerDay</th>\n",
       "      <th>BPMeds</th>\n",
       "      <th>prevalentStroke</th>\n",
       "      <th>prevalentHyp</th>\n",
       "      <th>diabetes</th>\n",
       "      <th>totChol</th>\n",
       "      <th>sysBP</th>\n",
       "      <th>diaBP</th>\n",
       "      <th>BMI</th>\n",
       "      <th>heartRate</th>\n",
       "      <th>glucose</th>\n",
       "      <th>TenYearCHD</th>\n",
       "    </tr>\n",
       "  </thead>\n",
       "  <tbody>\n",
       "    <tr>\n",
       "      <th>count</th>\n",
       "      <td>4152.000000</td>\n",
       "      <td>4152.000000</td>\n",
       "      <td>4152.000000</td>\n",
       "      <td>4123.000000</td>\n",
       "      <td>4101.000000</td>\n",
       "      <td>4152.000000</td>\n",
       "      <td>4152.000000</td>\n",
       "      <td>4152.000000</td>\n",
       "      <td>4103.000000</td>\n",
       "      <td>4152.000000</td>\n",
       "      <td>4152.000000</td>\n",
       "      <td>4133.000000</td>\n",
       "      <td>4151.000000</td>\n",
       "      <td>3768.000000</td>\n",
       "      <td>4152.000000</td>\n",
       "    </tr>\n",
       "    <tr>\n",
       "      <th>mean</th>\n",
       "      <td>0.427746</td>\n",
       "      <td>49.597303</td>\n",
       "      <td>0.495424</td>\n",
       "      <td>9.016493</td>\n",
       "      <td>0.029505</td>\n",
       "      <td>0.006021</td>\n",
       "      <td>0.311657</td>\n",
       "      <td>0.025530</td>\n",
       "      <td>236.859371</td>\n",
       "      <td>132.424374</td>\n",
       "      <td>82.915703</td>\n",
       "      <td>25.803760</td>\n",
       "      <td>75.917369</td>\n",
       "      <td>82.020966</td>\n",
       "      <td>0.155106</td>\n",
       "    </tr>\n",
       "    <tr>\n",
       "      <th>std</th>\n",
       "      <td>0.494811</td>\n",
       "      <td>8.582176</td>\n",
       "      <td>0.500039</td>\n",
       "      <td>11.934388</td>\n",
       "      <td>0.169238</td>\n",
       "      <td>0.077372</td>\n",
       "      <td>0.463226</td>\n",
       "      <td>0.157747</td>\n",
       "      <td>44.668954</td>\n",
       "      <td>22.063102</td>\n",
       "      <td>11.920569</td>\n",
       "      <td>4.080893</td>\n",
       "      <td>12.042221</td>\n",
       "      <td>24.104351</td>\n",
       "      <td>0.362049</td>\n",
       "    </tr>\n",
       "    <tr>\n",
       "      <th>min</th>\n",
       "      <td>0.000000</td>\n",
       "      <td>32.000000</td>\n",
       "      <td>0.000000</td>\n",
       "      <td>0.000000</td>\n",
       "      <td>0.000000</td>\n",
       "      <td>0.000000</td>\n",
       "      <td>0.000000</td>\n",
       "      <td>0.000000</td>\n",
       "      <td>107.000000</td>\n",
       "      <td>83.500000</td>\n",
       "      <td>48.000000</td>\n",
       "      <td>15.540000</td>\n",
       "      <td>44.000000</td>\n",
       "      <td>40.000000</td>\n",
       "      <td>0.000000</td>\n",
       "    </tr>\n",
       "    <tr>\n",
       "      <th>25%</th>\n",
       "      <td>0.000000</td>\n",
       "      <td>42.000000</td>\n",
       "      <td>0.000000</td>\n",
       "      <td>0.000000</td>\n",
       "      <td>0.000000</td>\n",
       "      <td>0.000000</td>\n",
       "      <td>0.000000</td>\n",
       "      <td>0.000000</td>\n",
       "      <td>206.000000</td>\n",
       "      <td>117.000000</td>\n",
       "      <td>75.000000</td>\n",
       "      <td>23.070000</td>\n",
       "      <td>68.000000</td>\n",
       "      <td>71.000000</td>\n",
       "      <td>0.000000</td>\n",
       "    </tr>\n",
       "    <tr>\n",
       "      <th>50%</th>\n",
       "      <td>0.000000</td>\n",
       "      <td>49.000000</td>\n",
       "      <td>0.000000</td>\n",
       "      <td>0.000000</td>\n",
       "      <td>0.000000</td>\n",
       "      <td>0.000000</td>\n",
       "      <td>0.000000</td>\n",
       "      <td>0.000000</td>\n",
       "      <td>234.000000</td>\n",
       "      <td>128.000000</td>\n",
       "      <td>82.000000</td>\n",
       "      <td>25.380000</td>\n",
       "      <td>75.000000</td>\n",
       "      <td>78.000000</td>\n",
       "      <td>0.000000</td>\n",
       "    </tr>\n",
       "    <tr>\n",
       "      <th>75%</th>\n",
       "      <td>1.000000</td>\n",
       "      <td>56.000000</td>\n",
       "      <td>1.000000</td>\n",
       "      <td>20.000000</td>\n",
       "      <td>0.000000</td>\n",
       "      <td>0.000000</td>\n",
       "      <td>1.000000</td>\n",
       "      <td>0.000000</td>\n",
       "      <td>263.000000</td>\n",
       "      <td>144.000000</td>\n",
       "      <td>90.000000</td>\n",
       "      <td>28.040000</td>\n",
       "      <td>83.000000</td>\n",
       "      <td>87.000000</td>\n",
       "      <td>0.000000</td>\n",
       "    </tr>\n",
       "    <tr>\n",
       "      <th>max</th>\n",
       "      <td>1.000000</td>\n",
       "      <td>70.000000</td>\n",
       "      <td>1.000000</td>\n",
       "      <td>70.000000</td>\n",
       "      <td>1.000000</td>\n",
       "      <td>1.000000</td>\n",
       "      <td>1.000000</td>\n",
       "      <td>1.000000</td>\n",
       "      <td>696.000000</td>\n",
       "      <td>295.000000</td>\n",
       "      <td>142.500000</td>\n",
       "      <td>56.800000</td>\n",
       "      <td>143.000000</td>\n",
       "      <td>394.000000</td>\n",
       "      <td>1.000000</td>\n",
       "    </tr>\n",
       "  </tbody>\n",
       "</table>\n",
       "</div>"
      ],
      "text/plain": [
       "index         male          age  currentSmoker   cigsPerDay       BPMeds  \\\n",
       "count  4152.000000  4152.000000    4152.000000  4123.000000  4101.000000   \n",
       "mean      0.427746    49.597303       0.495424     9.016493     0.029505   \n",
       "std       0.494811     8.582176       0.500039    11.934388     0.169238   \n",
       "min       0.000000    32.000000       0.000000     0.000000     0.000000   \n",
       "25%       0.000000    42.000000       0.000000     0.000000     0.000000   \n",
       "50%       0.000000    49.000000       0.000000     0.000000     0.000000   \n",
       "75%       1.000000    56.000000       1.000000    20.000000     0.000000   \n",
       "max       1.000000    70.000000       1.000000    70.000000     1.000000   \n",
       "\n",
       "index  prevalentStroke  prevalentHyp     diabetes      totChol        sysBP  \\\n",
       "count      4152.000000   4152.000000  4152.000000  4103.000000  4152.000000   \n",
       "mean          0.006021      0.311657     0.025530   236.859371   132.424374   \n",
       "std           0.077372      0.463226     0.157747    44.668954    22.063102   \n",
       "min           0.000000      0.000000     0.000000   107.000000    83.500000   \n",
       "25%           0.000000      0.000000     0.000000   206.000000   117.000000   \n",
       "50%           0.000000      0.000000     0.000000   234.000000   128.000000   \n",
       "75%           0.000000      1.000000     0.000000   263.000000   144.000000   \n",
       "max           1.000000      1.000000     1.000000   696.000000   295.000000   \n",
       "\n",
       "index        diaBP          BMI    heartRate      glucose   TenYearCHD  \n",
       "count  4152.000000  4133.000000  4151.000000  3768.000000  4152.000000  \n",
       "mean     82.915703    25.803760    75.917369    82.020966     0.155106  \n",
       "std      11.920569     4.080893    12.042221    24.104351     0.362049  \n",
       "min      48.000000    15.540000    44.000000    40.000000     0.000000  \n",
       "25%      75.000000    23.070000    68.000000    71.000000     0.000000  \n",
       "50%      82.000000    25.380000    75.000000    78.000000     0.000000  \n",
       "75%      90.000000    28.040000    83.000000    87.000000     0.000000  \n",
       "max     142.500000    56.800000   143.000000   394.000000     1.000000  "
      ]
     },
     "execution_count": 9,
     "metadata": {},
     "output_type": "execute_result"
    }
   ],
   "source": [
    "data.describe()"
   ]
  },
  {
   "cell_type": "code",
   "execution_count": 10,
   "id": "8c2f0621",
   "metadata": {},
   "outputs": [
    {
     "name": "stdout",
     "output_type": "stream",
     "text": [
      "<class 'pandas.core.frame.DataFrame'>\n",
      "RangeIndex: 4152 entries, 0 to 4151\n",
      "Data columns (total 15 columns):\n",
      " #   Column           Non-Null Count  Dtype  \n",
      "---  ------           --------------  -----  \n",
      " 0   male             4152 non-null   int64  \n",
      " 1   age              4152 non-null   int64  \n",
      " 2   currentSmoker    4152 non-null   int64  \n",
      " 3   cigsPerDay       4123 non-null   float64\n",
      " 4   BPMeds           4101 non-null   float64\n",
      " 5   prevalentStroke  4152 non-null   int64  \n",
      " 6   prevalentHyp     4152 non-null   int64  \n",
      " 7   diabetes         4152 non-null   int64  \n",
      " 8   totChol          4103 non-null   float64\n",
      " 9   sysBP            4152 non-null   float64\n",
      " 10  diaBP            4152 non-null   float64\n",
      " 11  BMI              4133 non-null   float64\n",
      " 12  heartRate        4151 non-null   float64\n",
      " 13  glucose          3768 non-null   float64\n",
      " 14  TenYearCHD       4152 non-null   int64  \n",
      "dtypes: float64(8), int64(7)\n",
      "memory usage: 486.7 KB\n"
     ]
    }
   ],
   "source": [
    "data.info()"
   ]
  },
  {
   "cell_type": "code",
   "execution_count": 11,
   "id": "f006c29b",
   "metadata": {},
   "outputs": [
    {
     "data": {
      "text/plain": [
       "0       False\n",
       "1       False\n",
       "2       False\n",
       "3       False\n",
       "4       False\n",
       "        ...  \n",
       "4147    False\n",
       "4148    False\n",
       "4149    False\n",
       "4150    False\n",
       "4151    False\n",
       "Length: 4152, dtype: bool"
      ]
     },
     "execution_count": 11,
     "metadata": {},
     "output_type": "execute_result"
    }
   ],
   "source": [
    "data.duplicated()"
   ]
  },
  {
   "cell_type": "code",
   "execution_count": 12,
   "id": "a5647dc9",
   "metadata": {},
   "outputs": [],
   "source": [
    "q=data.drop_duplicates()"
   ]
  },
  {
   "cell_type": "code",
   "execution_count": 14,
   "id": "e8540e00",
   "metadata": {},
   "outputs": [
    {
     "data": {
      "text/plain": [
       "<AxesSubplot:>"
      ]
     },
     "execution_count": 14,
     "metadata": {},
     "output_type": "execute_result"
    },
    {
     "data": {
      "image/png": "[encoded data removed]",
      "text/plain": [
       "<Figure size 432x288 with 1 Axes>"
      ]
     },
     "metadata": {
      "needs_background": "light"
     },
     "output_type": "display_data"
    }
   ],
   "source": [
    "data.male.hist()"
   ]
  },
  {
   "cell_type": "markdown",
   "id": "4dbbdc19",
   "metadata": {},
   "source": [
    "\n",
    "\n",
    "# pre process data\n"
   ]
  },
  {
   "cell_type": "code",
   "execution_count": 3,
   "id": "1cf384db",
   "metadata": {},
   "outputs": [
    {
     "name": "stdout",
     "output_type": "stream",
     "text": [
      "Train dataset before pre-processing:\n",
      "=========================================\n",
      "\n",
      "      male  age  currentSmoker  cigsPerDay  BPMeds  prevalentStroke  \\\n",
      "0        1   39              0         0.0     0.0                0   \n",
      "1        0   46              0         0.0     0.0                0   \n",
      "2        1   48              1        20.0     0.0                0   \n",
      "3        0   61              1        30.0     0.0                0   \n",
      "4        0   46              1        23.0     0.0                0   \n",
      "...    ...  ...            ...         ...     ...              ...   \n",
      "4147     1   50              1         1.0     0.0                0   \n",
      "4148     1   51              1        43.0     0.0                0   \n",
      "4149     0   48              1        20.0     NaN                0   \n",
      "4150     0   44              1        15.0     0.0                0   \n",
      "4151     0   52              0         0.0     0.0                0   \n",
      "\n",
      "      prevalentHyp  diabetes  totChol  sysBP  diaBP    BMI  heartRate  \\\n",
      "0                0         0    195.0  106.0   70.0  26.97       80.0   \n",
      "1                0         0    250.0  121.0   81.0  28.73       95.0   \n",
      "2                0         0    245.0  127.5   80.0  25.34       75.0   \n",
      "3                1         0    225.0  150.0   95.0  28.58       65.0   \n",
      "4                0         0    285.0  130.0   84.0  23.10       85.0   \n",
      "...            ...       ...      ...    ...    ...    ...        ...   \n",
      "4147             1         0    313.0  179.0   92.0  25.97       66.0   \n",
      "4148             0         0    207.0  126.5   80.0  19.71       65.0   \n",
      "4149             0         0    248.0  131.0   72.0  22.00       84.0   \n",
      "4150             0         0    210.0  126.5   87.0  19.16       86.0   \n",
      "4151             0         0    269.0  133.5   83.0  21.47       80.0   \n",
      "\n",
      "      glucose  TenYearCHD  \n",
      "0        77.0           0  \n",
      "1        76.0           0  \n",
      "2        70.0           0  \n",
      "3       103.0           1  \n",
      "4        85.0           0  \n",
      "...       ...         ...  \n",
      "4147     86.0           1  \n",
      "4148     68.0           0  \n",
      "4149     86.0           0  \n",
      "4150      NaN           0  \n",
      "4151    107.0           0  \n",
      "\n",
      "[4152 rows x 15 columns]\n",
      "\n",
      "\n",
      "\n",
      "Train dataset after pre-processing:\n",
      "=========================================\n",
      "\n",
      "      male  age  currentSmoker cigsPerDay BPMeds  prevalentStroke  \\\n",
      "0        1   39              0        0.0    0.0                0   \n",
      "1        0   46              0        0.0    0.0                0   \n",
      "2        1   48              1       20.0    0.0                0   \n",
      "3        0   61              1       30.0    0.0                0   \n",
      "4        0   46              1       23.0    0.0                0   \n",
      "...    ...  ...            ...        ...    ...              ...   \n",
      "4147     1   50              1        1.0    0.0                0   \n",
      "4148     1   51              1       43.0    0.0                0   \n",
      "4149     0   48              1       20.0      0                0   \n",
      "4150     0   44              1       15.0    0.0                0   \n",
      "4151     0   52              0        0.0    0.0                0   \n",
      "\n",
      "      prevalentHyp  diabetes totChol  sysBP  diaBP    BMI heartRate glucose  \\\n",
      "0                0         0   195.0  106.0   70.0  26.97      80.0    77.0   \n",
      "1                0         0   250.0  121.0   81.0  28.73      95.0    76.0   \n",
      "2                0         0   245.0  127.5   80.0  25.34      75.0    70.0   \n",
      "3                1         0   225.0  150.0   95.0  28.58      65.0   103.0   \n",
      "4                0         0   285.0  130.0   84.0   23.1      85.0    85.0   \n",
      "...            ...       ...     ...    ...    ...    ...       ...     ...   \n",
      "4147             1         0   313.0  179.0   92.0  25.97      66.0    86.0   \n",
      "4148             0         0   207.0  126.5   80.0  19.71      65.0    68.0   \n",
      "4149             0         0   248.0  131.0   72.0   22.0      84.0    86.0   \n",
      "4150             0         0   210.0  126.5   87.0  19.16      86.0       0   \n",
      "4151             0         0   269.0  133.5   83.0  21.47      80.0   107.0   \n",
      "\n",
      "      TenYearCHD  \n",
      "0              0  \n",
      "1              0  \n",
      "2              0  \n",
      "3              1  \n",
      "4              0  \n",
      "...          ...  \n",
      "4147           1  \n",
      "4148           0  \n",
      "4149           0  \n",
      "4150           0  \n",
      "4151           0  \n",
      "\n",
      "[4152 rows x 15 columns]\n"
     ]
    }
   ],
   "source": [
    "preprocessed_dataset = data.fillna('0')\n",
    "\n",
    "print(\"Train dataset before pre-processing:\")\n",
    "print(\"=========================================\\n\")\n",
    "print(data)\n",
    "\n",
    "print(\"\\n\\n\\nTrain dataset after pre-processing:\")\n",
    "print(\"=========================================\\n\")\n",
    "print(preprocessed_dataset)"
   ]
  },
  {
   "cell_type": "code",
   "execution_count": 4,
   "id": "7998e250",
   "metadata": {},
   "outputs": [
    {
     "data": {
      "text/html": [
       "<div>\n",
       "<style scoped>\n",
       "    .dataframe tbody tr th:only-of-type {\n",
       "        vertical-align: middle;\n",
       "    }\n",
       "\n",
       "    .dataframe tbody tr th {\n",
       "        vertical-align: top;\n",
       "    }\n",
       "\n",
       "    .dataframe thead th {\n",
       "        text-align: right;\n",
       "    }\n",
       "</style>\n",
       "<table border=\"1\" class=\"dataframe\">\n",
       "  <thead>\n",
       "    <tr style=\"text-align: right;\">\n",
       "      <th></th>\n",
       "      <th>male</th>\n",
       "      <th>age</th>\n",
       "      <th>currentSmoker</th>\n",
       "      <th>cigsPerDay</th>\n",
       "      <th>BPMeds</th>\n",
       "      <th>prevalentStroke</th>\n",
       "      <th>prevalentHyp</th>\n",
       "      <th>diabetes</th>\n",
       "      <th>totChol</th>\n",
       "      <th>sysBP</th>\n",
       "      <th>diaBP</th>\n",
       "      <th>BMI</th>\n",
       "      <th>heartRate</th>\n",
       "      <th>glucose</th>\n",
       "      <th>TenYearCHD</th>\n",
       "    </tr>\n",
       "  </thead>\n",
       "  <tbody>\n",
       "    <tr>\n",
       "      <th>0</th>\n",
       "      <td>1</td>\n",
       "      <td>39</td>\n",
       "      <td>0</td>\n",
       "      <td>0.0</td>\n",
       "      <td>0.0</td>\n",
       "      <td>0</td>\n",
       "      <td>0</td>\n",
       "      <td>0</td>\n",
       "      <td>195.0</td>\n",
       "      <td>106.0</td>\n",
       "      <td>70.0</td>\n",
       "      <td>26.97</td>\n",
       "      <td>80.0</td>\n",
       "      <td>77.0</td>\n",
       "      <td>0</td>\n",
       "    </tr>\n",
       "    <tr>\n",
       "      <th>1</th>\n",
       "      <td>0</td>\n",
       "      <td>46</td>\n",
       "      <td>0</td>\n",
       "      <td>0.0</td>\n",
       "      <td>0.0</td>\n",
       "      <td>0</td>\n",
       "      <td>0</td>\n",
       "      <td>0</td>\n",
       "      <td>250.0</td>\n",
       "      <td>121.0</td>\n",
       "      <td>81.0</td>\n",
       "      <td>28.73</td>\n",
       "      <td>95.0</td>\n",
       "      <td>76.0</td>\n",
       "      <td>0</td>\n",
       "    </tr>\n",
       "    <tr>\n",
       "      <th>2</th>\n",
       "      <td>1</td>\n",
       "      <td>48</td>\n",
       "      <td>1</td>\n",
       "      <td>20.0</td>\n",
       "      <td>0.0</td>\n",
       "      <td>0</td>\n",
       "      <td>0</td>\n",
       "      <td>0</td>\n",
       "      <td>245.0</td>\n",
       "      <td>127.5</td>\n",
       "      <td>80.0</td>\n",
       "      <td>25.34</td>\n",
       "      <td>75.0</td>\n",
       "      <td>70.0</td>\n",
       "      <td>0</td>\n",
       "    </tr>\n",
       "    <tr>\n",
       "      <th>3</th>\n",
       "      <td>0</td>\n",
       "      <td>61</td>\n",
       "      <td>1</td>\n",
       "      <td>30.0</td>\n",
       "      <td>0.0</td>\n",
       "      <td>0</td>\n",
       "      <td>1</td>\n",
       "      <td>0</td>\n",
       "      <td>225.0</td>\n",
       "      <td>150.0</td>\n",
       "      <td>95.0</td>\n",
       "      <td>28.58</td>\n",
       "      <td>65.0</td>\n",
       "      <td>103.0</td>\n",
       "      <td>1</td>\n",
       "    </tr>\n",
       "    <tr>\n",
       "      <th>4</th>\n",
       "      <td>0</td>\n",
       "      <td>46</td>\n",
       "      <td>1</td>\n",
       "      <td>23.0</td>\n",
       "      <td>0.0</td>\n",
       "      <td>0</td>\n",
       "      <td>0</td>\n",
       "      <td>0</td>\n",
       "      <td>285.0</td>\n",
       "      <td>130.0</td>\n",
       "      <td>84.0</td>\n",
       "      <td>23.1</td>\n",
       "      <td>85.0</td>\n",
       "      <td>85.0</td>\n",
       "      <td>0</td>\n",
       "    </tr>\n",
       "  </tbody>\n",
       "</table>\n",
       "</div>"
      ],
      "text/plain": [
       "   male  age  currentSmoker cigsPerDay BPMeds  prevalentStroke  prevalentHyp  \\\n",
       "0     1   39              0        0.0    0.0                0             0   \n",
       "1     0   46              0        0.0    0.0                0             0   \n",
       "2     1   48              1       20.0    0.0                0             0   \n",
       "3     0   61              1       30.0    0.0                0             1   \n",
       "4     0   46              1       23.0    0.0                0             0   \n",
       "\n",
       "   diabetes totChol  sysBP  diaBP    BMI heartRate glucose  TenYearCHD  \n",
       "0         0   195.0  106.0   70.0  26.97      80.0    77.0           0  \n",
       "1         0   250.0  121.0   81.0  28.73      95.0    76.0           0  \n",
       "2         0   245.0  127.5   80.0  25.34      75.0    70.0           0  \n",
       "3         0   225.0  150.0   95.0  28.58      65.0   103.0           1  \n",
       "4         0   285.0  130.0   84.0   23.1      85.0    85.0           0  "
      ]
     },
     "execution_count": 4,
     "metadata": {},
     "output_type": "execute_result"
    }
   ],
   "source": [
    "preprocessed_dataset.head()"
   ]
  },
  {
   "cell_type": "markdown",
   "id": "cc0b19bf",
   "metadata": {},
   "source": [
    "\n",
    "#   no need for Label Encoding for Train/Test Data"
   ]
  },
  {
   "cell_type": "markdown",
   "id": "882f257c",
   "metadata": {},
   "source": [
    "# Train ML Algorithms using Data"
   ]
  },
  {
   "cell_type": "code",
   "execution_count": 5,
   "id": "690afa54",
   "metadata": {},
   "outputs": [],
   "source": [
    "x=preprocessed_dataset.iloc[:, :-1].values\n",
    "y=preprocessed_dataset.iloc[:, -1:].values"
   ]
  },
  {
   "cell_type": "code",
   "execution_count": 6,
   "id": "bd2e1b4d",
   "metadata": {},
   "outputs": [],
   "source": [
    "x_train, x_test, y_train, y_test = train_test_split(x, y, test_size=0.2)"
   ]
  },
  {
   "cell_type": "markdown",
   "id": "d7256a0c",
   "metadata": {},
   "source": [
    "# Train ML Algorithms using Logistic Regression"
   ]
  },
  {
   "cell_type": "code",
   "execution_count": 7,
   "id": "196ee3a1",
   "metadata": {},
   "outputs": [
    {
     "name": "stderr",
     "output_type": "stream",
     "text": [
      "D:\\Anaconda\\lib\\site-packages\\sklearn\\utils\\validation.py:63: DataConversionWarning: A column-vector y was passed when a 1d array was expected. Please change the shape of y to (n_samples, ), for example using ravel().\n",
      "  return f(*args, **kwargs)\n",
      "D:\\Anaconda\\lib\\site-packages\\sklearn\\linear_model\\_logistic.py:763: ConvergenceWarning: lbfgs failed to converge (status=1):\n",
      "STOP: TOTAL NO. of ITERATIONS REACHED LIMIT.\n",
      "\n",
      "Increase the number of iterations (max_iter) or scale the data as shown in:\n",
      "    https://scikit-learn.org/stable/modules/preprocessing.html\n",
      "Please also refer to the documentation for alternative solver options:\n",
      "    https://scikit-learn.org/stable/modules/linear_model.html#logistic-regression\n",
      "  n_iter_i = _check_optimize_result(\n"
     ]
    },
    {
     "data": {
      "text/plain": [
       "0.851985559566787"
      ]
     },
     "execution_count": 7,
     "metadata": {},
     "output_type": "execute_result"
    }
   ],
   "source": [
    "logisticRegression=LogisticRegression()\n",
    "logisticRegression.fit(x_train,y_train)\n",
    "LR = logisticRegression.predict(x_test)\n",
    "accuracy_score(y_test, LR)"
   ]
  },
  {
   "cell_type": "markdown",
   "id": "b63af01f",
   "metadata": {},
   "source": [
    "## Evaluate ML Algorithms using Test Data"
   ]
  },
  {
   "cell_type": "code",
   "execution_count": 11,
   "id": "505e84cb",
   "metadata": {},
   "outputs": [
    {
     "name": "stdout",
     "output_type": "stream",
     "text": [
      "\n",
      " accuracy_score is: 0.851985559566787\n",
      "\n",
      " recall_score is: 0.04032258064516129\n",
      "\n",
      " precision_score is: 0.5555555555555556\n",
      "\n",
      " f1_score is: 0.07518796992481203\n"
     ]
    }
   ],
   "source": [
    " accuracy_score=accuracy_score(y_test, LR)\n",
    " print(\"\\n accuracy_score is: %s\"%accuracy_score)\n",
    " recall_score=recall_score(y_test, LR)\n",
    " print(\"\\n recall_score is: %s\"%recall_score)\n",
    " precision_score=precision_score(y_test, LR)\n",
    " print(\"\\n precision_score is: %s\"%precision_score)\n",
    " f1_score=f1_score(y_test, LR)\n",
    " print(\"\\n f1_score is: %s\"%f1_score)"
   ]
  },
  {
   "cell_type": "markdown",
   "id": "963cc852",
   "metadata": {},
   "source": [
    "# Train ML Algorithms using Random Forest Classifier"
   ]
  },
  {
   "cell_type": "code",
   "execution_count": 8,
   "id": "d9257e10",
   "metadata": {},
   "outputs": [
    {
     "name": "stderr",
     "output_type": "stream",
     "text": [
      "C:\\Users\\DELL\\AppData\\Local\\Temp/ipykernel_12624/3108075893.py:2: DataConversionWarning: A column-vector y was passed when a 1d array was expected. Please change the shape of y to (n_samples,), for example using ravel().\n",
      "  randomForest.fit(x_train,y_train)\n"
     ]
    },
    {
     "data": {
      "text/plain": [
       "0.855595667870036"
      ]
     },
     "execution_count": 8,
     "metadata": {},
     "output_type": "execute_result"
    }
   ],
   "source": [
    "randomForest=RandomForestClassifier()\n",
    "randomForest.fit(x_train,y_train)\n",
    "RF = randomForest.predict(x_test)\n",
    "accuracy_score(y_test, RF)"
   ]
  },
  {
   "cell_type": "markdown",
   "id": "72e07310",
   "metadata": {},
   "source": [
    "## Evaluate ML Algorithms using Test Data"
   ]
  },
  {
   "cell_type": "code",
   "execution_count": 12,
   "id": "c623801c",
   "metadata": {
    "scrolled": true
   },
   "outputs": [
    {
     "ename": "TypeError",
     "evalue": "'numpy.float64' object is not callable",
     "output_type": "error",
     "traceback": [
      "\u001b[1;31m---------------------------------------------------------------------------\u001b[0m",
      "\u001b[1;31mTypeError\u001b[0m                                 Traceback (most recent call last)",
      "\u001b[1;32m~\\AppData\\Local\\Temp/ipykernel_12624/2182770378.py\u001b[0m in \u001b[0;36m<module>\u001b[1;34m\u001b[0m\n\u001b[1;32m----> 1\u001b[1;33m \u001b[0maccuracy_score\u001b[0m\u001b[1;33m=\u001b[0m\u001b[0maccuracy_score\u001b[0m\u001b[1;33m(\u001b[0m\u001b[0my_test\u001b[0m\u001b[1;33m,\u001b[0m \u001b[0mRF\u001b[0m\u001b[1;33m)\u001b[0m\u001b[1;33m\u001b[0m\u001b[1;33m\u001b[0m\u001b[0m\n\u001b[0m\u001b[0;32m      2\u001b[0m \u001b[0mprint\u001b[0m\u001b[1;33m(\u001b[0m\u001b[1;34m\"\\n accuracy_score is: %s\"\u001b[0m\u001b[1;33m%\u001b[0m\u001b[0maccuracy_score\u001b[0m\u001b[1;33m)\u001b[0m\u001b[1;33m\u001b[0m\u001b[1;33m\u001b[0m\u001b[0m\n\u001b[0;32m      3\u001b[0m \u001b[0mrecall_score\u001b[0m\u001b[1;33m=\u001b[0m\u001b[0mrecall_score\u001b[0m\u001b[1;33m(\u001b[0m\u001b[0my_test\u001b[0m\u001b[1;33m,\u001b[0m \u001b[0mRF\u001b[0m\u001b[1;33m)\u001b[0m\u001b[1;33m\u001b[0m\u001b[1;33m\u001b[0m\u001b[0m\n\u001b[0;32m      4\u001b[0m \u001b[0mprint\u001b[0m\u001b[1;33m(\u001b[0m\u001b[1;34m\"\\n recall_score is: %s\"\u001b[0m\u001b[1;33m%\u001b[0m\u001b[0mrecall_score\u001b[0m\u001b[1;33m)\u001b[0m\u001b[1;33m\u001b[0m\u001b[1;33m\u001b[0m\u001b[0m\n\u001b[0;32m      5\u001b[0m \u001b[0mprecision_score\u001b[0m\u001b[1;33m=\u001b[0m\u001b[0mprecision_score\u001b[0m\u001b[1;33m(\u001b[0m\u001b[0my_test\u001b[0m\u001b[1;33m,\u001b[0m \u001b[0mRF\u001b[0m\u001b[1;33m)\u001b[0m\u001b[1;33m\u001b[0m\u001b[1;33m\u001b[0m\u001b[0m\n",
      "\u001b[1;31mTypeError\u001b[0m: 'numpy.float64' object is not callable"
     ]
    }
   ],
   "source": [
    " accuracy_score=accuracy_score(y_test, RF)\n",
    " print(\"\\n accuracy_score is: %s\"%accuracy_score)\n",
    " recall_score=recall_score(y_test, RF)\n",
    " print(\"\\n recall_score is: %s\"%recall_score)\n",
    " precision_score=precision_score(y_test, RF)\n",
    " print(\"\\n precision_score is: %s\"%precision_score)\n",
    " f1_score=f1_score(y_test, RF)\n",
    "print(\"\\n f1_score is: %s\"%f1_score)"
   ]
  },
  {
   "cell_type": "markdown",
   "id": "01d876f9",
   "metadata": {},
   "source": [
    "# Train ML Algorithms using linearSvc\n"
   ]
  },
  {
   "cell_type": "code",
   "execution_count": 9,
   "id": "8b67e508",
   "metadata": {},
   "outputs": [
    {
     "name": "stderr",
     "output_type": "stream",
     "text": [
      "D:\\Anaconda\\lib\\site-packages\\sklearn\\utils\\validation.py:63: DataConversionWarning: A column-vector y was passed when a 1d array was expected. Please change the shape of y to (n_samples, ), for example using ravel().\n",
      "  return f(*args, **kwargs)\n",
      "D:\\Anaconda\\lib\\site-packages\\sklearn\\svm\\_base.py:985: ConvergenceWarning: Liblinear failed to converge, increase the number of iterations.\n",
      "  warnings.warn(\"Liblinear failed to converge, increase \"\n"
     ]
    },
    {
     "data": {
      "text/plain": [
       "0.8495788206979543"
      ]
     },
     "execution_count": 9,
     "metadata": {},
     "output_type": "execute_result"
    }
   ],
   "source": [
    "linearSvc=LinearSVC()\n",
    "linearSvc.fit(x_train,y_train)\n",
    "LS = linearSvc.predict(x_test)\n",
    "accuracy_score(y_test, LS)"
   ]
  },
  {
   "cell_type": "markdown",
   "id": "c03de6a3",
   "metadata": {},
   "source": [
    " ## Evaluate ML Algorithms using Test Data"
   ]
  },
  {
   "cell_type": "code",
   "execution_count": null,
   "id": "de0856af",
   "metadata": {},
   "outputs": [],
   "source": [
    "# accuracy_score=accuracy_score(y_test, LS)\n",
    "# print(\"\\n accuracy_score is: %s\"%accuracy_score)\n",
    "# recall_score=recall_score(y_test, LS)\n",
    "# print(\"\\n recall_score is: %s\"%recall_score)\n",
    "# precision_score=precision_score(y_test, LS)\n",
    "# print(\"\\n precision_score is: %s\"%precision_score)\n",
    "# f1_score=f1_score(y_test, LS)\n",
    "# print(\"\\n f1_score is: %s\"%f1_score)"
   ]
  },
  {
   "cell_type": "markdown",
   "id": "5ea20aa1",
   "metadata": {},
   "source": [
    "# Train ML Algorithms using BernoulliNB\n"
   ]
  },
  {
   "cell_type": "code",
   "execution_count": 10,
   "id": "42384af1",
   "metadata": {},
   "outputs": [
    {
     "name": "stderr",
     "output_type": "stream",
     "text": [
      "D:\\Anaconda\\lib\\site-packages\\sklearn\\utils\\validation.py:63: DataConversionWarning: A column-vector y was passed when a 1d array was expected. Please change the shape of y to (n_samples, ), for example using ravel().\n",
      "  return f(*args, **kwargs)\n"
     ]
    },
    {
     "data": {
      "text/plain": [
       "0.8471720818291215"
      ]
     },
     "execution_count": 10,
     "metadata": {},
     "output_type": "execute_result"
    }
   ],
   "source": [
    "bernoulliNB=BernoulliNB()\n",
    "bernoulliNB.fit(x_train,y_train)\n",
    "NB = bernoulliNB.predict(x_test)\n",
    "accuracy_score(y_test, NB)"
   ]
  },
  {
   "cell_type": "markdown",
   "id": "f4db45e8",
   "metadata": {},
   "source": [
    "## Evaluate ML Algorithms using Test Data"
   ]
  },
  {
   "cell_type": "code",
   "execution_count": null,
   "id": "b388d0bb",
   "metadata": {},
   "outputs": [],
   "source": [
    "# accuracy_score=accuracy_score(y_test, NB)\n",
    "# print(\"\\n accuracy_score is: %s\"%accuracy_score)\n",
    "# recall_score=recall_score(y_test, NB)\n",
    "# print(\"\\n recall_score is: %s\"%recall_score)\n",
    "# precision_score=precision_score(y_test, NB)\n",
    "# print(\"\\n precision_score is: %s\"%precision_score)\n",
    "# f1_score=f1_score(y_test, NB)\n",
    "# print(\"\\n f1_score is: %s\"%f1_score)"
   ]
  },
  {
   "cell_type": "markdown",
   "id": "8e520a8e",
   "metadata": {},
   "source": [
    "# Save the Trained Model as Pickle File"
   ]
  },
  {
   "cell_type": "code",
   "execution_count": 11,
   "id": "36430a33",
   "metadata": {},
   "outputs": [],
   "source": [
    "filename='heart-mmodel.sav'\n",
    "pickle.dump(randomForest,open(filename,'wb'))"
   ]
  },
  {
   "cell_type": "markdown",
   "id": "bfd605aa",
   "metadata": {},
   "source": [
    "# Load the Trained Model\n"
   ]
  },
  {
   "cell_type": "code",
   "execution_count": 12,
   "id": "e84fee34",
   "metadata": {},
   "outputs": [],
   "source": [
    "loadBM=pickle.load(open(filename,'rb'))"
   ]
  },
  {
   "cell_type": "markdown",
   "id": "8a231cd0",
   "metadata": {},
   "source": [
    "# Take Input from User"
   ]
  },
  {
   "cell_type": "code",
   "execution_count": 12,
   "id": "188c62df",
   "metadata": {},
   "outputs": [
    {
     "name": "stdout",
     "output_type": "stream",
     "text": [
      "Please enter your gender:1\n",
      "Please enter your age here :58\n",
      "Please enter your education(1-4):1\n",
      "Are you currentSmoker (yes/no):0\n",
      "your cigsPerDay:0\n",
      "do you take BPMeds(yes/no):0\n",
      "ever have prevalentStroke (yes/no):0\n",
      "ever have prevalentHyp(yes/no):0\n",
      "ever have diabetes(yes/no):0\n",
      "total Cholestrol:233\n",
      "sys Blood Presure:125.5\n",
      "dia Blood Presure:84\n",
      "Please enter your bmi(20-50):26.05\n",
      "enter your heartRate):67\n",
      "enter your glucose):76\n"
     ]
    }
   ],
   "source": [
    "Gender=input(\"Please enter your gender:\")\n",
    "age=input(\"Please enter your age here :\")\n",
    "education=input(\"Please enter your education(1-4):\")\n",
    "currentSmoker=input(\"Are you currentSmoker (yes/no):\")\n",
    "cigsPerDay=input(\"your cigsPerDay:\")\n",
    "BPMeds=input(\"do you take BPMeds(yes/no):\")\n",
    "prevalentStroke=input(\"ever have prevalentStroke (yes/no):\")\n",
    "prevalentHyp=input(\"ever have prevalentHyp(yes/no):\")\n",
    "diabetes=input(\"ever have diabetes(yes/no):\")\n",
    "totChol=input(\"total Cholestrol:\")\n",
    "sysBP=input(\"sys Blood Presure:\")\n",
    "diaBP=input(\"dia Blood Presure:\")\n",
    "bmi=input(\"Please enter your bmi(20-50):\")\n",
    "heartRate=input(\"enter your heartRate):\")\n",
    "glucose=input(\"enter your glucose):\")"
   ]
  },
  {
   "cell_type": "markdown",
   "id": "e7a8fe27",
   "metadata": {},
   "source": [
    "# Convert User Input into Feature Vector\n"
   ]
  },
  {
   "cell_type": "code",
   "execution_count": 13,
   "id": "11591fb7",
   "metadata": {},
   "outputs": [
    {
     "name": "stdout",
     "output_type": "stream",
     "text": [
      "user input in actual DataFrame: \n",
      "\n",
      "  Gender Age Education CurrentSmoker CigsPerDay BP_Meds PrevalentStroke  \\\n",
      "0      1  58         1             0          0       0               0   \n",
      "\n",
      "  PrevalentHyp Diabetes total_Chol sys_BP dia_BP    Bmi HeartRate Glucose  \n",
      "0            0        0        233  125.5     84  26.05        67      76  \n"
     ]
    },
    {
     "data": {
      "text/html": [
       "<div>\n",
       "<style scoped>\n",
       "    .dataframe tbody tr th:only-of-type {\n",
       "        vertical-align: middle;\n",
       "    }\n",
       "\n",
       "    .dataframe tbody tr th {\n",
       "        vertical-align: top;\n",
       "    }\n",
       "\n",
       "    .dataframe thead th {\n",
       "        text-align: right;\n",
       "    }\n",
       "</style>\n",
       "<table border=\"1\" class=\"dataframe\">\n",
       "  <thead>\n",
       "    <tr style=\"text-align: right;\">\n",
       "      <th></th>\n",
       "      <th>Gender</th>\n",
       "      <th>Age</th>\n",
       "      <th>Education</th>\n",
       "      <th>CurrentSmoker</th>\n",
       "      <th>CigsPerDay</th>\n",
       "      <th>BP_Meds</th>\n",
       "      <th>PrevalentStroke</th>\n",
       "      <th>PrevalentHyp</th>\n",
       "      <th>Diabetes</th>\n",
       "      <th>total_Chol</th>\n",
       "      <th>sys_BP</th>\n",
       "      <th>dia_BP</th>\n",
       "      <th>Bmi</th>\n",
       "      <th>HeartRate</th>\n",
       "      <th>Glucose</th>\n",
       "    </tr>\n",
       "  </thead>\n",
       "  <tbody>\n",
       "    <tr>\n",
       "      <th>0</th>\n",
       "      <td>1</td>\n",
       "      <td>58</td>\n",
       "      <td>1</td>\n",
       "      <td>0</td>\n",
       "      <td>0</td>\n",
       "      <td>0</td>\n",
       "      <td>0</td>\n",
       "      <td>0</td>\n",
       "      <td>0</td>\n",
       "      <td>233</td>\n",
       "      <td>125.5</td>\n",
       "      <td>84</td>\n",
       "      <td>26.05</td>\n",
       "      <td>67</td>\n",
       "      <td>76</td>\n",
       "    </tr>\n",
       "  </tbody>\n",
       "</table>\n",
       "</div>"
      ],
      "text/plain": [
       "  Gender Age Education CurrentSmoker CigsPerDay BP_Meds PrevalentStroke  \\\n",
       "0      1  58         1             0          0       0               0   \n",
       "\n",
       "  PrevalentHyp Diabetes total_Chol sys_BP dia_BP    Bmi HeartRate Glucose  \n",
       "0            0        0        233  125.5     84  26.05        67      76  "
      ]
     },
     "execution_count": 13,
     "metadata": {},
     "output_type": "execute_result"
    }
   ],
   "source": [
    "print(\"user input in actual DataFrame: \\n\")\n",
    "newdf=pd.DataFrame({\"Gender\":Gender,\"Age\":age,\"Education\":education,\"CurrentSmoker\":currentSmoker,\"CigsPerDay\":cigsPerDay,\"BP_Meds\":BPMeds,\"PrevalentStroke\":prevalentStroke,\"PrevalentHyp\":prevalentHyp,\"Diabetes\":diabetes,\"total_Chol\":totChol,\"sys_BP\":sysBP,\"dia_BP\":diaBP,\"Bmi\":bmi,\"HeartRate\":heartRate,\"Glucose\":glucose},index=[0])\n",
    "print(newdf)\n",
    "newdf.head()"
   ]
  },
  {
   "cell_type": "code",
   "execution_count": 14,
   "id": "ac6f3a1d",
   "metadata": {},
   "outputs": [
    {
     "name": "stdout",
     "output_type": "stream",
     "text": [
      "User input in Encoded DataFrame: \n",
      "\n",
      "  Gender Age Education CurrentSmoker CigsPerDay BP_Meds PrevalentStroke  \\\n",
      "0      1  58         1             0          0       0               0   \n",
      "\n",
      "  PrevalentHyp Diabetes total_Chol sys_BP dia_BP    Bmi HeartRate Glucose  \n",
      "0            0        0        233  125.5     84  26.05        67      76  \n"
     ]
    }
   ],
   "source": [
    "print(\"User input in Encoded DataFrame: \\n\")\n",
    "\n",
    "if  Gender == \"male\" or Gender == \"Male\":\n",
    "    Gender=1\n",
    "elif  Gender==\"female\" or Gender==\"Female\":\n",
    "      Gender=0\n",
    "\n",
    "if  currentSmoker == \"no\" or currentSmoker == \"No\":\n",
    "    currentSmoker=0\n",
    "elif  currentSmoker==\"yes\" or currentSmoker==\"Yes\":\n",
    "      currentSmoker=1\n",
    "\n",
    "if  BPMeds == \"no\" or BPMeds == \"No\":\n",
    "    BPMeds=0\n",
    "elif  BPMeds==\"yes\" or BPMeds==\"Yes\":\n",
    "      BPMeds=1\n",
    "        \n",
    "if  prevalentStroke == \"no\" or prevalentStroke == \"No\":\n",
    "    prevalentStroke=0\n",
    "elif  prevalentStroke==\"yes\" or prevalentStroke==\"Yes\":\n",
    "      prevalentStroke=1\n",
    "        \n",
    "if  prevalentHyp == \"no\" or prevalentHyp == \"No\":\n",
    "    prevalentHyp=0\n",
    "elif  prevalentHyp==\"yes\" or prevalentHyp==\"Yes\":\n",
    "      prevalentHyp=1\n",
    "\n",
    "if  diabetes == \"no\" or diabetes == \"No\":\n",
    "    diabetes=0\n",
    "elif  diabetes==\"yes\" or diabetes==\"Yes\":\n",
    "      diabetes=1\n",
    "    \n",
    "\n",
    "encodeNewdf=pd.DataFrame({\"Gender\":Gender,\"Age\":age,\"Education\":education,\"CurrentSmoker\":currentSmoker,\"CigsPerDay\":cigsPerDay,\"BP_Meds\":BPMeds,\"PrevalentStroke\":prevalentStroke,\"PrevalentHyp\":prevalentHyp,\"Diabetes\":diabetes,\"total_Chol\":totChol,\"sys_BP\":sysBP,\"dia_BP\":diaBP,\"Bmi\":bmi,\"HeartRate\":heartRate,\"Glucose\":glucose},index=[0])\n",
    "\n",
    "print(encodeNewdf)"
   ]
  },
  {
   "cell_type": "code",
   "execution_count": 15,
   "id": "64c4e9a8",
   "metadata": {},
   "outputs": [
    {
     "name": "stdout",
     "output_type": "stream",
     "text": [
      "User input in actual DataFrame: \n",
      "\n",
      "  Gender Age Education CurrentSmoker CigsPerDay BP_Meds PrevalentStroke  \\\n",
      "0      1  58         1             0          0       0               0   \n",
      "\n",
      "  PrevalentHyp Diabetes total_Chol sys_BP dia_BP    Bmi HeartRate Glucose  \n",
      "0            0        0        233  125.5     84  26.05        67      76  \n",
      "\n",
      " \n",
      " \n",
      "User input in encoded DataFrame \n",
      "\n",
      "  Gender Age Education CurrentSmoker CigsPerDay BP_Meds PrevalentStroke  \\\n",
      "0      1  58         1             0          0       0               0   \n",
      "\n",
      "  PrevalentHyp Diabetes total_Chol sys_BP dia_BP    Bmi HeartRate Glucose  \n",
      "0            0        0        233  125.5     84  26.05        67      76  \n"
     ]
    }
   ],
   "source": [
    "print(\"User input in actual DataFrame: \\n\")\n",
    "print(newdf)\n",
    "print(\"\\n \\n \\nUser input in encoded DataFrame \\n\")\n",
    "print(encodeNewdf)"
   ]
  },
  {
   "cell_type": "markdown",
   "id": "4cd5f359",
   "metadata": {},
   "source": [
    "# Apply Trained Model on Feature Vector of Unseen Data and Output Prediction to User"
   ]
  },
  {
   "cell_type": "code",
   "execution_count": 16,
   "id": "705bed6e",
   "metadata": {},
   "outputs": [
    {
     "name": "stdout",
     "output_type": "stream",
     "text": [
      "\n",
      " Prediction:  Risk of coronary heart disease\n"
     ]
    }
   ],
   "source": [
    "outputPredictionBM= loadBM.predict(encodeNewdf)\n",
    "\n",
    "if outputPredictionBM==0:\n",
    "    TenYearCHD= \"NO risk of coronary heart disease\"\n",
    "    \n",
    "elif outputPredictionBM==1:\n",
    "    TenYearCHD=\" Risk of coronary heart disease\"\n",
    "\n",
    "print(\"\\n Prediction: %s\"%TenYearCHD)"
   ]
  },
  {
   "cell_type": "code",
   "execution_count": null,
   "id": "bef8c014",
   "metadata": {},
   "outputs": [],
   "source": []
  }
 ],
 "metadata": {
  "kernelspec": {
   "display_name": "Python 3 (ipykernel)",
   "language": "python",
   "name": "python3"
  },
  "language_info": {
   "codemirror_mode": {
    "name": "ipython",
    "version": 3
   },
   "file_extension": ".py",
   "mimetype": "text/x-python",
   "name": "python",
   "nbconvert_exporter": "python",
   "pygments_lexer": "ipython3",
   "version": "3.9.7"
  }
 },
 "nbformat": 4,
 "nbformat_minor": 5
}
