{
 "cells": [
  {
   "cell_type": "code",
   "execution_count": 1,
   "id": "483a4252",
   "metadata": {},
   "outputs": [],
   "source": [
    "import re\n",
    "import string\n",
    "import scipy\n",
    "import pickle\n",
    "import pandas as pd\n",
    "import numpy as np\n",
    "import os\n",
    "from sklearn.feature_extraction.text import *\n",
    "from sklearn.preprocessing import LabelEncoder\n",
    "from sklearn.linear_model import LogisticRegression\n",
    "from sklearn.naive_bayes import BernoulliNB\n",
    "from sklearn.ensemble import RandomForestClassifier\n",
    "from sklearn.svm import LinearSVC\n",
    "from sklearn.metrics import accuracy_score, precision_score, recall_score, f1_score\n",
    "from astropy.table import Table , Column\n",
    "from sklearn.model_selection import train_test_split"
   ]
  },
  {
   "cell_type": "code",
   "execution_count": 2,
   "id": "eed2459e",
   "metadata": {},
   "outputs": [],
   "source": [
    "data = pd.read_csv('BrainStroke.csv') "
   ]
  },
  {
   "cell_type": "code",
   "execution_count": 3,
   "id": "629facd0",
   "metadata": {},
   "outputs": [
    {
     "data": {
      "text/html": [
       "<div>\n",
       "<style scoped>\n",
       "    .dataframe tbody tr th:only-of-type {\n",
       "        vertical-align: middle;\n",
       "    }\n",
       "\n",
       "    .dataframe tbody tr th {\n",
       "        vertical-align: top;\n",
       "    }\n",
       "\n",
       "    .dataframe thead th {\n",
       "        text-align: right;\n",
       "    }\n",
       "</style>\n",
       "<table border=\"1\" class=\"dataframe\">\n",
       "  <thead>\n",
       "    <tr style=\"text-align: right;\">\n",
       "      <th></th>\n",
       "      <th>gender</th>\n",
       "      <th>age</th>\n",
       "      <th>hypertension</th>\n",
       "      <th>heart_disease</th>\n",
       "      <th>ever_married</th>\n",
       "      <th>work_type</th>\n",
       "      <th>Residence_type</th>\n",
       "      <th>avg_glucose_level</th>\n",
       "      <th>bmi</th>\n",
       "      <th>smoking_status</th>\n",
       "      <th>stroke</th>\n",
       "    </tr>\n",
       "  </thead>\n",
       "  <tbody>\n",
       "    <tr>\n",
       "      <th>0</th>\n",
       "      <td>Male</td>\n",
       "      <td>67.0</td>\n",
       "      <td>0</td>\n",
       "      <td>1</td>\n",
       "      <td>Yes</td>\n",
       "      <td>Private</td>\n",
       "      <td>Urban</td>\n",
       "      <td>228.69</td>\n",
       "      <td>36.6</td>\n",
       "      <td>formerly smoked</td>\n",
       "      <td>1</td>\n",
       "    </tr>\n",
       "    <tr>\n",
       "      <th>1</th>\n",
       "      <td>Male</td>\n",
       "      <td>80.0</td>\n",
       "      <td>0</td>\n",
       "      <td>1</td>\n",
       "      <td>Yes</td>\n",
       "      <td>Private</td>\n",
       "      <td>Rural</td>\n",
       "      <td>105.92</td>\n",
       "      <td>32.5</td>\n",
       "      <td>never smoked</td>\n",
       "      <td>1</td>\n",
       "    </tr>\n",
       "    <tr>\n",
       "      <th>2</th>\n",
       "      <td>Female</td>\n",
       "      <td>49.0</td>\n",
       "      <td>0</td>\n",
       "      <td>0</td>\n",
       "      <td>Yes</td>\n",
       "      <td>Private</td>\n",
       "      <td>Urban</td>\n",
       "      <td>171.23</td>\n",
       "      <td>34.4</td>\n",
       "      <td>smokes</td>\n",
       "      <td>1</td>\n",
       "    </tr>\n",
       "    <tr>\n",
       "      <th>3</th>\n",
       "      <td>Female</td>\n",
       "      <td>79.0</td>\n",
       "      <td>1</td>\n",
       "      <td>0</td>\n",
       "      <td>Yes</td>\n",
       "      <td>Self-employed</td>\n",
       "      <td>Rural</td>\n",
       "      <td>174.12</td>\n",
       "      <td>24.0</td>\n",
       "      <td>never smoked</td>\n",
       "      <td>1</td>\n",
       "    </tr>\n",
       "    <tr>\n",
       "      <th>4</th>\n",
       "      <td>Male</td>\n",
       "      <td>81.0</td>\n",
       "      <td>0</td>\n",
       "      <td>0</td>\n",
       "      <td>Yes</td>\n",
       "      <td>Private</td>\n",
       "      <td>Urban</td>\n",
       "      <td>186.21</td>\n",
       "      <td>29.0</td>\n",
       "      <td>formerly smoked</td>\n",
       "      <td>1</td>\n",
       "    </tr>\n",
       "  </tbody>\n",
       "</table>\n",
       "</div>"
      ],
      "text/plain": [
       "   gender   age  hypertension  heart_disease ever_married      work_type  \\\n",
       "0    Male  67.0             0              1          Yes        Private   \n",
       "1    Male  80.0             0              1          Yes        Private   \n",
       "2  Female  49.0             0              0          Yes        Private   \n",
       "3  Female  79.0             1              0          Yes  Self-employed   \n",
       "4    Male  81.0             0              0          Yes        Private   \n",
       "\n",
       "  Residence_type  avg_glucose_level   bmi   smoking_status  stroke  \n",
       "0          Urban             228.69  36.6  formerly smoked       1  \n",
       "1          Rural             105.92  32.5     never smoked       1  \n",
       "2          Urban             171.23  34.4           smokes       1  \n",
       "3          Rural             174.12  24.0     never smoked       1  \n",
       "4          Urban             186.21  29.0  formerly smoked       1  "
      ]
     },
     "execution_count": 3,
     "metadata": {},
     "output_type": "execute_result"
    }
   ],
   "source": [
    "data.head()"
   ]
  },
  {
   "cell_type": "code",
   "execution_count": 4,
   "id": "6245f9c4",
   "metadata": {},
   "outputs": [
    {
     "name": "stdout",
     "output_type": "stream",
     "text": [
      "Train Dataset:\n",
      "index  gender   age  hypertension  heart_disease ever_married      work_type  \\\n",
      "0        Male  67.0             0              1          Yes        Private   \n",
      "1        Male  80.0             0              1          Yes        Private   \n",
      "2      Female  49.0             0              0          Yes        Private   \n",
      "3      Female  79.0             1              0          Yes  Self-employed   \n",
      "4        Male  81.0             0              0          Yes        Private   \n",
      "...       ...   ...           ...            ...          ...            ...   \n",
      "4976     Male  41.0             0              0           No        Private   \n",
      "4977     Male  40.0             0              0          Yes        Private   \n",
      "4978   Female  45.0             1              0          Yes       Govt_job   \n",
      "4979     Male  40.0             0              0          Yes        Private   \n",
      "4980   Female  80.0             1              0          Yes        Private   \n",
      "\n",
      "index Residence_type  avg_glucose_level   bmi   smoking_status  stroke  \n",
      "0              Urban             228.69  36.6  formerly smoked       1  \n",
      "1              Rural             105.92  32.5     never smoked       1  \n",
      "2              Urban             171.23  34.4           smokes       1  \n",
      "3              Rural             174.12  24.0     never smoked       1  \n",
      "4              Urban             186.21  29.0  formerly smoked       1  \n",
      "...              ...                ...   ...              ...     ...  \n",
      "4976           Rural              70.15  29.8  formerly smoked       0  \n",
      "4977           Urban             191.15  31.1           smokes       0  \n",
      "4978           Rural              95.02  31.8           smokes       0  \n",
      "4979           Rural              83.94  30.0           smokes       0  \n",
      "4980           Urban              83.75  29.1     never smoked       0  \n",
      "\n",
      "[4981 rows x 11 columns]\n"
     ]
    }
   ],
   "source": [
    "data.columns.name=\"index\"\n",
    "print(\"Train Dataset:\")\n",
    "print(data)"
   ]
  },
  {
   "cell_type": "code",
   "execution_count": 5,
   "id": "3dae19cc",
   "metadata": {},
   "outputs": [
    {
     "name": "stdout",
     "output_type": "stream",
     "text": [
      "Train Data Set Columns:\n",
      "Index(['gender', 'age', 'hypertension', 'heart_disease', 'ever_married',\n",
      "       'work_type', 'Residence_type', 'avg_glucose_level', 'bmi',\n",
      "       'smoking_status', 'stroke'],\n",
      "      dtype='object', name='index')\n",
      "\n",
      "\n",
      "Number of instances in Train Dataset\n",
      "Train Instances: 4981\n"
     ]
    }
   ],
   "source": [
    "print(\"Train Data Set Columns:\")\n",
    "trainDatadf=pd.DataFrame(data)\n",
    "trainDataIndex=trainDatadf.columns\n",
    "print(trainDataIndex)\n",
    "\n",
    "print(\"\\n\")\n",
    "print(\"Number of instances in Train Dataset\")\n",
    "print(\"Train Instances: %s\"% (len(trainDatadf.index)))"
   ]
  },
  {
   "cell_type": "markdown",
   "id": "3168c93b",
   "metadata": {},
   "source": [
    "# pre process data"
   ]
  },
  {
   "cell_type": "code",
   "execution_count": 6,
   "id": "ecac0011",
   "metadata": {},
   "outputs": [
    {
     "name": "stdout",
     "output_type": "stream",
     "text": [
      "Train dataset before pre-processing:\n",
      "=========================================\n",
      "\n",
      "index  gender   age  hypertension  heart_disease ever_married      work_type  \\\n",
      "0        Male  67.0             0              1          Yes        Private   \n",
      "1        Male  80.0             0              1          Yes        Private   \n",
      "2      Female  49.0             0              0          Yes        Private   \n",
      "3      Female  79.0             1              0          Yes  Self-employed   \n",
      "4        Male  81.0             0              0          Yes        Private   \n",
      "...       ...   ...           ...            ...          ...            ...   \n",
      "4976     Male  41.0             0              0           No        Private   \n",
      "4977     Male  40.0             0              0          Yes        Private   \n",
      "4978   Female  45.0             1              0          Yes       Govt_job   \n",
      "4979     Male  40.0             0              0          Yes        Private   \n",
      "4980   Female  80.0             1              0          Yes        Private   \n",
      "\n",
      "index Residence_type  avg_glucose_level   bmi   smoking_status  stroke  \n",
      "0              Urban             228.69  36.6  formerly smoked       1  \n",
      "1              Rural             105.92  32.5     never smoked       1  \n",
      "2              Urban             171.23  34.4           smokes       1  \n",
      "3              Rural             174.12  24.0     never smoked       1  \n",
      "4              Urban             186.21  29.0  formerly smoked       1  \n",
      "...              ...                ...   ...              ...     ...  \n",
      "4976           Rural              70.15  29.8  formerly smoked       0  \n",
      "4977           Urban             191.15  31.1           smokes       0  \n",
      "4978           Rural              95.02  31.8           smokes       0  \n",
      "4979           Rural              83.94  30.0           smokes       0  \n",
      "4980           Urban              83.75  29.1     never smoked       0  \n",
      "\n",
      "[4981 rows x 11 columns]\n",
      "\n",
      "\n",
      "\n",
      "Train dataset after pre-processing:\n",
      "=========================================\n",
      "\n",
      "index  gender   age  hypertension  heart_disease ever_married      work_type  \\\n",
      "0        Male  67.0             0              1          Yes        Private   \n",
      "1        Male  80.0             0              1          Yes        Private   \n",
      "2      Female  49.0             0              0          Yes        Private   \n",
      "3      Female  79.0             1              0          Yes  Self-employed   \n",
      "4        Male  81.0             0              0          Yes        Private   \n",
      "...       ...   ...           ...            ...          ...            ...   \n",
      "4976     Male  41.0             0              0           No        Private   \n",
      "4977     Male  40.0             0              0          Yes        Private   \n",
      "4978   Female  45.0             1              0          Yes       Govt_job   \n",
      "4979     Male  40.0             0              0          Yes        Private   \n",
      "4980   Female  80.0             1              0          Yes        Private   \n",
      "\n",
      "index Residence_type  avg_glucose_level   bmi   smoking_status  stroke  \n",
      "0              Urban             228.69  36.6  formerly smoked       1  \n",
      "1              Rural             105.92  32.5     never smoked       1  \n",
      "2              Urban             171.23  34.4           smokes       1  \n",
      "3              Rural             174.12  24.0     never smoked       1  \n",
      "4              Urban             186.21  29.0  formerly smoked       1  \n",
      "...              ...                ...   ...              ...     ...  \n",
      "4976           Rural              70.15  29.8  formerly smoked       0  \n",
      "4977           Urban             191.15  31.1           smokes       0  \n",
      "4978           Rural              95.02  31.8           smokes       0  \n",
      "4979           Rural              83.94  30.0           smokes       0  \n",
      "4980           Urban              83.75  29.1     never smoked       0  \n",
      "\n",
      "[4981 rows x 11 columns]\n"
     ]
    }
   ],
   "source": [
    "preprocessed_dataset = data.fillna('0')\n",
    "\n",
    "print(\"Train dataset before pre-processing:\")\n",
    "print(\"=========================================\\n\")\n",
    "print(data)\n",
    "\n",
    "print(\"\\n\\n\\nTrain dataset after pre-processing:\")\n",
    "print(\"=========================================\\n\")\n",
    "print(preprocessed_dataset)"
   ]
  },
  {
   "cell_type": "markdown",
   "id": "76b31ac1",
   "metadata": {},
   "source": [
    "# # Label Encoding for Train/Test Data"
   ]
  },
  {
   "cell_type": "code",
   "execution_count": 7,
   "id": "4ea48776",
   "metadata": {},
   "outputs": [
    {
     "name": "stdout",
     "output_type": "stream",
     "text": [
      "Gender attribute encoding in Train Dataset: \n",
      "\n",
      "index  gender  encode_gender\n",
      "0        Male              1\n",
      "1        Male              1\n",
      "2      Female              0\n",
      "3      Female              0\n",
      "4        Male              1\n",
      "...       ...            ...\n",
      "4976     Male              1\n",
      "4977     Male              1\n",
      "4978   Female              0\n",
      "4979     Male              1\n",
      "4980   Female              0\n",
      "\n",
      "[4981 rows x 2 columns]\n"
     ]
    }
   ],
   "source": [
    "print(\"Gender attribute encoding in Train Dataset: \\n\")\n",
    "\n",
    "preprocessed_dataset[\"encode_gender\"]=LabelEncoder().fit_transform(preprocessed_dataset[\"gender\"])\n",
    "print(preprocessed_dataset[[\"gender\",\"encode_gender\"]])"
   ]
  },
  {
   "cell_type": "code",
   "execution_count": 8,
   "id": "cc53096c",
   "metadata": {},
   "outputs": [
    {
     "name": "stdout",
     "output_type": "stream",
     "text": [
      "ever_married attribute encoding in train Dataset: \n",
      "\n",
      "index ever_married  encode_ever_married\n",
      "0              Yes                    1\n",
      "1              Yes                    1\n",
      "2              Yes                    1\n",
      "3              Yes                    1\n",
      "4              Yes                    1\n",
      "...            ...                  ...\n",
      "4976            No                    0\n",
      "4977           Yes                    1\n",
      "4978           Yes                    1\n",
      "4979           Yes                    1\n",
      "4980           Yes                    1\n",
      "\n",
      "[4981 rows x 2 columns]\n"
     ]
    }
   ],
   "source": [
    "print(\"ever_married attribute encoding in train Dataset: \\n\")\n",
    "\n",
    "preprocessed_dataset[\"encode_ever_married\"]=LabelEncoder().fit_transform(preprocessed_dataset[\"ever_married\"])\n",
    "print(preprocessed_dataset[[\"ever_married\",\"encode_ever_married\"]])"
   ]
  },
  {
   "cell_type": "code",
   "execution_count": 9,
   "id": "265073ea",
   "metadata": {},
   "outputs": [
    {
     "name": "stdout",
     "output_type": "stream",
     "text": [
      "work_type attribute encoding in train Dataset: \n",
      "\n",
      "index      work_type  encode_work_type\n",
      "0            Private                 1\n",
      "1            Private                 1\n",
      "2            Private                 1\n",
      "3      Self-employed                 2\n",
      "4            Private                 1\n",
      "...              ...               ...\n",
      "4976         Private                 1\n",
      "4977         Private                 1\n",
      "4978        Govt_job                 0\n",
      "4979         Private                 1\n",
      "4980         Private                 1\n",
      "\n",
      "[4981 rows x 2 columns]\n"
     ]
    }
   ],
   "source": [
    "print(\"work_type attribute encoding in train Dataset: \\n\")\n",
    "\n",
    "preprocessed_dataset[\"encode_work_type\"]=LabelEncoder().fit_transform(preprocessed_dataset[\"work_type\"])\n",
    "print(preprocessed_dataset[[\"work_type\",\"encode_work_type\"]])"
   ]
  },
  {
   "cell_type": "code",
   "execution_count": 10,
   "id": "295064cd",
   "metadata": {},
   "outputs": [
    {
     "name": "stdout",
     "output_type": "stream",
     "text": [
      "Residence_type attribute encoding in train Dataset: \n",
      "\n",
      "index Residence_type  encode_Residence_type\n",
      "0              Urban                      1\n",
      "1              Rural                      0\n",
      "2              Urban                      1\n",
      "3              Rural                      0\n",
      "4              Urban                      1\n",
      "...              ...                    ...\n",
      "4976           Rural                      0\n",
      "4977           Urban                      1\n",
      "4978           Rural                      0\n",
      "4979           Rural                      0\n",
      "4980           Urban                      1\n",
      "\n",
      "[4981 rows x 2 columns]\n"
     ]
    }
   ],
   "source": [
    "print(\"Residence_type attribute encoding in train Dataset: \\n\")\n",
    "\n",
    "preprocessed_dataset[\"encode_Residence_type\"]=LabelEncoder().fit_transform(preprocessed_dataset[\"Residence_type\"])\n",
    "print(preprocessed_dataset[[\"Residence_type\",\"encode_Residence_type\"]])"
   ]
  },
  {
   "cell_type": "code",
   "execution_count": 11,
   "id": "db00185d",
   "metadata": {},
   "outputs": [
    {
     "name": "stdout",
     "output_type": "stream",
     "text": [
      "smoking_status attribute encoding in train Dataset: \n",
      "\n",
      "index   smoking_status  encode_smoking_status\n",
      "0      formerly smoked                      1\n",
      "1         never smoked                      2\n",
      "2               smokes                      3\n",
      "3         never smoked                      2\n",
      "4      formerly smoked                      1\n",
      "...                ...                    ...\n",
      "4976   formerly smoked                      1\n",
      "4977            smokes                      3\n",
      "4978            smokes                      3\n",
      "4979            smokes                      3\n",
      "4980      never smoked                      2\n",
      "\n",
      "[4981 rows x 2 columns]\n"
     ]
    }
   ],
   "source": [
    "print(\"smoking_status attribute encoding in train Dataset: \\n\")\n",
    "\n",
    "preprocessed_dataset[\"encode_smoking_status\"]=LabelEncoder().fit_transform(preprocessed_dataset[\"smoking_status\"])\n",
    "print(preprocessed_dataset[[\"smoking_status\",\"encode_smoking_status\"]])"
   ]
  },
  {
   "cell_type": "code",
   "execution_count": 12,
   "id": "1a5c3397",
   "metadata": {},
   "outputs": [
    {
     "name": "stdout",
     "output_type": "stream",
     "text": [
      "Orignal Dataset: \n",
      "\n",
      "index  gender   age  hypertension  heart_disease ever_married      work_type  \\\n",
      "0        Male  67.0             0              1          Yes        Private   \n",
      "1        Male  80.0             0              1          Yes        Private   \n",
      "2      Female  49.0             0              0          Yes        Private   \n",
      "3      Female  79.0             1              0          Yes  Self-employed   \n",
      "4        Male  81.0             0              0          Yes        Private   \n",
      "...       ...   ...           ...            ...          ...            ...   \n",
      "4976     Male  41.0             0              0           No        Private   \n",
      "4977     Male  40.0             0              0          Yes        Private   \n",
      "4978   Female  45.0             1              0          Yes       Govt_job   \n",
      "4979     Male  40.0             0              0          Yes        Private   \n",
      "4980   Female  80.0             1              0          Yes        Private   \n",
      "\n",
      "index Residence_type  avg_glucose_level   bmi   smoking_status  stroke  \n",
      "0              Urban             228.69  36.6  formerly smoked       1  \n",
      "1              Rural             105.92  32.5     never smoked       1  \n",
      "2              Urban             171.23  34.4           smokes       1  \n",
      "3              Rural             174.12  24.0     never smoked       1  \n",
      "4              Urban             186.21  29.0  formerly smoked       1  \n",
      "...              ...                ...   ...              ...     ...  \n",
      "4976           Rural              70.15  29.8  formerly smoked       0  \n",
      "4977           Urban             191.15  31.1           smokes       0  \n",
      "4978           Rural              95.02  31.8           smokes       0  \n",
      "4979           Rural              83.94  30.0           smokes       0  \n",
      "4980           Urban              83.75  29.1     never smoked       0  \n",
      "\n",
      "[4981 rows x 11 columns]\n",
      "\n",
      "\n",
      " Dataset after Label Encoding: \n",
      "\n",
      "index  gender   age  hypertension  heart_disease  ever_married  work_type  \\\n",
      "0           1  67.0             0              1             1          1   \n",
      "1           1  80.0             0              1             1          1   \n",
      "2           0  49.0             0              0             1          1   \n",
      "3           0  79.0             1              0             1          2   \n",
      "4           1  81.0             0              0             1          1   \n",
      "...       ...   ...           ...            ...           ...        ...   \n",
      "4976        1  41.0             0              0             0          1   \n",
      "4977        1  40.0             0              0             1          1   \n",
      "4978        0  45.0             1              0             1          0   \n",
      "4979        1  40.0             0              0             1          1   \n",
      "4980        0  80.0             1              0             1          1   \n",
      "\n",
      "index  Residence_type  avg_glucose_level   bmi  smoking_status  stroke  \n",
      "0                   1             228.69  36.6               1       1  \n",
      "1                   0             105.92  32.5               2       1  \n",
      "2                   1             171.23  34.4               3       1  \n",
      "3                   0             174.12  24.0               2       1  \n",
      "4                   1             186.21  29.0               1       1  \n",
      "...               ...                ...   ...             ...     ...  \n",
      "4976                0              70.15  29.8               1       0  \n",
      "4977                1             191.15  31.1               3       0  \n",
      "4978                0              95.02  31.8               3       0  \n",
      "4979                0              83.94  30.0               3       0  \n",
      "4980                1              83.75  29.1               2       0  \n",
      "\n",
      "[4981 rows x 11 columns]\n"
     ]
    }
   ],
   "source": [
    "print(\"Orignal Dataset: \\n\")\n",
    "print(data)\n",
    "\n",
    "print(\"\\n\")\n",
    "\n",
    "print(\" Dataset after Label Encoding: \\n\")\n",
    "\n",
    "labelTestDatadf= preprocessed_dataset[[\"encode_gender\",\"age\",\"hypertension\",\"heart_disease\",\"encode_ever_married\",\"encode_work_type\",\"encode_Residence_type\",\"avg_glucose_level\",\"bmi\",\"encode_smoking_status\",\"stroke\"]]\n",
    "fDatadf= labelTestDatadf.rename(columns={\"encode_gender\":\"gender\", \"encode_ever_married\":\"ever_married\",\"encode_work_type\":\"work_type\",\"encode_Residence_type\":\"Residence_type\",\"encode_smoking_status\":\"smoking_status\"})\n",
    "print(fDatadf)"
   ]
  },
  {
   "cell_type": "markdown",
   "id": "5bf35d37",
   "metadata": {},
   "source": [
    "# Train ML Algorithms using Data"
   ]
  },
  {
   "cell_type": "code",
   "execution_count": 13,
   "id": "723aa3fa",
   "metadata": {},
   "outputs": [],
   "source": [
    "x=fDatadf.iloc[:, :-1].values\n",
    "y=fDatadf.iloc[:, -1:].values"
   ]
  },
  {
   "cell_type": "code",
   "execution_count": 14,
   "id": "a9b5b7b9",
   "metadata": {},
   "outputs": [],
   "source": [
    "x_train, x_test, y_train, y_test = train_test_split(x, y, test_size=0.2)"
   ]
  },
  {
   "cell_type": "markdown",
   "id": "a2849085",
   "metadata": {},
   "source": [
    "# Train ML Algorithms using Logistic Regression"
   ]
  },
  {
   "cell_type": "code",
   "execution_count": 32,
   "id": "b8e440b9",
   "metadata": {},
   "outputs": [
    {
     "name": "stderr",
     "output_type": "stream",
     "text": [
      "D:\\Anaconda\\lib\\site-packages\\sklearn\\utils\\validation.py:63: DataConversionWarning: A column-vector y was passed when a 1d array was expected. Please change the shape of y to (n_samples, ), for example using ravel().\n",
      "  return f(*args, **kwargs)\n",
      "D:\\Anaconda\\lib\\site-packages\\sklearn\\linear_model\\_logistic.py:763: ConvergenceWarning: lbfgs failed to converge (status=1):\n",
      "STOP: TOTAL NO. of ITERATIONS REACHED LIMIT.\n",
      "\n",
      "Increase the number of iterations (max_iter) or scale the data as shown in:\n",
      "    https://scikit-learn.org/stable/modules/preprocessing.html\n",
      "Please also refer to the documentation for alternative solver options:\n",
      "    https://scikit-learn.org/stable/modules/linear_model.html#logistic-regression\n",
      "  n_iter_i = _check_optimize_result(\n"
     ]
    }
   ],
   "source": [
    "logisticRegression=LogisticRegression()\n",
    "logisticRegression.fit(x_train,y_train)\n",
    "LR = logisticRegression.predict(x_test)"
   ]
  },
  {
   "cell_type": "markdown",
   "id": "086c4578",
   "metadata": {},
   "source": [
    "## Evaluate ML Algorithms using Test Data\n"
   ]
  },
  {
   "cell_type": "code",
   "execution_count": 33,
   "id": "0752f092",
   "metadata": {},
   "outputs": [
    {
     "ename": "TypeError",
     "evalue": "'numpy.float64' object is not callable",
     "output_type": "error",
     "traceback": [
      "\u001b[1;31m---------------------------------------------------------------------------\u001b[0m",
      "\u001b[1;31mTypeError\u001b[0m                                 Traceback (most recent call last)",
      "\u001b[1;32m~\\AppData\\Local\\Temp/ipykernel_9420/2817639036.py\u001b[0m in \u001b[0;36m<module>\u001b[1;34m\u001b[0m\n\u001b[1;32m----> 1\u001b[1;33m \u001b[0maccuracy_score\u001b[0m\u001b[1;33m=\u001b[0m\u001b[0maccuracy_score\u001b[0m\u001b[1;33m(\u001b[0m\u001b[0my_test\u001b[0m\u001b[1;33m,\u001b[0m \u001b[0mLR\u001b[0m\u001b[1;33m)\u001b[0m\u001b[1;33m\u001b[0m\u001b[1;33m\u001b[0m\u001b[0m\n\u001b[0m\u001b[0;32m      2\u001b[0m \u001b[0mprint\u001b[0m\u001b[1;33m(\u001b[0m\u001b[1;34m\"\\n accuracy_score is: %s\"\u001b[0m\u001b[1;33m%\u001b[0m\u001b[0maccuracy_score\u001b[0m\u001b[1;33m)\u001b[0m\u001b[1;33m\u001b[0m\u001b[1;33m\u001b[0m\u001b[0m\n\u001b[0;32m      3\u001b[0m \u001b[0mrecall_score\u001b[0m\u001b[1;33m=\u001b[0m\u001b[0mrecall_score\u001b[0m\u001b[1;33m(\u001b[0m\u001b[0my_test\u001b[0m\u001b[1;33m,\u001b[0m \u001b[0mLR\u001b[0m\u001b[1;33m)\u001b[0m\u001b[1;33m\u001b[0m\u001b[1;33m\u001b[0m\u001b[0m\n\u001b[0;32m      4\u001b[0m \u001b[0mprint\u001b[0m\u001b[1;33m(\u001b[0m\u001b[1;34m\"\\n recall_score is: %s\"\u001b[0m\u001b[1;33m%\u001b[0m\u001b[0mrecall_score\u001b[0m\u001b[1;33m)\u001b[0m\u001b[1;33m\u001b[0m\u001b[1;33m\u001b[0m\u001b[0m\n\u001b[0;32m      5\u001b[0m \u001b[0mprecision_score\u001b[0m\u001b[1;33m=\u001b[0m\u001b[0mprecision_score\u001b[0m\u001b[1;33m(\u001b[0m\u001b[0my_test\u001b[0m\u001b[1;33m,\u001b[0m \u001b[0mLR\u001b[0m\u001b[1;33m)\u001b[0m\u001b[1;33m\u001b[0m\u001b[1;33m\u001b[0m\u001b[0m\n",
      "\u001b[1;31mTypeError\u001b[0m: 'numpy.float64' object is not callable"
     ]
    }
   ],
   "source": [
    "accuracy_score=accuracy_score(y_test, LR)\n",
    "print(\"\\n accuracy_score is: %s\"%accuracy_score)\n",
    "recall_score=recall_score(y_test, LR)\n",
    "print(\"\\n recall_score is: %s\"%recall_score)\n",
    "precision_score=precision_score(y_test, LR)\n",
    "print(\"\\n precision_score is: %s\"%precision_score)\n",
    "f1_score=f1_score(y_test, LR)\n",
    "print(\"\\n f1_score is: %s\"%f1_score)"
   ]
  },
  {
   "cell_type": "markdown",
   "id": "7acaf5ed",
   "metadata": {},
   "source": [
    "# Train ML Algorithms using Random Forest Classifier"
   ]
  },
  {
   "cell_type": "code",
   "execution_count": 26,
   "id": "e90a4795",
   "metadata": {},
   "outputs": [
    {
     "name": "stderr",
     "output_type": "stream",
     "text": [
      "C:\\Users\\DELL\\AppData\\Local\\Temp/ipykernel_9420/1009677329.py:2: DataConversionWarning: A column-vector y was passed when a 1d array was expected. Please change the shape of y to (n_samples,), for example using ravel().\n",
      "  randomForest.fit(x_train,y_train)\n"
     ]
    }
   ],
   "source": [
    "randomForest=RandomForestClassifier()\n",
    "randomForest.fit(x_train,y_train)\n",
    "RF = randomForest.predict(x_test)"
   ]
  },
  {
   "cell_type": "markdown",
   "id": "3744673e",
   "metadata": {},
   "source": [
    "## Evaluate ML Algorithms using Test Data"
   ]
  },
  {
   "cell_type": "code",
   "execution_count": 27,
   "id": "4dd49c40",
   "metadata": {},
   "outputs": [
    {
     "name": "stdout",
     "output_type": "stream",
     "text": [
      "\n",
      " accuracy_score is: 0.9468405215646941\n"
     ]
    },
    {
     "ename": "TypeError",
     "evalue": "'numpy.float64' object is not callable",
     "output_type": "error",
     "traceback": [
      "\u001b[1;31m---------------------------------------------------------------------------\u001b[0m",
      "\u001b[1;31mTypeError\u001b[0m                                 Traceback (most recent call last)",
      "\u001b[1;32m~\\AppData\\Local\\Temp/ipykernel_9420/3940590407.py\u001b[0m in \u001b[0;36m<module>\u001b[1;34m\u001b[0m\n\u001b[0;32m      1\u001b[0m \u001b[0maccuracy_score\u001b[0m\u001b[1;33m=\u001b[0m\u001b[0maccuracy_score\u001b[0m\u001b[1;33m(\u001b[0m\u001b[0my_test\u001b[0m\u001b[1;33m,\u001b[0m \u001b[0mRF\u001b[0m\u001b[1;33m)\u001b[0m\u001b[1;33m\u001b[0m\u001b[1;33m\u001b[0m\u001b[0m\n\u001b[0;32m      2\u001b[0m \u001b[0mprint\u001b[0m\u001b[1;33m(\u001b[0m\u001b[1;34m\"\\n accuracy_score is: %s\"\u001b[0m\u001b[1;33m%\u001b[0m\u001b[0maccuracy_score\u001b[0m\u001b[1;33m)\u001b[0m\u001b[1;33m\u001b[0m\u001b[1;33m\u001b[0m\u001b[0m\n\u001b[1;32m----> 3\u001b[1;33m \u001b[0mrecall_score\u001b[0m\u001b[1;33m=\u001b[0m\u001b[0mrecall_score\u001b[0m\u001b[1;33m(\u001b[0m\u001b[0my_test\u001b[0m\u001b[1;33m,\u001b[0m \u001b[0mRF\u001b[0m\u001b[1;33m)\u001b[0m\u001b[1;33m\u001b[0m\u001b[1;33m\u001b[0m\u001b[0m\n\u001b[0m\u001b[0;32m      4\u001b[0m \u001b[0mprint\u001b[0m\u001b[1;33m(\u001b[0m\u001b[1;34m\"\\n recall_score is: %s\"\u001b[0m\u001b[1;33m%\u001b[0m\u001b[0mrecall_score\u001b[0m\u001b[1;33m)\u001b[0m\u001b[1;33m\u001b[0m\u001b[1;33m\u001b[0m\u001b[0m\n\u001b[0;32m      5\u001b[0m \u001b[0mprecision_score\u001b[0m\u001b[1;33m=\u001b[0m\u001b[0mprecision_score\u001b[0m\u001b[1;33m(\u001b[0m\u001b[0my_test\u001b[0m\u001b[1;33m,\u001b[0m \u001b[0mRF\u001b[0m\u001b[1;33m)\u001b[0m\u001b[1;33m\u001b[0m\u001b[1;33m\u001b[0m\u001b[0m\n",
      "\u001b[1;31mTypeError\u001b[0m: 'numpy.float64' object is not callable"
     ]
    }
   ],
   "source": [
    "accuracy_score=accuracy_score(y_test, RF)\n",
    "print(\"\\n accuracy_score is: %s\"%accuracy_score)\n",
    "recall_score=recall_score(y_test, RF)\n",
    "print(\"\\n recall_score is: %s\"%recall_score)\n",
    "precision_score=precision_score(y_test, RF)\n",
    "print(\"\\n precision_score is: %s\"%precision_score)\n",
    "f1_score=f1_score(y_test, RF)\n",
    "print(\"\\n f1_score is: %s\"%f1_score)"
   ]
  },
  {
   "cell_type": "markdown",
   "id": "5de6e79a",
   "metadata": {},
   "source": [
    "# Train ML Algorithms using linearSvc\n"
   ]
  },
  {
   "cell_type": "code",
   "execution_count": 28,
   "id": "9e4b5265",
   "metadata": {},
   "outputs": [
    {
     "name": "stderr",
     "output_type": "stream",
     "text": [
      "D:\\Anaconda\\lib\\site-packages\\sklearn\\utils\\validation.py:63: DataConversionWarning: A column-vector y was passed when a 1d array was expected. Please change the shape of y to (n_samples, ), for example using ravel().\n",
      "  return f(*args, **kwargs)\n",
      "D:\\Anaconda\\lib\\site-packages\\sklearn\\svm\\_base.py:985: ConvergenceWarning: Liblinear failed to converge, increase the number of iterations.\n",
      "  warnings.warn(\"Liblinear failed to converge, increase \"\n"
     ]
    }
   ],
   "source": [
    "linearSvc=LinearSVC()\n",
    "#print(randomForest)\n",
    "linearSvc.fit(x_train,y_train)\n",
    "LS = linearSvc.predict(x_test)"
   ]
  },
  {
   "cell_type": "markdown",
   "id": "fb0f70fe",
   "metadata": {},
   "source": [
    "## Evaluate ML Algorithms using Test Data"
   ]
  },
  {
   "cell_type": "code",
   "execution_count": 29,
   "id": "0e8a7a1c",
   "metadata": {},
   "outputs": [
    {
     "ename": "TypeError",
     "evalue": "'numpy.float64' object is not callable",
     "output_type": "error",
     "traceback": [
      "\u001b[1;31m---------------------------------------------------------------------------\u001b[0m",
      "\u001b[1;31mTypeError\u001b[0m                                 Traceback (most recent call last)",
      "\u001b[1;32m~\\AppData\\Local\\Temp/ipykernel_9420/2764226299.py\u001b[0m in \u001b[0;36m<module>\u001b[1;34m\u001b[0m\n\u001b[1;32m----> 1\u001b[1;33m \u001b[0maccuracy_score\u001b[0m\u001b[1;33m=\u001b[0m\u001b[0maccuracy_score\u001b[0m\u001b[1;33m(\u001b[0m\u001b[0my_test\u001b[0m\u001b[1;33m,\u001b[0m \u001b[0mLS\u001b[0m\u001b[1;33m)\u001b[0m\u001b[1;33m\u001b[0m\u001b[1;33m\u001b[0m\u001b[0m\n\u001b[0m\u001b[0;32m      2\u001b[0m \u001b[0mprint\u001b[0m\u001b[1;33m(\u001b[0m\u001b[1;34m\"\\n accuracy_score is: %s\"\u001b[0m\u001b[1;33m%\u001b[0m\u001b[0maccuracy_score\u001b[0m\u001b[1;33m)\u001b[0m\u001b[1;33m\u001b[0m\u001b[1;33m\u001b[0m\u001b[0m\n\u001b[0;32m      3\u001b[0m \u001b[0mrecall_score\u001b[0m\u001b[1;33m=\u001b[0m\u001b[0mrecall_score\u001b[0m\u001b[1;33m(\u001b[0m\u001b[0my_test\u001b[0m\u001b[1;33m,\u001b[0m \u001b[0mLS\u001b[0m\u001b[1;33m)\u001b[0m\u001b[1;33m\u001b[0m\u001b[1;33m\u001b[0m\u001b[0m\n\u001b[0;32m      4\u001b[0m \u001b[0mprint\u001b[0m\u001b[1;33m(\u001b[0m\u001b[1;34m\"\\n recall_score is: %s\"\u001b[0m\u001b[1;33m%\u001b[0m\u001b[0mrecall_score\u001b[0m\u001b[1;33m)\u001b[0m\u001b[1;33m\u001b[0m\u001b[1;33m\u001b[0m\u001b[0m\n\u001b[0;32m      5\u001b[0m \u001b[0mprecision_score\u001b[0m\u001b[1;33m=\u001b[0m\u001b[0mprecision_score\u001b[0m\u001b[1;33m(\u001b[0m\u001b[0my_test\u001b[0m\u001b[1;33m,\u001b[0m \u001b[0mLS\u001b[0m\u001b[1;33m)\u001b[0m\u001b[1;33m\u001b[0m\u001b[1;33m\u001b[0m\u001b[0m\n",
      "\u001b[1;31mTypeError\u001b[0m: 'numpy.float64' object is not callable"
     ]
    }
   ],
   "source": [
    "accuracy_score=accuracy_score(y_test, LS)\n",
    "print(\"\\n accuracy_score is: %s\"%accuracy_score)\n",
    "recall_score=recall_score(y_test, LS)\n",
    "print(\"\\n recall_score is: %s\"%recall_score)\n",
    "precision_score=precision_score(y_test, LS)\n",
    "print(\"\\n precision_score is: %s\"%precision_score)\n",
    "f1_score=f1_score(y_test, LS)\n",
    "print(\"\\n f1_score is: %s\"%f1_score)"
   ]
  },
  {
   "cell_type": "markdown",
   "id": "4d88c747",
   "metadata": {},
   "source": [
    "# Train ML Algorithms using BernoulliNB\n"
   ]
  },
  {
   "cell_type": "code",
   "execution_count": 30,
   "id": "be91ea52",
   "metadata": {},
   "outputs": [
    {
     "name": "stderr",
     "output_type": "stream",
     "text": [
      "D:\\Anaconda\\lib\\site-packages\\sklearn\\utils\\validation.py:63: DataConversionWarning: A column-vector y was passed when a 1d array was expected. Please change the shape of y to (n_samples, ), for example using ravel().\n",
      "  return f(*args, **kwargs)\n"
     ]
    }
   ],
   "source": [
    "bernoulliNB=BernoulliNB()\n",
    "#print(randomForest)\n",
    "bernoulliNB.fit(x_train,y_train)\n",
    "NB = bernoulliNB.predict(x_test)\n"
   ]
  },
  {
   "cell_type": "markdown",
   "id": "1af12c9c",
   "metadata": {},
   "source": [
    " ## Evaluate ML Algorithms using Test Data"
   ]
  },
  {
   "cell_type": "code",
   "execution_count": 31,
   "id": "2aa1e0cc",
   "metadata": {},
   "outputs": [
    {
     "ename": "TypeError",
     "evalue": "'numpy.float64' object is not callable",
     "output_type": "error",
     "traceback": [
      "\u001b[1;31m---------------------------------------------------------------------------\u001b[0m",
      "\u001b[1;31mTypeError\u001b[0m                                 Traceback (most recent call last)",
      "\u001b[1;32m~\\AppData\\Local\\Temp/ipykernel_9420/2251894584.py\u001b[0m in \u001b[0;36m<module>\u001b[1;34m\u001b[0m\n\u001b[1;32m----> 1\u001b[1;33m \u001b[0maccuracy_score\u001b[0m\u001b[1;33m=\u001b[0m\u001b[0maccuracy_score\u001b[0m\u001b[1;33m(\u001b[0m\u001b[0my_test\u001b[0m\u001b[1;33m,\u001b[0m \u001b[0mNB\u001b[0m\u001b[1;33m)\u001b[0m\u001b[1;33m\u001b[0m\u001b[1;33m\u001b[0m\u001b[0m\n\u001b[0m\u001b[0;32m      2\u001b[0m \u001b[0mprint\u001b[0m\u001b[1;33m(\u001b[0m\u001b[1;34m\"\\n accuracy_score is: %s\"\u001b[0m\u001b[1;33m%\u001b[0m\u001b[0maccuracy_score\u001b[0m\u001b[1;33m)\u001b[0m\u001b[1;33m\u001b[0m\u001b[1;33m\u001b[0m\u001b[0m\n\u001b[0;32m      3\u001b[0m \u001b[0mrecall_score\u001b[0m\u001b[1;33m=\u001b[0m\u001b[0mrecall_score\u001b[0m\u001b[1;33m(\u001b[0m\u001b[0my_test\u001b[0m\u001b[1;33m,\u001b[0m \u001b[0mNB\u001b[0m\u001b[1;33m)\u001b[0m\u001b[1;33m\u001b[0m\u001b[1;33m\u001b[0m\u001b[0m\n\u001b[0;32m      4\u001b[0m \u001b[0mprint\u001b[0m\u001b[1;33m(\u001b[0m\u001b[1;34m\"\\n recall_score is: %s\"\u001b[0m\u001b[1;33m%\u001b[0m\u001b[0mrecall_score\u001b[0m\u001b[1;33m)\u001b[0m\u001b[1;33m\u001b[0m\u001b[1;33m\u001b[0m\u001b[0m\n\u001b[0;32m      5\u001b[0m \u001b[0mprecision_score\u001b[0m\u001b[1;33m=\u001b[0m\u001b[0mprecision_score\u001b[0m\u001b[1;33m(\u001b[0m\u001b[0my_test\u001b[0m\u001b[1;33m,\u001b[0m \u001b[0mNB\u001b[0m\u001b[1;33m)\u001b[0m\u001b[1;33m\u001b[0m\u001b[1;33m\u001b[0m\u001b[0m\n",
      "\u001b[1;31mTypeError\u001b[0m: 'numpy.float64' object is not callable"
     ]
    }
   ],
   "source": [
    "accuracy_score=accuracy_score(y_test, NB)\n",
    "print(\"\\n accuracy_score is: %s\"%accuracy_score)\n",
    "recall_score=recall_score(y_test, NB)\n",
    "print(\"\\n recall_score is: %s\"%recall_score)\n",
    "precision_score=precision_score(y_test, NB)\n",
    "print(\"\\n precision_score is: %s\"%precision_score)\n",
    "f1_score=f1_score(y_test, NB)\n",
    "print(\"\\n f1_score is: %s\"%f1_score)"
   ]
  },
  {
   "cell_type": "markdown",
   "id": "c80b6432",
   "metadata": {},
   "source": [
    "# Save the Trained Model as Pickle File"
   ]
  },
  {
   "cell_type": "code",
   "execution_count": null,
   "id": "2342805d",
   "metadata": {},
   "outputs": [],
   "source": [
    "filename='bestModel.sav'\n",
    "pickle.dump(randomForest,open(filename,'wb'))"
   ]
  },
  {
   "cell_type": "markdown",
   "id": "fe76e072",
   "metadata": {},
   "source": [
    "# Load the Trained Model\n"
   ]
  },
  {
   "cell_type": "code",
   "execution_count": null,
   "id": "0fd58288",
   "metadata": {},
   "outputs": [],
   "source": [
    "loadBM=pickle.load(open(filename,'rb'))"
   ]
  },
  {
   "cell_type": "markdown",
   "id": "4998134c",
   "metadata": {},
   "source": [
    "# Take Input from User"
   ]
  },
  {
   "cell_type": "code",
   "execution_count": null,
   "id": "5042395a",
   "metadata": {},
   "outputs": [],
   "source": [
    "Gender=input(\"Please enter your gender:\")\n",
    "age=input(\"Please enter your age here :\")\n",
    "hypertension=input(\"Pleas eenter your hypertension(0/1):\")\n",
    "heart_disease=input(\"Do you have heart disease (1/0):\")\n",
    "ever_married=input(\"Do you ever married (Yes/No):\")\n",
    "work_type=input(\"Please enter your work type here (Private/Self-employed/Govt_job):\")\n",
    "Residence_type=input(\"Please enter your Residence type (Urban/Rural):\")\n",
    "avg_glucose_level=input(\"Please enter your avg glucose level:\")\n",
    "bmi=input(\"Please enter your bmi(20-50):\")\n",
    "smoking_status=input(\"Do you smoke (formerly_smoked/never smoked/smokes/Unknown):\")"
   ]
  },
  {
   "cell_type": "markdown",
   "id": "1d5aa41b",
   "metadata": {},
   "source": [
    "# Convert User Input into Feature Vector\n"
   ]
  },
  {
   "cell_type": "code",
   "execution_count": null,
   "id": "70f01c18",
   "metadata": {},
   "outputs": [],
   "source": [
    "print(\"user input in actual DataFrame: \\n\")\n",
    "newdf=pd.DataFrame({\"Gender\":Gender,\"Age\":age,\"Hypertension\":hypertension,\"Heart_disease\":heart_disease,\"Ever_married\":ever_married,\"Work_type\":work_type,\"Residence_type\":Residence_type,\"Avg_glucose_level\":avg_glucose_level,\"Bmi\":bmi,\"Smoking_status\":smoking_status},index=[0])\n",
    "print(newdf)"
   ]
  },
  {
   "cell_type": "code",
   "execution_count": null,
   "id": "c088e214",
   "metadata": {},
   "outputs": [],
   "source": [
    "print(\"User input in Encoded DataFrame: \\n\")\n",
    "\n",
    "if  Gender == \"male\" or Gender == \"Male\":\n",
    "    Gender=1\n",
    "elif  Gender==\"female\" or Gender==\"Female\":\n",
    "      Gender=0\n",
    "\n",
    "if  ever_married == \"no\" or ever_married == \"No\":\n",
    "    ever_married=0\n",
    "elif  ever_married==\"yes\" or ever_married==\"Yes\":\n",
    "      ever_married=1\n",
    "\n",
    "    \n",
    "if work_type==\"private\" or work_type==\"Private\":\n",
    "    work_type=1\n",
    "elif work_type==\"self-employed\" or work_type==\"Self-employed\":\n",
    "    work_type=2\n",
    "elif work_type==\"govt_job\" or work_type==\"Govt_job\":\n",
    "    work_type=0\n",
    "    \n",
    "if Residence_type==\"urban\" or Residence_type==\"Urban\":\n",
    "    Residence_type=1\n",
    "elif Residence_type==\"rural\" or Residence_type==\"Rural\":\n",
    "    Residence_type=0\n",
    "\n",
    "if smoking_status==\"formerly_smoked\" or smoking_status==\"Formerly_smoked\":\n",
    "    smoking_status=1\n",
    "elif smoking_status==\"never_smoked\" or smoking_status==\"never_smoked\":\n",
    "    smoking_status=2\n",
    "elif smoking_status==\"smokes\" or smoking_status==\"smokes\":\n",
    "    smoking_status=3\n",
    "elif smoking_status==\"Unknown\" or smoking_status==\"Unknown\":\n",
    "    smoking_status=0\n",
    "encodeNewdf=pd.DataFrame({\"Gender\":Gender,\"Age\":age,\"Hypertension\":hypertension,\"Heart_disease\":heart_disease,\"Ever_married\":ever_married,\"Work_type\":work_type,\"Residence_type\":Residence_type,\"Avg_glucose_level\":avg_glucose_level,\"Bmi\":bmi,\"Smoking_status\":smoking_status},index=[0])\n",
    "\n",
    "print(encodeNewdf)"
   ]
  },
  {
   "cell_type": "code",
   "execution_count": null,
   "id": "091142a2",
   "metadata": {},
   "outputs": [],
   "source": [
    "print(\"User input in actual DataFrame: \\n\")\n",
    "print(newdf)\n",
    "print(\"\\n \\n \\nUser input in encoded DataFrame \\n\")\n",
    "print(encodeNewdf)"
   ]
  },
  {
   "cell_type": "markdown",
   "id": "f2f2f533",
   "metadata": {},
   "source": [
    "# Apply Trained Model on Feature Vector of Unseen Data and Output Prediction to User"
   ]
  },
  {
   "cell_type": "code",
   "execution_count": null,
   "id": "c8dd0be4",
   "metadata": {},
   "outputs": [],
   "source": [
    "outputPredictionBM= loadBM.predict(encodeNewdf)\n",
    "\n",
    "if outputPredictionBM==0:\n",
    "    stroke= \"Person has no stroke\"\n",
    "    \n",
    "elif outputPredictionBM==1:\n",
    "    stroke=\"Person has stroke\"\n",
    "\n",
    "print(\"\\n Prediction: %s\"%stroke)"
   ]
  }
 ],
 "metadata": {
  "kernelspec": {
   "display_name": "Python 3 (ipykernel)",
   "language": "python",
   "name": "python3"
  },
  "language_info": {
   "codemirror_mode": {
    "name": "ipython",
    "version": 3
   },
   "file_extension": ".py",
   "mimetype": "text/x-python",
   "name": "python",
   "nbconvert_exporter": "python",
   "pygments_lexer": "ipython3",
   "version": "3.9.7"
  }
 },
 "nbformat": 4,
 "nbformat_minor": 5
}
