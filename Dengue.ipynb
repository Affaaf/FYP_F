{
 "cells": [
  {
   "attachments": {},
   "cell_type": "markdown",
   "id": "bd81d0bf",
   "metadata": {},
   "source": [
    "# Step 1: Import Libraries"
   ]
  },
  {
   "cell_type": "code",
   "execution_count": 4,
   "id": "61988799",
   "metadata": {},
   "outputs": [],
   "source": [
    "import pickle\n",
    "import pandas as pd\n",
    "import numpy as np\n",
    "from sklearn.linear_model import LogisticRegression\n",
    "from sklearn.naive_bayes import BernoulliNB\n",
    "from sklearn.ensemble import RandomForestClassifier\n",
    "from sklearn.svm import LinearSVC\n",
    "from sklearn.metrics import accuracy_score\n",
    "from sklearn.model_selection import train_test_split\n",
    "import matplotlib.pyplot as plt\n",
    "%matplotlib inline\n",
    "import seaborn as sns\n"
   ]
  },
  {
   "attachments": {},
   "cell_type": "markdown",
   "id": "25559127",
   "metadata": {},
   "source": [
    "# Step 2: Read, Understand and Pre-process Train/Test Data"
   ]
  },
  {
   "attachments": {},
   "cell_type": "markdown",
   "id": "bd4bea50",
   "metadata": {},
   "source": [
    "# Step 2.1: Read Data"
   ]
  },
  {
   "cell_type": "code",
   "execution_count": 5,
   "id": "63e7fc88",
   "metadata": {},
   "outputs": [],
   "source": [
    "data = pd.read_csv('dengue.csv') "
   ]
  },
  {
   "cell_type": "code",
   "execution_count": 6,
   "id": "082260df",
   "metadata": {},
   "outputs": [
    {
     "data": {
      "text/html": [
       "<div>\n",
       "<style scoped>\n",
       "    .dataframe tbody tr th:only-of-type {\n",
       "        vertical-align: middle;\n",
       "    }\n",
       "\n",
       "    .dataframe tbody tr th {\n",
       "        vertical-align: top;\n",
       "    }\n",
       "\n",
       "    .dataframe thead th {\n",
       "        text-align: right;\n",
       "    }\n",
       "</style>\n",
       "<table border=\"1\" class=\"dataframe\">\n",
       "  <thead>\n",
       "    <tr style=\"text-align: right;\">\n",
       "      <th></th>\n",
       "      <th>male</th>\n",
       "      <th>age</th>\n",
       "      <th>Vomiting</th>\n",
       "      <th>Nausea</th>\n",
       "      <th>Tirdness</th>\n",
       "      <th>Musclepain</th>\n",
       "      <th>Eyepain</th>\n",
       "      <th>FEVER</th>\n",
       "      <th>sysBP</th>\n",
       "      <th>diaBP</th>\n",
       "      <th>heartRate</th>\n",
       "      <th>Dengue</th>\n",
       "    </tr>\n",
       "  </thead>\n",
       "  <tbody>\n",
       "    <tr>\n",
       "      <th>0</th>\n",
       "      <td>1</td>\n",
       "      <td>39</td>\n",
       "      <td>0</td>\n",
       "      <td>0</td>\n",
       "      <td>0</td>\n",
       "      <td>0</td>\n",
       "      <td>0</td>\n",
       "      <td>0</td>\n",
       "      <td>106.0</td>\n",
       "      <td>70.0</td>\n",
       "      <td>80.0</td>\n",
       "      <td>0</td>\n",
       "    </tr>\n",
       "    <tr>\n",
       "      <th>1</th>\n",
       "      <td>0</td>\n",
       "      <td>46</td>\n",
       "      <td>0</td>\n",
       "      <td>0</td>\n",
       "      <td>1</td>\n",
       "      <td>0</td>\n",
       "      <td>0</td>\n",
       "      <td>0</td>\n",
       "      <td>121.0</td>\n",
       "      <td>81.0</td>\n",
       "      <td>95.0</td>\n",
       "      <td>0</td>\n",
       "    </tr>\n",
       "    <tr>\n",
       "      <th>2</th>\n",
       "      <td>1</td>\n",
       "      <td>48</td>\n",
       "      <td>0</td>\n",
       "      <td>0</td>\n",
       "      <td>1</td>\n",
       "      <td>0</td>\n",
       "      <td>1</td>\n",
       "      <td>0</td>\n",
       "      <td>127.5</td>\n",
       "      <td>80.0</td>\n",
       "      <td>75.0</td>\n",
       "      <td>0</td>\n",
       "    </tr>\n",
       "    <tr>\n",
       "      <th>3</th>\n",
       "      <td>0</td>\n",
       "      <td>61</td>\n",
       "      <td>1</td>\n",
       "      <td>0</td>\n",
       "      <td>1</td>\n",
       "      <td>1</td>\n",
       "      <td>0</td>\n",
       "      <td>0</td>\n",
       "      <td>150.0</td>\n",
       "      <td>95.0</td>\n",
       "      <td>65.0</td>\n",
       "      <td>1</td>\n",
       "    </tr>\n",
       "    <tr>\n",
       "      <th>4</th>\n",
       "      <td>0</td>\n",
       "      <td>46</td>\n",
       "      <td>0</td>\n",
       "      <td>0</td>\n",
       "      <td>0</td>\n",
       "      <td>1</td>\n",
       "      <td>0</td>\n",
       "      <td>0</td>\n",
       "      <td>130.0</td>\n",
       "      <td>84.0</td>\n",
       "      <td>85.0</td>\n",
       "      <td>0</td>\n",
       "    </tr>\n",
       "    <tr>\n",
       "      <th>5</th>\n",
       "      <td>0</td>\n",
       "      <td>43</td>\n",
       "      <td>0</td>\n",
       "      <td>0</td>\n",
       "      <td>1</td>\n",
       "      <td>1</td>\n",
       "      <td>0</td>\n",
       "      <td>0</td>\n",
       "      <td>180.0</td>\n",
       "      <td>110.0</td>\n",
       "      <td>77.0</td>\n",
       "      <td>0</td>\n",
       "    </tr>\n",
       "    <tr>\n",
       "      <th>6</th>\n",
       "      <td>0</td>\n",
       "      <td>63</td>\n",
       "      <td>1</td>\n",
       "      <td>0</td>\n",
       "      <td>0</td>\n",
       "      <td>0</td>\n",
       "      <td>0</td>\n",
       "      <td>0</td>\n",
       "      <td>138.0</td>\n",
       "      <td>71.0</td>\n",
       "      <td>60.0</td>\n",
       "      <td>1</td>\n",
       "    </tr>\n",
       "    <tr>\n",
       "      <th>7</th>\n",
       "      <td>0</td>\n",
       "      <td>45</td>\n",
       "      <td>0</td>\n",
       "      <td>0</td>\n",
       "      <td>0</td>\n",
       "      <td>0</td>\n",
       "      <td>0</td>\n",
       "      <td>0</td>\n",
       "      <td>100.0</td>\n",
       "      <td>71.0</td>\n",
       "      <td>79.0</td>\n",
       "      <td>0</td>\n",
       "    </tr>\n",
       "    <tr>\n",
       "      <th>8</th>\n",
       "      <td>1</td>\n",
       "      <td>14</td>\n",
       "      <td>0</td>\n",
       "      <td>0</td>\n",
       "      <td>1</td>\n",
       "      <td>0</td>\n",
       "      <td>1</td>\n",
       "      <td>0</td>\n",
       "      <td>141.5</td>\n",
       "      <td>89.0</td>\n",
       "      <td>76.0</td>\n",
       "      <td>0</td>\n",
       "    </tr>\n",
       "    <tr>\n",
       "      <th>9</th>\n",
       "      <td>1</td>\n",
       "      <td>43</td>\n",
       "      <td>0</td>\n",
       "      <td>0</td>\n",
       "      <td>1</td>\n",
       "      <td>0</td>\n",
       "      <td>0</td>\n",
       "      <td>0</td>\n",
       "      <td>162.0</td>\n",
       "      <td>107.0</td>\n",
       "      <td>93.0</td>\n",
       "      <td>0</td>\n",
       "    </tr>\n",
       "  </tbody>\n",
       "</table>\n",
       "</div>"
      ],
      "text/plain": [
       "   male  age  Vomiting  Nausea  Tirdness  Musclepain  Eyepain  FEVER  sysBP  \\\n",
       "0     1   39         0       0         0           0        0      0  106.0   \n",
       "1     0   46         0       0         1           0        0      0  121.0   \n",
       "2     1   48         0       0         1           0        1      0  127.5   \n",
       "3     0   61         1       0         1           1        0      0  150.0   \n",
       "4     0   46         0       0         0           1        0      0  130.0   \n",
       "5     0   43         0       0         1           1        0      0  180.0   \n",
       "6     0   63         1       0         0           0        0      0  138.0   \n",
       "7     0   45         0       0         0           0        0      0  100.0   \n",
       "8     1   14         0       0         1           0        1      0  141.5   \n",
       "9     1   43         0       0         1           0        0      0  162.0   \n",
       "\n",
       "   diaBP  heartRate  Dengue  \n",
       "0   70.0       80.0       0  \n",
       "1   81.0       95.0       0  \n",
       "2   80.0       75.0       0  \n",
       "3   95.0       65.0       1  \n",
       "4   84.0       85.0       0  \n",
       "5  110.0       77.0       0  \n",
       "6   71.0       60.0       1  \n",
       "7   71.0       79.0       0  \n",
       "8   89.0       76.0       0  \n",
       "9  107.0       93.0       0  "
      ]
     },
     "execution_count": 6,
     "metadata": {},
     "output_type": "execute_result"
    }
   ],
   "source": [
    "data.head(10)"
   ]
  },
  {
   "cell_type": "code",
   "execution_count": 7,
   "id": "a827d3da",
   "metadata": {},
   "outputs": [
    {
     "data": {
      "text/plain": [
       "male            int64\n",
       "age             int64\n",
       "Vomiting        int64\n",
       "Nausea          int64\n",
       "Tirdness        int64\n",
       "Musclepain      int64\n",
       "Eyepain         int64\n",
       "FEVER           int64\n",
       "sysBP         float64\n",
       "diaBP         float64\n",
       "heartRate     float64\n",
       "Dengue          int64\n",
       "dtype: object"
      ]
     },
     "execution_count": 7,
     "metadata": {},
     "output_type": "execute_result"
    }
   ],
   "source": [
    "data.dtypes"
   ]
  },
  {
   "attachments": {},
   "cell_type": "markdown",
   "id": "2d477dfe",
   "metadata": {},
   "source": [
    "# Step 2.2: Understand Data"
   ]
  },
  {
   "cell_type": "code",
   "execution_count": 8,
   "id": "9ae27649",
   "metadata": {},
   "outputs": [
    {
     "name": "stdout",
     "output_type": "stream",
     "text": [
      "Train Dataset:\n",
      "index  male  age  Vomiting  Nausea  Tirdness  Musclepain  Eyepain  FEVER  \\\n",
      "0         1   39         0       0         0           0        0      0   \n",
      "1         0   46         0       0         1           0        0      0   \n",
      "2         1   48         0       0         1           0        1      0   \n",
      "3         0   61         1       0         1           1        0      0   \n",
      "4         0   46         0       0         0           1        0      0   \n",
      "...     ...  ...       ...     ...       ...         ...      ...    ...   \n",
      "1001      1   46         0       0         0           1        1      0   \n",
      "1002      1   60         0       0         0           1        1      0   \n",
      "1003      0   64         0       0         0           1        0      0   \n",
      "1004      0   43         0       0         0           0        1      0   \n",
      "1005      1   50         0       0         0           0        0      0   \n",
      "\n",
      "index  sysBP  diaBP  heartRate  Dengue  \n",
      "0      106.0   70.0       80.0       0  \n",
      "1      121.0   81.0       95.0       0  \n",
      "2      127.5   80.0       75.0       0  \n",
      "3      150.0   95.0       65.0       1  \n",
      "4      130.0   84.0       85.0       0  \n",
      "...      ...    ...        ...     ...  \n",
      "1001   124.0   85.0      100.0       0  \n",
      "1002   167.0  105.0       80.0       0  \n",
      "1003   206.0  104.0       70.0       0  \n",
      "1004   117.0   67.0       58.0       0  \n",
      "1005   145.0   94.0       60.0       0  \n",
      "\n",
      "[1006 rows x 12 columns]\n"
     ]
    }
   ],
   "source": [
    "data.columns.name=\"index\"\n",
    "print(\"Train Dataset:\")\n",
    "print(data)"
   ]
  },
  {
   "cell_type": "code",
   "execution_count": 9,
   "id": "13001016",
   "metadata": {},
   "outputs": [
    {
     "name": "stdout",
     "output_type": "stream",
     "text": [
      "Train Data Set Columns:\n",
      "Index(['male', 'age', 'Vomiting', 'Nausea', 'Tirdness', 'Musclepain',\n",
      "       'Eyepain', 'FEVER', 'sysBP', 'diaBP', 'heartRate', 'Dengue'],\n",
      "      dtype='object', name='index')\n",
      "\n",
      "\n",
      "Number of instances in Train Dataset\n",
      "Train Instances: 1006\n"
     ]
    }
   ],
   "source": [
    "print(\"Train Data Set Columns:\")\n",
    "trainDatadf=pd.DataFrame(data)\n",
    "trainDataIndex=trainDatadf.columns\n",
    "print(trainDataIndex)\n",
    "\n",
    "print(\"\\n\")\n",
    "print(\"Number of instances in Train Dataset\")\n",
    "print(\"Train Instances: %s\"% (len(trainDatadf.index)))"
   ]
  },
  {
   "cell_type": "code",
   "execution_count": 10,
   "id": "7e7ff733",
   "metadata": {},
   "outputs": [
    {
     "data": {
      "text/plain": [
       "Index(['male', 'age', 'Vomiting', 'Nausea', 'Tirdness', 'Musclepain',\n",
       "       'Eyepain', 'FEVER', 'sysBP', 'diaBP', 'heartRate', 'Dengue'],\n",
       "      dtype='object', name='index')"
      ]
     },
     "execution_count": 10,
     "metadata": {},
     "output_type": "execute_result"
    }
   ],
   "source": [
    "trainDataIndex"
   ]
  },
  {
   "cell_type": "code",
   "execution_count": 11,
   "id": "323c156e",
   "metadata": {},
   "outputs": [
    {
     "data": {
      "text/html": [
       "<div>\n",
       "<style scoped>\n",
       "    .dataframe tbody tr th:only-of-type {\n",
       "        vertical-align: middle;\n",
       "    }\n",
       "\n",
       "    .dataframe tbody tr th {\n",
       "        vertical-align: top;\n",
       "    }\n",
       "\n",
       "    .dataframe thead th {\n",
       "        text-align: right;\n",
       "    }\n",
       "</style>\n",
       "<table border=\"1\" class=\"dataframe\">\n",
       "  <thead>\n",
       "    <tr style=\"text-align: right;\">\n",
       "      <th>index</th>\n",
       "      <th>male</th>\n",
       "      <th>age</th>\n",
       "      <th>Vomiting</th>\n",
       "      <th>Nausea</th>\n",
       "      <th>Tirdness</th>\n",
       "      <th>Musclepain</th>\n",
       "      <th>Eyepain</th>\n",
       "      <th>FEVER</th>\n",
       "      <th>sysBP</th>\n",
       "      <th>diaBP</th>\n",
       "      <th>heartRate</th>\n",
       "      <th>Dengue</th>\n",
       "    </tr>\n",
       "  </thead>\n",
       "  <tbody>\n",
       "    <tr>\n",
       "      <th>0</th>\n",
       "      <td>1</td>\n",
       "      <td>39</td>\n",
       "      <td>0</td>\n",
       "      <td>0</td>\n",
       "      <td>0</td>\n",
       "      <td>0</td>\n",
       "      <td>0</td>\n",
       "      <td>0</td>\n",
       "      <td>106.0</td>\n",
       "      <td>70.0</td>\n",
       "      <td>80.0</td>\n",
       "      <td>0</td>\n",
       "    </tr>\n",
       "    <tr>\n",
       "      <th>1</th>\n",
       "      <td>0</td>\n",
       "      <td>46</td>\n",
       "      <td>0</td>\n",
       "      <td>0</td>\n",
       "      <td>1</td>\n",
       "      <td>0</td>\n",
       "      <td>0</td>\n",
       "      <td>0</td>\n",
       "      <td>121.0</td>\n",
       "      <td>81.0</td>\n",
       "      <td>95.0</td>\n",
       "      <td>0</td>\n",
       "    </tr>\n",
       "    <tr>\n",
       "      <th>2</th>\n",
       "      <td>1</td>\n",
       "      <td>48</td>\n",
       "      <td>0</td>\n",
       "      <td>0</td>\n",
       "      <td>1</td>\n",
       "      <td>0</td>\n",
       "      <td>1</td>\n",
       "      <td>0</td>\n",
       "      <td>127.5</td>\n",
       "      <td>80.0</td>\n",
       "      <td>75.0</td>\n",
       "      <td>0</td>\n",
       "    </tr>\n",
       "    <tr>\n",
       "      <th>3</th>\n",
       "      <td>0</td>\n",
       "      <td>61</td>\n",
       "      <td>1</td>\n",
       "      <td>0</td>\n",
       "      <td>1</td>\n",
       "      <td>1</td>\n",
       "      <td>0</td>\n",
       "      <td>0</td>\n",
       "      <td>150.0</td>\n",
       "      <td>95.0</td>\n",
       "      <td>65.0</td>\n",
       "      <td>1</td>\n",
       "    </tr>\n",
       "    <tr>\n",
       "      <th>4</th>\n",
       "      <td>0</td>\n",
       "      <td>46</td>\n",
       "      <td>0</td>\n",
       "      <td>0</td>\n",
       "      <td>0</td>\n",
       "      <td>1</td>\n",
       "      <td>0</td>\n",
       "      <td>0</td>\n",
       "      <td>130.0</td>\n",
       "      <td>84.0</td>\n",
       "      <td>85.0</td>\n",
       "      <td>0</td>\n",
       "    </tr>\n",
       "    <tr>\n",
       "      <th>...</th>\n",
       "      <td>...</td>\n",
       "      <td>...</td>\n",
       "      <td>...</td>\n",
       "      <td>...</td>\n",
       "      <td>...</td>\n",
       "      <td>...</td>\n",
       "      <td>...</td>\n",
       "      <td>...</td>\n",
       "      <td>...</td>\n",
       "      <td>...</td>\n",
       "      <td>...</td>\n",
       "      <td>...</td>\n",
       "    </tr>\n",
       "    <tr>\n",
       "      <th>1001</th>\n",
       "      <td>1</td>\n",
       "      <td>46</td>\n",
       "      <td>0</td>\n",
       "      <td>0</td>\n",
       "      <td>0</td>\n",
       "      <td>1</td>\n",
       "      <td>1</td>\n",
       "      <td>0</td>\n",
       "      <td>124.0</td>\n",
       "      <td>85.0</td>\n",
       "      <td>100.0</td>\n",
       "      <td>0</td>\n",
       "    </tr>\n",
       "    <tr>\n",
       "      <th>1002</th>\n",
       "      <td>1</td>\n",
       "      <td>60</td>\n",
       "      <td>0</td>\n",
       "      <td>0</td>\n",
       "      <td>0</td>\n",
       "      <td>1</td>\n",
       "      <td>1</td>\n",
       "      <td>0</td>\n",
       "      <td>167.0</td>\n",
       "      <td>105.0</td>\n",
       "      <td>80.0</td>\n",
       "      <td>0</td>\n",
       "    </tr>\n",
       "    <tr>\n",
       "      <th>1003</th>\n",
       "      <td>0</td>\n",
       "      <td>64</td>\n",
       "      <td>0</td>\n",
       "      <td>0</td>\n",
       "      <td>0</td>\n",
       "      <td>1</td>\n",
       "      <td>0</td>\n",
       "      <td>0</td>\n",
       "      <td>206.0</td>\n",
       "      <td>104.0</td>\n",
       "      <td>70.0</td>\n",
       "      <td>0</td>\n",
       "    </tr>\n",
       "    <tr>\n",
       "      <th>1004</th>\n",
       "      <td>0</td>\n",
       "      <td>43</td>\n",
       "      <td>0</td>\n",
       "      <td>0</td>\n",
       "      <td>0</td>\n",
       "      <td>0</td>\n",
       "      <td>1</td>\n",
       "      <td>0</td>\n",
       "      <td>117.0</td>\n",
       "      <td>67.0</td>\n",
       "      <td>58.0</td>\n",
       "      <td>0</td>\n",
       "    </tr>\n",
       "    <tr>\n",
       "      <th>1005</th>\n",
       "      <td>1</td>\n",
       "      <td>50</td>\n",
       "      <td>0</td>\n",
       "      <td>0</td>\n",
       "      <td>0</td>\n",
       "      <td>0</td>\n",
       "      <td>0</td>\n",
       "      <td>0</td>\n",
       "      <td>145.0</td>\n",
       "      <td>94.0</td>\n",
       "      <td>60.0</td>\n",
       "      <td>0</td>\n",
       "    </tr>\n",
       "  </tbody>\n",
       "</table>\n",
       "<p>1006 rows × 12 columns</p>\n",
       "</div>"
      ],
      "text/plain": [
       "index  male  age  Vomiting  Nausea  Tirdness  Musclepain  Eyepain  FEVER  \\\n",
       "0         1   39         0       0         0           0        0      0   \n",
       "1         0   46         0       0         1           0        0      0   \n",
       "2         1   48         0       0         1           0        1      0   \n",
       "3         0   61         1       0         1           1        0      0   \n",
       "4         0   46         0       0         0           1        0      0   \n",
       "...     ...  ...       ...     ...       ...         ...      ...    ...   \n",
       "1001      1   46         0       0         0           1        1      0   \n",
       "1002      1   60         0       0         0           1        1      0   \n",
       "1003      0   64         0       0         0           1        0      0   \n",
       "1004      0   43         0       0         0           0        1      0   \n",
       "1005      1   50         0       0         0           0        0      0   \n",
       "\n",
       "index  sysBP  diaBP  heartRate  Dengue  \n",
       "0      106.0   70.0       80.0       0  \n",
       "1      121.0   81.0       95.0       0  \n",
       "2      127.5   80.0       75.0       0  \n",
       "3      150.0   95.0       65.0       1  \n",
       "4      130.0   84.0       85.0       0  \n",
       "...      ...    ...        ...     ...  \n",
       "1001   124.0   85.0      100.0       0  \n",
       "1002   167.0  105.0       80.0       0  \n",
       "1003   206.0  104.0       70.0       0  \n",
       "1004   117.0   67.0       58.0       0  \n",
       "1005   145.0   94.0       60.0       0  \n",
       "\n",
       "[1006 rows x 12 columns]"
      ]
     },
     "execution_count": 11,
     "metadata": {},
     "output_type": "execute_result"
    }
   ],
   "source": [
    "trainDatadf"
   ]
  },
  {
   "cell_type": "code",
   "execution_count": 12,
   "id": "0118c452",
   "metadata": {},
   "outputs": [
    {
     "data": {
      "text/html": [
       "<div>\n",
       "<style scoped>\n",
       "    .dataframe tbody tr th:only-of-type {\n",
       "        vertical-align: middle;\n",
       "    }\n",
       "\n",
       "    .dataframe tbody tr th {\n",
       "        vertical-align: top;\n",
       "    }\n",
       "\n",
       "    .dataframe thead th {\n",
       "        text-align: right;\n",
       "    }\n",
       "</style>\n",
       "<table border=\"1\" class=\"dataframe\">\n",
       "  <thead>\n",
       "    <tr style=\"text-align: right;\">\n",
       "      <th>index</th>\n",
       "      <th>male</th>\n",
       "      <th>age</th>\n",
       "      <th>Vomiting</th>\n",
       "      <th>Nausea</th>\n",
       "      <th>Tirdness</th>\n",
       "      <th>Musclepain</th>\n",
       "      <th>Eyepain</th>\n",
       "      <th>FEVER</th>\n",
       "      <th>sysBP</th>\n",
       "      <th>diaBP</th>\n",
       "      <th>heartRate</th>\n",
       "      <th>Dengue</th>\n",
       "    </tr>\n",
       "  </thead>\n",
       "  <tbody>\n",
       "    <tr>\n",
       "      <th>count</th>\n",
       "      <td>1006.000000</td>\n",
       "      <td>1006.000000</td>\n",
       "      <td>1006.000000</td>\n",
       "      <td>1006.000000</td>\n",
       "      <td>1006.000000</td>\n",
       "      <td>1006.000000</td>\n",
       "      <td>1006.000000</td>\n",
       "      <td>1006.000000</td>\n",
       "      <td>1006.000000</td>\n",
       "      <td>1006.000000</td>\n",
       "      <td>1005.000000</td>\n",
       "      <td>1006.000000</td>\n",
       "    </tr>\n",
       "    <tr>\n",
       "      <th>mean</th>\n",
       "      <td>0.417495</td>\n",
       "      <td>49.219682</td>\n",
       "      <td>0.026839</td>\n",
       "      <td>0.003976</td>\n",
       "      <td>0.498012</td>\n",
       "      <td>0.487078</td>\n",
       "      <td>0.491054</td>\n",
       "      <td>0.002982</td>\n",
       "      <td>132.550696</td>\n",
       "      <td>82.886183</td>\n",
       "      <td>75.950249</td>\n",
       "      <td>0.167992</td>\n",
       "    </tr>\n",
       "    <tr>\n",
       "      <th>std</th>\n",
       "      <td>0.493391</td>\n",
       "      <td>9.022937</td>\n",
       "      <td>0.161693</td>\n",
       "      <td>0.062962</td>\n",
       "      <td>0.500245</td>\n",
       "      <td>0.500082</td>\n",
       "      <td>0.500169</td>\n",
       "      <td>0.054554</td>\n",
       "      <td>22.614626</td>\n",
       "      <td>12.045734</td>\n",
       "      <td>11.956991</td>\n",
       "      <td>0.374045</td>\n",
       "    </tr>\n",
       "    <tr>\n",
       "      <th>min</th>\n",
       "      <td>0.000000</td>\n",
       "      <td>14.000000</td>\n",
       "      <td>0.000000</td>\n",
       "      <td>0.000000</td>\n",
       "      <td>0.000000</td>\n",
       "      <td>0.000000</td>\n",
       "      <td>0.000000</td>\n",
       "      <td>0.000000</td>\n",
       "      <td>90.000000</td>\n",
       "      <td>55.000000</td>\n",
       "      <td>48.000000</td>\n",
       "      <td>0.000000</td>\n",
       "    </tr>\n",
       "    <tr>\n",
       "      <th>25%</th>\n",
       "      <td>0.000000</td>\n",
       "      <td>42.000000</td>\n",
       "      <td>0.000000</td>\n",
       "      <td>0.000000</td>\n",
       "      <td>0.000000</td>\n",
       "      <td>0.000000</td>\n",
       "      <td>0.000000</td>\n",
       "      <td>0.000000</td>\n",
       "      <td>117.000000</td>\n",
       "      <td>74.500000</td>\n",
       "      <td>68.000000</td>\n",
       "      <td>0.000000</td>\n",
       "    </tr>\n",
       "    <tr>\n",
       "      <th>50%</th>\n",
       "      <td>0.000000</td>\n",
       "      <td>48.000000</td>\n",
       "      <td>0.000000</td>\n",
       "      <td>0.000000</td>\n",
       "      <td>0.000000</td>\n",
       "      <td>0.000000</td>\n",
       "      <td>0.000000</td>\n",
       "      <td>0.000000</td>\n",
       "      <td>128.000000</td>\n",
       "      <td>82.000000</td>\n",
       "      <td>75.000000</td>\n",
       "      <td>0.000000</td>\n",
       "    </tr>\n",
       "    <tr>\n",
       "      <th>75%</th>\n",
       "      <td>1.000000</td>\n",
       "      <td>56.000000</td>\n",
       "      <td>0.000000</td>\n",
       "      <td>0.000000</td>\n",
       "      <td>1.000000</td>\n",
       "      <td>1.000000</td>\n",
       "      <td>1.000000</td>\n",
       "      <td>0.000000</td>\n",
       "      <td>144.000000</td>\n",
       "      <td>90.000000</td>\n",
       "      <td>83.000000</td>\n",
       "      <td>0.000000</td>\n",
       "    </tr>\n",
       "    <tr>\n",
       "      <th>max</th>\n",
       "      <td>1.000000</td>\n",
       "      <td>68.000000</td>\n",
       "      <td>1.000000</td>\n",
       "      <td>1.000000</td>\n",
       "      <td>1.000000</td>\n",
       "      <td>1.000000</td>\n",
       "      <td>1.000000</td>\n",
       "      <td>1.000000</td>\n",
       "      <td>295.000000</td>\n",
       "      <td>140.000000</td>\n",
       "      <td>140.000000</td>\n",
       "      <td>1.000000</td>\n",
       "    </tr>\n",
       "  </tbody>\n",
       "</table>\n",
       "</div>"
      ],
      "text/plain": [
       "index         male          age     Vomiting       Nausea     Tirdness  \\\n",
       "count  1006.000000  1006.000000  1006.000000  1006.000000  1006.000000   \n",
       "mean      0.417495    49.219682     0.026839     0.003976     0.498012   \n",
       "std       0.493391     9.022937     0.161693     0.062962     0.500245   \n",
       "min       0.000000    14.000000     0.000000     0.000000     0.000000   \n",
       "25%       0.000000    42.000000     0.000000     0.000000     0.000000   \n",
       "50%       0.000000    48.000000     0.000000     0.000000     0.000000   \n",
       "75%       1.000000    56.000000     0.000000     0.000000     1.000000   \n",
       "max       1.000000    68.000000     1.000000     1.000000     1.000000   \n",
       "\n",
       "index   Musclepain      Eyepain        FEVER        sysBP        diaBP  \\\n",
       "count  1006.000000  1006.000000  1006.000000  1006.000000  1006.000000   \n",
       "mean      0.487078     0.491054     0.002982   132.550696    82.886183   \n",
       "std       0.500082     0.500169     0.054554    22.614626    12.045734   \n",
       "min       0.000000     0.000000     0.000000    90.000000    55.000000   \n",
       "25%       0.000000     0.000000     0.000000   117.000000    74.500000   \n",
       "50%       0.000000     0.000000     0.000000   128.000000    82.000000   \n",
       "75%       1.000000     1.000000     0.000000   144.000000    90.000000   \n",
       "max       1.000000     1.000000     1.000000   295.000000   140.000000   \n",
       "\n",
       "index    heartRate       Dengue  \n",
       "count  1005.000000  1006.000000  \n",
       "mean     75.950249     0.167992  \n",
       "std      11.956991     0.374045  \n",
       "min      48.000000     0.000000  \n",
       "25%      68.000000     0.000000  \n",
       "50%      75.000000     0.000000  \n",
       "75%      83.000000     0.000000  \n",
       "max     140.000000     1.000000  "
      ]
     },
     "execution_count": 12,
     "metadata": {},
     "output_type": "execute_result"
    }
   ],
   "source": [
    "data.describe()"
   ]
  },
  {
   "cell_type": "code",
   "execution_count": 13,
   "id": "eccf788c",
   "metadata": {},
   "outputs": [
    {
     "name": "stdout",
     "output_type": "stream",
     "text": [
      "<class 'pandas.core.frame.DataFrame'>\n",
      "RangeIndex: 1006 entries, 0 to 1005\n",
      "Data columns (total 12 columns):\n",
      " #   Column      Non-Null Count  Dtype  \n",
      "---  ------      --------------  -----  \n",
      " 0   male        1006 non-null   int64  \n",
      " 1   age         1006 non-null   int64  \n",
      " 2   Vomiting    1006 non-null   int64  \n",
      " 3   Nausea      1006 non-null   int64  \n",
      " 4   Tirdness    1006 non-null   int64  \n",
      " 5   Musclepain  1006 non-null   int64  \n",
      " 6   Eyepain     1006 non-null   int64  \n",
      " 7   FEVER       1006 non-null   int64  \n",
      " 8   sysBP       1006 non-null   float64\n",
      " 9   diaBP       1006 non-null   float64\n",
      " 10  heartRate   1005 non-null   float64\n",
      " 11  Dengue      1006 non-null   int64  \n",
      "dtypes: float64(3), int64(9)\n",
      "memory usage: 94.4 KB\n"
     ]
    }
   ],
   "source": [
    "data.info()"
   ]
  },
  {
   "cell_type": "code",
   "execution_count": 14,
   "id": "1d4ed476",
   "metadata": {},
   "outputs": [
    {
     "data": {
      "text/plain": [
       "0       False\n",
       "1       False\n",
       "2       False\n",
       "3       False\n",
       "4       False\n",
       "        ...  \n",
       "1001    False\n",
       "1002    False\n",
       "1003    False\n",
       "1004    False\n",
       "1005    False\n",
       "Length: 1006, dtype: bool"
      ]
     },
     "execution_count": 14,
     "metadata": {},
     "output_type": "execute_result"
    }
   ],
   "source": [
    "data.duplicated()"
   ]
  },
  {
   "cell_type": "code",
   "execution_count": 15,
   "id": "e92fffde",
   "metadata": {},
   "outputs": [],
   "source": [
    "q=data.drop_duplicates()"
   ]
  },
  {
   "cell_type": "code",
   "execution_count": 16,
   "id": "7dc4adae",
   "metadata": {},
   "outputs": [
    {
     "data": {
      "text/plain": [
       "<Axes: >"
      ]
     },
     "execution_count": 16,
     "metadata": {},
     "output_type": "execute_result"
    },
    {
     "data": {
      "image/png": "[encoded data removed]",
      "text/plain": [
       "<Figure size 640x480 with 1 Axes>"
      ]
     },
     "metadata": {},
     "output_type": "display_data"
    }
   ],
   "source": [
    "data.age.hist()"
   ]
  },
  {
   "cell_type": "code",
   "execution_count": 17,
   "id": "7f29f0f0",
   "metadata": {},
   "outputs": [
    {
     "data": {
      "text/plain": [
       "<Axes: ylabel='age'>"
      ]
     },
     "execution_count": 17,
     "metadata": {},
     "output_type": "execute_result"
    },
    {
     "data": {
      "image/png": "[encoded data removed]",
      "text/plain": [
       "<Figure size 640x480 with 1 Axes>"
      ]
     },
     "metadata": {},
     "output_type": "display_data"
    }
   ],
   "source": [
    "data.groupby('FEVER').age.count().plot(kind='pie')"
   ]
  },
  {
   "cell_type": "code",
   "execution_count": 18,
   "id": "ab44a320",
   "metadata": {},
   "outputs": [
    {
     "ename": "NameError",
     "evalue": "name 'sns' is not defined",
     "output_type": "error",
     "traceback": [
      "\u001b[1;31m---------------------------------------------------------------------------\u001b[0m",
      "\u001b[1;31mNameError\u001b[0m                                 Traceback (most recent call last)",
      "Cell \u001b[1;32mIn[18], line 1\u001b[0m\n\u001b[1;32m----> 1\u001b[0m \u001b[43msns\u001b[49m\u001b[38;5;241m.\u001b[39mcountplot(data\u001b[38;5;241m.\u001b[39mVomiting)\n",
      "\u001b[1;31mNameError\u001b[0m: name 'sns' is not defined"
     ]
    }
   ],
   "source": [
    "sns.countplot(data.Vomiting)"
   ]
  },
  {
   "cell_type": "code",
   "execution_count": 19,
   "id": "e2a5ce0d",
   "metadata": {},
   "outputs": [
    {
     "data": {
      "text/plain": [
       "<Axes: ylabel='Frequency'>"
      ]
     },
     "execution_count": 19,
     "metadata": {},
     "output_type": "execute_result"
    },
    {
     "data": {
      "image/png": "[encoded data removed]",
      "text/plain": [
       "<Figure size 640x480 with 1 Axes>"
      ]
     },
     "metadata": {},
     "output_type": "display_data"
    }
   ],
   "source": [
    "data.Dengue.plot(kind='hist' , grid = False)"
   ]
  },
  {
   "cell_type": "code",
   "execution_count": 20,
   "id": "54d3dbef",
   "metadata": {},
   "outputs": [
    {
     "ename": "NameError",
     "evalue": "name 'sns' is not defined",
     "output_type": "error",
     "traceback": [
      "\u001b[1;31m---------------------------------------------------------------------------\u001b[0m",
      "\u001b[1;31mNameError\u001b[0m                                 Traceback (most recent call last)",
      "Cell \u001b[1;32mIn[20], line 1\u001b[0m\n\u001b[1;32m----> 1\u001b[0m \u001b[43msns\u001b[49m\u001b[38;5;241m.\u001b[39mcountplot(data\u001b[38;5;241m.\u001b[39mTirdness)\n\u001b[0;32m      2\u001b[0m plt\u001b[38;5;241m.\u001b[39mshow()\n",
      "\u001b[1;31mNameError\u001b[0m: name 'sns' is not defined"
     ]
    }
   ],
   "source": [
    "sns.countplot(data.Tirdness)\n",
    "plt.show()"
   ]
  },
  {
   "cell_type": "code",
   "execution_count": 21,
   "id": "b8a30e1b",
   "metadata": {},
   "outputs": [
    {
     "data": {
      "text/plain": [
       "<Axes: ylabel='Dengue'>"
      ]
     },
     "execution_count": 21,
     "metadata": {},
     "output_type": "execute_result"
    },
    {
     "data": {
      "image/png": "[encoded data removed]",
      "text/plain": [
       "<Figure size 640x480 with 1 Axes>"
      ]
     },
     "metadata": {},
     "output_type": "display_data"
    }
   ],
   "source": [
    "data.groupby('Dengue').FEVER.count().plot(kind='barh')"
   ]
  },
  {
   "cell_type": "code",
   "execution_count": 22,
   "id": "9ad9798f",
   "metadata": {},
   "outputs": [
    {
     "ename": "NameError",
     "evalue": "name 'sns' is not defined",
     "output_type": "error",
     "traceback": [
      "\u001b[1;31m---------------------------------------------------------------------------\u001b[0m",
      "\u001b[1;31mNameError\u001b[0m                                 Traceback (most recent call last)",
      "Cell \u001b[1;32mIn[22], line 1\u001b[0m\n\u001b[1;32m----> 1\u001b[0m \u001b[43msns\u001b[49m\u001b[38;5;241m.\u001b[39mheatmap(data\u001b[38;5;241m.\u001b[39mcorr(),annot\u001b[38;5;241m=\u001b[39m\u001b[38;5;28;01mFalse\u001b[39;00m)\n",
      "\u001b[1;31mNameError\u001b[0m: name 'sns' is not defined"
     ]
    }
   ],
   "source": [
    "sns.heatmap(data.corr(),annot=False)"
   ]
  },
  {
   "cell_type": "code",
   "execution_count": 23,
   "id": "b5d7b770",
   "metadata": {},
   "outputs": [
    {
     "data": {
      "text/plain": [
       "<Axes: xlabel='age'>"
      ]
     },
     "execution_count": 23,
     "metadata": {},
     "output_type": "execute_result"
    },
    {
     "data": {
      "image/png": "[encoded data removed]",
      "text/plain": [
       "<Figure size 640x480 with 1 Axes>"
      ]
     },
     "metadata": {},
     "output_type": "display_data"
    }
   ],
   "source": [
    "data.groupby('age').Dengue.sum().plot(kind='line')"
   ]
  },
  {
   "cell_type": "code",
   "execution_count": 24,
   "id": "727b9b62",
   "metadata": {},
   "outputs": [
    {
     "data": {
      "text/plain": [
       "<Axes: xlabel='age'>"
      ]
     },
     "execution_count": 24,
     "metadata": {},
     "output_type": "execute_result"
    },
    {
     "data": {
      "image/png": "[encoded data removed]",
      "text/plain": [
       "<Figure size 640x480 with 1 Axes>"
      ]
     },
     "metadata": {},
     "output_type": "display_data"
    }
   ],
   "source": [
    "data.groupby('age').Dengue.sum().plot(kind='area')"
   ]
  },
  {
   "cell_type": "code",
   "execution_count": 25,
   "id": "b58192f7",
   "metadata": {},
   "outputs": [
    {
     "ename": "NameError",
     "evalue": "name 'sns' is not defined",
     "output_type": "error",
     "traceback": [
      "\u001b[1;31m---------------------------------------------------------------------------\u001b[0m",
      "\u001b[1;31mNameError\u001b[0m                                 Traceback (most recent call last)",
      "Cell \u001b[1;32mIn[25], line 1\u001b[0m\n\u001b[1;32m----> 1\u001b[0m \u001b[43msns\u001b[49m\u001b[38;5;241m.\u001b[39mboxplot(x\u001b[38;5;241m=\u001b[39m\u001b[38;5;124m'\u001b[39m\u001b[38;5;124mDengue\u001b[39m\u001b[38;5;124m'\u001b[39m,y\u001b[38;5;241m=\u001b[39m\u001b[38;5;124m'\u001b[39m\u001b[38;5;124mage\u001b[39m\u001b[38;5;124m'\u001b[39m,data\u001b[38;5;241m=\u001b[39mdata)\n",
      "\u001b[1;31mNameError\u001b[0m: name 'sns' is not defined"
     ]
    }
   ],
   "source": [
    "sns.boxplot(x='Dengue',y='age',data=data)"
   ]
  },
  {
   "attachments": {},
   "cell_type": "markdown",
   "id": "105f645a",
   "metadata": {},
   "source": [
    "# pre-processsed data"
   ]
  },
  {
   "cell_type": "code",
   "execution_count": 26,
   "id": "6ca9872b",
   "metadata": {},
   "outputs": [
    {
     "name": "stdout",
     "output_type": "stream",
     "text": [
      "Train dataset before pre-processing:\n",
      "=========================================\n",
      "\n",
      "index  male  age  Vomiting  Nausea  Tirdness  Musclepain  Eyepain  FEVER  \\\n",
      "0         1   39         0       0         0           0        0      0   \n",
      "1         0   46         0       0         1           0        0      0   \n",
      "2         1   48         0       0         1           0        1      0   \n",
      "3         0   61         1       0         1           1        0      0   \n",
      "4         0   46         0       0         0           1        0      0   \n",
      "...     ...  ...       ...     ...       ...         ...      ...    ...   \n",
      "1001      1   46         0       0         0           1        1      0   \n",
      "1002      1   60         0       0         0           1        1      0   \n",
      "1003      0   64         0       0         0           1        0      0   \n",
      "1004      0   43         0       0         0           0        1      0   \n",
      "1005      1   50         0       0         0           0        0      0   \n",
      "\n",
      "index  sysBP  diaBP  heartRate  Dengue  \n",
      "0      106.0   70.0       80.0       0  \n",
      "1      121.0   81.0       95.0       0  \n",
      "2      127.5   80.0       75.0       0  \n",
      "3      150.0   95.0       65.0       1  \n",
      "4      130.0   84.0       85.0       0  \n",
      "...      ...    ...        ...     ...  \n",
      "1001   124.0   85.0      100.0       0  \n",
      "1002   167.0  105.0       80.0       0  \n",
      "1003   206.0  104.0       70.0       0  \n",
      "1004   117.0   67.0       58.0       0  \n",
      "1005   145.0   94.0       60.0       0  \n",
      "\n",
      "[1006 rows x 12 columns]\n",
      "\n",
      "\n",
      "\n",
      "Train dataset after pre-processing:\n",
      "=========================================\n",
      "\n",
      "index  male  age  Vomiting  Nausea  Tirdness  Musclepain  Eyepain  FEVER  \\\n",
      "0         1   39         0       0         0           0        0      0   \n",
      "1         0   46         0       0         1           0        0      0   \n",
      "2         1   48         0       0         1           0        1      0   \n",
      "3         0   61         1       0         1           1        0      0   \n",
      "4         0   46         0       0         0           1        0      0   \n",
      "...     ...  ...       ...     ...       ...         ...      ...    ...   \n",
      "1001      1   46         0       0         0           1        1      0   \n",
      "1002      1   60         0       0         0           1        1      0   \n",
      "1003      0   64         0       0         0           1        0      0   \n",
      "1004      0   43         0       0         0           0        1      0   \n",
      "1005      1   50         0       0         0           0        0      0   \n",
      "\n",
      "index  sysBP  diaBP heartRate  Dengue  \n",
      "0      106.0   70.0      80.0       0  \n",
      "1      121.0   81.0      95.0       0  \n",
      "2      127.5   80.0      75.0       0  \n",
      "3      150.0   95.0      65.0       1  \n",
      "4      130.0   84.0      85.0       0  \n",
      "...      ...    ...       ...     ...  \n",
      "1001   124.0   85.0     100.0       0  \n",
      "1002   167.0  105.0      80.0       0  \n",
      "1003   206.0  104.0      70.0       0  \n",
      "1004   117.0   67.0      58.0       0  \n",
      "1005   145.0   94.0      60.0       0  \n",
      "\n",
      "[1006 rows x 12 columns]\n"
     ]
    }
   ],
   "source": [
    "preprocessed_dataset = data.fillna('0')\n",
    "\n",
    "print(\"Train dataset before pre-processing:\")\n",
    "print(\"=========================================\\n\")\n",
    "print(data)\n",
    "\n",
    "print(\"\\n\\n\\nTrain dataset after pre-processing:\")\n",
    "print(\"=========================================\\n\")\n",
    "print(preprocessed_dataset)"
   ]
  },
  {
   "cell_type": "code",
   "execution_count": 27,
   "id": "ff37fb8b",
   "metadata": {},
   "outputs": [
    {
     "data": {
      "text/html": [
       "<div>\n",
       "<style scoped>\n",
       "    .dataframe tbody tr th:only-of-type {\n",
       "        vertical-align: middle;\n",
       "    }\n",
       "\n",
       "    .dataframe tbody tr th {\n",
       "        vertical-align: top;\n",
       "    }\n",
       "\n",
       "    .dataframe thead th {\n",
       "        text-align: right;\n",
       "    }\n",
       "</style>\n",
       "<table border=\"1\" class=\"dataframe\">\n",
       "  <thead>\n",
       "    <tr style=\"text-align: right;\">\n",
       "      <th>index</th>\n",
       "      <th>male</th>\n",
       "      <th>age</th>\n",
       "      <th>Vomiting</th>\n",
       "      <th>Nausea</th>\n",
       "      <th>Tirdness</th>\n",
       "      <th>Musclepain</th>\n",
       "      <th>Eyepain</th>\n",
       "      <th>FEVER</th>\n",
       "      <th>sysBP</th>\n",
       "      <th>diaBP</th>\n",
       "      <th>heartRate</th>\n",
       "      <th>Dengue</th>\n",
       "    </tr>\n",
       "  </thead>\n",
       "  <tbody>\n",
       "    <tr>\n",
       "      <th>0</th>\n",
       "      <td>1</td>\n",
       "      <td>39</td>\n",
       "      <td>0</td>\n",
       "      <td>0</td>\n",
       "      <td>0</td>\n",
       "      <td>0</td>\n",
       "      <td>0</td>\n",
       "      <td>0</td>\n",
       "      <td>106.0</td>\n",
       "      <td>70.0</td>\n",
       "      <td>80.0</td>\n",
       "      <td>0</td>\n",
       "    </tr>\n",
       "    <tr>\n",
       "      <th>1</th>\n",
       "      <td>0</td>\n",
       "      <td>46</td>\n",
       "      <td>0</td>\n",
       "      <td>0</td>\n",
       "      <td>1</td>\n",
       "      <td>0</td>\n",
       "      <td>0</td>\n",
       "      <td>0</td>\n",
       "      <td>121.0</td>\n",
       "      <td>81.0</td>\n",
       "      <td>95.0</td>\n",
       "      <td>0</td>\n",
       "    </tr>\n",
       "    <tr>\n",
       "      <th>2</th>\n",
       "      <td>1</td>\n",
       "      <td>48</td>\n",
       "      <td>0</td>\n",
       "      <td>0</td>\n",
       "      <td>1</td>\n",
       "      <td>0</td>\n",
       "      <td>1</td>\n",
       "      <td>0</td>\n",
       "      <td>127.5</td>\n",
       "      <td>80.0</td>\n",
       "      <td>75.0</td>\n",
       "      <td>0</td>\n",
       "    </tr>\n",
       "    <tr>\n",
       "      <th>3</th>\n",
       "      <td>0</td>\n",
       "      <td>61</td>\n",
       "      <td>1</td>\n",
       "      <td>0</td>\n",
       "      <td>1</td>\n",
       "      <td>1</td>\n",
       "      <td>0</td>\n",
       "      <td>0</td>\n",
       "      <td>150.0</td>\n",
       "      <td>95.0</td>\n",
       "      <td>65.0</td>\n",
       "      <td>1</td>\n",
       "    </tr>\n",
       "    <tr>\n",
       "      <th>4</th>\n",
       "      <td>0</td>\n",
       "      <td>46</td>\n",
       "      <td>0</td>\n",
       "      <td>0</td>\n",
       "      <td>0</td>\n",
       "      <td>1</td>\n",
       "      <td>0</td>\n",
       "      <td>0</td>\n",
       "      <td>130.0</td>\n",
       "      <td>84.0</td>\n",
       "      <td>85.0</td>\n",
       "      <td>0</td>\n",
       "    </tr>\n",
       "  </tbody>\n",
       "</table>\n",
       "</div>"
      ],
      "text/plain": [
       "index  male  age  Vomiting  Nausea  Tirdness  Musclepain  Eyepain  FEVER  \\\n",
       "0         1   39         0       0         0           0        0      0   \n",
       "1         0   46         0       0         1           0        0      0   \n",
       "2         1   48         0       0         1           0        1      0   \n",
       "3         0   61         1       0         1           1        0      0   \n",
       "4         0   46         0       0         0           1        0      0   \n",
       "\n",
       "index  sysBP  diaBP heartRate  Dengue  \n",
       "0      106.0   70.0      80.0       0  \n",
       "1      121.0   81.0      95.0       0  \n",
       "2      127.5   80.0      75.0       0  \n",
       "3      150.0   95.0      65.0       1  \n",
       "4      130.0   84.0      85.0       0  "
      ]
     },
     "execution_count": 27,
     "metadata": {},
     "output_type": "execute_result"
    }
   ],
   "source": [
    "preprocessed_dataset.head()"
   ]
  },
  {
   "attachments": {},
   "cell_type": "markdown",
   "id": "42f18a7f",
   "metadata": {},
   "source": [
    "# no need for Label Encoding for Train/Test Data"
   ]
  },
  {
   "attachments": {},
   "cell_type": "markdown",
   "id": "b89aebe6",
   "metadata": {},
   "source": [
    "# Train ML Algorithms using Data"
   ]
  },
  {
   "cell_type": "code",
   "execution_count": 28,
   "id": "bd67a691",
   "metadata": {},
   "outputs": [],
   "source": [
    "x=preprocessed_dataset.iloc[:, :-1].values\n",
    "y=preprocessed_dataset.iloc[:, -1:].values"
   ]
  },
  {
   "cell_type": "code",
   "execution_count": 29,
   "id": "5ca16543",
   "metadata": {},
   "outputs": [],
   "source": [
    "x_train, x_test, y_train, y_test = train_test_split(x, y, test_size=0.2)"
   ]
  },
  {
   "attachments": {},
   "cell_type": "markdown",
   "id": "03a7bb26",
   "metadata": {},
   "source": [
    "# Train ML Algorithms using Logistic Regression"
   ]
  },
  {
   "cell_type": "code",
   "execution_count": 30,
   "id": "ee87b3db",
   "metadata": {},
   "outputs": [
    {
     "name": "stderr",
     "output_type": "stream",
     "text": [
      "C:\\Users\\DELL\\AppData\\Local\\Programs\\Python\\Python311\\Lib\\site-packages\\sklearn\\utils\\validation.py:1141: DataConversionWarning: A column-vector y was passed when a 1d array was expected. Please change the shape of y to (n_samples, ), for example using ravel().\n",
      "  y = column_or_1d(y, warn=True)\n",
      "C:\\Users\\DELL\\AppData\\Local\\Programs\\Python\\Python311\\Lib\\site-packages\\sklearn\\linear_model\\_logistic.py:458: ConvergenceWarning: lbfgs failed to converge (status=1):\n",
      "STOP: TOTAL NO. of ITERATIONS REACHED LIMIT.\n",
      "\n",
      "Increase the number of iterations (max_iter) or scale the data as shown in:\n",
      "    https://scikit-learn.org/stable/modules/preprocessing.html\n",
      "Please also refer to the documentation for alternative solver options:\n",
      "    https://scikit-learn.org/stable/modules/linear_model.html#logistic-regression\n",
      "  n_iter_i = _check_optimize_result(\n"
     ]
    },
    {
     "data": {
      "text/plain": [
       "0.8168316831683168"
      ]
     },
     "execution_count": 30,
     "metadata": {},
     "output_type": "execute_result"
    }
   ],
   "source": [
    "logisticRegression=LogisticRegression()\n",
    "logisticRegression.fit(x_train,y_train)\n",
    "LR = logisticRegression.predict(x_test)\n",
    "accuracy_score(y_test, LR)"
   ]
  },
  {
   "attachments": {},
   "cell_type": "markdown",
   "id": "f9d07190",
   "metadata": {},
   "source": [
    "# Train ML Algorithms using Random Forest Classifier"
   ]
  },
  {
   "cell_type": "code",
   "execution_count": 31,
   "id": "280ade90",
   "metadata": {},
   "outputs": [
    {
     "name": "stderr",
     "output_type": "stream",
     "text": [
      "C:\\Users\\DELL\\AppData\\Local\\Temp\\ipykernel_2992\\3108075893.py:2: DataConversionWarning: A column-vector y was passed when a 1d array was expected. Please change the shape of y to (n_samples,), for example using ravel().\n",
      "  randomForest.fit(x_train,y_train)\n"
     ]
    },
    {
     "data": {
      "text/plain": [
       "0.8118811881188119"
      ]
     },
     "execution_count": 31,
     "metadata": {},
     "output_type": "execute_result"
    }
   ],
   "source": [
    "randomForest=RandomForestClassifier()\n",
    "randomForest.fit(x_train,y_train)\n",
    "RF = randomForest.predict(x_test)\n",
    "accuracy_score(y_test, RF)"
   ]
  },
  {
   "attachments": {},
   "cell_type": "markdown",
   "id": "b4a68ba5",
   "metadata": {},
   "source": [
    "# Train ML Algorithms using linearSvc"
   ]
  },
  {
   "cell_type": "code",
   "execution_count": 32,
   "id": "585c1d66",
   "metadata": {},
   "outputs": [
    {
     "name": "stderr",
     "output_type": "stream",
     "text": [
      "C:\\Users\\DELL\\AppData\\Local\\Programs\\Python\\Python311\\Lib\\site-packages\\sklearn\\utils\\validation.py:1141: DataConversionWarning: A column-vector y was passed when a 1d array was expected. Please change the shape of y to (n_samples, ), for example using ravel().\n",
      "  y = column_or_1d(y, warn=True)\n",
      "C:\\Users\\DELL\\AppData\\Local\\Programs\\Python\\Python311\\Lib\\site-packages\\sklearn\\svm\\_base.py:1244: ConvergenceWarning: Liblinear failed to converge, increase the number of iterations.\n",
      "  warnings.warn(\n"
     ]
    },
    {
     "data": {
      "text/plain": [
       "0.8316831683168316"
      ]
     },
     "execution_count": 32,
     "metadata": {},
     "output_type": "execute_result"
    }
   ],
   "source": [
    "linearSvc=LinearSVC()\n",
    "linearSvc.fit(x_train,y_train)\n",
    "LS = linearSvc.predict(x_test)\n",
    "accuracy_score(y_test, LS)"
   ]
  },
  {
   "attachments": {},
   "cell_type": "markdown",
   "id": "ac9f30fa",
   "metadata": {},
   "source": [
    "# Train ML Algorithms using BernoulliNB"
   ]
  },
  {
   "cell_type": "code",
   "execution_count": 33,
   "id": "aa86540d",
   "metadata": {},
   "outputs": [
    {
     "name": "stderr",
     "output_type": "stream",
     "text": [
      "C:\\Users\\DELL\\AppData\\Local\\Programs\\Python\\Python311\\Lib\\site-packages\\sklearn\\utils\\validation.py:1141: DataConversionWarning: A column-vector y was passed when a 1d array was expected. Please change the shape of y to (n_samples, ), for example using ravel().\n",
      "  y = column_or_1d(y, warn=True)\n"
     ]
    },
    {
     "data": {
      "text/plain": [
       "0.8217821782178217"
      ]
     },
     "execution_count": 33,
     "metadata": {},
     "output_type": "execute_result"
    }
   ],
   "source": [
    "bernoulliNB=BernoulliNB()\n",
    "bernoulliNB.fit(x_train,y_train)\n",
    "NB = bernoulliNB.predict(x_test)\n",
    "accuracy_score(y_test, NB)"
   ]
  },
  {
   "attachments": {},
   "cell_type": "markdown",
   "id": "b4d81391",
   "metadata": {},
   "source": [
    "# Save the Trained Model as Pickle File"
   ]
  },
  {
   "cell_type": "code",
   "execution_count": 34,
   "id": "a1b46844",
   "metadata": {},
   "outputs": [],
   "source": [
    "filename='Dengue_model.sav'\n",
    "pickle.dump(randomForest,open(filename,'wb'))"
   ]
  },
  {
   "attachments": {},
   "cell_type": "markdown",
   "id": "e08bf9d2",
   "metadata": {},
   "source": [
    "# Load the Trained Model"
   ]
  },
  {
   "cell_type": "code",
   "execution_count": 35,
   "id": "0db7e12d",
   "metadata": {},
   "outputs": [],
   "source": [
    "loadBM=pickle.load(open(filename,'rb'))"
   ]
  },
  {
   "cell_type": "code",
   "execution_count": 36,
   "id": "8aad948c",
   "metadata": {},
   "outputs": [
    {
     "name": "stdout",
     "output_type": "stream",
     "text": [
      "RandomForestClassifier()\n"
     ]
    }
   ],
   "source": [
    "print(loadBM)"
   ]
  },
  {
   "attachments": {},
   "cell_type": "markdown",
   "id": "1cb6fed2",
   "metadata": {},
   "source": [
    "# Take Input from User"
   ]
  },
  {
   "cell_type": "code",
   "execution_count": null,
   "id": "44ccc0b4",
   "metadata": {},
   "outputs": [
    {
     "name": "stdout",
     "output_type": "stream",
     "text": [
      "0 = Male BP 1 = Female0\n",
      "Enter your age61\n",
      "Are you vomitting?0 = no 1 = yes1\n",
      "Are you feeling nausea?0 = no 1 = yes0\n",
      "Are you feeling tirdness?0 = no 1 = yes1\n",
      "Are you feeling musclepain?0 = no 1 = yes1\n"
     ]
    }
   ],
   "source": [
    "male=input(\"0 = Male BP 1 = Female\")\n",
    "age=input(\"Enter your age\")\n",
    "Vomiting=input(\"Are you vomitting?0 = no 1 = yes\")\n",
    "Nausea=input(\"Are you feeling nausea?0 = no 1 = yes\")\n",
    "Tirdness=input(\"Are you feeling tirdness?0 = no 1 = yes\")\n",
    "Musclepain=input(\"Are you feeling musclepain?0 = no 1 = yes\")\n",
    "Eyepain=input(\"Are you feeling eyepain?0 = no 1 = yes\")\n",
    "FEVER=input(\"Are you having fever?0 = no 1 = yes\")\n",
    "sysBP=input(\"Your upper BP?\")\n",
    "diaBP=input(\"Your lowerBP?\")\n",
    "heartRate=input(\"Your Heart beat\")"
   ]
  },
  {
   "cell_type": "code",
   "execution_count": 38,
   "id": "220d7496",
   "metadata": {},
   "outputs": [
    {
     "name": "stdout",
     "output_type": "stream",
     "text": [
      "user input \n",
      "\n",
      "  Gender age Vomiting Nausea Tirdness Musclepain Eyepain FEVER sysBP diaBP  \\\n",
      "0      1  39        0      0        0          0       0     0   106    70   \n",
      "\n",
      "  heartRate  \n",
      "0        80  \n"
     ]
    }
   ],
   "source": [
    "print(\"user input \\n\")\n",
    "newdf=pd.DataFrame({\"Gender\":male,\"age\":age,\"Vomiting\":Vomiting,\"Nausea\":Nausea,\n",
    "                    \"Tirdness\":Tirdness,\"Musclepain\":Musclepain,\"Eyepain\":Eyepain,\n",
    "                    \"FEVER\":FEVER,\"sysBP\":sysBP,\"diaBP\":diaBP,\"heartRate\":heartRate},index=[0])\n",
    "print(newdf)"
   ]
  },
  {
   "attachments": {},
   "cell_type": "markdown",
   "id": "df448f3b",
   "metadata": {},
   "source": [
    "# Apply Trained Model on Feature Vector of Unseen Data and Output Prediction to User"
   ]
  },
  {
   "cell_type": "code",
   "execution_count": 39,
   "id": "796d6a42",
   "metadata": {},
   "outputs": [
    {
     "name": "stdout",
     "output_type": "stream",
     "text": [
      "\n",
      " Prediction: Patient has no dengue\n"
     ]
    },
    {
     "name": "stderr",
     "output_type": "stream",
     "text": [
      "C:\\Users\\DELL\\AppData\\Local\\Programs\\Python\\Python311\\Lib\\site-packages\\sklearn\\base.py:402: UserWarning: X has feature names, but RandomForestClassifier was fitted without feature names\n",
      "  warnings.warn(\n"
     ]
    }
   ],
   "source": [
    "outputPredictionBM= loadBM.predict(newdf)\n",
    "\n",
    "if outputPredictionBM==0:\n",
    "    Dengue= \"Patient has no dengue\"\n",
    "    \n",
    "elif outputPredictionBM==1:\n",
    "    Dengue=\"Patient has Dengue\"\n",
    "\n",
    "print(\"\\n Prediction: %s\"%Dengue)"
   ]
  },
  {
   "cell_type": "code",
   "execution_count": null,
   "id": "e6c063bd",
   "metadata": {},
   "outputs": [],
   "source": []
  }
 ],
 "metadata": {
  "kernelspec": {
   "display_name": "Python 3 (ipykernel)",
   "language": "python",
   "name": "python3"
  },
  "language_info": {
   "codemirror_mode": {
    "name": "ipython",
    "version": 3
   },
   "file_extension": ".py",
   "mimetype": "text/x-python",
   "name": "python",
   "nbconvert_exporter": "python",
   "pygments_lexer": "ipython3",
   "version": "3.11.1"
  }
 },
 "nbformat": 4,
 "nbformat_minor": 5
}
