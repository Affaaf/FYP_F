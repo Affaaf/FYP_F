{
 "cells": [
  {
   "cell_type": "code",
   "execution_count": 1,
   "id": "d20ec1e6",
   "metadata": {},
   "outputs": [],
   "source": [
    "import re\n",
    "import string\n",
    "import scipy\n",
    "import pickle\n",
    "import pandas as pd\n",
    "import numpy as np\n",
    "import matplotlib\n",
    "import matplotlib.pyplot as plt\n",
    "import os\n",
    "from sklearn.feature_extraction.text import *\n",
    "from sklearn.preprocessing import LabelEncoder\n",
    "from sklearn.linear_model import LogisticRegression\n",
    "from sklearn.naive_bayes import BernoulliNB\n",
    "from sklearn.ensemble import RandomForestClassifier\n",
    "from sklearn.svm import LinearSVC\n",
    "from sklearn.metrics import accuracy_score\n",
    "from prettytable import PrettyTable\n",
    "from astropy.table import Table , Column"
   ]
  },
  {
   "cell_type": "code",
   "execution_count": 2,
   "id": "a319e174",
   "metadata": {},
   "outputs": [],
   "source": [
    "trainData = pd.read_csv('BrainStrokeTrain.csv') \n",
    "testData = pd.read_csv('BrainStrokeTest.csv')"
   ]
  },
  {
   "cell_type": "code",
   "execution_count": 3,
   "id": "0a63a077",
   "metadata": {},
   "outputs": [
    {
     "data": {
      "text/html": [
       "<div>\n",
       "<style scoped>\n",
       "    .dataframe tbody tr th:only-of-type {\n",
       "        vertical-align: middle;\n",
       "    }\n",
       "\n",
       "    .dataframe tbody tr th {\n",
       "        vertical-align: top;\n",
       "    }\n",
       "\n",
       "    .dataframe thead th {\n",
       "        text-align: right;\n",
       "    }\n",
       "</style>\n",
       "<table border=\"1\" class=\"dataframe\">\n",
       "  <thead>\n",
       "    <tr style=\"text-align: right;\">\n",
       "      <th></th>\n",
       "      <th>gender</th>\n",
       "      <th>age</th>\n",
       "      <th>hypertension</th>\n",
       "      <th>heart_disease</th>\n",
       "      <th>ever_married</th>\n",
       "      <th>work_type</th>\n",
       "      <th>Residence_type</th>\n",
       "      <th>avg_glucose_level</th>\n",
       "      <th>bmi</th>\n",
       "      <th>smoking_status</th>\n",
       "      <th>stroke</th>\n",
       "    </tr>\n",
       "  </thead>\n",
       "  <tbody>\n",
       "    <tr>\n",
       "      <th>0</th>\n",
       "      <td>Male</td>\n",
       "      <td>67</td>\n",
       "      <td>0</td>\n",
       "      <td>1</td>\n",
       "      <td>Yes</td>\n",
       "      <td>Private</td>\n",
       "      <td>Urban</td>\n",
       "      <td>228.69</td>\n",
       "      <td>36.6</td>\n",
       "      <td>formerly smoked</td>\n",
       "      <td>1</td>\n",
       "    </tr>\n",
       "    <tr>\n",
       "      <th>1</th>\n",
       "      <td>Male</td>\n",
       "      <td>80</td>\n",
       "      <td>0</td>\n",
       "      <td>1</td>\n",
       "      <td>Yes</td>\n",
       "      <td>Private</td>\n",
       "      <td>Rural</td>\n",
       "      <td>105.92</td>\n",
       "      <td>32.5</td>\n",
       "      <td>never smoked</td>\n",
       "      <td>1</td>\n",
       "    </tr>\n",
       "    <tr>\n",
       "      <th>2</th>\n",
       "      <td>Female</td>\n",
       "      <td>49</td>\n",
       "      <td>0</td>\n",
       "      <td>0</td>\n",
       "      <td>Yes</td>\n",
       "      <td>Private</td>\n",
       "      <td>Urban</td>\n",
       "      <td>171.23</td>\n",
       "      <td>34.4</td>\n",
       "      <td>smokes</td>\n",
       "      <td>1</td>\n",
       "    </tr>\n",
       "    <tr>\n",
       "      <th>3</th>\n",
       "      <td>Female</td>\n",
       "      <td>79</td>\n",
       "      <td>1</td>\n",
       "      <td>0</td>\n",
       "      <td>Yes</td>\n",
       "      <td>Self-employed</td>\n",
       "      <td>Rural</td>\n",
       "      <td>174.12</td>\n",
       "      <td>24.0</td>\n",
       "      <td>never smoked</td>\n",
       "      <td>1</td>\n",
       "    </tr>\n",
       "    <tr>\n",
       "      <th>4</th>\n",
       "      <td>Male</td>\n",
       "      <td>81</td>\n",
       "      <td>0</td>\n",
       "      <td>0</td>\n",
       "      <td>Yes</td>\n",
       "      <td>Private</td>\n",
       "      <td>Urban</td>\n",
       "      <td>186.21</td>\n",
       "      <td>29.0</td>\n",
       "      <td>formerly smoked</td>\n",
       "      <td>1</td>\n",
       "    </tr>\n",
       "    <tr>\n",
       "      <th>5</th>\n",
       "      <td>Male</td>\n",
       "      <td>74</td>\n",
       "      <td>1</td>\n",
       "      <td>1</td>\n",
       "      <td>Yes</td>\n",
       "      <td>Private</td>\n",
       "      <td>Rural</td>\n",
       "      <td>70.09</td>\n",
       "      <td>27.4</td>\n",
       "      <td>never smoked</td>\n",
       "      <td>1</td>\n",
       "    </tr>\n",
       "    <tr>\n",
       "      <th>6</th>\n",
       "      <td>Female</td>\n",
       "      <td>69</td>\n",
       "      <td>0</td>\n",
       "      <td>0</td>\n",
       "      <td>No</td>\n",
       "      <td>Private</td>\n",
       "      <td>Urban</td>\n",
       "      <td>94.39</td>\n",
       "      <td>22.8</td>\n",
       "      <td>never smoked</td>\n",
       "      <td>1</td>\n",
       "    </tr>\n",
       "    <tr>\n",
       "      <th>7</th>\n",
       "      <td>Female</td>\n",
       "      <td>78</td>\n",
       "      <td>0</td>\n",
       "      <td>0</td>\n",
       "      <td>Yes</td>\n",
       "      <td>Private</td>\n",
       "      <td>Urban</td>\n",
       "      <td>58.57</td>\n",
       "      <td>24.2</td>\n",
       "      <td>Unknown</td>\n",
       "      <td>1</td>\n",
       "    </tr>\n",
       "    <tr>\n",
       "      <th>8</th>\n",
       "      <td>Female</td>\n",
       "      <td>81</td>\n",
       "      <td>1</td>\n",
       "      <td>0</td>\n",
       "      <td>Yes</td>\n",
       "      <td>Private</td>\n",
       "      <td>Rural</td>\n",
       "      <td>80.43</td>\n",
       "      <td>29.7</td>\n",
       "      <td>never smoked</td>\n",
       "      <td>1</td>\n",
       "    </tr>\n",
       "    <tr>\n",
       "      <th>9</th>\n",
       "      <td>Female</td>\n",
       "      <td>61</td>\n",
       "      <td>0</td>\n",
       "      <td>1</td>\n",
       "      <td>Yes</td>\n",
       "      <td>Govt_job</td>\n",
       "      <td>Rural</td>\n",
       "      <td>120.46</td>\n",
       "      <td>36.8</td>\n",
       "      <td>smokes</td>\n",
       "      <td>1</td>\n",
       "    </tr>\n",
       "    <tr>\n",
       "      <th>10</th>\n",
       "      <td>Female</td>\n",
       "      <td>54</td>\n",
       "      <td>0</td>\n",
       "      <td>0</td>\n",
       "      <td>Yes</td>\n",
       "      <td>Private</td>\n",
       "      <td>Urban</td>\n",
       "      <td>104.51</td>\n",
       "      <td>27.3</td>\n",
       "      <td>smokes</td>\n",
       "      <td>1</td>\n",
       "    </tr>\n",
       "    <tr>\n",
       "      <th>11</th>\n",
       "      <td>Female</td>\n",
       "      <td>79</td>\n",
       "      <td>0</td>\n",
       "      <td>1</td>\n",
       "      <td>Yes</td>\n",
       "      <td>Self-employed</td>\n",
       "      <td>Urban</td>\n",
       "      <td>67.84</td>\n",
       "      <td>25.2</td>\n",
       "      <td>smokes</td>\n",
       "      <td>0</td>\n",
       "    </tr>\n",
       "    <tr>\n",
       "      <th>12</th>\n",
       "      <td>Female</td>\n",
       "      <td>65</td>\n",
       "      <td>1</td>\n",
       "      <td>0</td>\n",
       "      <td>Yes</td>\n",
       "      <td>Private</td>\n",
       "      <td>Rural</td>\n",
       "      <td>75.70</td>\n",
       "      <td>41.8</td>\n",
       "      <td>Unknown</td>\n",
       "      <td>0</td>\n",
       "    </tr>\n",
       "    <tr>\n",
       "      <th>13</th>\n",
       "      <td>Female</td>\n",
       "      <td>49</td>\n",
       "      <td>0</td>\n",
       "      <td>0</td>\n",
       "      <td>Yes</td>\n",
       "      <td>Private</td>\n",
       "      <td>Rural</td>\n",
       "      <td>60.22</td>\n",
       "      <td>31.5</td>\n",
       "      <td>smokes</td>\n",
       "      <td>0</td>\n",
       "    </tr>\n",
       "    <tr>\n",
       "      <th>14</th>\n",
       "      <td>Male</td>\n",
       "      <td>71</td>\n",
       "      <td>0</td>\n",
       "      <td>0</td>\n",
       "      <td>Yes</td>\n",
       "      <td>Private</td>\n",
       "      <td>Urban</td>\n",
       "      <td>198.21</td>\n",
       "      <td>27.3</td>\n",
       "      <td>formerly smoked</td>\n",
       "      <td>0</td>\n",
       "    </tr>\n",
       "    <tr>\n",
       "      <th>15</th>\n",
       "      <td>Female</td>\n",
       "      <td>59</td>\n",
       "      <td>0</td>\n",
       "      <td>0</td>\n",
       "      <td>Yes</td>\n",
       "      <td>Private</td>\n",
       "      <td>Urban</td>\n",
       "      <td>109.82</td>\n",
       "      <td>23.7</td>\n",
       "      <td>never smoked</td>\n",
       "      <td>0</td>\n",
       "    </tr>\n",
       "    <tr>\n",
       "      <th>16</th>\n",
       "      <td>Female</td>\n",
       "      <td>25</td>\n",
       "      <td>0</td>\n",
       "      <td>0</td>\n",
       "      <td>Yes</td>\n",
       "      <td>Private</td>\n",
       "      <td>Urban</td>\n",
       "      <td>60.84</td>\n",
       "      <td>24.5</td>\n",
       "      <td>never smoked</td>\n",
       "      <td>0</td>\n",
       "    </tr>\n",
       "    <tr>\n",
       "      <th>17</th>\n",
       "      <td>Female</td>\n",
       "      <td>67</td>\n",
       "      <td>0</td>\n",
       "      <td>0</td>\n",
       "      <td>Yes</td>\n",
       "      <td>Govt_job</td>\n",
       "      <td>Rural</td>\n",
       "      <td>94.61</td>\n",
       "      <td>28.4</td>\n",
       "      <td>smokes</td>\n",
       "      <td>0</td>\n",
       "    </tr>\n",
       "    <tr>\n",
       "      <th>18</th>\n",
       "      <td>Female</td>\n",
       "      <td>38</td>\n",
       "      <td>0</td>\n",
       "      <td>0</td>\n",
       "      <td>No</td>\n",
       "      <td>Private</td>\n",
       "      <td>Rural</td>\n",
       "      <td>97.49</td>\n",
       "      <td>26.9</td>\n",
       "      <td>never smoked</td>\n",
       "      <td>0</td>\n",
       "    </tr>\n",
       "    <tr>\n",
       "      <th>19</th>\n",
       "      <td>Female</td>\n",
       "      <td>54</td>\n",
       "      <td>0</td>\n",
       "      <td>0</td>\n",
       "      <td>Yes</td>\n",
       "      <td>Private</td>\n",
       "      <td>Rural</td>\n",
       "      <td>206.72</td>\n",
       "      <td>26.7</td>\n",
       "      <td>never smoked</td>\n",
       "      <td>0</td>\n",
       "    </tr>\n",
       "  </tbody>\n",
       "</table>\n",
       "</div>"
      ],
      "text/plain": [
       "    gender  age  hypertension  heart_disease ever_married      work_type  \\\n",
       "0     Male   67             0              1          Yes        Private   \n",
       "1     Male   80             0              1          Yes        Private   \n",
       "2   Female   49             0              0          Yes        Private   \n",
       "3   Female   79             1              0          Yes  Self-employed   \n",
       "4     Male   81             0              0          Yes        Private   \n",
       "5     Male   74             1              1          Yes        Private   \n",
       "6   Female   69             0              0           No        Private   \n",
       "7   Female   78             0              0          Yes        Private   \n",
       "8   Female   81             1              0          Yes        Private   \n",
       "9   Female   61             0              1          Yes       Govt_job   \n",
       "10  Female   54             0              0          Yes        Private   \n",
       "11  Female   79             0              1          Yes  Self-employed   \n",
       "12  Female   65             1              0          Yes        Private   \n",
       "13  Female   49             0              0          Yes        Private   \n",
       "14    Male   71             0              0          Yes        Private   \n",
       "15  Female   59             0              0          Yes        Private   \n",
       "16  Female   25             0              0          Yes        Private   \n",
       "17  Female   67             0              0          Yes       Govt_job   \n",
       "18  Female   38             0              0           No        Private   \n",
       "19  Female   54             0              0          Yes        Private   \n",
       "\n",
       "   Residence_type  avg_glucose_level   bmi   smoking_status  stroke  \n",
       "0           Urban             228.69  36.6  formerly smoked       1  \n",
       "1           Rural             105.92  32.5     never smoked       1  \n",
       "2           Urban             171.23  34.4           smokes       1  \n",
       "3           Rural             174.12  24.0     never smoked       1  \n",
       "4           Urban             186.21  29.0  formerly smoked       1  \n",
       "5           Rural              70.09  27.4     never smoked       1  \n",
       "6           Urban              94.39  22.8     never smoked       1  \n",
       "7           Urban              58.57  24.2          Unknown       1  \n",
       "8           Rural              80.43  29.7     never smoked       1  \n",
       "9           Rural             120.46  36.8           smokes       1  \n",
       "10          Urban             104.51  27.3           smokes       1  \n",
       "11          Urban              67.84  25.2           smokes       0  \n",
       "12          Rural              75.70  41.8          Unknown       0  \n",
       "13          Rural              60.22  31.5           smokes       0  \n",
       "14          Urban             198.21  27.3  formerly smoked       0  \n",
       "15          Urban             109.82  23.7     never smoked       0  \n",
       "16          Urban              60.84  24.5     never smoked       0  \n",
       "17          Rural              94.61  28.4           smokes       0  \n",
       "18          Rural              97.49  26.9     never smoked       0  \n",
       "19          Rural             206.72  26.7     never smoked       0  "
      ]
     },
     "execution_count": 3,
     "metadata": {},
     "output_type": "execute_result"
    }
   ],
   "source": [
    "trainData"
   ]
  },
  {
   "cell_type": "code",
   "execution_count": 4,
   "id": "7bda2ceb",
   "metadata": {},
   "outputs": [
    {
     "data": {
      "text/html": [
       "<div>\n",
       "<style scoped>\n",
       "    .dataframe tbody tr th:only-of-type {\n",
       "        vertical-align: middle;\n",
       "    }\n",
       "\n",
       "    .dataframe tbody tr th {\n",
       "        vertical-align: top;\n",
       "    }\n",
       "\n",
       "    .dataframe thead th {\n",
       "        text-align: right;\n",
       "    }\n",
       "</style>\n",
       "<table border=\"1\" class=\"dataframe\">\n",
       "  <thead>\n",
       "    <tr style=\"text-align: right;\">\n",
       "      <th></th>\n",
       "      <th>gender</th>\n",
       "      <th>age</th>\n",
       "      <th>hypertension</th>\n",
       "      <th>heart_disease</th>\n",
       "      <th>ever_married</th>\n",
       "      <th>work_type</th>\n",
       "      <th>Residence_type</th>\n",
       "      <th>avg_glucose_level</th>\n",
       "      <th>bmi</th>\n",
       "      <th>smoking_status</th>\n",
       "      <th>stroke</th>\n",
       "    </tr>\n",
       "  </thead>\n",
       "  <tbody>\n",
       "    <tr>\n",
       "      <th>0</th>\n",
       "      <td>Male</td>\n",
       "      <td>71</td>\n",
       "      <td>0</td>\n",
       "      <td>0</td>\n",
       "      <td>Yes</td>\n",
       "      <td>Private</td>\n",
       "      <td>Urban</td>\n",
       "      <td>102.87</td>\n",
       "      <td>27.2</td>\n",
       "      <td>formerly smoked</td>\n",
       "      <td>1</td>\n",
       "    </tr>\n",
       "    <tr>\n",
       "      <th>1</th>\n",
       "      <td>Male</td>\n",
       "      <td>80</td>\n",
       "      <td>0</td>\n",
       "      <td>0</td>\n",
       "      <td>Yes</td>\n",
       "      <td>Self-employed</td>\n",
       "      <td>Rural</td>\n",
       "      <td>104.12</td>\n",
       "      <td>23.5</td>\n",
       "      <td>never smoked</td>\n",
       "      <td>1</td>\n",
       "    </tr>\n",
       "    <tr>\n",
       "      <th>2</th>\n",
       "      <td>Female</td>\n",
       "      <td>65</td>\n",
       "      <td>0</td>\n",
       "      <td>0</td>\n",
       "      <td>Yes</td>\n",
       "      <td>Private</td>\n",
       "      <td>Rural</td>\n",
       "      <td>100.98</td>\n",
       "      <td>28.2</td>\n",
       "      <td>formerly smoked</td>\n",
       "      <td>1</td>\n",
       "    </tr>\n",
       "    <tr>\n",
       "      <th>3</th>\n",
       "      <td>Male</td>\n",
       "      <td>69</td>\n",
       "      <td>0</td>\n",
       "      <td>1</td>\n",
       "      <td>Yes</td>\n",
       "      <td>Self-employed</td>\n",
       "      <td>Urban</td>\n",
       "      <td>195.23</td>\n",
       "      <td>28.3</td>\n",
       "      <td>smokes</td>\n",
       "      <td>1</td>\n",
       "    </tr>\n",
       "    <tr>\n",
       "      <th>4</th>\n",
       "      <td>Female</td>\n",
       "      <td>37</td>\n",
       "      <td>0</td>\n",
       "      <td>0</td>\n",
       "      <td>Yes</td>\n",
       "      <td>Private</td>\n",
       "      <td>Rural</td>\n",
       "      <td>73.50</td>\n",
       "      <td>26.1</td>\n",
       "      <td>formerly smoked</td>\n",
       "      <td>0</td>\n",
       "    </tr>\n",
       "    <tr>\n",
       "      <th>5</th>\n",
       "      <td>Female</td>\n",
       "      <td>40</td>\n",
       "      <td>0</td>\n",
       "      <td>0</td>\n",
       "      <td>Yes</td>\n",
       "      <td>Private</td>\n",
       "      <td>Rural</td>\n",
       "      <td>95.04</td>\n",
       "      <td>42.4</td>\n",
       "      <td>never smoked</td>\n",
       "      <td>0</td>\n",
       "    </tr>\n",
       "    <tr>\n",
       "      <th>6</th>\n",
       "      <td>Male</td>\n",
       "      <td>35</td>\n",
       "      <td>0</td>\n",
       "      <td>0</td>\n",
       "      <td>No</td>\n",
       "      <td>Private</td>\n",
       "      <td>Rural</td>\n",
       "      <td>85.37</td>\n",
       "      <td>33.0</td>\n",
       "      <td>never smoked</td>\n",
       "      <td>0</td>\n",
       "    </tr>\n",
       "    <tr>\n",
       "      <th>7</th>\n",
       "      <td>Female</td>\n",
       "      <td>20</td>\n",
       "      <td>0</td>\n",
       "      <td>0</td>\n",
       "      <td>No</td>\n",
       "      <td>Private</td>\n",
       "      <td>Urban</td>\n",
       "      <td>84.62</td>\n",
       "      <td>19.7</td>\n",
       "      <td>smokes</td>\n",
       "      <td>0</td>\n",
       "    </tr>\n",
       "  </tbody>\n",
       "</table>\n",
       "</div>"
      ],
      "text/plain": [
       "   gender  age  hypertension  heart_disease ever_married      work_type  \\\n",
       "0    Male   71             0              0          Yes        Private   \n",
       "1    Male   80             0              0          Yes  Self-employed   \n",
       "2  Female   65             0              0          Yes        Private   \n",
       "3    Male   69             0              1          Yes  Self-employed   \n",
       "4  Female   37             0              0          Yes        Private   \n",
       "5  Female   40             0              0          Yes        Private   \n",
       "6    Male   35             0              0           No        Private   \n",
       "7  Female   20             0              0           No        Private   \n",
       "\n",
       "  Residence_type  avg_glucose_level   bmi   smoking_status  stroke  \n",
       "0          Urban             102.87  27.2  formerly smoked       1  \n",
       "1          Rural             104.12  23.5     never smoked       1  \n",
       "2          Rural             100.98  28.2  formerly smoked       1  \n",
       "3          Urban             195.23  28.3           smokes       1  \n",
       "4          Rural              73.50  26.1  formerly smoked       0  \n",
       "5          Rural              95.04  42.4     never smoked       0  \n",
       "6          Rural              85.37  33.0     never smoked       0  \n",
       "7          Urban              84.62  19.7           smokes       0  "
      ]
     },
     "execution_count": 4,
     "metadata": {},
     "output_type": "execute_result"
    }
   ],
   "source": [
    "testData"
   ]
  },
  {
   "cell_type": "code",
   "execution_count": 5,
   "id": "35eeb561",
   "metadata": {},
   "outputs": [
    {
     "name": "stdout",
     "output_type": "stream",
     "text": [
      "Train Dataset:\n",
      "index  gender  age  hypertension  heart_disease ever_married      work_type  \\\n",
      "0        Male   67             0              1          Yes        Private   \n",
      "1        Male   80             0              1          Yes        Private   \n",
      "2      Female   49             0              0          Yes        Private   \n",
      "3      Female   79             1              0          Yes  Self-employed   \n",
      "4        Male   81             0              0          Yes        Private   \n",
      "5        Male   74             1              1          Yes        Private   \n",
      "6      Female   69             0              0           No        Private   \n",
      "7      Female   78             0              0          Yes        Private   \n",
      "8      Female   81             1              0          Yes        Private   \n",
      "9      Female   61             0              1          Yes       Govt_job   \n",
      "10     Female   54             0              0          Yes        Private   \n",
      "11     Female   79             0              1          Yes  Self-employed   \n",
      "12     Female   65             1              0          Yes        Private   \n",
      "13     Female   49             0              0          Yes        Private   \n",
      "14       Male   71             0              0          Yes        Private   \n",
      "15     Female   59             0              0          Yes        Private   \n",
      "16     Female   25             0              0          Yes        Private   \n",
      "17     Female   67             0              0          Yes       Govt_job   \n",
      "18     Female   38             0              0           No        Private   \n",
      "19     Female   54             0              0          Yes        Private   \n",
      "\n",
      "index Residence_type  avg_glucose_level   bmi   smoking_status  stroke  \n",
      "0              Urban             228.69  36.6  formerly smoked       1  \n",
      "1              Rural             105.92  32.5     never smoked       1  \n",
      "2              Urban             171.23  34.4           smokes       1  \n",
      "3              Rural             174.12  24.0     never smoked       1  \n",
      "4              Urban             186.21  29.0  formerly smoked       1  \n",
      "5              Rural              70.09  27.4     never smoked       1  \n",
      "6              Urban              94.39  22.8     never smoked       1  \n",
      "7              Urban              58.57  24.2          Unknown       1  \n",
      "8              Rural              80.43  29.7     never smoked       1  \n",
      "9              Rural             120.46  36.8           smokes       1  \n",
      "10             Urban             104.51  27.3           smokes       1  \n",
      "11             Urban              67.84  25.2           smokes       0  \n",
      "12             Rural              75.70  41.8          Unknown       0  \n",
      "13             Rural              60.22  31.5           smokes       0  \n",
      "14             Urban             198.21  27.3  formerly smoked       0  \n",
      "15             Urban             109.82  23.7     never smoked       0  \n",
      "16             Urban              60.84  24.5     never smoked       0  \n",
      "17             Rural              94.61  28.4           smokes       0  \n",
      "18             Rural              97.49  26.9     never smoked       0  \n",
      "19             Rural             206.72  26.7     never smoked       0  \n"
     ]
    }
   ],
   "source": [
    "trainData.columns.name=\"index\"\n",
    "print(\"Train Dataset:\")\n",
    "print(trainData)"
   ]
  },
  {
   "cell_type": "code",
   "execution_count": 6,
   "id": "6098c45d",
   "metadata": {},
   "outputs": [
    {
     "name": "stdout",
     "output_type": "stream",
     "text": [
      "Train Data Set Columns:\n",
      "Index(['gender', 'age', 'hypertension', 'heart_disease', 'ever_married',\n",
      "       'work_type', 'Residence_type', 'avg_glucose_level', 'bmi',\n",
      "       'smoking_status', 'stroke'],\n",
      "      dtype='object', name='index')\n",
      "\n",
      "\n",
      "Number of instances in Train Dataset\n",
      "Train Instances: 20\n"
     ]
    }
   ],
   "source": [
    "print(\"Train Data Set Columns:\")\n",
    "trainDatadf=pd.DataFrame(trainData)\n",
    "trainDataIndex=trainDatadf.columns\n",
    "print(trainDataIndex)\n",
    "\n",
    "print(\"\\n\")\n",
    "print(\"Number of instances in Train Dataset\")\n",
    "print(\"Train Instances: %s\"% (len(trainDatadf.index)))"
   ]
  },
  {
   "cell_type": "code",
   "execution_count": 7,
   "id": "d31ecc75",
   "metadata": {},
   "outputs": [
    {
     "name": "stdout",
     "output_type": "stream",
     "text": [
      "Test Dataset:\n",
      "index  gender  age  hypertension  heart_disease ever_married      work_type  \\\n",
      "0        Male   71             0              0          Yes        Private   \n",
      "1        Male   80             0              0          Yes  Self-employed   \n",
      "2      Female   65             0              0          Yes        Private   \n",
      "3        Male   69             0              1          Yes  Self-employed   \n",
      "4      Female   37             0              0          Yes        Private   \n",
      "5      Female   40             0              0          Yes        Private   \n",
      "6        Male   35             0              0           No        Private   \n",
      "7      Female   20             0              0           No        Private   \n",
      "\n",
      "index Residence_type  avg_glucose_level   bmi   smoking_status  stroke  \n",
      "0              Urban             102.87  27.2  formerly smoked       1  \n",
      "1              Rural             104.12  23.5     never smoked       1  \n",
      "2              Rural             100.98  28.2  formerly smoked       1  \n",
      "3              Urban             195.23  28.3           smokes       1  \n",
      "4              Rural              73.50  26.1  formerly smoked       0  \n",
      "5              Rural              95.04  42.4     never smoked       0  \n",
      "6              Rural              85.37  33.0     never smoked       0  \n",
      "7              Urban              84.62  19.7           smokes       0  \n"
     ]
    }
   ],
   "source": [
    "testData.columns.name=\"index\"\n",
    "print(\"Test Dataset:\")\n",
    "print(testData)"
   ]
  },
  {
   "cell_type": "markdown",
   "id": "bed6516f",
   "metadata": {},
   "source": [
    "# Pre-Process Data"
   ]
  },
  {
   "cell_type": "code",
   "execution_count": 8,
   "id": "819a958c",
   "metadata": {},
   "outputs": [
    {
     "name": "stdout",
     "output_type": "stream",
     "text": [
      "Train Dataset before Preprocessing: \n",
      "\n",
      "index  gender  age  hypertension  heart_disease ever_married      work_type  \\\n",
      "0        Male   67             0              1          Yes        Private   \n",
      "1        Male   80             0              1          Yes        Private   \n",
      "2      Female   49             0              0          Yes        Private   \n",
      "3      Female   79             1              0          Yes  Self-employed   \n",
      "4        Male   81             0              0          Yes        Private   \n",
      "5        Male   74             1              1          Yes        Private   \n",
      "6      Female   69             0              0           No        Private   \n",
      "7      Female   78             0              0          Yes        Private   \n",
      "8      Female   81             1              0          Yes        Private   \n",
      "9      Female   61             0              1          Yes       Govt_job   \n",
      "10     Female   54             0              0          Yes        Private   \n",
      "11     Female   79             0              1          Yes  Self-employed   \n",
      "12     Female   65             1              0          Yes        Private   \n",
      "13     Female   49             0              0          Yes        Private   \n",
      "14       Male   71             0              0          Yes        Private   \n",
      "15     Female   59             0              0          Yes        Private   \n",
      "16     Female   25             0              0          Yes        Private   \n",
      "17     Female   67             0              0          Yes       Govt_job   \n",
      "18     Female   38             0              0           No        Private   \n",
      "19     Female   54             0              0          Yes        Private   \n",
      "\n",
      "index Residence_type  avg_glucose_level   bmi   smoking_status  stroke  \n",
      "0              Urban             228.69  36.6  formerly smoked       1  \n",
      "1              Rural             105.92  32.5     never smoked       1  \n",
      "2              Urban             171.23  34.4           smokes       1  \n",
      "3              Rural             174.12  24.0     never smoked       1  \n",
      "4              Urban             186.21  29.0  formerly smoked       1  \n",
      "5              Rural              70.09  27.4     never smoked       1  \n",
      "6              Urban              94.39  22.8     never smoked       1  \n",
      "7              Urban              58.57  24.2          Unknown       1  \n",
      "8              Rural              80.43  29.7     never smoked       1  \n",
      "9              Rural             120.46  36.8           smokes       1  \n",
      "10             Urban             104.51  27.3           smokes       1  \n",
      "11             Urban              67.84  25.2           smokes       0  \n",
      "12             Rural              75.70  41.8          Unknown       0  \n",
      "13             Rural              60.22  31.5           smokes       0  \n",
      "14             Urban             198.21  27.3  formerly smoked       0  \n",
      "15             Urban             109.82  23.7     never smoked       0  \n",
      "16             Urban              60.84  24.5     never smoked       0  \n",
      "17             Rural              94.61  28.4           smokes       0  \n",
      "18             Rural              97.49  26.9     never smoked       0  \n",
      "19             Rural             206.72  26.7     never smoked       0  \n",
      "\n",
      "\n",
      "Train Dataset after Preprocessing: \n",
      "\n",
      "index  gender  age  hypertension  heart_disease ever_married      work_type  \\\n",
      "0        Male   67             0              1          Yes        Private   \n",
      "1        Male   80             0              1          Yes        Private   \n",
      "2      Female   49             0              0          Yes        Private   \n",
      "3      Female   79             1              0          Yes  Self-employed   \n",
      "4        Male   81             0              0          Yes        Private   \n",
      "5        Male   74             1              1          Yes        Private   \n",
      "6      Female   69             0              0           No        Private   \n",
      "7      Female   78             0              0          Yes        Private   \n",
      "8      Female   81             1              0          Yes        Private   \n",
      "9      Female   61             0              1          Yes       Govt_job   \n",
      "10     Female   54             0              0          Yes        Private   \n",
      "11     Female   79             0              1          Yes  Self-employed   \n",
      "12     Female   65             1              0          Yes        Private   \n",
      "13     Female   49             0              0          Yes        Private   \n",
      "14       Male   71             0              0          Yes        Private   \n",
      "15     Female   59             0              0          Yes        Private   \n",
      "16     Female   25             0              0          Yes        Private   \n",
      "17     Female   67             0              0          Yes       Govt_job   \n",
      "18     Female   38             0              0           No        Private   \n",
      "19     Female   54             0              0          Yes        Private   \n",
      "\n",
      "index Residence_type  avg_glucose_level   bmi   smoking_status  stroke  \n",
      "0              Urban             228.69  36.6  formerly smoked       1  \n",
      "1              Rural             105.92  32.5     never smoked       1  \n",
      "2              Urban             171.23  34.4           smokes       1  \n",
      "3              Rural             174.12  24.0     never smoked       1  \n",
      "4              Urban             186.21  29.0  formerly smoked       1  \n",
      "5              Rural              70.09  27.4     never smoked       1  \n",
      "6              Urban              94.39  22.8     never smoked       1  \n",
      "7              Urban              58.57  24.2          Unknown       1  \n",
      "8              Rural              80.43  29.7     never smoked       1  \n",
      "9              Rural             120.46  36.8           smokes       1  \n",
      "10             Urban             104.51  27.3           smokes       1  \n",
      "11             Urban              67.84  25.2           smokes       0  \n",
      "12             Rural              75.70  41.8          Unknown       0  \n",
      "13             Rural              60.22  31.5           smokes       0  \n",
      "14             Urban             198.21  27.3  formerly smoked       0  \n",
      "15             Urban             109.82  23.7     never smoked       0  \n",
      "16             Urban              60.84  24.5     never smoked       0  \n",
      "17             Rural              94.61  28.4           smokes       0  \n",
      "18             Rural              97.49  26.9     never smoked       0  \n",
      "19             Rural             206.72  26.7     never smoked       0  \n"
     ]
    }
   ],
   "source": [
    "print(\"Train Dataset before Preprocessing: \\n\")\n",
    "print(trainDatadf)\n",
    "print (\"\\n\")\n",
    "print(\"Train Dataset after Preprocessing: \\n\")\n",
    "preprocessTrainDatadf=trainDatadf.round({\"height\":2})\n",
    "print(preprocessTrainDatadf)"
   ]
  },
  {
   "cell_type": "code",
   "execution_count": 9,
   "id": "45da3f95",
   "metadata": {},
   "outputs": [
    {
     "name": "stdout",
     "output_type": "stream",
     "text": [
      "Test Data Set Columns:\n",
      "Index(['gender', 'age', 'hypertension', 'heart_disease', 'ever_married',\n",
      "       'work_type', 'Residence_type', 'avg_glucose_level', 'bmi',\n",
      "       'smoking_status', 'stroke'],\n",
      "      dtype='object', name='index')\n",
      "\n",
      "\n",
      "Number of instances in Test Dataset\n",
      "Test Instances: 8\n"
     ]
    }
   ],
   "source": [
    "print(\"Test Data Set Columns:\")\n",
    "testDatadf=pd.DataFrame(testData)\n",
    "testDataIndex=testDatadf.columns\n",
    "print(testDataIndex)\n",
    "\n",
    "print(\"\\n\")\n",
    "print(\"Number of instances in Test Dataset\")\n",
    "print(\"Test Instances: %s\"% (len(testDatadf.index)))"
   ]
  },
  {
   "cell_type": "code",
   "execution_count": 10,
   "id": "e9b7681c",
   "metadata": {},
   "outputs": [
    {
     "name": "stdout",
     "output_type": "stream",
     "text": [
      "Test Dataset before Preprocessing: \n",
      "\n",
      "index  gender  age  hypertension  heart_disease ever_married      work_type  \\\n",
      "0        Male   71             0              0          Yes        Private   \n",
      "1        Male   80             0              0          Yes  Self-employed   \n",
      "2      Female   65             0              0          Yes        Private   \n",
      "3        Male   69             0              1          Yes  Self-employed   \n",
      "4      Female   37             0              0          Yes        Private   \n",
      "5      Female   40             0              0          Yes        Private   \n",
      "6        Male   35             0              0           No        Private   \n",
      "7      Female   20             0              0           No        Private   \n",
      "\n",
      "index Residence_type  avg_glucose_level   bmi   smoking_status  stroke  \n",
      "0              Urban             102.87  27.2  formerly smoked       1  \n",
      "1              Rural             104.12  23.5     never smoked       1  \n",
      "2              Rural             100.98  28.2  formerly smoked       1  \n",
      "3              Urban             195.23  28.3           smokes       1  \n",
      "4              Rural              73.50  26.1  formerly smoked       0  \n",
      "5              Rural              95.04  42.4     never smoked       0  \n",
      "6              Rural              85.37  33.0     never smoked       0  \n",
      "7              Urban              84.62  19.7           smokes       0  \n",
      "\n",
      "\n",
      "Test Dataset after Preprocessing: \n",
      "\n",
      "index  gender  age  hypertension  heart_disease ever_married      work_type  \\\n",
      "0        Male   71             0              0          Yes        Private   \n",
      "1        Male   80             0              0          Yes  Self-employed   \n",
      "2      Female   65             0              0          Yes        Private   \n",
      "3        Male   69             0              1          Yes  Self-employed   \n",
      "4      Female   37             0              0          Yes        Private   \n",
      "5      Female   40             0              0          Yes        Private   \n",
      "6        Male   35             0              0           No        Private   \n",
      "7      Female   20             0              0           No        Private   \n",
      "\n",
      "index Residence_type  avg_glucose_level   bmi   smoking_status  stroke  \n",
      "0              Urban             102.87  27.2  formerly smoked       1  \n",
      "1              Rural             104.12  23.5     never smoked       1  \n",
      "2              Rural             100.98  28.2  formerly smoked       1  \n",
      "3              Urban             195.23  28.3           smokes       1  \n",
      "4              Rural              73.50  26.1  formerly smoked       0  \n",
      "5              Rural              95.04  42.4     never smoked       0  \n",
      "6              Rural              85.37  33.0     never smoked       0  \n",
      "7              Urban              84.62  19.7           smokes       0  \n"
     ]
    }
   ],
   "source": [
    "print(\"Test Dataset before Preprocessing: \\n\")\n",
    "print(testDatadf)\n",
    "print (\"\\n\")\n",
    "print(\"Test Dataset after Preprocessing: \\n\")\n",
    "preprocessTestDatadf=testDatadf.round({\"height\":2})\n",
    "print(preprocessTestDatadf)"
   ]
  },
  {
   "cell_type": "markdown",
   "id": "fc99593d",
   "metadata": {},
   "source": [
    "# Label Encoding for Train/Test Data"
   ]
  },
  {
   "cell_type": "code",
   "execution_count": 11,
   "id": "d73f0602",
   "metadata": {},
   "outputs": [
    {
     "name": "stdout",
     "output_type": "stream",
     "text": [
      "Gender attribute encoding in Train Dataset: \n",
      "\n",
      "index  gender  encode_gender\n",
      "0        Male              1\n",
      "1        Male              1\n",
      "2      Female              0\n",
      "3      Female              0\n",
      "4        Male              1\n",
      "5        Male              1\n",
      "6      Female              0\n",
      "7      Female              0\n",
      "8      Female              0\n",
      "9      Female              0\n",
      "10     Female              0\n",
      "11     Female              0\n",
      "12     Female              0\n",
      "13     Female              0\n",
      "14       Male              1\n",
      "15     Female              0\n",
      "16     Female              0\n",
      "17     Female              0\n",
      "18     Female              0\n",
      "19     Female              0\n"
     ]
    }
   ],
   "source": [
    "print(\"Gender attribute encoding in Train Dataset: \\n\")\n",
    "\n",
    "preprocessTrainDatadf[\"encode_gender\"]=LabelEncoder().fit_transform(preprocessTrainDatadf[\"gender\"])\n",
    "print(preprocessTrainDatadf[[\"gender\",\"encode_gender\"]])"
   ]
  },
  {
   "cell_type": "code",
   "execution_count": 12,
   "id": "bbd56a49",
   "metadata": {},
   "outputs": [
    {
     "name": "stdout",
     "output_type": "stream",
     "text": [
      "ever_married attribute encoding in train Dataset: \n",
      "\n",
      "index ever_married  encode_ever_married\n",
      "0              Yes                    1\n",
      "1              Yes                    1\n",
      "2              Yes                    1\n",
      "3              Yes                    1\n",
      "4              Yes                    1\n",
      "5              Yes                    1\n",
      "6               No                    0\n",
      "7              Yes                    1\n",
      "8              Yes                    1\n",
      "9              Yes                    1\n",
      "10             Yes                    1\n",
      "11             Yes                    1\n",
      "12             Yes                    1\n",
      "13             Yes                    1\n",
      "14             Yes                    1\n",
      "15             Yes                    1\n",
      "16             Yes                    1\n",
      "17             Yes                    1\n",
      "18              No                    0\n",
      "19             Yes                    1\n"
     ]
    }
   ],
   "source": [
    "print(\"ever_married attribute encoding in train Dataset: \\n\")\n",
    "\n",
    "preprocessTrainDatadf[\"encode_ever_married\"]=LabelEncoder().fit_transform(preprocessTrainDatadf[\"ever_married\"])\n",
    "print(preprocessTrainDatadf[[\"ever_married\",\"encode_ever_married\"]])"
   ]
  },
  {
   "cell_type": "code",
   "execution_count": 13,
   "id": "53fbf7fd",
   "metadata": {},
   "outputs": [
    {
     "name": "stdout",
     "output_type": "stream",
     "text": [
      "work_type attribute encoding in train Dataset: \n",
      "\n",
      "index      work_type  encode_work_type\n",
      "0            Private                 1\n",
      "1            Private                 1\n",
      "2            Private                 1\n",
      "3      Self-employed                 2\n",
      "4            Private                 1\n",
      "5            Private                 1\n",
      "6            Private                 1\n",
      "7            Private                 1\n",
      "8            Private                 1\n",
      "9           Govt_job                 0\n",
      "10           Private                 1\n",
      "11     Self-employed                 2\n",
      "12           Private                 1\n",
      "13           Private                 1\n",
      "14           Private                 1\n",
      "15           Private                 1\n",
      "16           Private                 1\n",
      "17          Govt_job                 0\n",
      "18           Private                 1\n",
      "19           Private                 1\n"
     ]
    }
   ],
   "source": [
    "print(\"work_type attribute encoding in train Dataset: \\n\")\n",
    "\n",
    "preprocessTrainDatadf[\"encode_work_type\"]=LabelEncoder().fit_transform(preprocessTrainDatadf[\"work_type\"])\n",
    "print(preprocessTrainDatadf[[\"work_type\",\"encode_work_type\"]])"
   ]
  },
  {
   "cell_type": "code",
   "execution_count": 14,
   "id": "944aedf9",
   "metadata": {},
   "outputs": [
    {
     "name": "stdout",
     "output_type": "stream",
     "text": [
      "Residence_type attribute encoding in train Dataset: \n",
      "\n",
      "index Residence_type  encode_Residence_type\n",
      "0              Urban                      1\n",
      "1              Rural                      0\n",
      "2              Urban                      1\n",
      "3              Rural                      0\n",
      "4              Urban                      1\n",
      "5              Rural                      0\n",
      "6              Urban                      1\n",
      "7              Urban                      1\n",
      "8              Rural                      0\n",
      "9              Rural                      0\n",
      "10             Urban                      1\n",
      "11             Urban                      1\n",
      "12             Rural                      0\n",
      "13             Rural                      0\n",
      "14             Urban                      1\n",
      "15             Urban                      1\n",
      "16             Urban                      1\n",
      "17             Rural                      0\n",
      "18             Rural                      0\n",
      "19             Rural                      0\n"
     ]
    }
   ],
   "source": [
    "print(\"Residence_type attribute encoding in train Dataset: \\n\")\n",
    "\n",
    "preprocessTrainDatadf[\"encode_Residence_type\"]=LabelEncoder().fit_transform(preprocessTrainDatadf[\"Residence_type\"])\n",
    "print(preprocessTrainDatadf[[\"Residence_type\",\"encode_Residence_type\"]])"
   ]
  },
  {
   "cell_type": "code",
   "execution_count": 15,
   "id": "5dc799bd",
   "metadata": {},
   "outputs": [
    {
     "name": "stdout",
     "output_type": "stream",
     "text": [
      "smoking_status attribute encoding in train Dataset: \n",
      "\n",
      "index   smoking_status  encode_smoking_status\n",
      "0      formerly smoked                      1\n",
      "1         never smoked                      2\n",
      "2               smokes                      3\n",
      "3         never smoked                      2\n",
      "4      formerly smoked                      1\n",
      "5         never smoked                      2\n",
      "6         never smoked                      2\n",
      "7              Unknown                      0\n",
      "8         never smoked                      2\n",
      "9               smokes                      3\n",
      "10              smokes                      3\n",
      "11              smokes                      3\n",
      "12             Unknown                      0\n",
      "13              smokes                      3\n",
      "14     formerly smoked                      1\n",
      "15        never smoked                      2\n",
      "16        never smoked                      2\n",
      "17              smokes                      3\n",
      "18        never smoked                      2\n",
      "19        never smoked                      2\n"
     ]
    }
   ],
   "source": [
    "print(\"smoking_status attribute encoding in train Dataset: \\n\")\n",
    "\n",
    "preprocessTrainDatadf[\"encode_smoking_status\"]=LabelEncoder().fit_transform(preprocessTrainDatadf[\"smoking_status\"])\n",
    "print(preprocessTrainDatadf[[\"smoking_status\",\"encode_smoking_status\"]])"
   ]
  },
  {
   "cell_type": "code",
   "execution_count": 16,
   "id": "ce992c4e",
   "metadata": {},
   "outputs": [
    {
     "name": "stdout",
     "output_type": "stream",
     "text": [
      "Gender attribute encoding in Train Dataset: \n",
      "\n",
      "index  gender  encode_gender\n",
      "0        Male              1\n",
      "1        Male              1\n",
      "2      Female              0\n",
      "3        Male              1\n",
      "4      Female              0\n",
      "5      Female              0\n",
      "6        Male              1\n",
      "7      Female              0\n"
     ]
    }
   ],
   "source": [
    "print(\"Gender attribute encoding in Train Dataset: \\n\")\n",
    "\n",
    "preprocessTestDatadf[\"encode_gender\"]=LabelEncoder().fit_transform(preprocessTestDatadf[\"gender\"])\n",
    "print(preprocessTestDatadf[[\"gender\",\"encode_gender\"]])"
   ]
  },
  {
   "cell_type": "code",
   "execution_count": 17,
   "id": "66a74356",
   "metadata": {},
   "outputs": [
    {
     "name": "stdout",
     "output_type": "stream",
     "text": [
      "ever_married attribute encoding in train Dataset: \n",
      "\n",
      "index ever_married  encode_ever_married\n",
      "0              Yes                    1\n",
      "1              Yes                    1\n",
      "2              Yes                    1\n",
      "3              Yes                    1\n",
      "4              Yes                    1\n",
      "5              Yes                    1\n",
      "6               No                    0\n",
      "7               No                    0\n"
     ]
    }
   ],
   "source": [
    "print(\"ever_married attribute encoding in train Dataset: \\n\")\n",
    "\n",
    "preprocessTestDatadf[\"encode_ever_married\"]=LabelEncoder().fit_transform(preprocessTestDatadf[\"ever_married\"])\n",
    "print(preprocessTestDatadf[[\"ever_married\",\"encode_ever_married\"]])"
   ]
  },
  {
   "cell_type": "code",
   "execution_count": 18,
   "id": "6c2c8ff7",
   "metadata": {},
   "outputs": [
    {
     "name": "stdout",
     "output_type": "stream",
     "text": [
      "work_type attribute encoding in train Dataset: \n",
      "\n",
      "index      work_type  encode_work_type\n",
      "0            Private                 0\n",
      "1      Self-employed                 1\n",
      "2            Private                 0\n",
      "3      Self-employed                 1\n",
      "4            Private                 0\n",
      "5            Private                 0\n",
      "6            Private                 0\n",
      "7            Private                 0\n"
     ]
    }
   ],
   "source": [
    "print(\"work_type attribute encoding in train Dataset: \\n\")\n",
    "\n",
    "preprocessTestDatadf[\"encode_work_type\"]=LabelEncoder().fit_transform(preprocessTestDatadf[\"work_type\"])\n",
    "print(preprocessTestDatadf[[\"work_type\",\"encode_work_type\"]])"
   ]
  },
  {
   "cell_type": "code",
   "execution_count": 19,
   "id": "ccecfb02",
   "metadata": {},
   "outputs": [
    {
     "name": "stdout",
     "output_type": "stream",
     "text": [
      "Residence_type attribute encoding in train Dataset: \n",
      "\n",
      "index Residence_type  encode_Residence_type\n",
      "0              Urban                      1\n",
      "1              Rural                      0\n",
      "2              Rural                      0\n",
      "3              Urban                      1\n",
      "4              Rural                      0\n",
      "5              Rural                      0\n",
      "6              Rural                      0\n",
      "7              Urban                      1\n"
     ]
    }
   ],
   "source": [
    "print(\"Residence_type attribute encoding in train Dataset: \\n\")\n",
    "\n",
    "preprocessTestDatadf[\"encode_Residence_type\"]=LabelEncoder().fit_transform(preprocessTestDatadf[\"Residence_type\"])\n",
    "print(preprocessTestDatadf[[\"Residence_type\",\"encode_Residence_type\"]])"
   ]
  },
  {
   "cell_type": "code",
   "execution_count": 20,
   "id": "60c4a9f9",
   "metadata": {},
   "outputs": [
    {
     "name": "stdout",
     "output_type": "stream",
     "text": [
      "smoking_status attribute encoding in train Dataset: \n",
      "\n",
      "index   smoking_status  encode_smoking_status\n",
      "0      formerly smoked                      0\n",
      "1         never smoked                      1\n",
      "2      formerly smoked                      0\n",
      "3               smokes                      2\n",
      "4      formerly smoked                      0\n",
      "5         never smoked                      1\n",
      "6         never smoked                      1\n",
      "7               smokes                      2\n"
     ]
    }
   ],
   "source": [
    "print(\"smoking_status attribute encoding in train Dataset: \\n\")\n",
    "\n",
    "preprocessTestDatadf[\"encode_smoking_status\"]=LabelEncoder().fit_transform(preprocessTestDatadf[\"smoking_status\"])\n",
    "print(preprocessTestDatadf[[\"smoking_status\",\"encode_smoking_status\"]])"
   ]
  },
  {
   "cell_type": "code",
   "execution_count": 21,
   "id": "cabab031",
   "metadata": {},
   "outputs": [
    {
     "name": "stdout",
     "output_type": "stream",
     "text": [
      "Orignal Training Dataset: \n",
      "\n",
      "index  gender  age  hypertension  heart_disease ever_married      work_type  \\\n",
      "0        Male   67             0              1          Yes        Private   \n",
      "1        Male   80             0              1          Yes        Private   \n",
      "2      Female   49             0              0          Yes        Private   \n",
      "3      Female   79             1              0          Yes  Self-employed   \n",
      "4        Male   81             0              0          Yes        Private   \n",
      "5        Male   74             1              1          Yes        Private   \n",
      "6      Female   69             0              0           No        Private   \n",
      "7      Female   78             0              0          Yes        Private   \n",
      "8      Female   81             1              0          Yes        Private   \n",
      "9      Female   61             0              1          Yes       Govt_job   \n",
      "10     Female   54             0              0          Yes        Private   \n",
      "11     Female   79             0              1          Yes  Self-employed   \n",
      "12     Female   65             1              0          Yes        Private   \n",
      "13     Female   49             0              0          Yes        Private   \n",
      "14       Male   71             0              0          Yes        Private   \n",
      "15     Female   59             0              0          Yes        Private   \n",
      "16     Female   25             0              0          Yes        Private   \n",
      "17     Female   67             0              0          Yes       Govt_job   \n",
      "18     Female   38             0              0           No        Private   \n",
      "19     Female   54             0              0          Yes        Private   \n",
      "\n",
      "index Residence_type  avg_glucose_level   bmi   smoking_status  stroke  \n",
      "0              Urban             228.69  36.6  formerly smoked       1  \n",
      "1              Rural             105.92  32.5     never smoked       1  \n",
      "2              Urban             171.23  34.4           smokes       1  \n",
      "3              Rural             174.12  24.0     never smoked       1  \n",
      "4              Urban             186.21  29.0  formerly smoked       1  \n",
      "5              Rural              70.09  27.4     never smoked       1  \n",
      "6              Urban              94.39  22.8     never smoked       1  \n",
      "7              Urban              58.57  24.2          Unknown       1  \n",
      "8              Rural              80.43  29.7     never smoked       1  \n",
      "9              Rural             120.46  36.8           smokes       1  \n",
      "10             Urban             104.51  27.3           smokes       1  \n",
      "11             Urban              67.84  25.2           smokes       0  \n",
      "12             Rural              75.70  41.8          Unknown       0  \n",
      "13             Rural              60.22  31.5           smokes       0  \n",
      "14             Urban             198.21  27.3  formerly smoked       0  \n",
      "15             Urban             109.82  23.7     never smoked       0  \n",
      "16             Urban              60.84  24.5     never smoked       0  \n",
      "17             Rural              94.61  28.4           smokes       0  \n",
      "18             Rural              97.49  26.9     never smoked       0  \n",
      "19             Rural             206.72  26.7     never smoked       0  \n",
      "\n",
      "\n",
      "Training Dataset after Label Encoding: \n",
      "\n",
      "index  gender  age  hypertension  heart_disease  ever_married  work_type  \\\n",
      "0           1   67             0              1             1          1   \n",
      "1           1   80             0              1             1          1   \n",
      "2           0   49             0              0             1          1   \n",
      "3           0   79             1              0             1          2   \n",
      "4           1   81             0              0             1          1   \n",
      "5           1   74             1              1             1          1   \n",
      "6           0   69             0              0             0          1   \n",
      "7           0   78             0              0             1          1   \n",
      "8           0   81             1              0             1          1   \n",
      "9           0   61             0              1             1          0   \n",
      "10          0   54             0              0             1          1   \n",
      "11          0   79             0              1             1          2   \n",
      "12          0   65             1              0             1          1   \n",
      "13          0   49             0              0             1          1   \n",
      "14          1   71             0              0             1          1   \n",
      "15          0   59             0              0             1          1   \n",
      "16          0   25             0              0             1          1   \n",
      "17          0   67             0              0             1          0   \n",
      "18          0   38             0              0             0          1   \n",
      "19          0   54             0              0             1          1   \n",
      "\n",
      "index  Residence_type  avg_glucose_level   bmi  smoking_status  stroke  \n",
      "0                   1             228.69  36.6               1       1  \n",
      "1                   0             105.92  32.5               2       1  \n",
      "2                   1             171.23  34.4               3       1  \n",
      "3                   0             174.12  24.0               2       1  \n",
      "4                   1             186.21  29.0               1       1  \n",
      "5                   0              70.09  27.4               2       1  \n",
      "6                   1              94.39  22.8               2       1  \n",
      "7                   1              58.57  24.2               0       1  \n",
      "8                   0              80.43  29.7               2       1  \n",
      "9                   0             120.46  36.8               3       1  \n",
      "10                  1             104.51  27.3               3       1  \n",
      "11                  1              67.84  25.2               3       0  \n",
      "12                  0              75.70  41.8               0       0  \n",
      "13                  0              60.22  31.5               3       0  \n",
      "14                  1             198.21  27.3               1       0  \n",
      "15                  1             109.82  23.7               2       0  \n",
      "16                  1              60.84  24.5               2       0  \n",
      "17                  0              94.61  28.4               3       0  \n",
      "18                  0              97.49  26.9               2       0  \n",
      "19                  0             206.72  26.7               2       0  \n"
     ]
    }
   ],
   "source": [
    "print(\"Orignal Training Dataset: \\n\")\n",
    "print(trainData)\n",
    "\n",
    "print(\"\\n\")\n",
    "\n",
    "print(\"Training Dataset after Label Encoding: \\n\")\n",
    "\n",
    "labelTrainDatadf= preprocessTrainDatadf[[\"encode_gender\",\"age\",\"hypertension\",\"heart_disease\",\"encode_ever_married\",\"encode_work_type\",\"encode_Residence_type\",\"avg_glucose_level\",\"bmi\",\"encode_smoking_status\",\"stroke\"]]\n",
    "fTrainDatadf= labelTrainDatadf.rename(columns={\"encode_gender\":\"gender\", \"encode_ever_married\":\"ever_married\",\"encode_work_type\":\"work_type\",\"encode_Residence_type\":\"Residence_type\",\"encode_smoking_status\":\"smoking_status\"})\n",
    "print(fTrainDatadf)"
   ]
  },
  {
   "cell_type": "code",
   "execution_count": 22,
   "id": "ca475dc3",
   "metadata": {},
   "outputs": [
    {
     "name": "stdout",
     "output_type": "stream",
     "text": [
      "Orignal Testing Dataset: \n",
      "\n",
      "index  gender  age  hypertension  heart_disease ever_married      work_type  \\\n",
      "0        Male   71             0              0          Yes        Private   \n",
      "1        Male   80             0              0          Yes  Self-employed   \n",
      "2      Female   65             0              0          Yes        Private   \n",
      "3        Male   69             0              1          Yes  Self-employed   \n",
      "4      Female   37             0              0          Yes        Private   \n",
      "5      Female   40             0              0          Yes        Private   \n",
      "6        Male   35             0              0           No        Private   \n",
      "7      Female   20             0              0           No        Private   \n",
      "\n",
      "index Residence_type  avg_glucose_level   bmi   smoking_status  stroke  \n",
      "0              Urban             102.87  27.2  formerly smoked       1  \n",
      "1              Rural             104.12  23.5     never smoked       1  \n",
      "2              Rural             100.98  28.2  formerly smoked       1  \n",
      "3              Urban             195.23  28.3           smokes       1  \n",
      "4              Rural              73.50  26.1  formerly smoked       0  \n",
      "5              Rural              95.04  42.4     never smoked       0  \n",
      "6              Rural              85.37  33.0     never smoked       0  \n",
      "7              Urban              84.62  19.7           smokes       0  \n",
      "\n",
      "\n",
      "Testing Dataset after Label Encoding: \n",
      "\n",
      "index  gender  age  hypertension  heart_disease  ever_married  work_type  \\\n",
      "0           1   71             0              0             1          0   \n",
      "1           1   80             0              0             1          1   \n",
      "2           0   65             0              0             1          0   \n",
      "3           1   69             0              1             1          1   \n",
      "4           0   37             0              0             1          0   \n",
      "5           0   40             0              0             1          0   \n",
      "6           1   35             0              0             0          0   \n",
      "7           0   20             0              0             0          0   \n",
      "\n",
      "index  Residence_type  avg_glucose_level   bmi  smoking_status  stroke  \n",
      "0                   1             102.87  27.2               0       1  \n",
      "1                   0             104.12  23.5               1       1  \n",
      "2                   0             100.98  28.2               0       1  \n",
      "3                   1             195.23  28.3               2       1  \n",
      "4                   0              73.50  26.1               0       0  \n",
      "5                   0              95.04  42.4               1       0  \n",
      "6                   0              85.37  33.0               1       0  \n",
      "7                   1              84.62  19.7               2       0  \n"
     ]
    }
   ],
   "source": [
    "print(\"Orignal Testing Dataset: \\n\")\n",
    "print(testData)\n",
    "\n",
    "print(\"\\n\")\n",
    "\n",
    "print(\"Testing Dataset after Label Encoding: \\n\")\n",
    "\n",
    "labelTestDatadf= preprocessTestDatadf[[\"encode_gender\",\"age\",\"hypertension\",\"heart_disease\",\"encode_ever_married\",\"encode_work_type\",\"encode_Residence_type\",\"avg_glucose_level\",\"bmi\",\"encode_smoking_status\",\"stroke\"]]\n",
    "fTestDatadf= labelTestDatadf.rename(columns={\"encode_gender\":\"gender\", \"encode_ever_married\":\"ever_married\",\"encode_work_type\":\"work_type\",\"encode_Residence_type\":\"Residence_type\",\"encode_smoking_status\":\"smoking_status\"})\n",
    "print(fTestDatadf)"
   ]
  },
  {
   "cell_type": "markdown",
   "id": "6baf58e5",
   "metadata": {},
   "source": [
    "# Train ML Algorithms using Train Data"
   ]
  },
  {
   "cell_type": "code",
   "execution_count": 52,
   "id": "0d58b2e0",
   "metadata": {},
   "outputs": [],
   "source": [
    "inputTrainAt=fTrainDatadf.iloc[:, :-1].values\n",
    "outputTrainAt=fTrainDatadf.iloc[:, 10].values\n",
    "\n",
    "inputTestAt=fTestDatadf.iloc[:,: -1].values\n",
    "outputTestAt=fTestDatadf.iloc[:, 10].values"
   ]
  },
  {
   "cell_type": "code",
   "execution_count": 53,
   "id": "60ba6cd4",
   "metadata": {},
   "outputs": [
    {
     "data": {
      "text/plain": [
       "array([[  1.  ,  67.  ,   0.  ,   1.  ,   1.  ,   1.  ,   1.  , 228.69,\n",
       "         36.6 ,   1.  ],\n",
       "       [  1.  ,  80.  ,   0.  ,   1.  ,   1.  ,   1.  ,   0.  , 105.92,\n",
       "         32.5 ,   2.  ],\n",
       "       [  0.  ,  49.  ,   0.  ,   0.  ,   1.  ,   1.  ,   1.  , 171.23,\n",
       "         34.4 ,   3.  ],\n",
       "       [  0.  ,  79.  ,   1.  ,   0.  ,   1.  ,   2.  ,   0.  , 174.12,\n",
       "         24.  ,   2.  ],\n",
       "       [  1.  ,  81.  ,   0.  ,   0.  ,   1.  ,   1.  ,   1.  , 186.21,\n",
       "         29.  ,   1.  ],\n",
       "       [  1.  ,  74.  ,   1.  ,   1.  ,   1.  ,   1.  ,   0.  ,  70.09,\n",
       "         27.4 ,   2.  ],\n",
       "       [  0.  ,  69.  ,   0.  ,   0.  ,   0.  ,   1.  ,   1.  ,  94.39,\n",
       "         22.8 ,   2.  ],\n",
       "       [  0.  ,  78.  ,   0.  ,   0.  ,   1.  ,   1.  ,   1.  ,  58.57,\n",
       "         24.2 ,   0.  ],\n",
       "       [  0.  ,  81.  ,   1.  ,   0.  ,   1.  ,   1.  ,   0.  ,  80.43,\n",
       "         29.7 ,   2.  ],\n",
       "       [  0.  ,  61.  ,   0.  ,   1.  ,   1.  ,   0.  ,   0.  , 120.46,\n",
       "         36.8 ,   3.  ],\n",
       "       [  0.  ,  54.  ,   0.  ,   0.  ,   1.  ,   1.  ,   1.  , 104.51,\n",
       "         27.3 ,   3.  ],\n",
       "       [  0.  ,  79.  ,   0.  ,   1.  ,   1.  ,   2.  ,   1.  ,  67.84,\n",
       "         25.2 ,   3.  ],\n",
       "       [  0.  ,  65.  ,   1.  ,   0.  ,   1.  ,   1.  ,   0.  ,  75.7 ,\n",
       "         41.8 ,   0.  ],\n",
       "       [  0.  ,  49.  ,   0.  ,   0.  ,   1.  ,   1.  ,   0.  ,  60.22,\n",
       "         31.5 ,   3.  ],\n",
       "       [  1.  ,  71.  ,   0.  ,   0.  ,   1.  ,   1.  ,   1.  , 198.21,\n",
       "         27.3 ,   1.  ],\n",
       "       [  0.  ,  59.  ,   0.  ,   0.  ,   1.  ,   1.  ,   1.  , 109.82,\n",
       "         23.7 ,   2.  ],\n",
       "       [  0.  ,  25.  ,   0.  ,   0.  ,   1.  ,   1.  ,   1.  ,  60.84,\n",
       "         24.5 ,   2.  ],\n",
       "       [  0.  ,  67.  ,   0.  ,   0.  ,   1.  ,   0.  ,   0.  ,  94.61,\n",
       "         28.4 ,   3.  ],\n",
       "       [  0.  ,  38.  ,   0.  ,   0.  ,   0.  ,   1.  ,   0.  ,  97.49,\n",
       "         26.9 ,   2.  ],\n",
       "       [  0.  ,  54.  ,   0.  ,   0.  ,   1.  ,   1.  ,   0.  , 206.72,\n",
       "         26.7 ,   2.  ]])"
      ]
     },
     "execution_count": 53,
     "metadata": {},
     "output_type": "execute_result"
    }
   ],
   "source": [
    "inputTrainAt"
   ]
  },
  {
   "cell_type": "code",
   "execution_count": 24,
   "id": "faf744ee",
   "metadata": {},
   "outputs": [
    {
     "name": "stdout",
     "output_type": "stream",
     "text": [
      "Prameters and their values: \n",
      "\n",
      "LogisticRegression()\n"
     ]
    }
   ],
   "source": [
    "print(\"Prameters and their values: \\n\")\n",
    "logisticRegression=LogisticRegression()\n",
    "print(logisticRegression)"
   ]
  },
  {
   "cell_type": "code",
   "execution_count": 25,
   "id": "12b76a68",
   "metadata": {},
   "outputs": [
    {
     "name": "stderr",
     "output_type": "stream",
     "text": [
      "D:\\Anaconda\\lib\\site-packages\\sklearn\\linear_model\\_logistic.py:763: ConvergenceWarning: lbfgs failed to converge (status=1):\n",
      "STOP: TOTAL NO. of ITERATIONS REACHED LIMIT.\n",
      "\n",
      "Increase the number of iterations (max_iter) or scale the data as shown in:\n",
      "    https://scikit-learn.org/stable/modules/preprocessing.html\n",
      "Please also refer to the documentation for alternative solver options:\n",
      "    https://scikit-learn.org/stable/modules/linear_model.html#logistic-regression\n",
      "  n_iter_i = _check_optimize_result(\n"
     ]
    }
   ],
   "source": [
    "logisticRegression.fit(inputTrainAt,outputTrainAt)\n",
    "\n",
    "outputPredictionLR=logisticRegression.predict(inputTestAt)"
   ]
  },
  {
   "cell_type": "code",
   "execution_count": 26,
   "id": "3aa68c61",
   "metadata": {},
   "outputs": [
    {
     "name": "stdout",
     "output_type": "stream",
     "text": [
      "Prameters and their values: \n",
      "\n",
      "RandomForestClassifier()\n"
     ]
    }
   ],
   "source": [
    "print(\"Prameters and their values: \\n\")\n",
    "randomForest=RandomForestClassifier()\n",
    "print(randomForest)"
   ]
  },
  {
   "cell_type": "code",
   "execution_count": 27,
   "id": "b9fc7ea8",
   "metadata": {},
   "outputs": [],
   "source": [
    "randomForest.fit(inputTrainAt,outputTrainAt)\n",
    "outputPredictionRF = randomForest.predict(inputTestAt)"
   ]
  },
  {
   "cell_type": "code",
   "execution_count": 28,
   "id": "9081e742",
   "metadata": {},
   "outputs": [
    {
     "name": "stdout",
     "output_type": "stream",
     "text": [
      "Prameters and their values: \n",
      "\n",
      "LinearSVC()\n"
     ]
    }
   ],
   "source": [
    "print(\"Prameters and their values: \\n\")\n",
    "linearSvc=LinearSVC()\n",
    "print(linearSvc)"
   ]
  },
  {
   "cell_type": "code",
   "execution_count": 29,
   "id": "ee06b984",
   "metadata": {},
   "outputs": [
    {
     "name": "stderr",
     "output_type": "stream",
     "text": [
      "D:\\Anaconda\\lib\\site-packages\\sklearn\\svm\\_base.py:985: ConvergenceWarning: Liblinear failed to converge, increase the number of iterations.\n",
      "  warnings.warn(\"Liblinear failed to converge, increase \"\n"
     ]
    }
   ],
   "source": [
    "linearSvc.fit(inputTrainAt,outputTrainAt)\n",
    "outputPredictionSVC = linearSvc.predict(inputTestAt)"
   ]
  },
  {
   "cell_type": "code",
   "execution_count": 30,
   "id": "1f829d3b",
   "metadata": {},
   "outputs": [
    {
     "name": "stdout",
     "output_type": "stream",
     "text": [
      "Prameters and their values: \n",
      "\n",
      "BernoulliNB()\n"
     ]
    }
   ],
   "source": [
    "print(\"Prameters and their values: \\n\")\n",
    "bernoulliNB=BernoulliNB()\n",
    "print(bernoulliNB)"
   ]
  },
  {
   "cell_type": "code",
   "execution_count": 31,
   "id": "b7224f02",
   "metadata": {},
   "outputs": [],
   "source": [
    "bernoulliNB.fit(inputTrainAt,outputTrainAt)\n",
    "outputPredictionNB = bernoulliNB.predict(inputTestAt)"
   ]
  },
  {
   "cell_type": "markdown",
   "id": "bc9b9153",
   "metadata": {},
   "source": [
    "# Evaluate ML Algorithms using Test Data"
   ]
  },
  {
   "cell_type": "code",
   "execution_count": 32,
   "id": "7333772a",
   "metadata": {},
   "outputs": [
    {
     "name": "stdout",
     "output_type": "stream",
     "text": [
      "prediction using Logistic Regression:\n",
      "\n",
      "index  gender  age  hypertension  heart_disease ever_married      work_type  \\\n",
      "0        Male   71             0              0          Yes        Private   \n",
      "1        Male   80             0              0          Yes  Self-employed   \n",
      "2      Female   65             0              0          Yes        Private   \n",
      "3        Male   69             0              1          Yes  Self-employed   \n",
      "4      Female   37             0              0          Yes        Private   \n",
      "5      Female   40             0              0          Yes        Private   \n",
      "6        Male   35             0              0           No        Private   \n",
      "7      Female   20             0              0           No        Private   \n",
      "\n",
      "index Residence_type  avg_glucose_level   bmi   smoking_status  stroke  \\\n",
      "0              Urban             102.87  27.2  formerly smoked       1   \n",
      "1              Rural             104.12  23.5     never smoked       1   \n",
      "2              Rural             100.98  28.2  formerly smoked       1   \n",
      "3              Urban             195.23  28.3           smokes       1   \n",
      "4              Rural              73.50  26.1  formerly smoked       0   \n",
      "5              Rural              95.04  42.4     never smoked       0   \n",
      "6              Rural              85.37  33.0     never smoked       0   \n",
      "7              Urban              84.62  19.7           smokes       0   \n",
      "\n",
      "index  predicted_stroke  \n",
      "0                     1  \n",
      "1                     1  \n",
      "2                     0  \n",
      "3                     1  \n",
      "4                     0  \n",
      "5                     0  \n",
      "6                     0  \n",
      "7                     0  \n",
      "\n",
      "\n",
      "Accuracy: 0.875\n"
     ]
    }
   ],
   "source": [
    "print(\"prediction using Logistic Regression:\\n\")\n",
    "\n",
    "testingLRdf = testData \n",
    "testingLRdf['predicted_stroke']=outputPredictionLR\n",
    "print(testingLRdf)\n",
    "lrAccuracy = format( logisticRegression.score(inputTestAt, outputTestAt))\n",
    "print(\"\\n\")\n",
    "print(\"Accuracy: %s\"% lrAccuracy)"
   ]
  },
  {
   "cell_type": "code",
   "execution_count": 33,
   "id": "098b41ce",
   "metadata": {},
   "outputs": [
    {
     "name": "stdout",
     "output_type": "stream",
     "text": [
      "prediction usinsg Random Forest Classifier:\n",
      "\n",
      "index  gender  age  hypertension  heart_disease ever_married      work_type  \\\n",
      "0        Male   71             0              0          Yes        Private   \n",
      "1        Male   80             0              0          Yes  Self-employed   \n",
      "2      Female   65             0              0          Yes        Private   \n",
      "3        Male   69             0              1          Yes  Self-employed   \n",
      "4      Female   37             0              0          Yes        Private   \n",
      "5      Female   40             0              0          Yes        Private   \n",
      "6        Male   35             0              0           No        Private   \n",
      "7      Female   20             0              0           No        Private   \n",
      "\n",
      "index Residence_type  avg_glucose_level   bmi   smoking_status  stroke  \\\n",
      "0              Urban             102.87  27.2  formerly smoked       1   \n",
      "1              Rural             104.12  23.5     never smoked       1   \n",
      "2              Rural             100.98  28.2  formerly smoked       1   \n",
      "3              Urban             195.23  28.3           smokes       1   \n",
      "4              Rural              73.50  26.1  formerly smoked       0   \n",
      "5              Rural              95.04  42.4     never smoked       0   \n",
      "6              Rural              85.37  33.0     never smoked       0   \n",
      "7              Urban              84.62  19.7           smokes       0   \n",
      "\n",
      "index  predicted_stroke  \n",
      "0                     0  \n",
      "1                     1  \n",
      "2                     0  \n",
      "3                     1  \n",
      "4                     0  \n",
      "5                     0  \n",
      "6                     0  \n",
      "7                     0  \n",
      "\n",
      "\n",
      "Accuracy: 0.75\n"
     ]
    }
   ],
   "source": [
    "print(\"prediction usinsg Random Forest Classifier:\\n\")\n",
    "\n",
    "testingRFdf = testData \n",
    "testingRFdf['predicted_stroke']=outputPredictionRF\n",
    "print(testingRFdf)\n",
    "rfAccuracy = format( randomForest.score(inputTestAt, outputTestAt))\n",
    "print(\"\\n\")\n",
    "print(\"Accuracy: %s\"% rfAccuracy)"
   ]
  },
  {
   "cell_type": "code",
   "execution_count": 34,
   "id": "0ef5d9ee",
   "metadata": {},
   "outputs": [
    {
     "name": "stdout",
     "output_type": "stream",
     "text": [
      "prediction usinsg Linear SVC:\n",
      "\n",
      "index  gender  age  hypertension  heart_disease ever_married      work_type  \\\n",
      "0        Male   71             0              0          Yes        Private   \n",
      "1        Male   80             0              0          Yes  Self-employed   \n",
      "2      Female   65             0              0          Yes        Private   \n",
      "3        Male   69             0              1          Yes  Self-employed   \n",
      "4      Female   37             0              0          Yes        Private   \n",
      "5      Female   40             0              0          Yes        Private   \n",
      "6        Male   35             0              0           No        Private   \n",
      "7      Female   20             0              0           No        Private   \n",
      "\n",
      "index Residence_type  avg_glucose_level   bmi   smoking_status  stroke  \\\n",
      "0              Urban             102.87  27.2  formerly smoked       1   \n",
      "1              Rural             104.12  23.5     never smoked       1   \n",
      "2              Rural             100.98  28.2  formerly smoked       1   \n",
      "3              Urban             195.23  28.3           smokes       1   \n",
      "4              Rural              73.50  26.1  formerly smoked       0   \n",
      "5              Rural              95.04  42.4     never smoked       0   \n",
      "6              Rural              85.37  33.0     never smoked       0   \n",
      "7              Urban              84.62  19.7           smokes       0   \n",
      "\n",
      "index  predicted_stroke  \n",
      "0                     0  \n",
      "1                     0  \n",
      "2                     0  \n",
      "3                     0  \n",
      "4                     0  \n",
      "5                     0  \n",
      "6                     0  \n",
      "7                     0  \n",
      "\n",
      "\n",
      "Accuracy: 0.5\n"
     ]
    }
   ],
   "source": [
    "print(\"prediction usinsg Linear SVC:\\n\")\n",
    "\n",
    "testingSVCdf = testData \n",
    "testingSVCdf['predicted_stroke']=outputPredictionSVC\n",
    "print(testingSVCdf)\n",
    "SVCAccuracy = format( linearSvc.score(inputTestAt, outputTestAt))\n",
    "print(\"\\n\")\n",
    "print(\"Accuracy: %s\"% SVCAccuracy)"
   ]
  },
  {
   "cell_type": "code",
   "execution_count": 35,
   "id": "f6d3a2cb",
   "metadata": {},
   "outputs": [
    {
     "name": "stdout",
     "output_type": "stream",
     "text": [
      "prediction usinsg BernoulliNB:\n",
      "\n",
      "index  gender  age  hypertension  heart_disease ever_married      work_type  \\\n",
      "0        Male   71             0              0          Yes        Private   \n",
      "1        Male   80             0              0          Yes  Self-employed   \n",
      "2      Female   65             0              0          Yes        Private   \n",
      "3        Male   69             0              1          Yes  Self-employed   \n",
      "4      Female   37             0              0          Yes        Private   \n",
      "5      Female   40             0              0          Yes        Private   \n",
      "6        Male   35             0              0           No        Private   \n",
      "7      Female   20             0              0           No        Private   \n",
      "\n",
      "index Residence_type  avg_glucose_level   bmi   smoking_status  stroke  \\\n",
      "0              Urban             102.87  27.2  formerly smoked       1   \n",
      "1              Rural             104.12  23.5     never smoked       1   \n",
      "2              Rural             100.98  28.2  formerly smoked       1   \n",
      "3              Urban             195.23  28.3           smokes       1   \n",
      "4              Rural              73.50  26.1  formerly smoked       0   \n",
      "5              Rural              95.04  42.4     never smoked       0   \n",
      "6              Rural              85.37  33.0     never smoked       0   \n",
      "7              Urban              84.62  19.7           smokes       0   \n",
      "\n",
      "index  predicted_stroke  \n",
      "0                     1  \n",
      "1                     1  \n",
      "2                     0  \n",
      "3                     1  \n",
      "4                     0  \n",
      "5                     0  \n",
      "6                     1  \n",
      "7                     0  \n",
      "\n",
      "\n",
      "Accuracy: 0.75\n"
     ]
    }
   ],
   "source": [
    "print(\"prediction usinsg BernoulliNB:\\n\")\n",
    "\n",
    "testingNBdf = testData \n",
    "testingNBdf['predicted_stroke']=outputPredictionNB\n",
    "print(testingNBdf)\n",
    "nbAccuracy = format( bernoulliNB.score(inputTestAt, outputTestAt))\n",
    "print(\"\\n\")\n",
    "print(\"Accuracy: %s\"% nbAccuracy)"
   ]
  },
  {
   "cell_type": "markdown",
   "id": "8d1a756b",
   "metadata": {},
   "source": [
    "# Selection of Best Model"
   ]
  },
  {
   "cell_type": "markdown",
   "id": "ca396cd1",
   "metadata": {},
   "source": [
    "# Combine Data (Train+Test)"
   ]
  },
  {
   "cell_type": "code",
   "execution_count": 36,
   "id": "118d0e23",
   "metadata": {},
   "outputs": [
    {
     "name": "stdout",
     "output_type": "stream",
     "text": [
      "Train features in the form of DataFrame\n",
      "\n",
      "index  gender  age  hypertension  heart_disease  ever_married  work_type  \\\n",
      "0           1   67             0              1             1          1   \n",
      "1           1   80             0              1             1          1   \n",
      "2           0   49             0              0             1          1   \n",
      "3           0   79             1              0             1          2   \n",
      "4           1   81             0              0             1          1   \n",
      "5           1   74             1              1             1          1   \n",
      "6           0   69             0              0             0          1   \n",
      "7           0   78             0              0             1          1   \n",
      "8           0   81             1              0             1          1   \n",
      "9           0   61             0              1             1          0   \n",
      "10          0   54             0              0             1          1   \n",
      "11          0   79             0              1             1          2   \n",
      "12          0   65             1              0             1          1   \n",
      "13          0   49             0              0             1          1   \n",
      "14          1   71             0              0             1          1   \n",
      "15          0   59             0              0             1          1   \n",
      "16          0   25             0              0             1          1   \n",
      "17          0   67             0              0             1          0   \n",
      "18          0   38             0              0             0          1   \n",
      "19          0   54             0              0             1          1   \n",
      "\n",
      "index  Residence_type  avg_glucose_level   bmi  smoking_status  stroke  \n",
      "0                   1             228.69  36.6               1       1  \n",
      "1                   0             105.92  32.5               2       1  \n",
      "2                   1             171.23  34.4               3       1  \n",
      "3                   0             174.12  24.0               2       1  \n",
      "4                   1             186.21  29.0               1       1  \n",
      "5                   0              70.09  27.4               2       1  \n",
      "6                   1              94.39  22.8               2       1  \n",
      "7                   1              58.57  24.2               0       1  \n",
      "8                   0              80.43  29.7               2       1  \n",
      "9                   0             120.46  36.8               3       1  \n",
      "10                  1             104.51  27.3               3       1  \n",
      "11                  1              67.84  25.2               3       0  \n",
      "12                  0              75.70  41.8               0       0  \n",
      "13                  0              60.22  31.5               3       0  \n",
      "14                  1             198.21  27.3               1       0  \n",
      "15                  1             109.82  23.7               2       0  \n",
      "16                  1              60.84  24.5               2       0  \n",
      "17                  0              94.61  28.4               3       0  \n",
      "18                  0              97.49  26.9               2       0  \n",
      "19                  0             206.72  26.7               2       0  \n"
     ]
    }
   ],
   "source": [
    "print(\"Train features in the form of DataFrame\\n\")\n",
    "\n",
    "print(fTrainDatadf)"
   ]
  },
  {
   "cell_type": "code",
   "execution_count": 37,
   "id": "83c138f6",
   "metadata": {},
   "outputs": [
    {
     "name": "stdout",
     "output_type": "stream",
     "text": [
      "Test features in the form of DataFrame\n",
      "\n",
      "index  gender  age  hypertension  heart_disease  ever_married  work_type  \\\n",
      "0           1   71             0              0             1          0   \n",
      "1           1   80             0              0             1          1   \n",
      "2           0   65             0              0             1          0   \n",
      "3           1   69             0              1             1          1   \n",
      "4           0   37             0              0             1          0   \n",
      "5           0   40             0              0             1          0   \n",
      "6           1   35             0              0             0          0   \n",
      "7           0   20             0              0             0          0   \n",
      "\n",
      "index  Residence_type  avg_glucose_level   bmi  smoking_status  stroke  \n",
      "0                   1             102.87  27.2               0       1  \n",
      "1                   0             104.12  23.5               1       1  \n",
      "2                   0             100.98  28.2               0       1  \n",
      "3                   1             195.23  28.3               2       1  \n",
      "4                   0              73.50  26.1               0       0  \n",
      "5                   0              95.04  42.4               1       0  \n",
      "6                   0              85.37  33.0               1       0  \n",
      "7                   1              84.62  19.7               2       0  \n"
     ]
    }
   ],
   "source": [
    "print(\"Test features in the form of DataFrame\\n\")\n",
    "\n",
    "print(fTestDatadf)"
   ]
  },
  {
   "cell_type": "code",
   "execution_count": 38,
   "id": "23ccd4c6",
   "metadata": {},
   "outputs": [
    {
     "name": "stdout",
     "output_type": "stream",
     "text": [
      "All features in the form of DataFrame\n",
      "\n",
      "index  gender  age  hypertension  heart_disease  ever_married  work_type  \\\n",
      "0           1   67             0              1             1          1   \n",
      "1           1   80             0              1             1          1   \n",
      "2           0   49             0              0             1          1   \n",
      "3           0   79             1              0             1          2   \n",
      "4           1   81             0              0             1          1   \n",
      "5           1   74             1              1             1          1   \n",
      "6           0   69             0              0             0          1   \n",
      "7           0   78             0              0             1          1   \n",
      "8           0   81             1              0             1          1   \n",
      "9           0   61             0              1             1          0   \n",
      "10          0   54             0              0             1          1   \n",
      "11          0   79             0              1             1          2   \n",
      "12          0   65             1              0             1          1   \n",
      "13          0   49             0              0             1          1   \n",
      "14          1   71             0              0             1          1   \n",
      "15          0   59             0              0             1          1   \n",
      "16          0   25             0              0             1          1   \n",
      "17          0   67             0              0             1          0   \n",
      "18          0   38             0              0             0          1   \n",
      "19          0   54             0              0             1          1   \n",
      "0           1   71             0              0             1          0   \n",
      "1           1   80             0              0             1          1   \n",
      "2           0   65             0              0             1          0   \n",
      "3           1   69             0              1             1          1   \n",
      "4           0   37             0              0             1          0   \n",
      "5           0   40             0              0             1          0   \n",
      "6           1   35             0              0             0          0   \n",
      "7           0   20             0              0             0          0   \n",
      "\n",
      "index  Residence_type  avg_glucose_level   bmi  smoking_status  stroke  \n",
      "0                   1             228.69  36.6               1       1  \n",
      "1                   0             105.92  32.5               2       1  \n",
      "2                   1             171.23  34.4               3       1  \n",
      "3                   0             174.12  24.0               2       1  \n",
      "4                   1             186.21  29.0               1       1  \n",
      "5                   0              70.09  27.4               2       1  \n",
      "6                   1              94.39  22.8               2       1  \n",
      "7                   1              58.57  24.2               0       1  \n",
      "8                   0              80.43  29.7               2       1  \n",
      "9                   0             120.46  36.8               3       1  \n",
      "10                  1             104.51  27.3               3       1  \n",
      "11                  1              67.84  25.2               3       0  \n",
      "12                  0              75.70  41.8               0       0  \n",
      "13                  0              60.22  31.5               3       0  \n",
      "14                  1             198.21  27.3               1       0  \n",
      "15                  1             109.82  23.7               2       0  \n",
      "16                  1              60.84  24.5               2       0  \n",
      "17                  0              94.61  28.4               3       0  \n",
      "18                  0              97.49  26.9               2       0  \n",
      "19                  0             206.72  26.7               2       0  \n",
      "0                   1             102.87  27.2               0       1  \n",
      "1                   0             104.12  23.5               1       1  \n",
      "2                   0             100.98  28.2               0       1  \n",
      "3                   1             195.23  28.3               2       1  \n",
      "4                   0              73.50  26.1               0       0  \n",
      "5                   0              95.04  42.4               1       0  \n",
      "6                   0              85.37  33.0               1       0  \n",
      "7                   1              84.62  19.7               2       0  \n"
     ]
    }
   ],
   "source": [
    "print(\"All features in the form of DataFrame\\n\")\n",
    "\n",
    "alldf=[fTrainDatadf,fTestDatadf]\n",
    "finaldf=pd.concat(alldf)\n",
    "print(finaldf)"
   ]
  },
  {
   "cell_type": "markdown",
   "id": "8eeff7e9",
   "metadata": {},
   "source": [
    "# Train Best Model on All Data"
   ]
  },
  {
   "cell_type": "code",
   "execution_count": 39,
   "id": "b89b622a",
   "metadata": {},
   "outputs": [],
   "source": [
    "allInputAt=finaldf.iloc[:, :-1].values\n",
    "allOutputAt=finaldf.iloc[:, 10].values"
   ]
  },
  {
   "cell_type": "code",
   "execution_count": 40,
   "id": "2ab37884",
   "metadata": {},
   "outputs": [
    {
     "data": {
      "text/plain": [
       "RandomForestClassifier()"
      ]
     },
     "execution_count": 40,
     "metadata": {},
     "output_type": "execute_result"
    }
   ],
   "source": [
    "randomForest.fit(allInputAt,allOutputAt)"
   ]
  },
  {
   "cell_type": "markdown",
   "id": "1de5a9da",
   "metadata": {},
   "source": [
    "# Save the Trained Model as Pickle File"
   ]
  },
  {
   "cell_type": "code",
   "execution_count": 41,
   "id": "7096a8a0",
   "metadata": {},
   "outputs": [],
   "source": [
    "filename='bestModel.sav'\n",
    "pickle.dump(randomForest,open(filename,'wb'))"
   ]
  },
  {
   "cell_type": "markdown",
   "id": "480ac56f",
   "metadata": {},
   "source": [
    "# Make Predictions on Unseen/New Data"
   ]
  },
  {
   "cell_type": "markdown",
   "id": "f006b9b2",
   "metadata": {},
   "source": [
    "# Load the Trained Model"
   ]
  },
  {
   "cell_type": "code",
   "execution_count": 42,
   "id": "e9efa88b",
   "metadata": {},
   "outputs": [],
   "source": [
    "loadBM=pickle.load(open(filename,'rb'))\n"
   ]
  },
  {
   "cell_type": "markdown",
   "id": "e5ccf4b4",
   "metadata": {},
   "source": [
    "# Take Input from User"
   ]
  },
  {
   "cell_type": "code",
   "execution_count": 57,
   "id": "a57eef37",
   "metadata": {},
   "outputs": [
    {
     "name": "stdout",
     "output_type": "stream",
     "text": [
      "Please enter your gender:male\n",
      "Please enter your age here :23\n",
      "Pleas eenter your hypertension(0/1):0\n",
      "Do you have heart disease (1/0):0\n",
      "Do you ever married (Yes/No):no\n",
      "Please enter your work type here (Private/Self-employed/Govt_job):private\n",
      "Please enter your Residence type (Urban/Rural):rural\n",
      "Please enter your avg glucose level:100\n",
      "Please enter your bmi(20-50):30\n",
      "Do you smoke (formerly smoked/never smoked/smokes/Unknown):smokes\n"
     ]
    }
   ],
   "source": [
    "Gender=input(\"Please enter your gender:\")\n",
    "age=input(\"Please enter your age here :\")\n",
    "hypertension=input(\"Pleas eenter your hypertension(0/1):\")\n",
    "heart_disease=input(\"Do you have heart disease (1/0):\")\n",
    "ever_married=input(\"Do you ever married (Yes/No):\")\n",
    "work_type=input(\"Please enter your work type here (Private/Self-employed/Govt_job):\")\n",
    "Residence_type=input(\"Please enter your Residence type (Urban/Rural):\")\n",
    "avg_glucose_level=input(\"Please enter your avg glucose level:\")\n",
    "bmi=input(\"Please enter your bmi(20-50):\")\n",
    "smoking_status=input(\"Do you smoke (formerly smoked/never smoked/smokes/Unknown):\")"
   ]
  },
  {
   "cell_type": "markdown",
   "id": "b24a2fbe",
   "metadata": {},
   "source": [
    "# Convert User Input into Feature Vector"
   ]
  },
  {
   "cell_type": "code",
   "execution_count": 58,
   "id": "6076017c",
   "metadata": {},
   "outputs": [
    {
     "name": "stdout",
     "output_type": "stream",
     "text": [
      "user input in actual DataFrame: \n",
      "\n",
      "  Gender Age Hypertension Heart_disease Ever_married Work_type Residence_type  \\\n",
      "0   male  23            0             0           no   private          rural   \n",
      "\n",
      "  Avg_glucose_level Bmi Smoking_status  \n",
      "0               100  30         smokes  \n"
     ]
    }
   ],
   "source": [
    "print(\"user input in actual DataFrame: \\n\")\n",
    "newdf=pd.DataFrame({\"Gender\":Gender,\"Age\":age,\"Hypertension\":hypertension,\"Heart_disease\":heart_disease,\"Ever_married\":ever_married,\"Work_type\":work_type,\"Residence_type\":Residence_type,\"Avg_glucose_level\":avg_glucose_level,\"Bmi\":bmi,\"Smoking_status\":smoking_status},index=[0])\n",
    "print(newdf)"
   ]
  },
  {
   "cell_type": "code",
   "execution_count": 59,
   "id": "7a5bd622",
   "metadata": {},
   "outputs": [
    {
     "name": "stdout",
     "output_type": "stream",
     "text": [
      "User input in Encoded DataFrame: \n",
      "\n",
      "   Gender Age Hypertension Heart_disease  Ever_married  Work_type  \\\n",
      "0       1  23            0             0             0          1   \n",
      "\n",
      "   Residence_type Avg_glucose_level Bmi  Smoking_status  \n",
      "0               0               100  30               3  \n"
     ]
    }
   ],
   "source": [
    "print(\"User input in Encoded DataFrame: \\n\")\n",
    "\n",
    "if  Gender == \"male\" or Gender == \"Male\":\n",
    "    Gender=1\n",
    "elif  Gender==\"female\" or Gender==\"Female\":\n",
    "      Gender=0\n",
    "\n",
    "if  ever_married == \"no\" or ever_married == \"No\":\n",
    "    ever_married=0\n",
    "elif  ever_married==\"yes\" or ever_married==\"Yes\":\n",
    "      ever_married=1\n",
    "\n",
    "    \n",
    "if work_type==\"private\" or work_type==\"Private\":\n",
    "    work_type=1\n",
    "elif work_type==\"self-employed\" or work_type==\"Self-employed\":\n",
    "    work_type=2\n",
    "elif work_type==\"govt_job\" or work_type==\"Govt_job\":\n",
    "    work_type=0\n",
    "    \n",
    "if Residence_type==\"urban\" or Residence_type==\"Urban\":\n",
    "    Residence_type=1\n",
    "elif Residence_type==\"rural\" or Residence_type==\"Rural\":\n",
    "    Residence_type=0\n",
    "\n",
    "if smoking_status==\"formerly smoked\" or smoking_status==\"formerly smoked\":\n",
    "    smoking_status=1\n",
    "elif smoking_status==\"never smoked\" or smoking_status==\"never smoked\":\n",
    "    smoking_status=2\n",
    "elif smoking_status==\"smokes\" or smoking_status==\"smokes\":\n",
    "    smoking_status=3\n",
    "elif smoking_status==\"Unknown\" or smoking_status==\"Unknown\":\n",
    "    smoking_status=0\n",
    "encodeNewdf=pd.DataFrame({\"Gender\":Gender,\"Age\":age,\"Hypertension\":hypertension,\"Heart_disease\":heart_disease,\"Ever_married\":ever_married,\"Work_type\":work_type,\"Residence_type\":Residence_type,\"Avg_glucose_level\":avg_glucose_level,\"Bmi\":bmi,\"Smoking_status\":smoking_status},index=[0])\n",
    "\n",
    "print(encodeNewdf)"
   ]
  },
  {
   "cell_type": "code",
   "execution_count": 60,
   "id": "d707db89",
   "metadata": {},
   "outputs": [
    {
     "name": "stdout",
     "output_type": "stream",
     "text": [
      "User input in actual DataFrame: \n",
      "\n",
      "  Gender Age Hypertension Heart_disease Ever_married Work_type Residence_type  \\\n",
      "0   male  23            0             0           no   private          rural   \n",
      "\n",
      "  Avg_glucose_level Bmi Smoking_status  \n",
      "0               100  30         smokes  \n",
      "\n",
      " \n",
      " \n",
      "User input in encoded DataFrame \n",
      "\n",
      "   Gender Age Hypertension Heart_disease  Ever_married  Work_type  \\\n",
      "0       1  23            0             0             0          1   \n",
      "\n",
      "   Residence_type Avg_glucose_level Bmi  Smoking_status  \n",
      "0               0               100  30               3  \n"
     ]
    }
   ],
   "source": [
    "print(\"User input in actual DataFrame: \\n\")\n",
    "print(newdf)\n",
    "print(\"\\n \\n \\nUser input in encoded DataFrame \\n\")\n",
    "print(encodeNewdf)"
   ]
  },
  {
   "cell_type": "markdown",
   "id": "fee1fbea",
   "metadata": {},
   "source": [
    "# Apply Trained Model on Feature Vector of Unseen Data and Output Prediction to User"
   ]
  },
  {
   "cell_type": "code",
   "execution_count": 61,
   "id": "575c38db",
   "metadata": {},
   "outputs": [
    {
     "name": "stdout",
     "output_type": "stream",
     "text": [
      "\n",
      " Prediction: Person has no stroke\n"
     ]
    }
   ],
   "source": [
    "outputPredictionBM= loadBM.predict(encodeNewdf)\n",
    "\n",
    "if outputPredictionBM==0:\n",
    "    stroke= \"Person has no stroke\"\n",
    "    \n",
    "elif outputPredictionBM==1:\n",
    "    stroke=\"Person has stroke\"\n",
    "\n",
    "print(\"\\n Prediction: %s\"%stroke)\n"
   ]
  },
  {
   "cell_type": "code",
   "execution_count": null,
   "id": "e9a8cd2d",
   "metadata": {},
   "outputs": [],
   "source": []
  }
 ],
 "metadata": {
  "kernelspec": {
   "display_name": "Python 3 (ipykernel)",
   "language": "python",
   "name": "python3"
  },
  "language_info": {
   "codemirror_mode": {
    "name": "ipython",
    "version": 3
   },
   "file_extension": ".py",
   "mimetype": "text/x-python",
   "name": "python",
   "nbconvert_exporter": "python",
   "pygments_lexer": "ipython3",
   "version": "3.9.7"
  }
 },
 "nbformat": 4,
 "nbformat_minor": 5
}
