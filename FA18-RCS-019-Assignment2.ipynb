{
 "cells": [
  {
   "cell_type": "markdown",
   "metadata": {},
   "source": [
    "# Phase 1&2: Training and Testing"
   ]
  },
  {
   "cell_type": "markdown",
   "metadata": {},
   "source": [
    "## Step 1: Import Libraries"
   ]
  },
  {
   "cell_type": "code",
   "execution_count": 1,
   "metadata": {},
   "outputs": [],
   "source": [
    "import re\n",
    "import string\n",
    "import scipy\n",
    "import pickle\n",
    "import pandas as pd\n",
    "import numpy as np\n",
    "import matplotlib\n",
    "import matplotlib.pyplot as plt\n",
    "import os\n",
    "from sklearn.feature_extraction.text import *\n",
    "from sklearn.preprocessing import LabelEncoder\n",
    "from sklearn.linear_model import LogisticRegression\n",
    "from sklearn.naive_bayes import BernoulliNB\n",
    "from sklearn.ensemble import RandomForestClassifier\n",
    "from sklearn.svm import LinearSVC\n",
    "from sklearn.metrics import accuracy_score\n",
    "from prettytable import PrettyTable\n",
    "from astropy.table import Table , Column\n"
   ]
  },
  {
   "cell_type": "markdown",
   "metadata": {},
   "source": [
    "## Step 2: Read, Understand and Pre-process Train/Test Data"
   ]
  },
  {
   "cell_type": "markdown",
   "metadata": {},
   "source": [
    "\n",
    "### Step 2.1: Read Data"
   ]
  },
  {
   "cell_type": "code",
   "execution_count": 2,
   "metadata": {},
   "outputs": [],
   "source": [
    "trainData = pd.read_csv('train.csv')  #read train.csv\n",
    "testData = pd.read_csv('test.csv')    #read test.csv\n"
   ]
  },
  {
   "cell_type": "markdown",
   "metadata": {},
   "source": [
    "### Step 2.2: Understand Data"
   ]
  },
  {
   "cell_type": "code",
   "execution_count": 3,
   "metadata": {},
   "outputs": [
    {
     "name": "stdout",
     "output_type": "stream",
     "text": [
      "Train Dataset:\n",
      "index    height  weight    hair beard scarf  gender\n",
      "0      180.3000     196    Bald   Yes    No    Male\n",
      "1      170.0000     120    Long    No    No  Female\n",
      "2      178.5000     200   Short    No    No    Male\n",
      "3      163.4000     110  Medium    No   Yes  Female\n",
      "4      175.2222     220   Short   Yes    No    Male\n",
      "5      165.0000     150  Medium    No   Yes  Female\n"
     ]
    }
   ],
   "source": [
    "trainData.columns.name=\"index\"\n",
    "print(\"Train Dataset:\")\n",
    "print(trainData)\n"
   ]
  },
  {
   "cell_type": "code",
   "execution_count": 4,
   "metadata": {},
   "outputs": [
    {
     "name": "stdout",
     "output_type": "stream",
     "text": [
      "Train Data Set Columns:\n",
      "Index(['height', 'weight', 'hair', 'beard', 'scarf', 'gender'], dtype='object', name='index')\n",
      "\n",
      "\n",
      "Number of instances in Train Dataset\n",
      "Train Instances: 6\n"
     ]
    }
   ],
   "source": [
    "print(\"Train Data Set Columns:\")\n",
    "trainDatadf=pd.DataFrame(trainData)\n",
    "trainDataIndex=trainDatadf.columns\n",
    "print(trainDataIndex)\n",
    "\n",
    "print(\"\\n\")\n",
    "print(\"Number of instances in Train Dataset\")\n",
    "print(\"Train Instances: %s\"% (len(trainDatadf.index)))\n"
   ]
  },
  {
   "cell_type": "code",
   "execution_count": 5,
   "metadata": {},
   "outputs": [
    {
     "data": {
      "text/plain": [
       "Index(['height', 'weight', 'hair', 'beard', 'scarf', 'gender'], dtype='object', name='index')"
      ]
     },
     "execution_count": 5,
     "metadata": {},
     "output_type": "execute_result"
    }
   ],
   "source": [
    "trainDataIndex"
   ]
  },
  {
   "cell_type": "code",
   "execution_count": 6,
   "metadata": {},
   "outputs": [
    {
     "data": {
      "text/html": [
       "<div>\n",
       "<style scoped>\n",
       "    .dataframe tbody tr th:only-of-type {\n",
       "        vertical-align: middle;\n",
       "    }\n",
       "\n",
       "    .dataframe tbody tr th {\n",
       "        vertical-align: top;\n",
       "    }\n",
       "\n",
       "    .dataframe thead th {\n",
       "        text-align: right;\n",
       "    }\n",
       "</style>\n",
       "<table border=\"1\" class=\"dataframe\">\n",
       "  <thead>\n",
       "    <tr style=\"text-align: right;\">\n",
       "      <th>index</th>\n",
       "      <th>height</th>\n",
       "      <th>weight</th>\n",
       "      <th>hair</th>\n",
       "      <th>beard</th>\n",
       "      <th>scarf</th>\n",
       "      <th>gender</th>\n",
       "    </tr>\n",
       "  </thead>\n",
       "  <tbody>\n",
       "    <tr>\n",
       "      <th>0</th>\n",
       "      <td>180.3000</td>\n",
       "      <td>196</td>\n",
       "      <td>Bald</td>\n",
       "      <td>Yes</td>\n",
       "      <td>No</td>\n",
       "      <td>Male</td>\n",
       "    </tr>\n",
       "    <tr>\n",
       "      <th>1</th>\n",
       "      <td>170.0000</td>\n",
       "      <td>120</td>\n",
       "      <td>Long</td>\n",
       "      <td>No</td>\n",
       "      <td>No</td>\n",
       "      <td>Female</td>\n",
       "    </tr>\n",
       "    <tr>\n",
       "      <th>2</th>\n",
       "      <td>178.5000</td>\n",
       "      <td>200</td>\n",
       "      <td>Short</td>\n",
       "      <td>No</td>\n",
       "      <td>No</td>\n",
       "      <td>Male</td>\n",
       "    </tr>\n",
       "    <tr>\n",
       "      <th>3</th>\n",
       "      <td>163.4000</td>\n",
       "      <td>110</td>\n",
       "      <td>Medium</td>\n",
       "      <td>No</td>\n",
       "      <td>Yes</td>\n",
       "      <td>Female</td>\n",
       "    </tr>\n",
       "    <tr>\n",
       "      <th>4</th>\n",
       "      <td>175.2222</td>\n",
       "      <td>220</td>\n",
       "      <td>Short</td>\n",
       "      <td>Yes</td>\n",
       "      <td>No</td>\n",
       "      <td>Male</td>\n",
       "    </tr>\n",
       "    <tr>\n",
       "      <th>5</th>\n",
       "      <td>165.0000</td>\n",
       "      <td>150</td>\n",
       "      <td>Medium</td>\n",
       "      <td>No</td>\n",
       "      <td>Yes</td>\n",
       "      <td>Female</td>\n",
       "    </tr>\n",
       "  </tbody>\n",
       "</table>\n",
       "</div>"
      ],
      "text/plain": [
       "index    height  weight    hair beard scarf  gender\n",
       "0      180.3000     196    Bald   Yes    No    Male\n",
       "1      170.0000     120    Long    No    No  Female\n",
       "2      178.5000     200   Short    No    No    Male\n",
       "3      163.4000     110  Medium    No   Yes  Female\n",
       "4      175.2222     220   Short   Yes    No    Male\n",
       "5      165.0000     150  Medium    No   Yes  Female"
      ]
     },
     "execution_count": 6,
     "metadata": {},
     "output_type": "execute_result"
    }
   ],
   "source": [
    "trainDatadf"
   ]
  },
  {
   "cell_type": "code",
   "execution_count": 7,
   "metadata": {},
   "outputs": [
    {
     "name": "stdout",
     "output_type": "stream",
     "text": [
      "Test Dataset:\n",
      "index  height  weight    hair beard scarf  gender\n",
      "0       179.1     185    Long   Yes    No    Male\n",
      "1       160.5     130   Short    No    No  Female\n",
      "2       177.8     160    Bald    No    No    Male\n",
      "3       161.1     100  Medium    No    No  Female\n"
     ]
    }
   ],
   "source": [
    "testData.columns.name=\"index\"\n",
    "print(\"Test Dataset:\")\n",
    "print(testData)"
   ]
  },
  {
   "cell_type": "code",
   "execution_count": 8,
   "metadata": {},
   "outputs": [
    {
     "name": "stdout",
     "output_type": "stream",
     "text": [
      "Test Data Set Columns:\n",
      "Index(['height', 'weight', 'hair', 'beard', 'scarf', 'gender'], dtype='object', name='index')\n",
      "\n",
      "\n",
      "Number of instances in Test Dataset\n",
      "Test Instances: 4\n"
     ]
    }
   ],
   "source": [
    "print(\"Test Data Set Columns:\")\n",
    "testDatadf=pd.DataFrame(testData)\n",
    "testDataIndex=testDatadf.columns\n",
    "print(testDataIndex)\n",
    "\n",
    "print(\"\\n\")\n",
    "print(\"Number of instances in Test Dataset\")\n",
    "print(\"Test Instances: %s\"% (len(testDatadf.index)))"
   ]
  },
  {
   "cell_type": "code",
   "execution_count": 9,
   "metadata": {},
   "outputs": [
    {
     "name": "stdout",
     "output_type": "stream",
     "text": [
      "3 Train instances having label 'Male':\n",
      "index    height  weight   hair beard scarf gender\n",
      "0      180.3000     196   Bald   Yes    No   Male\n",
      "2      178.5000     200  Short    No    No   Male\n",
      "4      175.2222     220  Short   Yes    No   Male\n"
     ]
    }
   ],
   "source": [
    "maleTrainDatadf=trainData[\"gender\"].isin([\"Male\"])\n",
    "print(\"%s Train instances having label 'Male':\"% (len(trainDatadf[maleTrainDatadf].index)))\n",
    "print(trainDatadf[maleTrainDatadf])"
   ]
  },
  {
   "cell_type": "code",
   "execution_count": 10,
   "metadata": {},
   "outputs": [
    {
     "name": "stdout",
     "output_type": "stream",
     "text": [
      "3 Train instances having label 'Female':\n",
      "index  height  weight    hair beard scarf  gender\n",
      "1       170.0     120    Long    No    No  Female\n",
      "3       163.4     110  Medium    No   Yes  Female\n",
      "5       165.0     150  Medium    No   Yes  Female\n"
     ]
    }
   ],
   "source": [
    "femaleTrainDatadf=trainData[\"gender\"].isin([\"Female\"])\n",
    "print(\"%s Train instances having label 'Female':\"% (len(trainDatadf[femaleTrainDatadf].index)))\n",
    "print(trainDatadf[femaleTrainDatadf])"
   ]
  },
  {
   "cell_type": "code",
   "execution_count": 11,
   "metadata": {},
   "outputs": [
    {
     "name": "stdout",
     "output_type": "stream",
     "text": [
      "2 Test instances having label 'Male':\n",
      "index  height  weight  hair beard scarf gender\n",
      "0       179.1     185  Long   Yes    No   Male\n",
      "2       177.8     160  Bald    No    No   Male\n"
     ]
    }
   ],
   "source": [
    "maleTestDatadf=testData[\"gender\"].isin([\"Male\"])\n",
    "print(\"%s Test instances having label 'Male':\"% (len(testDatadf[maleTestDatadf].index)))\n",
    "print(testDatadf[maleTestDatadf])"
   ]
  },
  {
   "cell_type": "code",
   "execution_count": 12,
   "metadata": {},
   "outputs": [
    {
     "name": "stdout",
     "output_type": "stream",
     "text": [
      "2 Test instances having label 'Female':\n",
      "index  height  weight    hair beard scarf  gender\n",
      "1       160.5     130   Short    No    No  Female\n",
      "3       161.1     100  Medium    No    No  Female\n"
     ]
    }
   ],
   "source": [
    "maleTestDatadf=testData[\"gender\"].isin([\"Female\"])\n",
    "print(\"%s Test instances having label 'Female':\"% (len(testDatadf[maleTestDatadf].index)))\n",
    "print(testDatadf[maleTestDatadf])"
   ]
  },
  {
   "cell_type": "code",
   "execution_count": 13,
   "metadata": {},
   "outputs": [
    {
     "name": "stdout",
     "output_type": "stream",
     "text": [
      "Total numbers of 'Males' and 'Female' in Train Dataset\n"
     ]
    },
    {
     "data": {
      "text/plain": [
       "Text(0, 0.5, 'Count')"
      ]
     },
     "execution_count": 13,
     "metadata": {},
     "output_type": "execute_result"
    },
    {
     "data": {
      "image/png": "[encoded data removed]",
      "text/plain": [
       "<Figure size 432x288 with 1 Axes>"
      ]
     },
     "metadata": {
      "needs_background": "light"
     },
     "output_type": "display_data"
    }
   ],
   "source": [
    "print(\"Total numbers of 'Males' and 'Female' in Train Dataset\")\n",
    "\n",
    "group=trainDatadf.groupby([\"gender\"]).size()\n",
    "group.plot.bar()\n",
    "plt.xlabel(\"Gender\")\n",
    "plt.ylabel(\"Count\")\n"
   ]
  },
  {
   "cell_type": "code",
   "execution_count": 14,
   "metadata": {},
   "outputs": [
    {
     "name": "stdout",
     "output_type": "stream",
     "text": [
      "Number of people having various hair length in Train Dataset\n"
     ]
    },
    {
     "data": {
      "text/plain": [
       "Text(0, 0.5, 'Count')"
      ]
     },
     "execution_count": 14,
     "metadata": {},
     "output_type": "execute_result"
    },
    {
     "data": {
      "image/png": "[encoded data removed]",
      "text/plain": [
       "<Figure size 432x288 with 1 Axes>"
      ]
     },
     "metadata": {
      "needs_background": "light"
     },
     "output_type": "display_data"
    }
   ],
   "source": [
    "print(\"Number of people having various hair length in Train Dataset\")\n",
    "\n",
    "group=trainDatadf.groupby([\"hair\"]).size()\n",
    "group.plot.bar()\n",
    "plt.xlabel(\"Hair Length\")\n",
    "plt.ylabel(\"Count\")\n",
    "\n"
   ]
  },
  {
   "cell_type": "code",
   "execution_count": 15,
   "metadata": {},
   "outputs": [
    {
     "name": "stdout",
     "output_type": "stream",
     "text": [
      "Number of people having various hair length in Test Dataset\n"
     ]
    },
    {
     "data": {
      "text/plain": [
       "Text(0, 0.5, 'Count')"
      ]
     },
     "execution_count": 15,
     "metadata": {},
     "output_type": "execute_result"
    },
    {
     "data": {
      "image/png": "[encoded data removed]",
      "text/plain": [
       "<Figure size 432x288 with 1 Axes>"
      ]
     },
     "metadata": {
      "needs_background": "light"
     },
     "output_type": "display_data"
    }
   ],
   "source": [
    "print(\"Number of people having various hair length in Test Dataset\")\n",
    "\n",
    "group=testDatadf.groupby([\"hair\"]).size()\n",
    "group.plot.bar()\n",
    "plt.xlabel(\"Hair Length\")\n",
    "plt.ylabel(\"Count\")\n"
   ]
  },
  {
   "cell_type": "code",
   "execution_count": 16,
   "metadata": {},
   "outputs": [
    {
     "name": "stdout",
     "output_type": "stream",
     "text": [
      "Number of people have/haven't beard in Train Dataset\n"
     ]
    },
    {
     "data": {
      "text/plain": [
       "Text(0, 0.5, 'Count')"
      ]
     },
     "execution_count": 16,
     "metadata": {},
     "output_type": "execute_result"
    },
    {
     "data": {
      "image/png": "[encoded data removed]",
      "text/plain": [
       "<Figure size 432x288 with 1 Axes>"
      ]
     },
     "metadata": {
      "needs_background": "light"
     },
     "output_type": "display_data"
    }
   ],
   "source": [
    "print(\"Number of people have/haven't beard in Train Dataset\")\n",
    "\n",
    "group=trainDatadf.groupby([\"beard\"]).size()\n",
    "group.plot.bar()\n",
    "plt.xlabel(\"Beard\")\n",
    "plt.ylabel(\"Count\")\n"
   ]
  },
  {
   "cell_type": "code",
   "execution_count": 17,
   "metadata": {},
   "outputs": [
    {
     "name": "stdout",
     "output_type": "stream",
     "text": [
      "Number of people have/haven't beard in Test Dataset\n"
     ]
    },
    {
     "data": {
      "text/plain": [
       "Text(0, 0.5, 'Count')"
      ]
     },
     "execution_count": 17,
     "metadata": {},
     "output_type": "execute_result"
    },
    {
     "data": {
      "image/png": "[encoded data removed]",
      "text/plain": [
       "<Figure size 432x288 with 1 Axes>"
      ]
     },
     "metadata": {
      "needs_background": "light"
     },
     "output_type": "display_data"
    }
   ],
   "source": [
    "print(\"Number of people have/haven't beard in Test Dataset\")\n",
    "\n",
    "group=testDatadf.groupby([\"beard\"]).size()\n",
    "group.plot.bar()\n",
    "plt.xlabel(\"Beard\")\n",
    "plt.ylabel(\"Count\")"
   ]
  },
  {
   "cell_type": "markdown",
   "metadata": {},
   "source": [
    "### Step 2.3: Pre-Process Data"
   ]
  },
  {
   "cell_type": "code",
   "execution_count": 18,
   "metadata": {},
   "outputs": [
    {
     "name": "stdout",
     "output_type": "stream",
     "text": [
      "Train Dataset before Preprocessing: \n",
      "\n",
      "index    height  weight    hair beard scarf  gender\n",
      "0      180.3000     196    Bald   Yes    No    Male\n",
      "1      170.0000     120    Long    No    No  Female\n",
      "2      178.5000     200   Short    No    No    Male\n",
      "3      163.4000     110  Medium    No   Yes  Female\n",
      "4      175.2222     220   Short   Yes    No    Male\n",
      "5      165.0000     150  Medium    No   Yes  Female\n",
      "\n",
      "\n",
      "Train Dataset after Preprocessing: \n",
      "\n",
      "index  height  weight    hair beard scarf  gender\n",
      "0      180.30     196    Bald   Yes    No    Male\n",
      "1      170.00     120    Long    No    No  Female\n",
      "2      178.50     200   Short    No    No    Male\n",
      "3      163.40     110  Medium    No   Yes  Female\n",
      "4      175.22     220   Short   Yes    No    Male\n",
      "5      165.00     150  Medium    No   Yes  Female\n"
     ]
    }
   ],
   "source": [
    "print(\"Train Dataset before Preprocessing: \\n\")\n",
    "print(trainDatadf)\n",
    "print (\"\\n\")\n",
    "print(\"Train Dataset after Preprocessing: \\n\")\n",
    "preprocessTrainDatadf=trainDatadf.round({\"height\":2})\n",
    "print(preprocessTrainDatadf)"
   ]
  },
  {
   "cell_type": "code",
   "execution_count": 19,
   "metadata": {},
   "outputs": [
    {
     "name": "stdout",
     "output_type": "stream",
     "text": [
      "Test Dataset before Preprocessing: \n",
      "\n",
      "index  height  weight    hair beard scarf  gender\n",
      "0       179.1     185    Long   Yes    No    Male\n",
      "1       160.5     130   Short    No    No  Female\n",
      "2       177.8     160    Bald    No    No    Male\n",
      "3       161.1     100  Medium    No    No  Female\n",
      "\n",
      "\n",
      "Test Dataset after Preprocessing: \n",
      "\n",
      "index  height  weight    hair beard scarf  gender\n",
      "0       179.1     185    Long   Yes    No    Male\n",
      "1       160.5     130   Short    No    No  Female\n",
      "2       177.8     160    Bald    No    No    Male\n",
      "3       161.1     100  Medium    No    No  Female\n"
     ]
    }
   ],
   "source": [
    "print(\"Test Dataset before Preprocessing: \\n\")\n",
    "print(testDatadf)\n",
    "print (\"\\n\")\n",
    "print(\"Test Dataset after Preprocessing: \\n\")\n",
    "preprocessTestDatadf=testDatadf.round({\"height\":2})\n",
    "print(preprocessTestDatadf)"
   ]
  },
  {
   "cell_type": "markdown",
   "metadata": {},
   "source": [
    "## Step 3: Label Encoding for Train/Test Data"
   ]
  },
  {
   "cell_type": "code",
   "execution_count": 20,
   "metadata": {},
   "outputs": [
    {
     "name": "stdout",
     "output_type": "stream",
     "text": [
      "Gender attribute encoding in Train Dataset: \n",
      "\n",
      "index  gender  encode_gender\n",
      "0        Male              1\n",
      "1      Female              0\n",
      "2        Male              1\n",
      "3      Female              0\n",
      "4        Male              1\n",
      "5      Female              0\n"
     ]
    }
   ],
   "source": [
    "print(\"Gender attribute encoding in Train Dataset: \\n\")\n",
    "\n",
    "preprocessTrainDatadf[\"encode_gender\"]=LabelEncoder().fit_transform(preprocessTrainDatadf[\"gender\"])\n",
    "print(preprocessTrainDatadf[[\"gender\",\"encode_gender\"]])"
   ]
  },
  {
   "cell_type": "code",
   "execution_count": 21,
   "metadata": {
    "scrolled": true
   },
   "outputs": [
    {
     "name": "stdout",
     "output_type": "stream",
     "text": [
      "Scarf attribute encoding in train Dataset: \n",
      "\n",
      "index scarf  encode_scarf\n",
      "0        No             0\n",
      "1        No             0\n",
      "2        No             0\n",
      "3       Yes             1\n",
      "4        No             0\n",
      "5       Yes             1\n"
     ]
    }
   ],
   "source": [
    "print(\"Scarf attribute encoding in train Dataset: \\n\")\n",
    "\n",
    "preprocessTrainDatadf[\"encode_scarf\"]=LabelEncoder().fit_transform(preprocessTrainDatadf[\"scarf\"])\n",
    "print(preprocessTrainDatadf[[\"scarf\",\"encode_scarf\"]])"
   ]
  },
  {
   "cell_type": "code",
   "execution_count": 22,
   "metadata": {},
   "outputs": [
    {
     "name": "stdout",
     "output_type": "stream",
     "text": [
      "Beard attribute encoding in train Dataset: \n",
      "\n",
      "index beard  encode_beard\n",
      "0       Yes             1\n",
      "1        No             0\n",
      "2        No             0\n",
      "3        No             0\n",
      "4       Yes             1\n",
      "5        No             0\n"
     ]
    }
   ],
   "source": [
    "print(\"Beard attribute encoding in train Dataset: \\n\")\n",
    "\n",
    "#lblEncdr=LabelEncoder()\n",
    "preprocessTrainDatadf[\"encode_beard\"]=LabelEncoder().fit_transform(preprocessTrainDatadf[\"beard\"])\n",
    "print(preprocessTrainDatadf[[\"beard\",\"encode_beard\"]])"
   ]
  },
  {
   "cell_type": "code",
   "execution_count": 23,
   "metadata": {},
   "outputs": [
    {
     "name": "stdout",
     "output_type": "stream",
     "text": [
      "Hair attribute encoding in train Dataset\n",
      "\n",
      "\n",
      "index    hair  encode_hair\n",
      "0        Bald            0\n",
      "1        Long            1\n",
      "2       Short            3\n",
      "3      Medium            2\n",
      "4       Short            3\n",
      "5      Medium            2\n"
     ]
    }
   ],
   "source": [
    "print(\"Hair attribute encoding in train Dataset\")\n",
    "\n",
    "print(\"\\n\")\n",
    "preprocessTrainDatadf[\"encode_hair\"]=LabelEncoder().fit_transform(preprocessTrainDatadf[\"hair\"])\n",
    "print(preprocessTrainDatadf[[\"hair\",\"encode_hair\"]])"
   ]
  },
  {
   "cell_type": "code",
   "execution_count": 24,
   "metadata": {},
   "outputs": [
    {
     "name": "stdout",
     "output_type": "stream",
     "text": [
      "Gender attribute encoding in Test Dataset: \n",
      "\n",
      "index  gender  encode_gender\n",
      "0        Male              1\n",
      "1      Female              0\n",
      "2        Male              1\n",
      "3      Female              0\n"
     ]
    }
   ],
   "source": [
    "print(\"Gender attribute encoding in Test Dataset: \\n\")\n",
    "\n",
    "preprocessTestDatadf[\"encode_gender\"]=LabelEncoder().fit_transform(preprocessTestDatadf[\"gender\"])\n",
    "print(preprocessTestDatadf[[\"gender\",\"encode_gender\"]])"
   ]
  },
  {
   "cell_type": "code",
   "execution_count": 25,
   "metadata": {},
   "outputs": [
    {
     "name": "stdout",
     "output_type": "stream",
     "text": [
      "Scarf attribute encoding in Test Dataset: \n",
      "\n",
      "index scarf  encode_scarf\n",
      "0        No             0\n",
      "1        No             0\n",
      "2        No             0\n",
      "3        No             0\n"
     ]
    }
   ],
   "source": [
    "print(\"Scarf attribute encoding in Test Dataset: \\n\")\n",
    "\n",
    "preprocessTestDatadf[\"encode_scarf\"]=LabelEncoder().fit_transform(preprocessTestDatadf[\"scarf\"])\n",
    "print(preprocessTestDatadf[[\"scarf\",\"encode_scarf\"]])"
   ]
  },
  {
   "cell_type": "code",
   "execution_count": 26,
   "metadata": {},
   "outputs": [
    {
     "name": "stdout",
     "output_type": "stream",
     "text": [
      "Beard attribute encoding in Test Dataset: \n",
      "\n",
      "index beard  encode_beard\n",
      "0       Yes             1\n",
      "1        No             0\n",
      "2        No             0\n",
      "3        No             0\n"
     ]
    }
   ],
   "source": [
    "print(\"Beard attribute encoding in Test Dataset: \\n\")\n",
    "\n",
    "preprocessTestDatadf[\"encode_beard\"]=LabelEncoder().fit_transform(preprocessTestDatadf[\"beard\"])\n",
    "print(preprocessTestDatadf[[\"beard\",\"encode_beard\"]])"
   ]
  },
  {
   "cell_type": "code",
   "execution_count": 27,
   "metadata": {},
   "outputs": [
    {
     "name": "stdout",
     "output_type": "stream",
     "text": [
      "Hair attribute encoding in Test Dataset: \n",
      "\n",
      "index    hair  encode_hair\n",
      "0        Long            1\n",
      "1       Short            3\n",
      "2        Bald            0\n",
      "3      Medium            2\n"
     ]
    }
   ],
   "source": [
    "print(\"Hair attribute encoding in Test Dataset: \\n\")\n",
    "\n",
    "preprocessTestDatadf[\"encode_hair\"]=LabelEncoder().fit_transform(preprocessTestDatadf[\"hair\"])\n",
    "print(preprocessTestDatadf[[\"hair\",\"encode_hair\"]])"
   ]
  },
  {
   "cell_type": "code",
   "execution_count": 28,
   "metadata": {},
   "outputs": [
    {
     "name": "stdout",
     "output_type": "stream",
     "text": [
      "Orignal Training Dataset: \n",
      "\n",
      "index    height  weight    hair beard scarf  gender\n",
      "0      180.3000     196    Bald   Yes    No    Male\n",
      "1      170.0000     120    Long    No    No  Female\n",
      "2      178.5000     200   Short    No    No    Male\n",
      "3      163.4000     110  Medium    No   Yes  Female\n",
      "4      175.2222     220   Short   Yes    No    Male\n",
      "5      165.0000     150  Medium    No   Yes  Female\n",
      "\n",
      "\n",
      "Training Dataset after Label Encoding: \n",
      "\n",
      "index  weight  height  hair  beard  scarf  gender\n",
      "0         196  180.30     0      1      0       1\n",
      "1         120  170.00     1      0      0       0\n",
      "2         200  178.50     3      0      0       1\n",
      "3         110  163.40     2      0      1       0\n",
      "4         220  175.22     3      1      0       1\n",
      "5         150  165.00     2      0      1       0\n"
     ]
    }
   ],
   "source": [
    "print(\"Orignal Training Dataset: \\n\")\n",
    "print(trainData)\n",
    "\n",
    "print(\"\\n\")\n",
    "\n",
    "print(\"Training Dataset after Label Encoding: \\n\")\n",
    "\n",
    "labelTrainDatadf= preprocessTrainDatadf[[\"weight\",\"height\",\"encode_hair\",\"encode_beard\",\"encode_scarf\",\"encode_gender\"]]\n",
    "fTrainDatadf= labelTrainDatadf.rename(columns={\"encode_gender\":\"gender\", \"encode_beard\":\"beard\",\"encode_scarf\":\"scarf\",\"encode_hair\":\"hair\"})\n",
    "print(fTrainDatadf)"
   ]
  },
  {
   "cell_type": "code",
   "execution_count": 29,
   "metadata": {},
   "outputs": [
    {
     "name": "stdout",
     "output_type": "stream",
     "text": [
      "\n",
      " Orignal Testing Dataset: \n",
      "\n",
      "index  height  weight    hair beard scarf  gender\n",
      "0       179.1     185    Long   Yes    No    Male\n",
      "1       160.5     130   Short    No    No  Female\n",
      "2       177.8     160    Bald    No    No    Male\n",
      "3       161.1     100  Medium    No    No  Female\n",
      "\n",
      "\n",
      "Testing Dataset after Label Encoding: \n",
      "\n",
      "index  height  weight  hair  beard  scarf  gender\n",
      "0       179.1     185     1      1      0       1\n",
      "1       160.5     130     3      0      0       0\n",
      "2       177.8     160     0      0      0       1\n",
      "3       161.1     100     2      0      0       0\n"
     ]
    }
   ],
   "source": [
    "print(\"\\n Orignal Testing Dataset: \\n\")\n",
    "print(testData)\n",
    "\n",
    "print(\"\\n\")\n",
    "\n",
    "print(\"Testing Dataset after Label Encoding: \\n\")\n",
    "\n",
    "labelTestDatadf= preprocessTestDatadf[[\"height\",\"weight\",\"encode_hair\",\"encode_beard\",\"encode_scarf\",\"encode_gender\"]]\n",
    "fTestDatadf= labelTestDatadf.rename(columns={\"encode_gender\":\"gender\", \"encode_beard\":\"beard\",\"encode_scarf\":\"scarf\",\"encode_hair\":\"hair\"})\n",
    "print(fTestDatadf)"
   ]
  },
  {
   "cell_type": "markdown",
   "metadata": {},
   "source": [
    "## Step 4: Feature Extraction - Value of Attributes\n",
    "\n",
    "Not applicable in this problem."
   ]
  },
  {
   "cell_type": "markdown",
   "metadata": {},
   "source": [
    "## Step 5: Train ML Algorithms using Train Data"
   ]
  },
  {
   "cell_type": "code",
   "execution_count": 30,
   "metadata": {},
   "outputs": [],
   "source": [
    "inputTrainAt=fTrainDatadf.iloc[:, :-1].values\n",
    "outputTrainAt=fTrainDatadf.iloc[:, 5].values\n",
    "\n",
    "inputTestAt=fTestDatadf.iloc[:,: -1].values\n",
    "outputTestAt=fTestDatadf.iloc[:, 5].values"
   ]
  },
  {
   "cell_type": "code",
   "execution_count": 31,
   "metadata": {},
   "outputs": [
    {
     "data": {
      "text/html": [
       "<div>\n",
       "<style scoped>\n",
       "    .dataframe tbody tr th:only-of-type {\n",
       "        vertical-align: middle;\n",
       "    }\n",
       "\n",
       "    .dataframe tbody tr th {\n",
       "        vertical-align: top;\n",
       "    }\n",
       "\n",
       "    .dataframe thead th {\n",
       "        text-align: right;\n",
       "    }\n",
       "</style>\n",
       "<table border=\"1\" class=\"dataframe\">\n",
       "  <thead>\n",
       "    <tr style=\"text-align: right;\">\n",
       "      <th>index</th>\n",
       "      <th>height</th>\n",
       "      <th>weight</th>\n",
       "      <th>hair</th>\n",
       "      <th>beard</th>\n",
       "      <th>scarf</th>\n",
       "      <th>gender</th>\n",
       "    </tr>\n",
       "  </thead>\n",
       "  <tbody>\n",
       "    <tr>\n",
       "      <th>0</th>\n",
       "      <td>180.3000</td>\n",
       "      <td>196</td>\n",
       "      <td>Bald</td>\n",
       "      <td>Yes</td>\n",
       "      <td>No</td>\n",
       "      <td>Male</td>\n",
       "    </tr>\n",
       "    <tr>\n",
       "      <th>1</th>\n",
       "      <td>170.0000</td>\n",
       "      <td>120</td>\n",
       "      <td>Long</td>\n",
       "      <td>No</td>\n",
       "      <td>No</td>\n",
       "      <td>Female</td>\n",
       "    </tr>\n",
       "    <tr>\n",
       "      <th>2</th>\n",
       "      <td>178.5000</td>\n",
       "      <td>200</td>\n",
       "      <td>Short</td>\n",
       "      <td>No</td>\n",
       "      <td>No</td>\n",
       "      <td>Male</td>\n",
       "    </tr>\n",
       "    <tr>\n",
       "      <th>3</th>\n",
       "      <td>163.4000</td>\n",
       "      <td>110</td>\n",
       "      <td>Medium</td>\n",
       "      <td>No</td>\n",
       "      <td>Yes</td>\n",
       "      <td>Female</td>\n",
       "    </tr>\n",
       "    <tr>\n",
       "      <th>4</th>\n",
       "      <td>175.2222</td>\n",
       "      <td>220</td>\n",
       "      <td>Short</td>\n",
       "      <td>Yes</td>\n",
       "      <td>No</td>\n",
       "      <td>Male</td>\n",
       "    </tr>\n",
       "    <tr>\n",
       "      <th>5</th>\n",
       "      <td>165.0000</td>\n",
       "      <td>150</td>\n",
       "      <td>Medium</td>\n",
       "      <td>No</td>\n",
       "      <td>Yes</td>\n",
       "      <td>Female</td>\n",
       "    </tr>\n",
       "  </tbody>\n",
       "</table>\n",
       "</div>"
      ],
      "text/plain": [
       "index    height  weight    hair beard scarf  gender\n",
       "0      180.3000     196    Bald   Yes    No    Male\n",
       "1      170.0000     120    Long    No    No  Female\n",
       "2      178.5000     200   Short    No    No    Male\n",
       "3      163.4000     110  Medium    No   Yes  Female\n",
       "4      175.2222     220   Short   Yes    No    Male\n",
       "5      165.0000     150  Medium    No   Yes  Female"
      ]
     },
     "execution_count": 31,
     "metadata": {},
     "output_type": "execute_result"
    }
   ],
   "source": [
    "trainData"
   ]
  },
  {
   "cell_type": "code",
   "execution_count": 32,
   "metadata": {},
   "outputs": [
    {
     "data": {
      "text/plain": [
       "array([1, 0, 1, 0, 1, 0])"
      ]
     },
     "execution_count": 32,
     "metadata": {},
     "output_type": "execute_result"
    }
   ],
   "source": [
    "outputTrainAt"
   ]
  },
  {
   "cell_type": "code",
   "execution_count": 33,
   "metadata": {},
   "outputs": [
    {
     "data": {
      "text/plain": [
       "array([[196.  , 180.3 ,   0.  ,   1.  ,   0.  ],\n",
       "       [120.  , 170.  ,   1.  ,   0.  ,   0.  ],\n",
       "       [200.  , 178.5 ,   3.  ,   0.  ,   0.  ],\n",
       "       [110.  , 163.4 ,   2.  ,   0.  ,   1.  ],\n",
       "       [220.  , 175.22,   3.  ,   1.  ,   0.  ],\n",
       "       [150.  , 165.  ,   2.  ,   0.  ,   1.  ]])"
      ]
     },
     "execution_count": 33,
     "metadata": {},
     "output_type": "execute_result"
    }
   ],
   "source": [
    "inputTrainAt"
   ]
  },
  {
   "cell_type": "code",
   "execution_count": 34,
   "metadata": {},
   "outputs": [
    {
     "name": "stdout",
     "output_type": "stream",
     "text": [
      "Prameters and their values: \n",
      "\n",
      "LogisticRegression()\n"
     ]
    }
   ],
   "source": [
    "print(\"Prameters and their values: \\n\")\n",
    "logisticRegression=LogisticRegression()\n",
    "print(logisticRegression)"
   ]
  },
  {
   "cell_type": "code",
   "execution_count": 35,
   "metadata": {},
   "outputs": [],
   "source": [
    "\n",
    "logisticRegression.fit(inputTrainAt,outputTrainAt)\n",
    "\n",
    "outputPredictionLR=logisticRegression.predict(inputTestAt)"
   ]
  },
  {
   "cell_type": "code",
   "execution_count": 36,
   "metadata": {},
   "outputs": [
    {
     "name": "stdout",
     "output_type": "stream",
     "text": [
      "Prameters and their values: \n",
      "\n",
      "RandomForestClassifier()\n"
     ]
    }
   ],
   "source": [
    "print(\"Prameters and their values: \\n\")\n",
    "randomForest=RandomForestClassifier()\n",
    "print(randomForest)"
   ]
  },
  {
   "cell_type": "code",
   "execution_count": 37,
   "metadata": {},
   "outputs": [],
   "source": [
    "randomForest.fit(inputTrainAt,outputTrainAt)\n",
    "outputPredictionRF = randomForest.predict(inputTestAt)"
   ]
  },
  {
   "cell_type": "code",
   "execution_count": 38,
   "metadata": {},
   "outputs": [
    {
     "name": "stdout",
     "output_type": "stream",
     "text": [
      "Prameters and their values: \n",
      "\n",
      "LinearSVC()\n"
     ]
    }
   ],
   "source": [
    "print(\"Prameters and their values: \\n\")\n",
    "linearSvc=LinearSVC()\n",
    "print(linearSvc)"
   ]
  },
  {
   "cell_type": "code",
   "execution_count": 39,
   "metadata": {},
   "outputs": [
    {
     "name": "stderr",
     "output_type": "stream",
     "text": [
      "D:\\Anaconda\\lib\\site-packages\\sklearn\\svm\\_base.py:985: ConvergenceWarning: Liblinear failed to converge, increase the number of iterations.\n",
      "  warnings.warn(\"Liblinear failed to converge, increase \"\n"
     ]
    }
   ],
   "source": [
    "linearSvc.fit(inputTrainAt,outputTrainAt)\n",
    "outputPredictionSVC = linearSvc.predict(inputTestAt)"
   ]
  },
  {
   "cell_type": "code",
   "execution_count": 40,
   "metadata": {},
   "outputs": [
    {
     "name": "stdout",
     "output_type": "stream",
     "text": [
      "Prameters and their values: \n",
      "\n",
      "BernoulliNB()\n"
     ]
    }
   ],
   "source": [
    "print(\"Prameters and their values: \\n\")\n",
    "bernoulliNB=BernoulliNB()\n",
    "print(bernoulliNB)"
   ]
  },
  {
   "cell_type": "code",
   "execution_count": 41,
   "metadata": {},
   "outputs": [],
   "source": [
    "bernoulliNB.fit(inputTrainAt,outputTrainAt)\n",
    "outputPredictionNB = bernoulliNB.predict(inputTestAt)"
   ]
  },
  {
   "cell_type": "markdown",
   "metadata": {},
   "source": [
    "## Step 6: Evaluate ML Algorithms using Test Data"
   ]
  },
  {
   "cell_type": "code",
   "execution_count": 42,
   "metadata": {},
   "outputs": [
    {
     "name": "stdout",
     "output_type": "stream",
     "text": [
      "prediction usinsg Logistic Regression:\n",
      "\n",
      "index  height  weight    hair beard scarf  gender  predicted_gender\n",
      "0       179.1     185    Long   Yes    No    Male                 1\n",
      "1       160.5     130   Short    No    No  Female                 0\n",
      "2       177.8     160    Bald    No    No    Male                 1\n",
      "3       161.1     100  Medium    No    No  Female                 0\n",
      "\n",
      "\n",
      "Accuracy: 1.0\n"
     ]
    }
   ],
   "source": [
    "print(\"prediction usinsg Logistic Regression:\\n\")\n",
    "\n",
    "testingLRdf = testData \n",
    "testingLRdf['predicted_gender']=outputPredictionLR\n",
    "print(testingLRdf)\n",
    "lrAccuracy = format( logisticRegression.score(inputTestAt, outputTestAt))\n",
    "print(\"\\n\")\n",
    "print(\"Accuracy: %s\"% lrAccuracy)"
   ]
  },
  {
   "cell_type": "code",
   "execution_count": 43,
   "metadata": {},
   "outputs": [
    {
     "name": "stdout",
     "output_type": "stream",
     "text": [
      "prediction usinsg Random Forest Classifier:\n",
      "\n",
      "index  height  weight    hair beard scarf  gender  predicted_gender\n",
      "0       179.1     185    Long   Yes    No    Male                 1\n",
      "1       160.5     130   Short    No    No  Female                 0\n",
      "2       177.8     160    Bald    No    No    Male                 1\n",
      "3       161.1     100  Medium    No    No  Female                 0\n",
      "\n",
      "\n",
      "Accuracy: 1.0\n"
     ]
    }
   ],
   "source": [
    "print(\"prediction usinsg Random Forest Classifier:\\n\")\n",
    "\n",
    "testingRFdf = testData \n",
    "testingRFdf['predicted_gender']=outputPredictionRF\n",
    "print(testingRFdf)\n",
    "rfAccuracy = format( randomForest.score(inputTestAt, outputTestAt))\n",
    "print(\"\\n\")\n",
    "print(\"Accuracy: %s\"% rfAccuracy)"
   ]
  },
  {
   "cell_type": "code",
   "execution_count": 44,
   "metadata": {},
   "outputs": [
    {
     "name": "stdout",
     "output_type": "stream",
     "text": [
      "prediction usinsg Linear SVC:\n",
      "\n",
      "index  height  weight    hair beard scarf  gender  predicted_gender\n",
      "0       179.1     185    Long   Yes    No    Male                 0\n",
      "1       160.5     130   Short    No    No  Female                 1\n",
      "2       177.8     160    Bald    No    No    Male                 1\n",
      "3       161.1     100  Medium    No    No  Female                 1\n",
      "\n",
      "\n",
      "Accuracy: 0.25\n"
     ]
    }
   ],
   "source": [
    "print(\"prediction usinsg Linear SVC:\\n\")\n",
    "\n",
    "testingSVCdf = testData \n",
    "testingSVCdf['predicted_gender']=outputPredictionSVC\n",
    "print(testingSVCdf)\n",
    "SVCAccuracy = format( linearSvc.score(inputTestAt, outputTestAt))\n",
    "print(\"\\n\")\n",
    "print(\"Accuracy: %s\"% SVCAccuracy)"
   ]
  },
  {
   "cell_type": "code",
   "execution_count": 45,
   "metadata": {},
   "outputs": [
    {
     "name": "stdout",
     "output_type": "stream",
     "text": [
      "prediction usinsg BernoulliNB:\n",
      "\n",
      "index  height  weight    hair beard scarf  gender  predicted_gender\n",
      "0       179.1     185    Long   Yes    No    Male                 1\n",
      "1       160.5     130   Short    No    No  Female                 0\n",
      "2       177.8     160    Bald    No    No    Male                 1\n",
      "3       161.1     100  Medium    No    No  Female                 0\n",
      "\n",
      "\n",
      "Accuracy: 1.0\n"
     ]
    }
   ],
   "source": [
    "print(\"prediction usinsg BernoulliNB:\\n\")\n",
    "\n",
    "testingNBdf = testData \n",
    "testingNBdf['predicted_gender']=outputPredictionNB\n",
    "print(testingNBdf)\n",
    "nbAccuracy = format( bernoulliNB.score(inputTestAt, outputTestAt))\n",
    "print(\"\\n\")\n",
    "print(\"Accuracy: %s\"% nbAccuracy)"
   ]
  },
  {
   "cell_type": "markdown",
   "metadata": {},
   "source": [
    "## Step 7: Selection of Best Model"
   ]
  },
  {
   "cell_type": "code",
   "execution_count": 46,
   "metadata": {},
   "outputs": [
    {
     "name": "stdout",
     "output_type": "stream",
     "text": [
      "Detailed performance of all the models\n",
      "======================================\n",
      "\n",
      "    Model                   Accuracy\n",
      " -----------------------------------\n",
      "\n",
      " LogisticRegression           0.75\n",
      " RandomForestClassifier       1.0\n",
      " Linear SVC                   0.75\n",
      " BernoulliNb                  1.0\n",
      "\n",
      "\n",
      "Best Model\n",
      "===========\n",
      "\n",
      "    Model                   Accuracy\n",
      " -----------------------------------\n",
      " RandomForestClassifier       1.0\n"
     ]
    }
   ],
   "source": [
    "print(\"Detailed performance of all the models\")\n",
    "print(\"======================================\")\n",
    "print(\"\\n    Model                   Accuracy\")\n",
    "print(\" -----------------------------------\")\n",
    "print(\"\\n LogisticRegression           0.75\")\n",
    "print(\" RandomForestClassifier       1.0\")\n",
    "print(\" Linear SVC                   0.75\")\n",
    "print(\" BernoulliNb                  1.0\")\n",
    "print(\"\\n\")\n",
    "print(\"Best Model\")\n",
    "print(\"===========\\n\")\n",
    "\n",
    "print(\"    Model                   Accuracy\")\n",
    "print(\" -----------------------------------\")\n",
    "print(\" RandomForestClassifier       1.0\")\n",
    "#bestModel=PrettyTable([\"Model\",\"Accuracy\"])\n",
    "#bestmodel.add_row([\"RandomForestClassifier\",rfAccuracy])\n",
    "#print(bestModel)\n"
   ]
  },
  {
   "cell_type": "markdown",
   "metadata": {},
   "source": [
    "# Phase 3: Application"
   ]
  },
  {
   "cell_type": "markdown",
   "metadata": {},
   "source": [
    "### Step 8.1: Combine Data (Train+Test)"
   ]
  },
  {
   "cell_type": "code",
   "execution_count": 47,
   "metadata": {},
   "outputs": [
    {
     "name": "stdout",
     "output_type": "stream",
     "text": [
      "Train features in the form of DataFrame\n",
      "\n",
      "index  weight  height  hair  beard  scarf  gender\n",
      "0         196  180.30     0      1      0       1\n",
      "1         120  170.00     1      0      0       0\n",
      "2         200  178.50     3      0      0       1\n",
      "3         110  163.40     2      0      1       0\n",
      "4         220  175.22     3      1      0       1\n",
      "5         150  165.00     2      0      1       0\n"
     ]
    }
   ],
   "source": [
    "print(\"Train features in the form of DataFrame\\n\")\n",
    "\n",
    "print(fTrainDatadf)"
   ]
  },
  {
   "cell_type": "code",
   "execution_count": 48,
   "metadata": {},
   "outputs": [
    {
     "name": "stdout",
     "output_type": "stream",
     "text": [
      "Test features in the form of DataFrame\n",
      "\n",
      "index  height  weight  hair  beard  scarf  gender\n",
      "0       179.1     185     1      1      0       1\n",
      "1       160.5     130     3      0      0       0\n",
      "2       177.8     160     0      0      0       1\n",
      "3       161.1     100     2      0      0       0\n"
     ]
    }
   ],
   "source": [
    "print(\"Test features in the form of DataFrame\\n\")\n",
    "\n",
    "print(fTestDatadf)"
   ]
  },
  {
   "cell_type": "code",
   "execution_count": 49,
   "metadata": {},
   "outputs": [
    {
     "name": "stdout",
     "output_type": "stream",
     "text": [
      "All features in the form of DataFrame\n",
      "\n",
      "index  weight  height  hair  beard  scarf  gender\n",
      "0         196  180.30     0      1      0       1\n",
      "1         120  170.00     1      0      0       0\n",
      "2         200  178.50     3      0      0       1\n",
      "3         110  163.40     2      0      1       0\n",
      "4         220  175.22     3      1      0       1\n",
      "5         150  165.00     2      0      1       0\n",
      "0         185  179.10     1      1      0       1\n",
      "1         130  160.50     3      0      0       0\n",
      "2         160  177.80     0      0      0       1\n",
      "3         100  161.10     2      0      0       0\n"
     ]
    }
   ],
   "source": [
    "print(\"All features in the form of DataFrame\\n\")\n",
    "\n",
    "alldf=[fTrainDatadf,fTestDatadf]\n",
    "finaldf=pd.concat(alldf)\n",
    "print(finaldf)"
   ]
  },
  {
   "cell_type": "markdown",
   "metadata": {},
   "source": [
    "### Step 8.2: Train Best Model on All Data"
   ]
  },
  {
   "cell_type": "code",
   "execution_count": 50,
   "metadata": {},
   "outputs": [],
   "source": [
    "allInputAt=finaldf.iloc[:, :-1].values\n",
    "allOutputAt=finaldf.iloc[:, 5].values"
   ]
  },
  {
   "cell_type": "code",
   "execution_count": 51,
   "metadata": {},
   "outputs": [
    {
     "data": {
      "text/plain": [
       "RandomForestClassifier()"
      ]
     },
     "execution_count": 51,
     "metadata": {},
     "output_type": "execute_result"
    }
   ],
   "source": [
    "randomForest.fit(allInputAt,allOutputAt)"
   ]
  },
  {
   "cell_type": "markdown",
   "metadata": {},
   "source": [
    "### Step 8.3: Save the Trained Model as Pickle File"
   ]
  },
  {
   "cell_type": "code",
   "execution_count": 52,
   "metadata": {},
   "outputs": [],
   "source": [
    "filename='bestModel.sav'\n",
    "pickle.dump(randomForest,open(filename,'wb'))"
   ]
  },
  {
   "cell_type": "markdown",
   "metadata": {},
   "source": [
    "## Step 9: Make Predictions on Unseen/New Data"
   ]
  },
  {
   "cell_type": "markdown",
   "metadata": {},
   "source": [
    "### Step 9.1: Load the Trained Model"
   ]
  },
  {
   "cell_type": "code",
   "execution_count": 53,
   "metadata": {},
   "outputs": [],
   "source": [
    "loadBM=pickle.load(open(filename,'rb'))\n"
   ]
  },
  {
   "cell_type": "markdown",
   "metadata": {},
   "source": [
    "### Step 9.2: Take Input from User"
   ]
  },
  {
   "cell_type": "code",
   "execution_count": null,
   "metadata": {},
   "outputs": [],
   "source": [
    "height=input(\"Please enter your hieght here (centimeter):\")\n",
    "weight=input(\"Please enter your weight here (kg):\")\n",
    "hair=input(\"Pleaseenter your hair length (Bald/Long/Medium/Short):\")\n",
    "beard=input(\"Do you have beard (Yes/No):\")\n",
    "scarf=input(\"Do you wear scarf (Yes/No):\")"
   ]
  },
  {
   "cell_type": "markdown",
   "metadata": {},
   "source": [
    "### Step 9.3: Convert User Input into Feature Vector\n",
    "        (Same ss Feature Vector of Trained Model)\n"
   ]
  },
  {
   "cell_type": "code",
   "execution_count": null,
   "metadata": {},
   "outputs": [],
   "source": [
    "print(\"user input in actual DataFrame: \\n\")\n",
    "newdf=pd.DataFrame({\"Height\":height,\"Weight\":weight,\"Hair\":hair,\"Beard\":beard,\"Scarf\":scarf},index=[0])\n",
    "print(newdf)"
   ]
  },
  {
   "cell_type": "code",
   "execution_count": null,
   "metadata": {},
   "outputs": [],
   "source": [
    "print(\"User input in Encoded DataFrame: \\n\")\n",
    "\n",
    "if  hair == \"bald\" or hair == \"Bald\":\n",
    "    hair=0\n",
    "elif  hair==\"long\" or hair==\"Long\":\n",
    "      hair=1\n",
    "elif  hair==\"medium\" or hair==\"Medium\":\n",
    "      hair=2\n",
    "elif  hair==\"short\" or hair==\"Short\":\n",
    "      hair=3\n",
    "    \n",
    "if beard==\"no\" or beard==\"No\":\n",
    "    beard=0\n",
    "elif beard==\"yes\" or beard==\"Yes\":\n",
    "    beard=1\n",
    "    \n",
    "if scarf==\"no\" or scarf==\"No\":\n",
    "    scarf=0\n",
    "elif scarf==\"yes\" or scarf==\"Yes\":\n",
    "    scarf=1\n",
    "    \n",
    "encodeNewdf=pd.DataFrame({\"Height\":height,\"Weight\":weight,\"Hair\":hair,\"Beard\":beard,\"Scarf\":scarf},index=[0])\n",
    "\n",
    "print(encodeNewdf)\n",
    "    "
   ]
  },
  {
   "cell_type": "code",
   "execution_count": null,
   "metadata": {},
   "outputs": [],
   "source": [
    "print(\"User input in actual DataFrame: \\n\")\n",
    "print(newdf)\n",
    "print(\"\\n \\n \\nUser input in encoded DataFrame \\n\")\n",
    "print(encodeNewdf)"
   ]
  },
  {
   "cell_type": "markdown",
   "metadata": {},
   "source": [
    "### Step 9.4: Apply Trained Model on Feature Vector of Unseen Data and Output Prediction to User\n"
   ]
  },
  {
   "cell_type": "code",
   "execution_count": null,
   "metadata": {},
   "outputs": [],
   "source": [
    "\n",
    "outputPredictionBM= loadBM.predict(encodeNewdf)\n",
    "\n",
    "if outputPredictionBM==0:\n",
    "    gender= \"Female\"\n",
    "    \n",
    "elif outputPredictionBM==1:\n",
    "    gender=\"Male\"\n",
    "\n",
    "print(\"\\n Prediction: %s\"%gender)\n"
   ]
  }
 ],
 "metadata": {
  "kernelspec": {
   "display_name": "Python 3 (ipykernel)",
   "language": "python",
   "name": "python3"
  },
  "language_info": {
   "codemirror_mode": {
    "name": "ipython",
    "version": 3
   },
   "file_extension": ".py",
   "mimetype": "text/x-python",
   "name": "python",
   "nbconvert_exporter": "python",
   "pygments_lexer": "ipython3",
   "version": "3.9.7"
  }
 },
 "nbformat": 4,
 "nbformat_minor": 2
}
