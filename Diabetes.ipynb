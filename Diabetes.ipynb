{
 "cells": [
  {
   "cell_type": "markdown",
   "id": "75e035f7",
   "metadata": {},
   "source": [
    "# Step 1: Import Libraries"
   ]
  },
  {
   "cell_type": "code",
   "execution_count": 1,
   "id": "6f91ff79",
   "metadata": {},
   "outputs": [],
   "source": [
    "import pickle\n",
    "import pandas as pd\n",
    "import numpy as np\n",
    "from sklearn.linear_model import LogisticRegression\n",
    "from sklearn.naive_bayes import BernoulliNB\n",
    "from sklearn.ensemble import RandomForestClassifier\n",
    "from sklearn.svm import LinearSVC\n",
    "from sklearn.metrics import accuracy_score\n",
    "from sklearn.model_selection import train_test_split\n",
    "import matplotlib.pyplot as plt\n",
    "%matplotlib inline\n",
    "import seaborn as sns"
   ]
  },
  {
   "cell_type": "markdown",
   "id": "7813378f",
   "metadata": {},
   "source": [
    "# Step 2: Read, Understand and Pre-process Train/Test Data"
   ]
  },
  {
   "cell_type": "markdown",
   "id": "9f84c1b1",
   "metadata": {},
   "source": [
    "# Step 2.1: Read Data"
   ]
  },
  {
   "cell_type": "code",
   "execution_count": 2,
   "id": "65ceda3d",
   "metadata": {},
   "outputs": [],
   "source": [
    "data = pd.read_csv('diabetes.csv') "
   ]
  },
  {
   "cell_type": "code",
   "execution_count": 3,
   "id": "947bf059",
   "metadata": {},
   "outputs": [
    {
     "data": {
      "text/html": [
       "<div>\n",
       "<style scoped>\n",
       "    .dataframe tbody tr th:only-of-type {\n",
       "        vertical-align: middle;\n",
       "    }\n",
       "\n",
       "    .dataframe tbody tr th {\n",
       "        vertical-align: top;\n",
       "    }\n",
       "\n",
       "    .dataframe thead th {\n",
       "        text-align: right;\n",
       "    }\n",
       "</style>\n",
       "<table border=\"1\" class=\"dataframe\">\n",
       "  <thead>\n",
       "    <tr style=\"text-align: right;\">\n",
       "      <th></th>\n",
       "      <th>HighBP</th>\n",
       "      <th>HighChol</th>\n",
       "      <th>CholCheck</th>\n",
       "      <th>BMI</th>\n",
       "      <th>Smoker</th>\n",
       "      <th>Stroke</th>\n",
       "      <th>HeartDiseaseorAttack</th>\n",
       "      <th>PhysActivity</th>\n",
       "      <th>Fruits</th>\n",
       "      <th>Veggies</th>\n",
       "      <th>HvyAlcoholConsump</th>\n",
       "      <th>AnyHealthcare</th>\n",
       "      <th>NoDocbcCost</th>\n",
       "      <th>GenHlth</th>\n",
       "      <th>MentHlth</th>\n",
       "      <th>PhysHlth</th>\n",
       "      <th>DiffWalk</th>\n",
       "      <th>Sex</th>\n",
       "      <th>Age</th>\n",
       "      <th>Diabetes_012</th>\n",
       "    </tr>\n",
       "  </thead>\n",
       "  <tbody>\n",
       "    <tr>\n",
       "      <th>0</th>\n",
       "      <td>1</td>\n",
       "      <td>1</td>\n",
       "      <td>1</td>\n",
       "      <td>25</td>\n",
       "      <td>1</td>\n",
       "      <td>0</td>\n",
       "      <td>0</td>\n",
       "      <td>1</td>\n",
       "      <td>0</td>\n",
       "      <td>1</td>\n",
       "      <td>0</td>\n",
       "      <td>1</td>\n",
       "      <td>0</td>\n",
       "      <td>3</td>\n",
       "      <td>0</td>\n",
       "      <td>0</td>\n",
       "      <td>1</td>\n",
       "      <td>0</td>\n",
       "      <td>11</td>\n",
       "      <td>0</td>\n",
       "    </tr>\n",
       "    <tr>\n",
       "      <th>1</th>\n",
       "      <td>1</td>\n",
       "      <td>1</td>\n",
       "      <td>1</td>\n",
       "      <td>30</td>\n",
       "      <td>1</td>\n",
       "      <td>0</td>\n",
       "      <td>1</td>\n",
       "      <td>0</td>\n",
       "      <td>1</td>\n",
       "      <td>1</td>\n",
       "      <td>0</td>\n",
       "      <td>1</td>\n",
       "      <td>0</td>\n",
       "      <td>5</td>\n",
       "      <td>30</td>\n",
       "      <td>30</td>\n",
       "      <td>1</td>\n",
       "      <td>0</td>\n",
       "      <td>9</td>\n",
       "      <td>2</td>\n",
       "    </tr>\n",
       "    <tr>\n",
       "      <th>2</th>\n",
       "      <td>0</td>\n",
       "      <td>0</td>\n",
       "      <td>1</td>\n",
       "      <td>24</td>\n",
       "      <td>0</td>\n",
       "      <td>0</td>\n",
       "      <td>0</td>\n",
       "      <td>0</td>\n",
       "      <td>0</td>\n",
       "      <td>1</td>\n",
       "      <td>0</td>\n",
       "      <td>1</td>\n",
       "      <td>0</td>\n",
       "      <td>2</td>\n",
       "      <td>0</td>\n",
       "      <td>0</td>\n",
       "      <td>0</td>\n",
       "      <td>1</td>\n",
       "      <td>8</td>\n",
       "      <td>0</td>\n",
       "    </tr>\n",
       "    <tr>\n",
       "      <th>3</th>\n",
       "      <td>0</td>\n",
       "      <td>0</td>\n",
       "      <td>1</td>\n",
       "      <td>25</td>\n",
       "      <td>1</td>\n",
       "      <td>0</td>\n",
       "      <td>0</td>\n",
       "      <td>1</td>\n",
       "      <td>1</td>\n",
       "      <td>1</td>\n",
       "      <td>0</td>\n",
       "      <td>1</td>\n",
       "      <td>0</td>\n",
       "      <td>3</td>\n",
       "      <td>0</td>\n",
       "      <td>0</td>\n",
       "      <td>0</td>\n",
       "      <td>1</td>\n",
       "      <td>13</td>\n",
       "      <td>2</td>\n",
       "    </tr>\n",
       "    <tr>\n",
       "      <th>4</th>\n",
       "      <td>1</td>\n",
       "      <td>1</td>\n",
       "      <td>1</td>\n",
       "      <td>34</td>\n",
       "      <td>1</td>\n",
       "      <td>0</td>\n",
       "      <td>0</td>\n",
       "      <td>0</td>\n",
       "      <td>1</td>\n",
       "      <td>1</td>\n",
       "      <td>0</td>\n",
       "      <td>1</td>\n",
       "      <td>0</td>\n",
       "      <td>3</td>\n",
       "      <td>0</td>\n",
       "      <td>30</td>\n",
       "      <td>1</td>\n",
       "      <td>0</td>\n",
       "      <td>10</td>\n",
       "      <td>0</td>\n",
       "    </tr>\n",
       "    <tr>\n",
       "      <th>5</th>\n",
       "      <td>0</td>\n",
       "      <td>0</td>\n",
       "      <td>1</td>\n",
       "      <td>26</td>\n",
       "      <td>1</td>\n",
       "      <td>0</td>\n",
       "      <td>0</td>\n",
       "      <td>0</td>\n",
       "      <td>0</td>\n",
       "      <td>1</td>\n",
       "      <td>0</td>\n",
       "      <td>1</td>\n",
       "      <td>0</td>\n",
       "      <td>3</td>\n",
       "      <td>0</td>\n",
       "      <td>15</td>\n",
       "      <td>0</td>\n",
       "      <td>0</td>\n",
       "      <td>7</td>\n",
       "      <td>0</td>\n",
       "    </tr>\n",
       "    <tr>\n",
       "      <th>6</th>\n",
       "      <td>1</td>\n",
       "      <td>1</td>\n",
       "      <td>1</td>\n",
       "      <td>28</td>\n",
       "      <td>0</td>\n",
       "      <td>0</td>\n",
       "      <td>0</td>\n",
       "      <td>0</td>\n",
       "      <td>0</td>\n",
       "      <td>1</td>\n",
       "      <td>0</td>\n",
       "      <td>1</td>\n",
       "      <td>0</td>\n",
       "      <td>4</td>\n",
       "      <td>0</td>\n",
       "      <td>0</td>\n",
       "      <td>1</td>\n",
       "      <td>0</td>\n",
       "      <td>11</td>\n",
       "      <td>2</td>\n",
       "    </tr>\n",
       "    <tr>\n",
       "      <th>7</th>\n",
       "      <td>0</td>\n",
       "      <td>1</td>\n",
       "      <td>1</td>\n",
       "      <td>33</td>\n",
       "      <td>1</td>\n",
       "      <td>1</td>\n",
       "      <td>0</td>\n",
       "      <td>1</td>\n",
       "      <td>0</td>\n",
       "      <td>1</td>\n",
       "      <td>0</td>\n",
       "      <td>1</td>\n",
       "      <td>1</td>\n",
       "      <td>4</td>\n",
       "      <td>30</td>\n",
       "      <td>28</td>\n",
       "      <td>0</td>\n",
       "      <td>0</td>\n",
       "      <td>4</td>\n",
       "      <td>0</td>\n",
       "    </tr>\n",
       "    <tr>\n",
       "      <th>8</th>\n",
       "      <td>1</td>\n",
       "      <td>0</td>\n",
       "      <td>1</td>\n",
       "      <td>33</td>\n",
       "      <td>0</td>\n",
       "      <td>0</td>\n",
       "      <td>0</td>\n",
       "      <td>1</td>\n",
       "      <td>0</td>\n",
       "      <td>0</td>\n",
       "      <td>0</td>\n",
       "      <td>1</td>\n",
       "      <td>0</td>\n",
       "      <td>2</td>\n",
       "      <td>5</td>\n",
       "      <td>0</td>\n",
       "      <td>0</td>\n",
       "      <td>0</td>\n",
       "      <td>6</td>\n",
       "      <td>0</td>\n",
       "    </tr>\n",
       "    <tr>\n",
       "      <th>9</th>\n",
       "      <td>1</td>\n",
       "      <td>1</td>\n",
       "      <td>1</td>\n",
       "      <td>21</td>\n",
       "      <td>0</td>\n",
       "      <td>0</td>\n",
       "      <td>0</td>\n",
       "      <td>1</td>\n",
       "      <td>1</td>\n",
       "      <td>1</td>\n",
       "      <td>0</td>\n",
       "      <td>1</td>\n",
       "      <td>0</td>\n",
       "      <td>3</td>\n",
       "      <td>0</td>\n",
       "      <td>0</td>\n",
       "      <td>0</td>\n",
       "      <td>0</td>\n",
       "      <td>10</td>\n",
       "      <td>0</td>\n",
       "    </tr>\n",
       "  </tbody>\n",
       "</table>\n",
       "</div>"
      ],
      "text/plain": [
       "   HighBP  HighChol  CholCheck  BMI  Smoker  Stroke  HeartDiseaseorAttack  \\\n",
       "0       1         1          1   25       1       0                     0   \n",
       "1       1         1          1   30       1       0                     1   \n",
       "2       0         0          1   24       0       0                     0   \n",
       "3       0         0          1   25       1       0                     0   \n",
       "4       1         1          1   34       1       0                     0   \n",
       "5       0         0          1   26       1       0                     0   \n",
       "6       1         1          1   28       0       0                     0   \n",
       "7       0         1          1   33       1       1                     0   \n",
       "8       1         0          1   33       0       0                     0   \n",
       "9       1         1          1   21       0       0                     0   \n",
       "\n",
       "   PhysActivity  Fruits  Veggies  HvyAlcoholConsump  AnyHealthcare  \\\n",
       "0             1       0        1                  0              1   \n",
       "1             0       1        1                  0              1   \n",
       "2             0       0        1                  0              1   \n",
       "3             1       1        1                  0              1   \n",
       "4             0       1        1                  0              1   \n",
       "5             0       0        1                  0              1   \n",
       "6             0       0        1                  0              1   \n",
       "7             1       0        1                  0              1   \n",
       "8             1       0        0                  0              1   \n",
       "9             1       1        1                  0              1   \n",
       "\n",
       "   NoDocbcCost  GenHlth  MentHlth  PhysHlth  DiffWalk  Sex  Age  Diabetes_012  \n",
       "0            0        3         0         0         1    0   11             0  \n",
       "1            0        5        30        30         1    0    9             2  \n",
       "2            0        2         0         0         0    1    8             0  \n",
       "3            0        3         0         0         0    1   13             2  \n",
       "4            0        3         0        30         1    0   10             0  \n",
       "5            0        3         0        15         0    0    7             0  \n",
       "6            0        4         0         0         1    0   11             2  \n",
       "7            1        4        30        28         0    0    4             0  \n",
       "8            0        2         5         0         0    0    6             0  \n",
       "9            0        3         0         0         0    0   10             0  "
      ]
     },
     "execution_count": 3,
     "metadata": {},
     "output_type": "execute_result"
    }
   ],
   "source": [
    "data.head(10)"
   ]
  },
  {
   "cell_type": "code",
   "execution_count": 4,
   "id": "421cc5d3",
   "metadata": {},
   "outputs": [
    {
     "data": {
      "text/plain": [
       "HighBP                  int64\n",
       "HighChol                int64\n",
       "CholCheck               int64\n",
       "BMI                     int64\n",
       "Smoker                  int64\n",
       "Stroke                  int64\n",
       "HeartDiseaseorAttack    int64\n",
       "PhysActivity            int64\n",
       "Fruits                  int64\n",
       "Veggies                 int64\n",
       "HvyAlcoholConsump       int64\n",
       "AnyHealthcare           int64\n",
       "NoDocbcCost             int64\n",
       "GenHlth                 int64\n",
       "MentHlth                int64\n",
       "PhysHlth                int64\n",
       "DiffWalk                int64\n",
       "Sex                     int64\n",
       "Age                     int64\n",
       "Diabetes_012            int64\n",
       "dtype: object"
      ]
     },
     "execution_count": 4,
     "metadata": {},
     "output_type": "execute_result"
    }
   ],
   "source": [
    "data.dtypes"
   ]
  },
  {
   "cell_type": "markdown",
   "id": "3621e08f",
   "metadata": {},
   "source": [
    "# Step 2.2: Understand Data"
   ]
  },
  {
   "cell_type": "code",
   "execution_count": 5,
   "id": "d87de454",
   "metadata": {},
   "outputs": [
    {
     "name": "stdout",
     "output_type": "stream",
     "text": [
      "Train Dataset:\n",
      "index   HighBP  HighChol  CholCheck  BMI  Smoker  Stroke  \\\n",
      "0            1         1          1   25       1       0   \n",
      "1            1         1          1   30       1       0   \n",
      "2            0         0          1   24       0       0   \n",
      "3            0         0          1   25       1       0   \n",
      "4            1         1          1   34       1       0   \n",
      "...        ...       ...        ...  ...     ...     ...   \n",
      "240645       1         1          1   45       0       0   \n",
      "240646       1         1          1   18       0       0   \n",
      "240647       0         0          1   28       0       0   \n",
      "240648       1         0          1   23       0       0   \n",
      "240649       1         1          1   25       0       0   \n",
      "\n",
      "index   HeartDiseaseorAttack  PhysActivity  Fruits  Veggies  \\\n",
      "0                          0             1       0        1   \n",
      "1                          1             0       1        1   \n",
      "2                          0             0       0        1   \n",
      "3                          0             1       1        1   \n",
      "4                          0             0       1        1   \n",
      "...                      ...           ...     ...      ...   \n",
      "240645                     0             0       1        1   \n",
      "240646                     0             0       0        0   \n",
      "240647                     0             1       1        0   \n",
      "240648                     0             0       1        1   \n",
      "240649                     1             1       1        0   \n",
      "\n",
      "index   HvyAlcoholConsump  AnyHealthcare  NoDocbcCost  GenHlth  MentHlth  \\\n",
      "0                       0              1            0        3         0   \n",
      "1                       0              1            0        5        30   \n",
      "2                       0              1            0        2         0   \n",
      "3                       0              1            0        3         0   \n",
      "4                       0              1            0        3         0   \n",
      "...                   ...            ...          ...      ...       ...   \n",
      "240645                  0              1            0        3         0   \n",
      "240646                  0              1            0        4         0   \n",
      "240647                  0              1            0        1         0   \n",
      "240648                  0              1            0        3         0   \n",
      "240649                  0              1            0        2         0   \n",
      "\n",
      "index   PhysHlth  DiffWalk  Sex  Age  Diabetes_012  \n",
      "0              0         1    0   11             0  \n",
      "1             30         1    0    9             2  \n",
      "2              0         0    1    8             0  \n",
      "3              0         0    1   13             2  \n",
      "4             30         1    0   10             0  \n",
      "...          ...       ...  ...  ...           ...  \n",
      "240645         5         0    1    5             0  \n",
      "240646         0         1    0   11             2  \n",
      "240647         0         0    0    2             0  \n",
      "240648         0         0    1    7             0  \n",
      "240649         0         0    0    9             2  \n",
      "\n",
      "[240650 rows x 20 columns]\n"
     ]
    }
   ],
   "source": [
    "data.columns.name=\"index\"\n",
    "print(\"Train Dataset:\")\n",
    "print(data)"
   ]
  },
  {
   "cell_type": "code",
   "execution_count": 6,
   "id": "46e19b96",
   "metadata": {},
   "outputs": [
    {
     "name": "stdout",
     "output_type": "stream",
     "text": [
      "Train Data Set Columns:\n",
      "Index(['HighBP', 'HighChol', 'CholCheck', 'BMI', 'Smoker', 'Stroke',\n",
      "       'HeartDiseaseorAttack', 'PhysActivity', 'Fruits', 'Veggies',\n",
      "       'HvyAlcoholConsump', 'AnyHealthcare', 'NoDocbcCost', 'GenHlth',\n",
      "       'MentHlth', 'PhysHlth', 'DiffWalk', 'Sex', 'Age', 'Diabetes_012'],\n",
      "      dtype='object', name='index')\n",
      "\n",
      "\n",
      "Number of instances in Train Dataset\n",
      "Train Instances: 240650\n"
     ]
    }
   ],
   "source": [
    "print(\"Train Data Set Columns:\")\n",
    "trainDatadf=pd.DataFrame(data)\n",
    "trainDataIndex=trainDatadf.columns\n",
    "print(trainDataIndex)\n",
    "\n",
    "print(\"\\n\")\n",
    "print(\"Number of instances in Train Dataset\")\n",
    "print(\"Train Instances: %s\"% (len(trainDatadf.index)))"
   ]
  },
  {
   "cell_type": "code",
   "execution_count": 7,
   "id": "ad950aa4",
   "metadata": {},
   "outputs": [
    {
     "data": {
      "text/plain": [
       "Index(['HighBP', 'HighChol', 'CholCheck', 'BMI', 'Smoker', 'Stroke',\n",
       "       'HeartDiseaseorAttack', 'PhysActivity', 'Fruits', 'Veggies',\n",
       "       'HvyAlcoholConsump', 'AnyHealthcare', 'NoDocbcCost', 'GenHlth',\n",
       "       'MentHlth', 'PhysHlth', 'DiffWalk', 'Sex', 'Age', 'Diabetes_012'],\n",
       "      dtype='object', name='index')"
      ]
     },
     "execution_count": 7,
     "metadata": {},
     "output_type": "execute_result"
    }
   ],
   "source": [
    "trainDataIndex"
   ]
  },
  {
   "cell_type": "code",
   "execution_count": 8,
   "id": "8b2db7ae",
   "metadata": {},
   "outputs": [
    {
     "data": {
      "text/html": [
       "<div>\n",
       "<style scoped>\n",
       "    .dataframe tbody tr th:only-of-type {\n",
       "        vertical-align: middle;\n",
       "    }\n",
       "\n",
       "    .dataframe tbody tr th {\n",
       "        vertical-align: top;\n",
       "    }\n",
       "\n",
       "    .dataframe thead th {\n",
       "        text-align: right;\n",
       "    }\n",
       "</style>\n",
       "<table border=\"1\" class=\"dataframe\">\n",
       "  <thead>\n",
       "    <tr style=\"text-align: right;\">\n",
       "      <th>index</th>\n",
       "      <th>HighBP</th>\n",
       "      <th>HighChol</th>\n",
       "      <th>CholCheck</th>\n",
       "      <th>BMI</th>\n",
       "      <th>Smoker</th>\n",
       "      <th>Stroke</th>\n",
       "      <th>HeartDiseaseorAttack</th>\n",
       "      <th>PhysActivity</th>\n",
       "      <th>Fruits</th>\n",
       "      <th>Veggies</th>\n",
       "      <th>HvyAlcoholConsump</th>\n",
       "      <th>AnyHealthcare</th>\n",
       "      <th>NoDocbcCost</th>\n",
       "      <th>GenHlth</th>\n",
       "      <th>MentHlth</th>\n",
       "      <th>PhysHlth</th>\n",
       "      <th>DiffWalk</th>\n",
       "      <th>Sex</th>\n",
       "      <th>Age</th>\n",
       "      <th>Diabetes_012</th>\n",
       "    </tr>\n",
       "  </thead>\n",
       "  <tbody>\n",
       "    <tr>\n",
       "      <th>0</th>\n",
       "      <td>1</td>\n",
       "      <td>1</td>\n",
       "      <td>1</td>\n",
       "      <td>25</td>\n",
       "      <td>1</td>\n",
       "      <td>0</td>\n",
       "      <td>0</td>\n",
       "      <td>1</td>\n",
       "      <td>0</td>\n",
       "      <td>1</td>\n",
       "      <td>0</td>\n",
       "      <td>1</td>\n",
       "      <td>0</td>\n",
       "      <td>3</td>\n",
       "      <td>0</td>\n",
       "      <td>0</td>\n",
       "      <td>1</td>\n",
       "      <td>0</td>\n",
       "      <td>11</td>\n",
       "      <td>0</td>\n",
       "    </tr>\n",
       "    <tr>\n",
       "      <th>1</th>\n",
       "      <td>1</td>\n",
       "      <td>1</td>\n",
       "      <td>1</td>\n",
       "      <td>30</td>\n",
       "      <td>1</td>\n",
       "      <td>0</td>\n",
       "      <td>1</td>\n",
       "      <td>0</td>\n",
       "      <td>1</td>\n",
       "      <td>1</td>\n",
       "      <td>0</td>\n",
       "      <td>1</td>\n",
       "      <td>0</td>\n",
       "      <td>5</td>\n",
       "      <td>30</td>\n",
       "      <td>30</td>\n",
       "      <td>1</td>\n",
       "      <td>0</td>\n",
       "      <td>9</td>\n",
       "      <td>2</td>\n",
       "    </tr>\n",
       "    <tr>\n",
       "      <th>2</th>\n",
       "      <td>0</td>\n",
       "      <td>0</td>\n",
       "      <td>1</td>\n",
       "      <td>24</td>\n",
       "      <td>0</td>\n",
       "      <td>0</td>\n",
       "      <td>0</td>\n",
       "      <td>0</td>\n",
       "      <td>0</td>\n",
       "      <td>1</td>\n",
       "      <td>0</td>\n",
       "      <td>1</td>\n",
       "      <td>0</td>\n",
       "      <td>2</td>\n",
       "      <td>0</td>\n",
       "      <td>0</td>\n",
       "      <td>0</td>\n",
       "      <td>1</td>\n",
       "      <td>8</td>\n",
       "      <td>0</td>\n",
       "    </tr>\n",
       "    <tr>\n",
       "      <th>3</th>\n",
       "      <td>0</td>\n",
       "      <td>0</td>\n",
       "      <td>1</td>\n",
       "      <td>25</td>\n",
       "      <td>1</td>\n",
       "      <td>0</td>\n",
       "      <td>0</td>\n",
       "      <td>1</td>\n",
       "      <td>1</td>\n",
       "      <td>1</td>\n",
       "      <td>0</td>\n",
       "      <td>1</td>\n",
       "      <td>0</td>\n",
       "      <td>3</td>\n",
       "      <td>0</td>\n",
       "      <td>0</td>\n",
       "      <td>0</td>\n",
       "      <td>1</td>\n",
       "      <td>13</td>\n",
       "      <td>2</td>\n",
       "    </tr>\n",
       "    <tr>\n",
       "      <th>4</th>\n",
       "      <td>1</td>\n",
       "      <td>1</td>\n",
       "      <td>1</td>\n",
       "      <td>34</td>\n",
       "      <td>1</td>\n",
       "      <td>0</td>\n",
       "      <td>0</td>\n",
       "      <td>0</td>\n",
       "      <td>1</td>\n",
       "      <td>1</td>\n",
       "      <td>0</td>\n",
       "      <td>1</td>\n",
       "      <td>0</td>\n",
       "      <td>3</td>\n",
       "      <td>0</td>\n",
       "      <td>30</td>\n",
       "      <td>1</td>\n",
       "      <td>0</td>\n",
       "      <td>10</td>\n",
       "      <td>0</td>\n",
       "    </tr>\n",
       "    <tr>\n",
       "      <th>...</th>\n",
       "      <td>...</td>\n",
       "      <td>...</td>\n",
       "      <td>...</td>\n",
       "      <td>...</td>\n",
       "      <td>...</td>\n",
       "      <td>...</td>\n",
       "      <td>...</td>\n",
       "      <td>...</td>\n",
       "      <td>...</td>\n",
       "      <td>...</td>\n",
       "      <td>...</td>\n",
       "      <td>...</td>\n",
       "      <td>...</td>\n",
       "      <td>...</td>\n",
       "      <td>...</td>\n",
       "      <td>...</td>\n",
       "      <td>...</td>\n",
       "      <td>...</td>\n",
       "      <td>...</td>\n",
       "      <td>...</td>\n",
       "    </tr>\n",
       "    <tr>\n",
       "      <th>240645</th>\n",
       "      <td>1</td>\n",
       "      <td>1</td>\n",
       "      <td>1</td>\n",
       "      <td>45</td>\n",
       "      <td>0</td>\n",
       "      <td>0</td>\n",
       "      <td>0</td>\n",
       "      <td>0</td>\n",
       "      <td>1</td>\n",
       "      <td>1</td>\n",
       "      <td>0</td>\n",
       "      <td>1</td>\n",
       "      <td>0</td>\n",
       "      <td>3</td>\n",
       "      <td>0</td>\n",
       "      <td>5</td>\n",
       "      <td>0</td>\n",
       "      <td>1</td>\n",
       "      <td>5</td>\n",
       "      <td>0</td>\n",
       "    </tr>\n",
       "    <tr>\n",
       "      <th>240646</th>\n",
       "      <td>1</td>\n",
       "      <td>1</td>\n",
       "      <td>1</td>\n",
       "      <td>18</td>\n",
       "      <td>0</td>\n",
       "      <td>0</td>\n",
       "      <td>0</td>\n",
       "      <td>0</td>\n",
       "      <td>0</td>\n",
       "      <td>0</td>\n",
       "      <td>0</td>\n",
       "      <td>1</td>\n",
       "      <td>0</td>\n",
       "      <td>4</td>\n",
       "      <td>0</td>\n",
       "      <td>0</td>\n",
       "      <td>1</td>\n",
       "      <td>0</td>\n",
       "      <td>11</td>\n",
       "      <td>2</td>\n",
       "    </tr>\n",
       "    <tr>\n",
       "      <th>240647</th>\n",
       "      <td>0</td>\n",
       "      <td>0</td>\n",
       "      <td>1</td>\n",
       "      <td>28</td>\n",
       "      <td>0</td>\n",
       "      <td>0</td>\n",
       "      <td>0</td>\n",
       "      <td>1</td>\n",
       "      <td>1</td>\n",
       "      <td>0</td>\n",
       "      <td>0</td>\n",
       "      <td>1</td>\n",
       "      <td>0</td>\n",
       "      <td>1</td>\n",
       "      <td>0</td>\n",
       "      <td>0</td>\n",
       "      <td>0</td>\n",
       "      <td>0</td>\n",
       "      <td>2</td>\n",
       "      <td>0</td>\n",
       "    </tr>\n",
       "    <tr>\n",
       "      <th>240648</th>\n",
       "      <td>1</td>\n",
       "      <td>0</td>\n",
       "      <td>1</td>\n",
       "      <td>23</td>\n",
       "      <td>0</td>\n",
       "      <td>0</td>\n",
       "      <td>0</td>\n",
       "      <td>0</td>\n",
       "      <td>1</td>\n",
       "      <td>1</td>\n",
       "      <td>0</td>\n",
       "      <td>1</td>\n",
       "      <td>0</td>\n",
       "      <td>3</td>\n",
       "      <td>0</td>\n",
       "      <td>0</td>\n",
       "      <td>0</td>\n",
       "      <td>1</td>\n",
       "      <td>7</td>\n",
       "      <td>0</td>\n",
       "    </tr>\n",
       "    <tr>\n",
       "      <th>240649</th>\n",
       "      <td>1</td>\n",
       "      <td>1</td>\n",
       "      <td>1</td>\n",
       "      <td>25</td>\n",
       "      <td>0</td>\n",
       "      <td>0</td>\n",
       "      <td>1</td>\n",
       "      <td>1</td>\n",
       "      <td>1</td>\n",
       "      <td>0</td>\n",
       "      <td>0</td>\n",
       "      <td>1</td>\n",
       "      <td>0</td>\n",
       "      <td>2</td>\n",
       "      <td>0</td>\n",
       "      <td>0</td>\n",
       "      <td>0</td>\n",
       "      <td>0</td>\n",
       "      <td>9</td>\n",
       "      <td>2</td>\n",
       "    </tr>\n",
       "  </tbody>\n",
       "</table>\n",
       "<p>240650 rows × 20 columns</p>\n",
       "</div>"
      ],
      "text/plain": [
       "index   HighBP  HighChol  CholCheck  BMI  Smoker  Stroke  \\\n",
       "0            1         1          1   25       1       0   \n",
       "1            1         1          1   30       1       0   \n",
       "2            0         0          1   24       0       0   \n",
       "3            0         0          1   25       1       0   \n",
       "4            1         1          1   34       1       0   \n",
       "...        ...       ...        ...  ...     ...     ...   \n",
       "240645       1         1          1   45       0       0   \n",
       "240646       1         1          1   18       0       0   \n",
       "240647       0         0          1   28       0       0   \n",
       "240648       1         0          1   23       0       0   \n",
       "240649       1         1          1   25       0       0   \n",
       "\n",
       "index   HeartDiseaseorAttack  PhysActivity  Fruits  Veggies  \\\n",
       "0                          0             1       0        1   \n",
       "1                          1             0       1        1   \n",
       "2                          0             0       0        1   \n",
       "3                          0             1       1        1   \n",
       "4                          0             0       1        1   \n",
       "...                      ...           ...     ...      ...   \n",
       "240645                     0             0       1        1   \n",
       "240646                     0             0       0        0   \n",
       "240647                     0             1       1        0   \n",
       "240648                     0             0       1        1   \n",
       "240649                     1             1       1        0   \n",
       "\n",
       "index   HvyAlcoholConsump  AnyHealthcare  NoDocbcCost  GenHlth  MentHlth  \\\n",
       "0                       0              1            0        3         0   \n",
       "1                       0              1            0        5        30   \n",
       "2                       0              1            0        2         0   \n",
       "3                       0              1            0        3         0   \n",
       "4                       0              1            0        3         0   \n",
       "...                   ...            ...          ...      ...       ...   \n",
       "240645                  0              1            0        3         0   \n",
       "240646                  0              1            0        4         0   \n",
       "240647                  0              1            0        1         0   \n",
       "240648                  0              1            0        3         0   \n",
       "240649                  0              1            0        2         0   \n",
       "\n",
       "index   PhysHlth  DiffWalk  Sex  Age  Diabetes_012  \n",
       "0              0         1    0   11             0  \n",
       "1             30         1    0    9             2  \n",
       "2              0         0    1    8             0  \n",
       "3              0         0    1   13             2  \n",
       "4             30         1    0   10             0  \n",
       "...          ...       ...  ...  ...           ...  \n",
       "240645         5         0    1    5             0  \n",
       "240646         0         1    0   11             2  \n",
       "240647         0         0    0    2             0  \n",
       "240648         0         0    1    7             0  \n",
       "240649         0         0    0    9             2  \n",
       "\n",
       "[240650 rows x 20 columns]"
      ]
     },
     "execution_count": 8,
     "metadata": {},
     "output_type": "execute_result"
    }
   ],
   "source": [
    "trainDatadf"
   ]
  },
  {
   "cell_type": "code",
   "execution_count": 9,
   "id": "35f5e061",
   "metadata": {},
   "outputs": [
    {
     "data": {
      "text/html": [
       "<div>\n",
       "<style scoped>\n",
       "    .dataframe tbody tr th:only-of-type {\n",
       "        vertical-align: middle;\n",
       "    }\n",
       "\n",
       "    .dataframe tbody tr th {\n",
       "        vertical-align: top;\n",
       "    }\n",
       "\n",
       "    .dataframe thead th {\n",
       "        text-align: right;\n",
       "    }\n",
       "</style>\n",
       "<table border=\"1\" class=\"dataframe\">\n",
       "  <thead>\n",
       "    <tr style=\"text-align: right;\">\n",
       "      <th>index</th>\n",
       "      <th>HighBP</th>\n",
       "      <th>HighChol</th>\n",
       "      <th>CholCheck</th>\n",
       "      <th>BMI</th>\n",
       "      <th>Smoker</th>\n",
       "      <th>Stroke</th>\n",
       "      <th>HeartDiseaseorAttack</th>\n",
       "      <th>PhysActivity</th>\n",
       "      <th>Fruits</th>\n",
       "      <th>Veggies</th>\n",
       "      <th>HvyAlcoholConsump</th>\n",
       "      <th>AnyHealthcare</th>\n",
       "      <th>NoDocbcCost</th>\n",
       "      <th>GenHlth</th>\n",
       "      <th>MentHlth</th>\n",
       "      <th>PhysHlth</th>\n",
       "      <th>DiffWalk</th>\n",
       "      <th>Sex</th>\n",
       "      <th>Age</th>\n",
       "      <th>Diabetes_012</th>\n",
       "    </tr>\n",
       "  </thead>\n",
       "  <tbody>\n",
       "    <tr>\n",
       "      <th>count</th>\n",
       "      <td>240650.000000</td>\n",
       "      <td>240650.000000</td>\n",
       "      <td>240650.000000</td>\n",
       "      <td>240650.000000</td>\n",
       "      <td>240650.000000</td>\n",
       "      <td>240650.000000</td>\n",
       "      <td>240650.000000</td>\n",
       "      <td>240650.000000</td>\n",
       "      <td>240650.000000</td>\n",
       "      <td>240650.000000</td>\n",
       "      <td>240650.000000</td>\n",
       "      <td>240650.000000</td>\n",
       "      <td>240650.000000</td>\n",
       "      <td>240650.000000</td>\n",
       "      <td>240650.000000</td>\n",
       "      <td>240650.000000</td>\n",
       "      <td>240650.000000</td>\n",
       "      <td>240650.000000</td>\n",
       "      <td>240650.000000</td>\n",
       "      <td>240650.000000</td>\n",
       "    </tr>\n",
       "    <tr>\n",
       "      <th>mean</th>\n",
       "      <td>0.430580</td>\n",
       "      <td>0.425439</td>\n",
       "      <td>0.962768</td>\n",
       "      <td>28.405710</td>\n",
       "      <td>0.444721</td>\n",
       "      <td>0.040573</td>\n",
       "      <td>0.094635</td>\n",
       "      <td>0.755587</td>\n",
       "      <td>0.633937</td>\n",
       "      <td>0.810538</td>\n",
       "      <td>0.056235</td>\n",
       "      <td>0.951585</td>\n",
       "      <td>0.083661</td>\n",
       "      <td>2.510746</td>\n",
       "      <td>3.170048</td>\n",
       "      <td>4.232425</td>\n",
       "      <td>0.168170</td>\n",
       "      <td>0.439680</td>\n",
       "      <td>8.051926</td>\n",
       "      <td>0.297623</td>\n",
       "    </tr>\n",
       "    <tr>\n",
       "      <th>std</th>\n",
       "      <td>0.495158</td>\n",
       "      <td>0.494410</td>\n",
       "      <td>0.189331</td>\n",
       "      <td>6.629625</td>\n",
       "      <td>0.496936</td>\n",
       "      <td>0.197300</td>\n",
       "      <td>0.292711</td>\n",
       "      <td>0.429740</td>\n",
       "      <td>0.481728</td>\n",
       "      <td>0.391876</td>\n",
       "      <td>0.230376</td>\n",
       "      <td>0.214641</td>\n",
       "      <td>0.276879</td>\n",
       "      <td>1.066631</td>\n",
       "      <td>7.401407</td>\n",
       "      <td>8.713573</td>\n",
       "      <td>0.374018</td>\n",
       "      <td>0.496349</td>\n",
       "      <td>3.042948</td>\n",
       "      <td>0.699068</td>\n",
       "    </tr>\n",
       "    <tr>\n",
       "      <th>min</th>\n",
       "      <td>0.000000</td>\n",
       "      <td>0.000000</td>\n",
       "      <td>0.000000</td>\n",
       "      <td>12.000000</td>\n",
       "      <td>0.000000</td>\n",
       "      <td>0.000000</td>\n",
       "      <td>0.000000</td>\n",
       "      <td>0.000000</td>\n",
       "      <td>0.000000</td>\n",
       "      <td>0.000000</td>\n",
       "      <td>0.000000</td>\n",
       "      <td>0.000000</td>\n",
       "      <td>0.000000</td>\n",
       "      <td>1.000000</td>\n",
       "      <td>0.000000</td>\n",
       "      <td>0.000000</td>\n",
       "      <td>0.000000</td>\n",
       "      <td>0.000000</td>\n",
       "      <td>1.000000</td>\n",
       "      <td>0.000000</td>\n",
       "    </tr>\n",
       "    <tr>\n",
       "      <th>25%</th>\n",
       "      <td>0.000000</td>\n",
       "      <td>0.000000</td>\n",
       "      <td>1.000000</td>\n",
       "      <td>24.000000</td>\n",
       "      <td>0.000000</td>\n",
       "      <td>0.000000</td>\n",
       "      <td>0.000000</td>\n",
       "      <td>1.000000</td>\n",
       "      <td>0.000000</td>\n",
       "      <td>1.000000</td>\n",
       "      <td>0.000000</td>\n",
       "      <td>1.000000</td>\n",
       "      <td>0.000000</td>\n",
       "      <td>2.000000</td>\n",
       "      <td>0.000000</td>\n",
       "      <td>0.000000</td>\n",
       "      <td>0.000000</td>\n",
       "      <td>0.000000</td>\n",
       "      <td>6.000000</td>\n",
       "      <td>0.000000</td>\n",
       "    </tr>\n",
       "    <tr>\n",
       "      <th>50%</th>\n",
       "      <td>0.000000</td>\n",
       "      <td>0.000000</td>\n",
       "      <td>1.000000</td>\n",
       "      <td>27.000000</td>\n",
       "      <td>0.000000</td>\n",
       "      <td>0.000000</td>\n",
       "      <td>0.000000</td>\n",
       "      <td>1.000000</td>\n",
       "      <td>1.000000</td>\n",
       "      <td>1.000000</td>\n",
       "      <td>0.000000</td>\n",
       "      <td>1.000000</td>\n",
       "      <td>0.000000</td>\n",
       "      <td>2.000000</td>\n",
       "      <td>0.000000</td>\n",
       "      <td>0.000000</td>\n",
       "      <td>0.000000</td>\n",
       "      <td>0.000000</td>\n",
       "      <td>8.000000</td>\n",
       "      <td>0.000000</td>\n",
       "    </tr>\n",
       "    <tr>\n",
       "      <th>75%</th>\n",
       "      <td>1.000000</td>\n",
       "      <td>1.000000</td>\n",
       "      <td>1.000000</td>\n",
       "      <td>31.000000</td>\n",
       "      <td>1.000000</td>\n",
       "      <td>0.000000</td>\n",
       "      <td>0.000000</td>\n",
       "      <td>1.000000</td>\n",
       "      <td>1.000000</td>\n",
       "      <td>1.000000</td>\n",
       "      <td>0.000000</td>\n",
       "      <td>1.000000</td>\n",
       "      <td>0.000000</td>\n",
       "      <td>3.000000</td>\n",
       "      <td>2.000000</td>\n",
       "      <td>3.000000</td>\n",
       "      <td>0.000000</td>\n",
       "      <td>1.000000</td>\n",
       "      <td>10.000000</td>\n",
       "      <td>0.000000</td>\n",
       "    </tr>\n",
       "    <tr>\n",
       "      <th>max</th>\n",
       "      <td>1.000000</td>\n",
       "      <td>1.000000</td>\n",
       "      <td>1.000000</td>\n",
       "      <td>98.000000</td>\n",
       "      <td>1.000000</td>\n",
       "      <td>1.000000</td>\n",
       "      <td>1.000000</td>\n",
       "      <td>1.000000</td>\n",
       "      <td>1.000000</td>\n",
       "      <td>1.000000</td>\n",
       "      <td>1.000000</td>\n",
       "      <td>1.000000</td>\n",
       "      <td>1.000000</td>\n",
       "      <td>5.000000</td>\n",
       "      <td>30.000000</td>\n",
       "      <td>30.000000</td>\n",
       "      <td>1.000000</td>\n",
       "      <td>1.000000</td>\n",
       "      <td>13.000000</td>\n",
       "      <td>2.000000</td>\n",
       "    </tr>\n",
       "  </tbody>\n",
       "</table>\n",
       "</div>"
      ],
      "text/plain": [
       "index         HighBP       HighChol      CholCheck            BMI  \\\n",
       "count  240650.000000  240650.000000  240650.000000  240650.000000   \n",
       "mean        0.430580       0.425439       0.962768      28.405710   \n",
       "std         0.495158       0.494410       0.189331       6.629625   \n",
       "min         0.000000       0.000000       0.000000      12.000000   \n",
       "25%         0.000000       0.000000       1.000000      24.000000   \n",
       "50%         0.000000       0.000000       1.000000      27.000000   \n",
       "75%         1.000000       1.000000       1.000000      31.000000   \n",
       "max         1.000000       1.000000       1.000000      98.000000   \n",
       "\n",
       "index         Smoker         Stroke  HeartDiseaseorAttack   PhysActivity  \\\n",
       "count  240650.000000  240650.000000         240650.000000  240650.000000   \n",
       "mean        0.444721       0.040573              0.094635       0.755587   \n",
       "std         0.496936       0.197300              0.292711       0.429740   \n",
       "min         0.000000       0.000000              0.000000       0.000000   \n",
       "25%         0.000000       0.000000              0.000000       1.000000   \n",
       "50%         0.000000       0.000000              0.000000       1.000000   \n",
       "75%         1.000000       0.000000              0.000000       1.000000   \n",
       "max         1.000000       1.000000              1.000000       1.000000   \n",
       "\n",
       "index         Fruits        Veggies  HvyAlcoholConsump  AnyHealthcare  \\\n",
       "count  240650.000000  240650.000000      240650.000000  240650.000000   \n",
       "mean        0.633937       0.810538           0.056235       0.951585   \n",
       "std         0.481728       0.391876           0.230376       0.214641   \n",
       "min         0.000000       0.000000           0.000000       0.000000   \n",
       "25%         0.000000       1.000000           0.000000       1.000000   \n",
       "50%         1.000000       1.000000           0.000000       1.000000   \n",
       "75%         1.000000       1.000000           0.000000       1.000000   \n",
       "max         1.000000       1.000000           1.000000       1.000000   \n",
       "\n",
       "index    NoDocbcCost        GenHlth       MentHlth       PhysHlth  \\\n",
       "count  240650.000000  240650.000000  240650.000000  240650.000000   \n",
       "mean        0.083661       2.510746       3.170048       4.232425   \n",
       "std         0.276879       1.066631       7.401407       8.713573   \n",
       "min         0.000000       1.000000       0.000000       0.000000   \n",
       "25%         0.000000       2.000000       0.000000       0.000000   \n",
       "50%         0.000000       2.000000       0.000000       0.000000   \n",
       "75%         0.000000       3.000000       2.000000       3.000000   \n",
       "max         1.000000       5.000000      30.000000      30.000000   \n",
       "\n",
       "index       DiffWalk            Sex            Age   Diabetes_012  \n",
       "count  240650.000000  240650.000000  240650.000000  240650.000000  \n",
       "mean        0.168170       0.439680       8.051926       0.297623  \n",
       "std         0.374018       0.496349       3.042948       0.699068  \n",
       "min         0.000000       0.000000       1.000000       0.000000  \n",
       "25%         0.000000       0.000000       6.000000       0.000000  \n",
       "50%         0.000000       0.000000       8.000000       0.000000  \n",
       "75%         0.000000       1.000000      10.000000       0.000000  \n",
       "max         1.000000       1.000000      13.000000       2.000000  "
      ]
     },
     "execution_count": 9,
     "metadata": {},
     "output_type": "execute_result"
    }
   ],
   "source": [
    "data.describe()"
   ]
  },
  {
   "cell_type": "code",
   "execution_count": 10,
   "id": "bf5c9cd8",
   "metadata": {},
   "outputs": [
    {
     "name": "stdout",
     "output_type": "stream",
     "text": [
      "<class 'pandas.core.frame.DataFrame'>\n",
      "RangeIndex: 240650 entries, 0 to 240649\n",
      "Data columns (total 20 columns):\n",
      " #   Column                Non-Null Count   Dtype\n",
      "---  ------                --------------   -----\n",
      " 0   HighBP                240650 non-null  int64\n",
      " 1   HighChol              240650 non-null  int64\n",
      " 2   CholCheck             240650 non-null  int64\n",
      " 3   BMI                   240650 non-null  int64\n",
      " 4   Smoker                240650 non-null  int64\n",
      " 5   Stroke                240650 non-null  int64\n",
      " 6   HeartDiseaseorAttack  240650 non-null  int64\n",
      " 7   PhysActivity          240650 non-null  int64\n",
      " 8   Fruits                240650 non-null  int64\n",
      " 9   Veggies               240650 non-null  int64\n",
      " 10  HvyAlcoholConsump     240650 non-null  int64\n",
      " 11  AnyHealthcare         240650 non-null  int64\n",
      " 12  NoDocbcCost           240650 non-null  int64\n",
      " 13  GenHlth               240650 non-null  int64\n",
      " 14  MentHlth              240650 non-null  int64\n",
      " 15  PhysHlth              240650 non-null  int64\n",
      " 16  DiffWalk              240650 non-null  int64\n",
      " 17  Sex                   240650 non-null  int64\n",
      " 18  Age                   240650 non-null  int64\n",
      " 19  Diabetes_012          240650 non-null  int64\n",
      "dtypes: int64(20)\n",
      "memory usage: 36.7 MB\n"
     ]
    }
   ],
   "source": [
    "data.info()"
   ]
  },
  {
   "cell_type": "code",
   "execution_count": 11,
   "id": "3c62cf4f",
   "metadata": {},
   "outputs": [
    {
     "data": {
      "text/plain": [
       "0         False\n",
       "1         False\n",
       "2         False\n",
       "3         False\n",
       "4         False\n",
       "          ...  \n",
       "240645    False\n",
       "240646    False\n",
       "240647    False\n",
       "240648    False\n",
       "240649    False\n",
       "Length: 240650, dtype: bool"
      ]
     },
     "execution_count": 11,
     "metadata": {},
     "output_type": "execute_result"
    }
   ],
   "source": [
    "data.duplicated()"
   ]
  },
  {
   "cell_type": "code",
   "execution_count": 12,
   "id": "7a568193",
   "metadata": {},
   "outputs": [],
   "source": [
    "q=data.drop_duplicates()"
   ]
  },
  {
   "cell_type": "code",
   "execution_count": 13,
   "id": "3137e869",
   "metadata": {},
   "outputs": [
    {
     "data": {
      "text/plain": [
       "<AxesSubplot:>"
      ]
     },
     "execution_count": 13,
     "metadata": {},
     "output_type": "execute_result"
    },
    {
     "data": {
      "image/png": "[encoded data removed]",
      "text/plain": [
       "<Figure size 432x288 with 1 Axes>"
      ]
     },
     "metadata": {
      "needs_background": "light"
     },
     "output_type": "display_data"
    }
   ],
   "source": [
    "data.Age.hist()"
   ]
  },
  {
   "cell_type": "code",
   "execution_count": 14,
   "id": "e432b693",
   "metadata": {},
   "outputs": [
    {
     "data": {
      "text/plain": [
       "<AxesSubplot:ylabel='Smoker'>"
      ]
     },
     "execution_count": 14,
     "metadata": {},
     "output_type": "execute_result"
    },
    {
     "data": {
      "image/png": "[encoded data removed]",
      "text/plain": [
       "<Figure size 432x288 with 1 Axes>"
      ]
     },
     "metadata": {},
     "output_type": "display_data"
    }
   ],
   "source": [
    "data.groupby('Stroke').Smoker.count().plot(kind='pie')"
   ]
  },
  {
   "cell_type": "code",
   "execution_count": 15,
   "id": "52dbda8b",
   "metadata": {},
   "outputs": [
    {
     "name": "stderr",
     "output_type": "stream",
     "text": [
      "D:\\Anaconda\\lib\\site-packages\\seaborn\\_decorators.py:36: FutureWarning: Pass the following variable as a keyword arg: x. From version 0.12, the only valid positional argument will be `data`, and passing other arguments without an explicit keyword will result in an error or misinterpretation.\n",
      "  warnings.warn(\n"
     ]
    },
    {
     "data": {
      "text/plain": [
       "<AxesSubplot:xlabel='HighBP', ylabel='count'>"
      ]
     },
     "execution_count": 15,
     "metadata": {},
     "output_type": "execute_result"
    },
    {
     "data": {
      "image/png": "[encoded data removed]",
      "text/plain": [
       "<Figure size 432x288 with 1 Axes>"
      ]
     },
     "metadata": {
      "needs_background": "light"
     },
     "output_type": "display_data"
    }
   ],
   "source": [
    "sns.countplot(data.HighBP)"
   ]
  },
  {
   "cell_type": "code",
   "execution_count": 16,
   "id": "0c8d7ec8",
   "metadata": {},
   "outputs": [
    {
     "data": {
      "text/plain": [
       "<AxesSubplot:ylabel='Frequency'>"
      ]
     },
     "execution_count": 16,
     "metadata": {},
     "output_type": "execute_result"
    },
    {
     "data": {
      "image/png": "[encoded data removed]",
      "text/plain": [
       "<Figure size 432x288 with 1 Axes>"
      ]
     },
     "metadata": {
      "needs_background": "light"
     },
     "output_type": "display_data"
    }
   ],
   "source": [
    "data.Diabetes_012.plot(kind='hist' , grid = False)"
   ]
  },
  {
   "cell_type": "code",
   "execution_count": 17,
   "id": "d48cc873",
   "metadata": {},
   "outputs": [
    {
     "name": "stderr",
     "output_type": "stream",
     "text": [
      "D:\\Anaconda\\lib\\site-packages\\seaborn\\_decorators.py:36: FutureWarning: Pass the following variable as a keyword arg: x. From version 0.12, the only valid positional argument will be `data`, and passing other arguments without an explicit keyword will result in an error or misinterpretation.\n",
      "  warnings.warn(\n"
     ]
    },
    {
     "data": {
      "image/png": "[encoded data removed]",
      "text/plain": [
       "<Figure size 432x288 with 1 Axes>"
      ]
     },
     "metadata": {
      "needs_background": "light"
     },
     "output_type": "display_data"
    }
   ],
   "source": [
    "sns.countplot(data.MentHlth)\n",
    "plt.show()"
   ]
  },
  {
   "cell_type": "code",
   "execution_count": 18,
   "id": "011db1bb",
   "metadata": {},
   "outputs": [
    {
     "data": {
      "text/plain": [
       "<AxesSubplot:ylabel='Smoker'>"
      ]
     },
     "execution_count": 18,
     "metadata": {},
     "output_type": "execute_result"
    },
    {
     "data": {
      "image/png": "[encoded data removed]",
      "text/plain": [
       "<Figure size 432x288 with 1 Axes>"
      ]
     },
     "metadata": {
      "needs_background": "light"
     },
     "output_type": "display_data"
    }
   ],
   "source": [
    "data.groupby('Smoker').Stroke.count().plot(kind='barh')"
   ]
  },
  {
   "cell_type": "code",
   "execution_count": 19,
   "id": "766ad90d",
   "metadata": {},
   "outputs": [
    {
     "data": {
      "text/plain": [
       "<AxesSubplot:xlabel='index', ylabel='index'>"
      ]
     },
     "execution_count": 19,
     "metadata": {},
     "output_type": "execute_result"
    },
    {
     "data": {
      "image/png": "[encoded data removed]",
      "text/plain": [
       "<Figure size 432x288 with 2 Axes>"
      ]
     },
     "metadata": {
      "needs_background": "light"
     },
     "output_type": "display_data"
    }
   ],
   "source": [
    "sns.heatmap(data.corr(),annot=False)"
   ]
  },
  {
   "cell_type": "code",
   "execution_count": 20,
   "id": "73c64a0a",
   "metadata": {},
   "outputs": [
    {
     "data": {
      "text/plain": [
       "<AxesSubplot:xlabel='Age'>"
      ]
     },
     "execution_count": 20,
     "metadata": {},
     "output_type": "execute_result"
    },
    {
     "data": {
      "image/png": "[encoded data removed]",
      "text/plain": [
       "<Figure size 432x288 with 1 Axes>"
      ]
     },
     "metadata": {
      "needs_background": "light"
     },
     "output_type": "display_data"
    }
   ],
   "source": [
    "data.groupby('Age').BMI.sum().plot(kind='line')"
   ]
  },
  {
   "cell_type": "code",
   "execution_count": 21,
   "id": "54e51cda",
   "metadata": {},
   "outputs": [
    {
     "data": {
      "text/plain": [
       "<AxesSubplot:xlabel='Age'>"
      ]
     },
     "execution_count": 21,
     "metadata": {},
     "output_type": "execute_result"
    },
    {
     "data": {
      "image/png": "[encoded data removed]",
      "text/plain": [
       "<Figure size 432x288 with 1 Axes>"
      ]
     },
     "metadata": {
      "needs_background": "light"
     },
     "output_type": "display_data"
    }
   ],
   "source": [
    "data.groupby('Age').BMI.sum().plot(kind='area')"
   ]
  },
  {
   "cell_type": "code",
   "execution_count": 22,
   "id": "ecaf4126",
   "metadata": {},
   "outputs": [
    {
     "data": {
      "text/plain": [
       "<AxesSubplot:xlabel='BMI', ylabel='Age'>"
      ]
     },
     "execution_count": 22,
     "metadata": {},
     "output_type": "execute_result"
    },
    {
     "data": {
      "image/png": "[encoded data removed]",
      "text/plain": [
       "<Figure size 432x288 with 1 Axes>"
      ]
     },
     "metadata": {
      "needs_background": "light"
     },
     "output_type": "display_data"
    }
   ],
   "source": [
    "sns.boxplot(x='BMI',y='Age',data=data)"
   ]
  },
  {
   "cell_type": "markdown",
   "id": "189b7f4c",
   "metadata": {},
   "source": [
    "# pre-processsed data\n"
   ]
  },
  {
   "cell_type": "code",
   "execution_count": 23,
   "id": "8cd40433",
   "metadata": {},
   "outputs": [
    {
     "name": "stdout",
     "output_type": "stream",
     "text": [
      "Train dataset before pre-processing:\n",
      "=========================================\n",
      "\n",
      "index   HighBP  HighChol  CholCheck  BMI  Smoker  Stroke  \\\n",
      "0            1         1          1   25       1       0   \n",
      "1            1         1          1   30       1       0   \n",
      "2            0         0          1   24       0       0   \n",
      "3            0         0          1   25       1       0   \n",
      "4            1         1          1   34       1       0   \n",
      "...        ...       ...        ...  ...     ...     ...   \n",
      "240645       1         1          1   45       0       0   \n",
      "240646       1         1          1   18       0       0   \n",
      "240647       0         0          1   28       0       0   \n",
      "240648       1         0          1   23       0       0   \n",
      "240649       1         1          1   25       0       0   \n",
      "\n",
      "index   HeartDiseaseorAttack  PhysActivity  Fruits  Veggies  \\\n",
      "0                          0             1       0        1   \n",
      "1                          1             0       1        1   \n",
      "2                          0             0       0        1   \n",
      "3                          0             1       1        1   \n",
      "4                          0             0       1        1   \n",
      "...                      ...           ...     ...      ...   \n",
      "240645                     0             0       1        1   \n",
      "240646                     0             0       0        0   \n",
      "240647                     0             1       1        0   \n",
      "240648                     0             0       1        1   \n",
      "240649                     1             1       1        0   \n",
      "\n",
      "index   HvyAlcoholConsump  AnyHealthcare  NoDocbcCost  GenHlth  MentHlth  \\\n",
      "0                       0              1            0        3         0   \n",
      "1                       0              1            0        5        30   \n",
      "2                       0              1            0        2         0   \n",
      "3                       0              1            0        3         0   \n",
      "4                       0              1            0        3         0   \n",
      "...                   ...            ...          ...      ...       ...   \n",
      "240645                  0              1            0        3         0   \n",
      "240646                  0              1            0        4         0   \n",
      "240647                  0              1            0        1         0   \n",
      "240648                  0              1            0        3         0   \n",
      "240649                  0              1            0        2         0   \n",
      "\n",
      "index   PhysHlth  DiffWalk  Sex  Age  Diabetes_012  \n",
      "0              0         1    0   11             0  \n",
      "1             30         1    0    9             2  \n",
      "2              0         0    1    8             0  \n",
      "3              0         0    1   13             2  \n",
      "4             30         1    0   10             0  \n",
      "...          ...       ...  ...  ...           ...  \n",
      "240645         5         0    1    5             0  \n",
      "240646         0         1    0   11             2  \n",
      "240647         0         0    0    2             0  \n",
      "240648         0         0    1    7             0  \n",
      "240649         0         0    0    9             2  \n",
      "\n",
      "[240650 rows x 20 columns]\n",
      "\n",
      "\n",
      "\n",
      "Train dataset after pre-processing:\n",
      "=========================================\n",
      "\n",
      "index   HighBP  HighChol  CholCheck  BMI  Smoker  Stroke  \\\n",
      "0            1         1          1   25       1       0   \n",
      "1            1         1          1   30       1       0   \n",
      "2            0         0          1   24       0       0   \n",
      "3            0         0          1   25       1       0   \n",
      "4            1         1          1   34       1       0   \n",
      "...        ...       ...        ...  ...     ...     ...   \n",
      "240645       1         1          1   45       0       0   \n",
      "240646       1         1          1   18       0       0   \n",
      "240647       0         0          1   28       0       0   \n",
      "240648       1         0          1   23       0       0   \n",
      "240649       1         1          1   25       0       0   \n",
      "\n",
      "index   HeartDiseaseorAttack  PhysActivity  Fruits  Veggies  \\\n",
      "0                          0             1       0        1   \n",
      "1                          1             0       1        1   \n",
      "2                          0             0       0        1   \n",
      "3                          0             1       1        1   \n",
      "4                          0             0       1        1   \n",
      "...                      ...           ...     ...      ...   \n",
      "240645                     0             0       1        1   \n",
      "240646                     0             0       0        0   \n",
      "240647                     0             1       1        0   \n",
      "240648                     0             0       1        1   \n",
      "240649                     1             1       1        0   \n",
      "\n",
      "index   HvyAlcoholConsump  AnyHealthcare  NoDocbcCost  GenHlth  MentHlth  \\\n",
      "0                       0              1            0        3         0   \n",
      "1                       0              1            0        5        30   \n",
      "2                       0              1            0        2         0   \n",
      "3                       0              1            0        3         0   \n",
      "4                       0              1            0        3         0   \n",
      "...                   ...            ...          ...      ...       ...   \n",
      "240645                  0              1            0        3         0   \n",
      "240646                  0              1            0        4         0   \n",
      "240647                  0              1            0        1         0   \n",
      "240648                  0              1            0        3         0   \n",
      "240649                  0              1            0        2         0   \n",
      "\n",
      "index   PhysHlth  DiffWalk  Sex  Age  Diabetes_012  \n",
      "0              0         1    0   11             0  \n",
      "1             30         1    0    9             2  \n",
      "2              0         0    1    8             0  \n",
      "3              0         0    1   13             2  \n",
      "4             30         1    0   10             0  \n",
      "...          ...       ...  ...  ...           ...  \n",
      "240645         5         0    1    5             0  \n",
      "240646         0         1    0   11             2  \n",
      "240647         0         0    0    2             0  \n",
      "240648         0         0    1    7             0  \n",
      "240649         0         0    0    9             2  \n",
      "\n",
      "[240650 rows x 20 columns]\n"
     ]
    }
   ],
   "source": [
    "preprocessed_dataset = data.fillna('0')\n",
    "\n",
    "print(\"Train dataset before pre-processing:\")\n",
    "print(\"=========================================\\n\")\n",
    "print(data)\n",
    "\n",
    "print(\"\\n\\n\\nTrain dataset after pre-processing:\")\n",
    "print(\"=========================================\\n\")\n",
    "print(preprocessed_dataset)"
   ]
  },
  {
   "cell_type": "code",
   "execution_count": 24,
   "id": "2e507219",
   "metadata": {},
   "outputs": [
    {
     "data": {
      "text/html": [
       "<div>\n",
       "<style scoped>\n",
       "    .dataframe tbody tr th:only-of-type {\n",
       "        vertical-align: middle;\n",
       "    }\n",
       "\n",
       "    .dataframe tbody tr th {\n",
       "        vertical-align: top;\n",
       "    }\n",
       "\n",
       "    .dataframe thead th {\n",
       "        text-align: right;\n",
       "    }\n",
       "</style>\n",
       "<table border=\"1\" class=\"dataframe\">\n",
       "  <thead>\n",
       "    <tr style=\"text-align: right;\">\n",
       "      <th>index</th>\n",
       "      <th>HighBP</th>\n",
       "      <th>HighChol</th>\n",
       "      <th>CholCheck</th>\n",
       "      <th>BMI</th>\n",
       "      <th>Smoker</th>\n",
       "      <th>Stroke</th>\n",
       "      <th>HeartDiseaseorAttack</th>\n",
       "      <th>PhysActivity</th>\n",
       "      <th>Fruits</th>\n",
       "      <th>Veggies</th>\n",
       "      <th>HvyAlcoholConsump</th>\n",
       "      <th>AnyHealthcare</th>\n",
       "      <th>NoDocbcCost</th>\n",
       "      <th>GenHlth</th>\n",
       "      <th>MentHlth</th>\n",
       "      <th>PhysHlth</th>\n",
       "      <th>DiffWalk</th>\n",
       "      <th>Sex</th>\n",
       "      <th>Age</th>\n",
       "      <th>Diabetes_012</th>\n",
       "    </tr>\n",
       "  </thead>\n",
       "  <tbody>\n",
       "    <tr>\n",
       "      <th>0</th>\n",
       "      <td>1</td>\n",
       "      <td>1</td>\n",
       "      <td>1</td>\n",
       "      <td>25</td>\n",
       "      <td>1</td>\n",
       "      <td>0</td>\n",
       "      <td>0</td>\n",
       "      <td>1</td>\n",
       "      <td>0</td>\n",
       "      <td>1</td>\n",
       "      <td>0</td>\n",
       "      <td>1</td>\n",
       "      <td>0</td>\n",
       "      <td>3</td>\n",
       "      <td>0</td>\n",
       "      <td>0</td>\n",
       "      <td>1</td>\n",
       "      <td>0</td>\n",
       "      <td>11</td>\n",
       "      <td>0</td>\n",
       "    </tr>\n",
       "    <tr>\n",
       "      <th>1</th>\n",
       "      <td>1</td>\n",
       "      <td>1</td>\n",
       "      <td>1</td>\n",
       "      <td>30</td>\n",
       "      <td>1</td>\n",
       "      <td>0</td>\n",
       "      <td>1</td>\n",
       "      <td>0</td>\n",
       "      <td>1</td>\n",
       "      <td>1</td>\n",
       "      <td>0</td>\n",
       "      <td>1</td>\n",
       "      <td>0</td>\n",
       "      <td>5</td>\n",
       "      <td>30</td>\n",
       "      <td>30</td>\n",
       "      <td>1</td>\n",
       "      <td>0</td>\n",
       "      <td>9</td>\n",
       "      <td>2</td>\n",
       "    </tr>\n",
       "    <tr>\n",
       "      <th>2</th>\n",
       "      <td>0</td>\n",
       "      <td>0</td>\n",
       "      <td>1</td>\n",
       "      <td>24</td>\n",
       "      <td>0</td>\n",
       "      <td>0</td>\n",
       "      <td>0</td>\n",
       "      <td>0</td>\n",
       "      <td>0</td>\n",
       "      <td>1</td>\n",
       "      <td>0</td>\n",
       "      <td>1</td>\n",
       "      <td>0</td>\n",
       "      <td>2</td>\n",
       "      <td>0</td>\n",
       "      <td>0</td>\n",
       "      <td>0</td>\n",
       "      <td>1</td>\n",
       "      <td>8</td>\n",
       "      <td>0</td>\n",
       "    </tr>\n",
       "    <tr>\n",
       "      <th>3</th>\n",
       "      <td>0</td>\n",
       "      <td>0</td>\n",
       "      <td>1</td>\n",
       "      <td>25</td>\n",
       "      <td>1</td>\n",
       "      <td>0</td>\n",
       "      <td>0</td>\n",
       "      <td>1</td>\n",
       "      <td>1</td>\n",
       "      <td>1</td>\n",
       "      <td>0</td>\n",
       "      <td>1</td>\n",
       "      <td>0</td>\n",
       "      <td>3</td>\n",
       "      <td>0</td>\n",
       "      <td>0</td>\n",
       "      <td>0</td>\n",
       "      <td>1</td>\n",
       "      <td>13</td>\n",
       "      <td>2</td>\n",
       "    </tr>\n",
       "    <tr>\n",
       "      <th>4</th>\n",
       "      <td>1</td>\n",
       "      <td>1</td>\n",
       "      <td>1</td>\n",
       "      <td>34</td>\n",
       "      <td>1</td>\n",
       "      <td>0</td>\n",
       "      <td>0</td>\n",
       "      <td>0</td>\n",
       "      <td>1</td>\n",
       "      <td>1</td>\n",
       "      <td>0</td>\n",
       "      <td>1</td>\n",
       "      <td>0</td>\n",
       "      <td>3</td>\n",
       "      <td>0</td>\n",
       "      <td>30</td>\n",
       "      <td>1</td>\n",
       "      <td>0</td>\n",
       "      <td>10</td>\n",
       "      <td>0</td>\n",
       "    </tr>\n",
       "  </tbody>\n",
       "</table>\n",
       "</div>"
      ],
      "text/plain": [
       "index  HighBP  HighChol  CholCheck  BMI  Smoker  Stroke  HeartDiseaseorAttack  \\\n",
       "0           1         1          1   25       1       0                     0   \n",
       "1           1         1          1   30       1       0                     1   \n",
       "2           0         0          1   24       0       0                     0   \n",
       "3           0         0          1   25       1       0                     0   \n",
       "4           1         1          1   34       1       0                     0   \n",
       "\n",
       "index  PhysActivity  Fruits  Veggies  HvyAlcoholConsump  AnyHealthcare  \\\n",
       "0                 1       0        1                  0              1   \n",
       "1                 0       1        1                  0              1   \n",
       "2                 0       0        1                  0              1   \n",
       "3                 1       1        1                  0              1   \n",
       "4                 0       1        1                  0              1   \n",
       "\n",
       "index  NoDocbcCost  GenHlth  MentHlth  PhysHlth  DiffWalk  Sex  Age  \\\n",
       "0                0        3         0         0         1    0   11   \n",
       "1                0        5        30        30         1    0    9   \n",
       "2                0        2         0         0         0    1    8   \n",
       "3                0        3         0         0         0    1   13   \n",
       "4                0        3         0        30         1    0   10   \n",
       "\n",
       "index  Diabetes_012  \n",
       "0                 0  \n",
       "1                 2  \n",
       "2                 0  \n",
       "3                 2  \n",
       "4                 0  "
      ]
     },
     "execution_count": 24,
     "metadata": {},
     "output_type": "execute_result"
    }
   ],
   "source": [
    "preprocessed_dataset.head()"
   ]
  },
  {
   "cell_type": "markdown",
   "id": "df1949de",
   "metadata": {},
   "source": [
    "# no need for Label Encoding for Train/Test Data"
   ]
  },
  {
   "cell_type": "markdown",
   "id": "34bf40a5",
   "metadata": {},
   "source": [
    "# Train ML Algorithms using Data"
   ]
  },
  {
   "cell_type": "code",
   "execution_count": 5,
   "id": "e0aa3e12",
   "metadata": {},
   "outputs": [],
   "source": [
    "x=preprocessed_dataset.iloc[:, :-1].values\n",
    "y=preprocessed_dataset.iloc[:, -1:].values"
   ]
  },
  {
   "cell_type": "code",
   "execution_count": 6,
   "id": "f7a08929",
   "metadata": {},
   "outputs": [],
   "source": [
    "x_train, x_test, y_train, y_test = train_test_split(x, y, test_size=0.2)"
   ]
  },
  {
   "cell_type": "markdown",
   "id": "83ad283f",
   "metadata": {},
   "source": [
    "# Train ML Algorithms using Logistic Regression"
   ]
  },
  {
   "cell_type": "code",
   "execution_count": 7,
   "id": "b345256d",
   "metadata": {},
   "outputs": [
    {
     "name": "stderr",
     "output_type": "stream",
     "text": [
      "D:\\Anaconda\\lib\\site-packages\\sklearn\\utils\\validation.py:63: DataConversionWarning: A column-vector y was passed when a 1d array was expected. Please change the shape of y to (n_samples, ), for example using ravel().\n",
      "  return f(*args, **kwargs)\n",
      "D:\\Anaconda\\lib\\site-packages\\sklearn\\linear_model\\_logistic.py:763: ConvergenceWarning: lbfgs failed to converge (status=1):\n",
      "STOP: TOTAL NO. of ITERATIONS REACHED LIMIT.\n",
      "\n",
      "Increase the number of iterations (max_iter) or scale the data as shown in:\n",
      "    https://scikit-learn.org/stable/modules/preprocessing.html\n",
      "Please also refer to the documentation for alternative solver options:\n",
      "    https://scikit-learn.org/stable/modules/linear_model.html#logistic-regression\n",
      "  n_iter_i = _check_optimize_result(\n"
     ]
    },
    {
     "data": {
      "text/plain": [
       "0.843881155204654"
      ]
     },
     "execution_count": 7,
     "metadata": {},
     "output_type": "execute_result"
    }
   ],
   "source": [
    "logisticRegression=LogisticRegression()\n",
    "logisticRegression.fit(x_train,y_train)\n",
    "LR = logisticRegression.predict(x_test)\n",
    "accuracy_score(y_test, LR) # Evaluate ML Algorithms using Test Data"
   ]
  },
  {
   "cell_type": "code",
   "execution_count": 8,
   "id": "283ca093",
   "metadata": {},
   "outputs": [],
   "source": [
    "# recall_score=recall_score(y_test, LR,average='micro')\n",
    "# print(\"\\n recall_score is: %s\"%recall_score)\n",
    "# #precision_score=precision_score(y_test, LR)\n",
    "# print(\"\\n precision_score is: %s\"%precision_score)\n",
    "# f1_score=f1_score(y_test, LR)\n",
    "# print(\"\\n f1_score is: %s\"%f1_score)"
   ]
  },
  {
   "cell_type": "markdown",
   "id": "3e2f27d9",
   "metadata": {},
   "source": [
    "# Train ML Algorithms using Random Forest Classifier"
   ]
  },
  {
   "cell_type": "code",
   "execution_count": 9,
   "id": "e16ca3e0",
   "metadata": {},
   "outputs": [
    {
     "name": "stderr",
     "output_type": "stream",
     "text": [
      "C:\\Users\\DELL\\AppData\\Local\\Temp/ipykernel_7512/2057489157.py:2: DataConversionWarning: A column-vector y was passed when a 1d array was expected. Please change the shape of y to (n_samples,), for example using ravel().\n",
      "  randomForest.fit(x_train,y_train)\n"
     ]
    },
    {
     "data": {
      "text/plain": [
       "0.8346145854976106"
      ]
     },
     "execution_count": 9,
     "metadata": {},
     "output_type": "execute_result"
    }
   ],
   "source": [
    "randomForest=RandomForestClassifier()\n",
    "randomForest.fit(x_train,y_train)\n",
    "RF = randomForest.predict(x_test)\n",
    "accuracy_score(y_test, RF)## Evaluate ML Algorithms using Test Data\n",
    "# recall_score=recall_score(y_test, RF,average='micro')\n",
    "# print(\"\\n recall_score is: %s\"%recall_score)\n",
    "# precision_score=precision_score(y_test, RF)\n",
    "# print(\"\\n precision_score is: %s\"%precision_score)\n",
    "# f1_score=f1_score(y_test, RF)\n",
    "# print(\"\\n f1_score is: %s\"%f1_score)"
   ]
  },
  {
   "cell_type": "markdown",
   "id": "b98fa711",
   "metadata": {},
   "source": [
    "# Train ML Algorithms using linearSvc"
   ]
  },
  {
   "cell_type": "code",
   "execution_count": 10,
   "id": "3c964903",
   "metadata": {},
   "outputs": [
    {
     "name": "stderr",
     "output_type": "stream",
     "text": [
      "D:\\Anaconda\\lib\\site-packages\\sklearn\\utils\\validation.py:63: DataConversionWarning: A column-vector y was passed when a 1d array was expected. Please change the shape of y to (n_samples, ), for example using ravel().\n",
      "  return f(*args, **kwargs)\n",
      "D:\\Anaconda\\lib\\site-packages\\sklearn\\svm\\_base.py:985: ConvergenceWarning: Liblinear failed to converge, increase the number of iterations.\n",
      "  warnings.warn(\"Liblinear failed to converge, increase \"\n"
     ]
    },
    {
     "data": {
      "text/plain": [
       "0.8447537918138375"
      ]
     },
     "execution_count": 10,
     "metadata": {},
     "output_type": "execute_result"
    }
   ],
   "source": [
    "linearSvc=LinearSVC()\n",
    "linearSvc.fit(x_train,y_train)\n",
    "LS = linearSvc.predict(x_test)\n",
    "accuracy_score(y_test, LS) ## Evaluate ML Algorithms using Test Data"
   ]
  },
  {
   "cell_type": "code",
   "execution_count": null,
   "id": "76d1e1c6",
   "metadata": {},
   "outputs": [],
   "source": []
  },
  {
   "cell_type": "markdown",
   "id": "0151094c",
   "metadata": {},
   "source": [
    "# Train ML Algorithms using BernoulliNB\n"
   ]
  },
  {
   "cell_type": "code",
   "execution_count": 11,
   "id": "7853199e",
   "metadata": {},
   "outputs": [
    {
     "name": "stderr",
     "output_type": "stream",
     "text": [
      "D:\\Anaconda\\lib\\site-packages\\sklearn\\utils\\validation.py:63: DataConversionWarning: A column-vector y was passed when a 1d array was expected. Please change the shape of y to (n_samples, ), for example using ravel().\n",
      "  return f(*args, **kwargs)\n"
     ]
    },
    {
     "data": {
      "text/plain": [
       "0.8191564512777894"
      ]
     },
     "execution_count": 11,
     "metadata": {},
     "output_type": "execute_result"
    }
   ],
   "source": [
    "bernoulliNB=BernoulliNB()\n",
    "bernoulliNB.fit(x_train,y_train)\n",
    "NB = bernoulliNB.predict(x_test)\n",
    "accuracy_score(y_test, NB) ## Evaluate ML Algorithms using Test Data"
   ]
  },
  {
   "cell_type": "markdown",
   "id": "74401708",
   "metadata": {},
   "source": [
    "# Save the Trained Model as Pickle File"
   ]
  },
  {
   "cell_type": "code",
   "execution_count": null,
   "id": "fc58ca9a",
   "metadata": {},
   "outputs": [],
   "source": [
    "filename='diabetes-mmodel.sav'\n",
    "pickle.dump(randomForest,open(filename,'wb'))"
   ]
  },
  {
   "cell_type": "markdown",
   "id": "d79567df",
   "metadata": {},
   "source": [
    "# Load the Trained Model\n"
   ]
  },
  {
   "cell_type": "code",
   "execution_count": null,
   "id": "8f7a859f",
   "metadata": {},
   "outputs": [],
   "source": [
    "loadBM=pickle.load(open(filename,'rb'))"
   ]
  },
  {
   "cell_type": "code",
   "execution_count": null,
   "id": "2a6bc86c",
   "metadata": {},
   "outputs": [],
   "source": [
    "print(loadBM)"
   ]
  },
  {
   "cell_type": "markdown",
   "id": "3e59e288",
   "metadata": {},
   "source": [
    "# Take Input from User"
   ]
  },
  {
   "cell_type": "code",
   "execution_count": null,
   "id": "f4285677",
   "metadata": {},
   "outputs": [],
   "source": [
    "HighBP=input(\"0 = no high BP 1 = high BP\")\n",
    "HighChol=input(\"0 = no high cholesterol 1 = high cholesterol\")\n",
    "CholCheck=input(\"0 = no cholesterol check in 5 years, 1 = yes cholesterol check in 5 years\")\n",
    "BMI=input(\"Please enter your Body Mass Index(20-50):\")\n",
    "Smoker=input(\"Have you smoked at least 100 cigarettes in your entire life? [Note: 5 packs = 100 cigarettes] 0 = no 1 = yes:\")\n",
    "Stroke=input(\"(Ever told) you had a stroke. 0 = no 1 = yes\")\n",
    "HeartDiseaseorAttack=input(\"coronary heart disease (CHD) or myocardial infarction (MI) 0 = no 1 = yes:\")\n",
    "PhysActivity=input(\"physical activity in past 30 days - not including job 0 = no 1 = yes\")\n",
    "Fruits=input(\"Consume Fruit 1 or more times per day 0 = no 1 = yes\")\n",
    "Veggies=input(\"Consume Vegetables 1 or more times per day 0 = no 1 = yes:\")\n",
    "HvyAlcoholConsump=input(\"Heavy drinkers (adult men having more than 14 drinks per week and adult women having more than 7 drinks per week) 0 = no 1 = yes\")\n",
    "AnyHealthcare=input(\"Have any kind of health care coverage, including health insurance, prepaid plans such as HMO, etc. 0 = no 1 = yes:\")\n",
    "NoDocbcCost=input(\"Was there a time in the past 12 months when you needed to see a doctor but could not because of cost? 0 = no 1 = yes:\")\n",
    "GenHlth=input(\"Would you say that in general your health is: scale (1-5) 1 = excellent 2 = very good 3 = good 4 = fair 5 = poor:\")\n",
    "MentHlth=input(\"Now thinking about your mental health, which includes stress,depression, and problems with emotions, for how many days during the past 30 days was your mental health not good? scale 1-30 days:\")\n",
    "PhysHlth=input(\"Now thinking about your physical health, which includes physical illness and injury, for how many days during the past 30 days was your physical health not good? scale 1-30 days:\")\n",
    "DiffWalk=input(\"Do you have serious difficulty walking or climbing stairs? 0 = no 1 = yes:\")\n",
    "Sex=input(\"0 = female 1 = male:\")\n",
    "Age=input(\"13-level age category (_AGEG5YR see codebook) 1 = (18-24), 9=(60-64), 13=(80 or older)\")\n",
    "Education=input(\"Education level (EDUCA see codebook) scale 1-6 1 = Never attended school or only kindergarten 2 = Grades 1 through 8 (Elementary) 3 = Grades 9 through 11 (Some high school) 4 = Grade 12 or GED (High school graduate) 5 = College 1 year to 3 years (Some college or technical school) 6 = College 4 years or more (College graduate)\")\n",
    "Income=input(\"Income scale (INCOME2 see codebook) scale 1-8 1 = less than $10,000 5 = less than $35,000 8 = $75,000 or more\")"
   ]
  },
  {
   "cell_type": "code",
   "execution_count": null,
   "id": "2470f48e",
   "metadata": {},
   "outputs": [],
   "source": [
    "print(\"user input \\n\")\n",
    "newdf=pd.DataFrame({\"HighBP\":HighBP,\"HighChol\":HighChol,\"CholCheck\":CholCheck,\"BMI\":BMI,\"Smoker\":Smoker,\"Stroke\":Stroke,\"HeartDiseaseorAttack\":HeartDiseaseorAttack,\"PhysActivity\":PhysActivity,\"Fruits\":Fruits,\"Veggies\":Veggies,\"HvyAlcoholConsump\":HvyAlcoholConsump,\"AnyHealthcare\":AnyHealthcare,\"NoDocbcCost\":NoDocbcCost,\"GenHlth\":GenHlth,\"MentHlth\":MentHlth,\"PhysHlth\":PhysHlth,\"DiffWalk\":DiffWalk,\"Sex\":Sex,\"Age\":Age,\"Education\":Education,\"Income\":Income},index=[0])\n",
    "print(newdf)"
   ]
  },
  {
   "cell_type": "markdown",
   "id": "da104f52",
   "metadata": {},
   "source": [
    "# Apply Trained Model on Feature Vector of Unseen Data and Output Prediction to User"
   ]
  },
  {
   "cell_type": "code",
   "execution_count": null,
   "id": "659b4dee",
   "metadata": {},
   "outputs": [],
   "source": [
    "outputPredictionBM= loadBM.predict(newdf)\n",
    "\n",
    "if outputPredictionBM==0:\n",
    "    Diabetes_012= \"Patient has no diabetes\"\n",
    "    \n",
    "elif outputPredictionBM==1:\n",
    "    Diabetes_012=\"Patient has Prediabetes\"\n",
    "\n",
    "elif outputPredictionBM==2:\n",
    "    Diabetes_012=\"Patient has Diabetes\"\n",
    "\n",
    "print(\"\\n Prediction: %s\"%Diabetes_012)"
   ]
  },
  {
   "cell_type": "code",
   "execution_count": null,
   "id": "7103f3d0",
   "metadata": {},
   "outputs": [],
   "source": []
  },
  {
   "cell_type": "code",
   "execution_count": null,
   "id": "47d182cc",
   "metadata": {},
   "outputs": [],
   "source": []
  },
  {
   "cell_type": "code",
   "execution_count": null,
   "id": "8f907d7a",
   "metadata": {},
   "outputs": [],
   "source": []
  },
  {
   "cell_type": "code",
   "execution_count": null,
   "id": "fe96ee33",
   "metadata": {},
   "outputs": [],
   "source": []
  },
  {
   "cell_type": "code",
   "execution_count": null,
   "id": "b4b6076a",
   "metadata": {},
   "outputs": [],
   "source": []
  }
 ],
 "metadata": {
  "kernelspec": {
   "display_name": "Python 3 (ipykernel)",
   "language": "python",
   "name": "python3"
  },
  "language_info": {
   "codemirror_mode": {
    "name": "ipython",
    "version": 3
   },
   "file_extension": ".py",
   "mimetype": "text/x-python",
   "name": "python",
   "nbconvert_exporter": "python",
   "pygments_lexer": "ipython3",
   "version": "3.8.10"
  }
 },
 "nbformat": 4,
 "nbformat_minor": 5
}
